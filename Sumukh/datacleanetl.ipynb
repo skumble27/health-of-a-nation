{
 "metadata": {
  "language_info": {
   "codemirror_mode": {
    "name": "ipython",
    "version": 3
   },
   "file_extension": ".py",
   "mimetype": "text/x-python",
   "name": "python",
   "nbconvert_exporter": "python",
   "pygments_lexer": "ipython3",
   "version": "3.6.12-final"
  },
  "orig_nbformat": 2,
  "kernelspec": {
   "name": "python361264bitbootcampmonashconda2e6efb6a376242db90ce542f5ab8dbba",
   "display_name": "Python 3.6.12 64-bit ('BootCampMonash': conda)",
   "language": "python"
  }
 },
 "nbformat": 4,
 "nbformat_minor": 2,
 "cells": [
  {
   "cell_type": "code",
   "execution_count": 1,
   "metadata": {},
   "outputs": [],
   "source": [
    "# Importing dependencies\n",
    "import pandas as pd"
   ]
  },
  {
   "cell_type": "code",
   "execution_count": 2,
   "metadata": {},
   "outputs": [],
   "source": [
    "# Reading the dataframes\n",
    "child_mortality = pd.read_csv('Dataset/healthdata/child-mortality.csv')\n",
    "hiv_deaths = pd.read_csv('Dataset/healthdata/deaths-and-new-cases-of-hiv.csv')\n",
    "life_expectency = pd.read_csv('Dataset/healthdata/life-expectancy.csv')\n",
    "population = pd.read_csv('Dataset/healthdata/projected-population-by-country.csv')\n",
    "heart_disease = pd.read_csv('Dataset/healthdata/share-deaths-heart-disease.csv')\n",
    "tuberculosis = pd.read_csv('Dataset/healthdata/tuberculosis-deaths-region.csv')\n"
   ]
  },
  {
   "source": [
    "# Cleaning up the dataset"
   ],
   "cell_type": "markdown",
   "metadata": {}
  },
  {
   "cell_type": "code",
   "execution_count": 3,
   "metadata": {},
   "outputs": [
    {
     "output_type": "execute_result",
     "data": {
      "text/plain": [
       "2016"
      ]
     },
     "metadata": {},
     "execution_count": 3
    }
   ],
   "source": [
    "# Child mortality rates\n",
    "child_mortality1 = child_mortality['Year'].max()\n",
    "child_mortality1"
   ]
  },
  {
   "cell_type": "code",
   "execution_count": 4,
   "metadata": {},
   "outputs": [
    {
     "output_type": "execute_result",
     "data": {
      "text/plain": [
       "               Entity Code  Year  Child mortality rates (%)\n",
       "59        Afghanistan  AFG  2016                     7.0400\n",
       "98            Albania  ALB  2016                     1.3500\n",
       "161           Algeria  DZA  2016                     2.5200\n",
       "188           Andorra  AND  2016                     0.2700\n",
       "225            Angola  AGO  2016                     8.2500\n",
       "...               ...  ...   ...                        ...\n",
       "13314         Vietnam  VNM  2016                     2.1600\n",
       "13317  Western Sahara  ESH  2016                     3.6388\n",
       "13382           Yemen  YEM  2016                     5.5300\n",
       "13447          Zambia  ZMB  2016                     6.3400\n",
       "13511        Zimbabwe  ZWE  2016                     5.6400\n",
       "\n",
       "[211 rows x 4 columns]"
      ],
      "text/html": "<div>\n<style scoped>\n    .dataframe tbody tr th:only-of-type {\n        vertical-align: middle;\n    }\n\n    .dataframe tbody tr th {\n        vertical-align: top;\n    }\n\n    .dataframe thead th {\n        text-align: right;\n    }\n</style>\n<table border=\"1\" class=\"dataframe\">\n  <thead>\n    <tr style=\"text-align: right;\">\n      <th></th>\n      <th>Entity</th>\n      <th>Code</th>\n      <th>Year</th>\n      <th>Child mortality rates (%)</th>\n    </tr>\n  </thead>\n  <tbody>\n    <tr>\n      <th>59</th>\n      <td>Afghanistan</td>\n      <td>AFG</td>\n      <td>2016</td>\n      <td>7.0400</td>\n    </tr>\n    <tr>\n      <th>98</th>\n      <td>Albania</td>\n      <td>ALB</td>\n      <td>2016</td>\n      <td>1.3500</td>\n    </tr>\n    <tr>\n      <th>161</th>\n      <td>Algeria</td>\n      <td>DZA</td>\n      <td>2016</td>\n      <td>2.5200</td>\n    </tr>\n    <tr>\n      <th>188</th>\n      <td>Andorra</td>\n      <td>AND</td>\n      <td>2016</td>\n      <td>0.2700</td>\n    </tr>\n    <tr>\n      <th>225</th>\n      <td>Angola</td>\n      <td>AGO</td>\n      <td>2016</td>\n      <td>8.2500</td>\n    </tr>\n    <tr>\n      <th>...</th>\n      <td>...</td>\n      <td>...</td>\n      <td>...</td>\n      <td>...</td>\n    </tr>\n    <tr>\n      <th>13314</th>\n      <td>Vietnam</td>\n      <td>VNM</td>\n      <td>2016</td>\n      <td>2.1600</td>\n    </tr>\n    <tr>\n      <th>13317</th>\n      <td>Western Sahara</td>\n      <td>ESH</td>\n      <td>2016</td>\n      <td>3.6388</td>\n    </tr>\n    <tr>\n      <th>13382</th>\n      <td>Yemen</td>\n      <td>YEM</td>\n      <td>2016</td>\n      <td>5.5300</td>\n    </tr>\n    <tr>\n      <th>13447</th>\n      <td>Zambia</td>\n      <td>ZMB</td>\n      <td>2016</td>\n      <td>6.3400</td>\n    </tr>\n    <tr>\n      <th>13511</th>\n      <td>Zimbabwe</td>\n      <td>ZWE</td>\n      <td>2016</td>\n      <td>5.6400</td>\n    </tr>\n  </tbody>\n</table>\n<p>211 rows × 4 columns</p>\n</div>"
     },
     "metadata": {},
     "execution_count": 4
    }
   ],
   "source": [
    "child_mortality2 = child_mortality[child_mortality['Year']==2016]\n",
    "child_mortality2"
   ]
  },
  {
   "cell_type": "code",
   "execution_count": 5,
   "metadata": {},
   "outputs": [
    {
     "output_type": "execute_result",
     "data": {
      "text/plain": [
       "Index(['Entity', 'Code', 'Year', 'Deaths', 'Prevalence', 'Incidences'], dtype='object')"
      ]
     },
     "metadata": {},
     "execution_count": 5
    }
   ],
   "source": [
    "# Hiv Deaths\n",
    "hiv_deaths.columns"
   ]
  },
  {
   "cell_type": "code",
   "execution_count": 6,
   "metadata": {},
   "outputs": [
    {
     "output_type": "execute_result",
     "data": {
      "text/plain": [
       "        Entity Code  Year     Deaths  Prevalence  Incidences\n",
       "0  Afghanistan  AFG  1990  32.098129  398.257783   78.304642\n",
       "1  Afghanistan  AFG  1991  37.524158  438.019845   83.233703\n",
       "2  Afghanistan  AFG  1992  50.670559  543.250161  104.710195\n",
       "3  Afghanistan  AFG  1993  58.433049  668.869833  128.605343\n",
       "4  Afghanistan  AFG  1994  65.531176  735.565331  136.848748"
      ],
      "text/html": "<div>\n<style scoped>\n    .dataframe tbody tr th:only-of-type {\n        vertical-align: middle;\n    }\n\n    .dataframe tbody tr th {\n        vertical-align: top;\n    }\n\n    .dataframe thead th {\n        text-align: right;\n    }\n</style>\n<table border=\"1\" class=\"dataframe\">\n  <thead>\n    <tr style=\"text-align: right;\">\n      <th></th>\n      <th>Entity</th>\n      <th>Code</th>\n      <th>Year</th>\n      <th>Deaths</th>\n      <th>Prevalence</th>\n      <th>Incidences</th>\n    </tr>\n  </thead>\n  <tbody>\n    <tr>\n      <th>0</th>\n      <td>Afghanistan</td>\n      <td>AFG</td>\n      <td>1990</td>\n      <td>32.098129</td>\n      <td>398.257783</td>\n      <td>78.304642</td>\n    </tr>\n    <tr>\n      <th>1</th>\n      <td>Afghanistan</td>\n      <td>AFG</td>\n      <td>1991</td>\n      <td>37.524158</td>\n      <td>438.019845</td>\n      <td>83.233703</td>\n    </tr>\n    <tr>\n      <th>2</th>\n      <td>Afghanistan</td>\n      <td>AFG</td>\n      <td>1992</td>\n      <td>50.670559</td>\n      <td>543.250161</td>\n      <td>104.710195</td>\n    </tr>\n    <tr>\n      <th>3</th>\n      <td>Afghanistan</td>\n      <td>AFG</td>\n      <td>1993</td>\n      <td>58.433049</td>\n      <td>668.869833</td>\n      <td>128.605343</td>\n    </tr>\n    <tr>\n      <th>4</th>\n      <td>Afghanistan</td>\n      <td>AFG</td>\n      <td>1994</td>\n      <td>65.531176</td>\n      <td>735.565331</td>\n      <td>136.848748</td>\n    </tr>\n  </tbody>\n</table>\n</div>"
     },
     "metadata": {},
     "execution_count": 6
    }
   ],
   "source": [
    "hiv_deaths.head()"
   ]
  },
  {
   "cell_type": "code",
   "execution_count": 7,
   "metadata": {},
   "outputs": [
    {
     "output_type": "execute_result",
     "data": {
      "text/plain": [
       "2017"
      ]
     },
     "metadata": {},
     "execution_count": 7
    }
   ],
   "source": [
    "# Obtaining the latest year\n",
    "hiv_deaths['Year'].max()"
   ]
  },
  {
   "cell_type": "code",
   "execution_count": 8,
   "metadata": {},
   "outputs": [
    {
     "output_type": "execute_result",
     "data": {
      "text/plain": [
       "                          Entity      Code  Year         Deaths    Prevalence  \\\n",
       "27                   Afghanistan       AFG  2017     302.166880  4.730034e+03   \n",
       "55                       Albania       ALB  2017       1.285800  3.187413e+01   \n",
       "83                       Algeria       DZA  2017     326.660742  1.125392e+04   \n",
       "111               American Samoa       ASM  2017       0.335763  4.887205e+00   \n",
       "139         Andean Latin America       NaN  2017    4655.939469  1.388683e+05   \n",
       "...                          ...       ...   ...            ...           ...   \n",
       "6355  Western Sub-Saharan Africa       NaN  2017  256899.798300  5.852181e+06   \n",
       "6383                       World  OWID_WRL  2017  954491.747200  3.682224e+07   \n",
       "6411                       Yemen       YEM  2017     387.383175  6.962759e+03   \n",
       "6439                      Zambia       ZMB  2017   21806.824350  1.200474e+06   \n",
       "6467                    Zimbabwe       ZWE  2017   16065.329680  1.297676e+06   \n",
       "\n",
       "        Incidences  \n",
       "27    9.221735e+02  \n",
       "55    3.030192e+00  \n",
       "83    9.008058e+02  \n",
       "111   6.577304e-01  \n",
       "139   1.238097e+04  \n",
       "...            ...  \n",
       "6355  3.604100e+05  \n",
       "6383  1.942071e+06  \n",
       "6411  1.082583e+03  \n",
       "6439  4.683891e+04  \n",
       "6467  5.625906e+04  \n",
       "\n",
       "[231 rows x 6 columns]"
      ],
      "text/html": "<div>\n<style scoped>\n    .dataframe tbody tr th:only-of-type {\n        vertical-align: middle;\n    }\n\n    .dataframe tbody tr th {\n        vertical-align: top;\n    }\n\n    .dataframe thead th {\n        text-align: right;\n    }\n</style>\n<table border=\"1\" class=\"dataframe\">\n  <thead>\n    <tr style=\"text-align: right;\">\n      <th></th>\n      <th>Entity</th>\n      <th>Code</th>\n      <th>Year</th>\n      <th>Deaths</th>\n      <th>Prevalence</th>\n      <th>Incidences</th>\n    </tr>\n  </thead>\n  <tbody>\n    <tr>\n      <th>27</th>\n      <td>Afghanistan</td>\n      <td>AFG</td>\n      <td>2017</td>\n      <td>302.166880</td>\n      <td>4.730034e+03</td>\n      <td>9.221735e+02</td>\n    </tr>\n    <tr>\n      <th>55</th>\n      <td>Albania</td>\n      <td>ALB</td>\n      <td>2017</td>\n      <td>1.285800</td>\n      <td>3.187413e+01</td>\n      <td>3.030192e+00</td>\n    </tr>\n    <tr>\n      <th>83</th>\n      <td>Algeria</td>\n      <td>DZA</td>\n      <td>2017</td>\n      <td>326.660742</td>\n      <td>1.125392e+04</td>\n      <td>9.008058e+02</td>\n    </tr>\n    <tr>\n      <th>111</th>\n      <td>American Samoa</td>\n      <td>ASM</td>\n      <td>2017</td>\n      <td>0.335763</td>\n      <td>4.887205e+00</td>\n      <td>6.577304e-01</td>\n    </tr>\n    <tr>\n      <th>139</th>\n      <td>Andean Latin America</td>\n      <td>NaN</td>\n      <td>2017</td>\n      <td>4655.939469</td>\n      <td>1.388683e+05</td>\n      <td>1.238097e+04</td>\n    </tr>\n    <tr>\n      <th>...</th>\n      <td>...</td>\n      <td>...</td>\n      <td>...</td>\n      <td>...</td>\n      <td>...</td>\n      <td>...</td>\n    </tr>\n    <tr>\n      <th>6355</th>\n      <td>Western Sub-Saharan Africa</td>\n      <td>NaN</td>\n      <td>2017</td>\n      <td>256899.798300</td>\n      <td>5.852181e+06</td>\n      <td>3.604100e+05</td>\n    </tr>\n    <tr>\n      <th>6383</th>\n      <td>World</td>\n      <td>OWID_WRL</td>\n      <td>2017</td>\n      <td>954491.747200</td>\n      <td>3.682224e+07</td>\n      <td>1.942071e+06</td>\n    </tr>\n    <tr>\n      <th>6411</th>\n      <td>Yemen</td>\n      <td>YEM</td>\n      <td>2017</td>\n      <td>387.383175</td>\n      <td>6.962759e+03</td>\n      <td>1.082583e+03</td>\n    </tr>\n    <tr>\n      <th>6439</th>\n      <td>Zambia</td>\n      <td>ZMB</td>\n      <td>2017</td>\n      <td>21806.824350</td>\n      <td>1.200474e+06</td>\n      <td>4.683891e+04</td>\n    </tr>\n    <tr>\n      <th>6467</th>\n      <td>Zimbabwe</td>\n      <td>ZWE</td>\n      <td>2017</td>\n      <td>16065.329680</td>\n      <td>1.297676e+06</td>\n      <td>5.625906e+04</td>\n    </tr>\n  </tbody>\n</table>\n<p>231 rows × 6 columns</p>\n</div>"
     },
     "metadata": {},
     "execution_count": 8
    }
   ],
   "source": [
    "hiv_deaths1 = hiv_deaths[hiv_deaths['Year']==2017]\n",
    "hiv_deaths1"
   ]
  },
  {
   "cell_type": "code",
   "execution_count": 9,
   "metadata": {},
   "outputs": [
    {
     "output_type": "execute_result",
     "data": {
      "text/plain": [
       "                          Entity      Code  Year     HIV Deaths    Prevalence  \\\n",
       "27                   Afghanistan       AFG  2017     302.166880  4.730034e+03   \n",
       "55                       Albania       ALB  2017       1.285800  3.187413e+01   \n",
       "83                       Algeria       DZA  2017     326.660742  1.125392e+04   \n",
       "111               American Samoa       ASM  2017       0.335763  4.887205e+00   \n",
       "139         Andean Latin America       NaN  2017    4655.939469  1.388683e+05   \n",
       "...                          ...       ...   ...            ...           ...   \n",
       "6355  Western Sub-Saharan Africa       NaN  2017  256899.798300  5.852181e+06   \n",
       "6383                       World  OWID_WRL  2017  954491.747200  3.682224e+07   \n",
       "6411                       Yemen       YEM  2017     387.383175  6.962759e+03   \n",
       "6439                      Zambia       ZMB  2017   21806.824350  1.200474e+06   \n",
       "6467                    Zimbabwe       ZWE  2017   16065.329680  1.297676e+06   \n",
       "\n",
       "      HIV Incidences  \n",
       "27      9.221735e+02  \n",
       "55      3.030192e+00  \n",
       "83      9.008058e+02  \n",
       "111     6.577304e-01  \n",
       "139     1.238097e+04  \n",
       "...              ...  \n",
       "6355    3.604100e+05  \n",
       "6383    1.942071e+06  \n",
       "6411    1.082583e+03  \n",
       "6439    4.683891e+04  \n",
       "6467    5.625906e+04  \n",
       "\n",
       "[231 rows x 6 columns]"
      ],
      "text/html": "<div>\n<style scoped>\n    .dataframe tbody tr th:only-of-type {\n        vertical-align: middle;\n    }\n\n    .dataframe tbody tr th {\n        vertical-align: top;\n    }\n\n    .dataframe thead th {\n        text-align: right;\n    }\n</style>\n<table border=\"1\" class=\"dataframe\">\n  <thead>\n    <tr style=\"text-align: right;\">\n      <th></th>\n      <th>Entity</th>\n      <th>Code</th>\n      <th>Year</th>\n      <th>HIV Deaths</th>\n      <th>Prevalence</th>\n      <th>HIV Incidences</th>\n    </tr>\n  </thead>\n  <tbody>\n    <tr>\n      <th>27</th>\n      <td>Afghanistan</td>\n      <td>AFG</td>\n      <td>2017</td>\n      <td>302.166880</td>\n      <td>4.730034e+03</td>\n      <td>9.221735e+02</td>\n    </tr>\n    <tr>\n      <th>55</th>\n      <td>Albania</td>\n      <td>ALB</td>\n      <td>2017</td>\n      <td>1.285800</td>\n      <td>3.187413e+01</td>\n      <td>3.030192e+00</td>\n    </tr>\n    <tr>\n      <th>83</th>\n      <td>Algeria</td>\n      <td>DZA</td>\n      <td>2017</td>\n      <td>326.660742</td>\n      <td>1.125392e+04</td>\n      <td>9.008058e+02</td>\n    </tr>\n    <tr>\n      <th>111</th>\n      <td>American Samoa</td>\n      <td>ASM</td>\n      <td>2017</td>\n      <td>0.335763</td>\n      <td>4.887205e+00</td>\n      <td>6.577304e-01</td>\n    </tr>\n    <tr>\n      <th>139</th>\n      <td>Andean Latin America</td>\n      <td>NaN</td>\n      <td>2017</td>\n      <td>4655.939469</td>\n      <td>1.388683e+05</td>\n      <td>1.238097e+04</td>\n    </tr>\n    <tr>\n      <th>...</th>\n      <td>...</td>\n      <td>...</td>\n      <td>...</td>\n      <td>...</td>\n      <td>...</td>\n      <td>...</td>\n    </tr>\n    <tr>\n      <th>6355</th>\n      <td>Western Sub-Saharan Africa</td>\n      <td>NaN</td>\n      <td>2017</td>\n      <td>256899.798300</td>\n      <td>5.852181e+06</td>\n      <td>3.604100e+05</td>\n    </tr>\n    <tr>\n      <th>6383</th>\n      <td>World</td>\n      <td>OWID_WRL</td>\n      <td>2017</td>\n      <td>954491.747200</td>\n      <td>3.682224e+07</td>\n      <td>1.942071e+06</td>\n    </tr>\n    <tr>\n      <th>6411</th>\n      <td>Yemen</td>\n      <td>YEM</td>\n      <td>2017</td>\n      <td>387.383175</td>\n      <td>6.962759e+03</td>\n      <td>1.082583e+03</td>\n    </tr>\n    <tr>\n      <th>6439</th>\n      <td>Zambia</td>\n      <td>ZMB</td>\n      <td>2017</td>\n      <td>21806.824350</td>\n      <td>1.200474e+06</td>\n      <td>4.683891e+04</td>\n    </tr>\n    <tr>\n      <th>6467</th>\n      <td>Zimbabwe</td>\n      <td>ZWE</td>\n      <td>2017</td>\n      <td>16065.329680</td>\n      <td>1.297676e+06</td>\n      <td>5.625906e+04</td>\n    </tr>\n  </tbody>\n</table>\n<p>231 rows × 6 columns</p>\n</div>"
     },
     "metadata": {},
     "execution_count": 9
    }
   ],
   "source": [
    "hiv_deaths2 = hiv_deaths1.rename(columns={'Deaths':'HIV Deaths', 'Incidences':'HIV Incidences'})\n",
    "hiv_deaths2"
   ]
  },
  {
   "cell_type": "code",
   "execution_count": 10,
   "metadata": {},
   "outputs": [
    {
     "output_type": "execute_result",
     "data": {
      "text/plain": [
       "                          Entity     HIV Deaths  HIV Incidences\n",
       "27                   Afghanistan     302.166880    9.221735e+02\n",
       "55                       Albania       1.285800    3.030192e+00\n",
       "83                       Algeria     326.660742    9.008058e+02\n",
       "111               American Samoa       0.335763    6.577304e-01\n",
       "139         Andean Latin America    4655.939469    1.238097e+04\n",
       "...                          ...            ...             ...\n",
       "6355  Western Sub-Saharan Africa  256899.798300    3.604100e+05\n",
       "6383                       World  954491.747200    1.942071e+06\n",
       "6411                       Yemen     387.383175    1.082583e+03\n",
       "6439                      Zambia   21806.824350    4.683891e+04\n",
       "6467                    Zimbabwe   16065.329680    5.625906e+04\n",
       "\n",
       "[231 rows x 3 columns]"
      ],
      "text/html": "<div>\n<style scoped>\n    .dataframe tbody tr th:only-of-type {\n        vertical-align: middle;\n    }\n\n    .dataframe tbody tr th {\n        vertical-align: top;\n    }\n\n    .dataframe thead th {\n        text-align: right;\n    }\n</style>\n<table border=\"1\" class=\"dataframe\">\n  <thead>\n    <tr style=\"text-align: right;\">\n      <th></th>\n      <th>Entity</th>\n      <th>HIV Deaths</th>\n      <th>HIV Incidences</th>\n    </tr>\n  </thead>\n  <tbody>\n    <tr>\n      <th>27</th>\n      <td>Afghanistan</td>\n      <td>302.166880</td>\n      <td>9.221735e+02</td>\n    </tr>\n    <tr>\n      <th>55</th>\n      <td>Albania</td>\n      <td>1.285800</td>\n      <td>3.030192e+00</td>\n    </tr>\n    <tr>\n      <th>83</th>\n      <td>Algeria</td>\n      <td>326.660742</td>\n      <td>9.008058e+02</td>\n    </tr>\n    <tr>\n      <th>111</th>\n      <td>American Samoa</td>\n      <td>0.335763</td>\n      <td>6.577304e-01</td>\n    </tr>\n    <tr>\n      <th>139</th>\n      <td>Andean Latin America</td>\n      <td>4655.939469</td>\n      <td>1.238097e+04</td>\n    </tr>\n    <tr>\n      <th>...</th>\n      <td>...</td>\n      <td>...</td>\n      <td>...</td>\n    </tr>\n    <tr>\n      <th>6355</th>\n      <td>Western Sub-Saharan Africa</td>\n      <td>256899.798300</td>\n      <td>3.604100e+05</td>\n    </tr>\n    <tr>\n      <th>6383</th>\n      <td>World</td>\n      <td>954491.747200</td>\n      <td>1.942071e+06</td>\n    </tr>\n    <tr>\n      <th>6411</th>\n      <td>Yemen</td>\n      <td>387.383175</td>\n      <td>1.082583e+03</td>\n    </tr>\n    <tr>\n      <th>6439</th>\n      <td>Zambia</td>\n      <td>21806.824350</td>\n      <td>4.683891e+04</td>\n    </tr>\n    <tr>\n      <th>6467</th>\n      <td>Zimbabwe</td>\n      <td>16065.329680</td>\n      <td>5.625906e+04</td>\n    </tr>\n  </tbody>\n</table>\n<p>231 rows × 3 columns</p>\n</div>"
     },
     "metadata": {},
     "execution_count": 10
    }
   ],
   "source": [
    "# Dropping Columns\n",
    "hiv_deaths3 = hiv_deaths2.drop(columns=['Prevalence','Code','Year'])\n",
    "hiv_deaths3"
   ]
  },
  {
   "cell_type": "code",
   "execution_count": 11,
   "metadata": {},
   "outputs": [
    {
     "output_type": "execute_result",
     "data": {
      "text/plain": [
       "        Entity Code  Year  Life expectancy\n",
       "0  Afghanistan  AFG  1950           27.638\n",
       "1  Afghanistan  AFG  1951           27.878\n",
       "2  Afghanistan  AFG  1952           28.361\n",
       "3  Afghanistan  AFG  1953           28.852\n",
       "4  Afghanistan  AFG  1954           29.350"
      ],
      "text/html": "<div>\n<style scoped>\n    .dataframe tbody tr th:only-of-type {\n        vertical-align: middle;\n    }\n\n    .dataframe tbody tr th {\n        vertical-align: top;\n    }\n\n    .dataframe thead th {\n        text-align: right;\n    }\n</style>\n<table border=\"1\" class=\"dataframe\">\n  <thead>\n    <tr style=\"text-align: right;\">\n      <th></th>\n      <th>Entity</th>\n      <th>Code</th>\n      <th>Year</th>\n      <th>Life expectancy</th>\n    </tr>\n  </thead>\n  <tbody>\n    <tr>\n      <th>0</th>\n      <td>Afghanistan</td>\n      <td>AFG</td>\n      <td>1950</td>\n      <td>27.638</td>\n    </tr>\n    <tr>\n      <th>1</th>\n      <td>Afghanistan</td>\n      <td>AFG</td>\n      <td>1951</td>\n      <td>27.878</td>\n    </tr>\n    <tr>\n      <th>2</th>\n      <td>Afghanistan</td>\n      <td>AFG</td>\n      <td>1952</td>\n      <td>28.361</td>\n    </tr>\n    <tr>\n      <th>3</th>\n      <td>Afghanistan</td>\n      <td>AFG</td>\n      <td>1953</td>\n      <td>28.852</td>\n    </tr>\n    <tr>\n      <th>4</th>\n      <td>Afghanistan</td>\n      <td>AFG</td>\n      <td>1954</td>\n      <td>29.350</td>\n    </tr>\n  </tbody>\n</table>\n</div>"
     },
     "metadata": {},
     "execution_count": 11
    }
   ],
   "source": [
    "# Life Expectency\n",
    "life_expectency.head()"
   ]
  },
  {
   "cell_type": "code",
   "execution_count": 12,
   "metadata": {},
   "outputs": [
    {
     "output_type": "execute_result",
     "data": {
      "text/plain": [
       "2019"
      ]
     },
     "metadata": {},
     "execution_count": 12
    }
   ],
   "source": [
    "life_expectency['Year'].max()"
   ]
  },
  {
   "cell_type": "code",
   "execution_count": 13,
   "metadata": {},
   "outputs": [
    {
     "output_type": "execute_result",
     "data": {
      "text/plain": [
       "               Entity      Code  Year  Life expectancy\n",
       "69        Afghanistan       AFG  2019           64.833\n",
       "141            Africa       NaN  2019           63.170\n",
       "211           Albania       ALB  2019           78.573\n",
       "284           Algeria       DZA  2019           76.880\n",
       "354    American Samoa       ASM  2019           73.745\n",
       "...               ...       ...   ...              ...\n",
       "18740  Western Sahara       ESH  2019           70.263\n",
       "18817           World  OWID_WRL  2019           72.584\n",
       "18887           Yemen       YEM  2019           66.125\n",
       "18957          Zambia       ZMB  2019           63.886\n",
       "19027        Zimbabwe       ZWE  2019           61.490\n",
       "\n",
       "[243 rows x 4 columns]"
      ],
      "text/html": "<div>\n<style scoped>\n    .dataframe tbody tr th:only-of-type {\n        vertical-align: middle;\n    }\n\n    .dataframe tbody tr th {\n        vertical-align: top;\n    }\n\n    .dataframe thead th {\n        text-align: right;\n    }\n</style>\n<table border=\"1\" class=\"dataframe\">\n  <thead>\n    <tr style=\"text-align: right;\">\n      <th></th>\n      <th>Entity</th>\n      <th>Code</th>\n      <th>Year</th>\n      <th>Life expectancy</th>\n    </tr>\n  </thead>\n  <tbody>\n    <tr>\n      <th>69</th>\n      <td>Afghanistan</td>\n      <td>AFG</td>\n      <td>2019</td>\n      <td>64.833</td>\n    </tr>\n    <tr>\n      <th>141</th>\n      <td>Africa</td>\n      <td>NaN</td>\n      <td>2019</td>\n      <td>63.170</td>\n    </tr>\n    <tr>\n      <th>211</th>\n      <td>Albania</td>\n      <td>ALB</td>\n      <td>2019</td>\n      <td>78.573</td>\n    </tr>\n    <tr>\n      <th>284</th>\n      <td>Algeria</td>\n      <td>DZA</td>\n      <td>2019</td>\n      <td>76.880</td>\n    </tr>\n    <tr>\n      <th>354</th>\n      <td>American Samoa</td>\n      <td>ASM</td>\n      <td>2019</td>\n      <td>73.745</td>\n    </tr>\n    <tr>\n      <th>...</th>\n      <td>...</td>\n      <td>...</td>\n      <td>...</td>\n      <td>...</td>\n    </tr>\n    <tr>\n      <th>18740</th>\n      <td>Western Sahara</td>\n      <td>ESH</td>\n      <td>2019</td>\n      <td>70.263</td>\n    </tr>\n    <tr>\n      <th>18817</th>\n      <td>World</td>\n      <td>OWID_WRL</td>\n      <td>2019</td>\n      <td>72.584</td>\n    </tr>\n    <tr>\n      <th>18887</th>\n      <td>Yemen</td>\n      <td>YEM</td>\n      <td>2019</td>\n      <td>66.125</td>\n    </tr>\n    <tr>\n      <th>18957</th>\n      <td>Zambia</td>\n      <td>ZMB</td>\n      <td>2019</td>\n      <td>63.886</td>\n    </tr>\n    <tr>\n      <th>19027</th>\n      <td>Zimbabwe</td>\n      <td>ZWE</td>\n      <td>2019</td>\n      <td>61.490</td>\n    </tr>\n  </tbody>\n</table>\n<p>243 rows × 4 columns</p>\n</div>"
     },
     "metadata": {},
     "execution_count": 13
    }
   ],
   "source": [
    "# Obtaining the latest data\n",
    "life_expectency1 = life_expectency[life_expectency['Year']==2019]\n",
    "life_expectency1"
   ]
  },
  {
   "cell_type": "code",
   "execution_count": 14,
   "metadata": {},
   "outputs": [
    {
     "output_type": "execute_result",
     "data": {
      "text/plain": [
       "               Entity  Life expectancy\n",
       "69        Afghanistan           64.833\n",
       "141            Africa           63.170\n",
       "211           Albania           78.573\n",
       "284           Algeria           76.880\n",
       "354    American Samoa           73.745\n",
       "...               ...              ...\n",
       "18740  Western Sahara           70.263\n",
       "18817           World           72.584\n",
       "18887           Yemen           66.125\n",
       "18957          Zambia           63.886\n",
       "19027        Zimbabwe           61.490\n",
       "\n",
       "[243 rows x 2 columns]"
      ],
      "text/html": "<div>\n<style scoped>\n    .dataframe tbody tr th:only-of-type {\n        vertical-align: middle;\n    }\n\n    .dataframe tbody tr th {\n        vertical-align: top;\n    }\n\n    .dataframe thead th {\n        text-align: right;\n    }\n</style>\n<table border=\"1\" class=\"dataframe\">\n  <thead>\n    <tr style=\"text-align: right;\">\n      <th></th>\n      <th>Entity</th>\n      <th>Life expectancy</th>\n    </tr>\n  </thead>\n  <tbody>\n    <tr>\n      <th>69</th>\n      <td>Afghanistan</td>\n      <td>64.833</td>\n    </tr>\n    <tr>\n      <th>141</th>\n      <td>Africa</td>\n      <td>63.170</td>\n    </tr>\n    <tr>\n      <th>211</th>\n      <td>Albania</td>\n      <td>78.573</td>\n    </tr>\n    <tr>\n      <th>284</th>\n      <td>Algeria</td>\n      <td>76.880</td>\n    </tr>\n    <tr>\n      <th>354</th>\n      <td>American Samoa</td>\n      <td>73.745</td>\n    </tr>\n    <tr>\n      <th>...</th>\n      <td>...</td>\n      <td>...</td>\n    </tr>\n    <tr>\n      <th>18740</th>\n      <td>Western Sahara</td>\n      <td>70.263</td>\n    </tr>\n    <tr>\n      <th>18817</th>\n      <td>World</td>\n      <td>72.584</td>\n    </tr>\n    <tr>\n      <th>18887</th>\n      <td>Yemen</td>\n      <td>66.125</td>\n    </tr>\n    <tr>\n      <th>18957</th>\n      <td>Zambia</td>\n      <td>63.886</td>\n    </tr>\n    <tr>\n      <th>19027</th>\n      <td>Zimbabwe</td>\n      <td>61.490</td>\n    </tr>\n  </tbody>\n</table>\n<p>243 rows × 2 columns</p>\n</div>"
     },
     "metadata": {},
     "execution_count": 14
    }
   ],
   "source": [
    "life_expectency2 = life_expectency1.drop(columns=['Code', 'Year'])\n",
    "life_expectency2"
   ]
  },
  {
   "cell_type": "code",
   "execution_count": 15,
   "metadata": {},
   "outputs": [
    {
     "output_type": "execute_result",
     "data": {
      "text/plain": [
       "            Entity Code  Year  \\\n",
       "0      Afghanistan  AFG  1800   \n",
       "1      Afghanistan  AFG  1801   \n",
       "2      Afghanistan  AFG  1802   \n",
       "3      Afghanistan  AFG  1803   \n",
       "4      Afghanistan  AFG  1804   \n",
       "...            ...  ...   ...   \n",
       "66480     Zimbabwe  ZWE  2096   \n",
       "66481     Zimbabwe  ZWE  2097   \n",
       "66482     Zimbabwe  ZWE  2098   \n",
       "66483     Zimbabwe  ZWE  2099   \n",
       "66484     Zimbabwe  ZWE  2100   \n",
       "\n",
       "       Population by country and region, historic and projections (Gapminder, HYDE & UN)  \n",
       "0                                                3280000                                  \n",
       "1                                                3280000                                  \n",
       "2                                                3280000                                  \n",
       "3                                                3280000                                  \n",
       "4                                                3280000                                  \n",
       "...                                                  ...                                  \n",
       "66480                                           30941000                                  \n",
       "66481                                           30952000                                  \n",
       "66482                                           30960000                                  \n",
       "66483                                           30964000                                  \n",
       "66484                                           30965000                                  \n",
       "\n",
       "[66485 rows x 4 columns]"
      ],
      "text/html": "<div>\n<style scoped>\n    .dataframe tbody tr th:only-of-type {\n        vertical-align: middle;\n    }\n\n    .dataframe tbody tr th {\n        vertical-align: top;\n    }\n\n    .dataframe thead th {\n        text-align: right;\n    }\n</style>\n<table border=\"1\" class=\"dataframe\">\n  <thead>\n    <tr style=\"text-align: right;\">\n      <th></th>\n      <th>Entity</th>\n      <th>Code</th>\n      <th>Year</th>\n      <th>Population by country and region, historic and projections (Gapminder, HYDE &amp; UN)</th>\n    </tr>\n  </thead>\n  <tbody>\n    <tr>\n      <th>0</th>\n      <td>Afghanistan</td>\n      <td>AFG</td>\n      <td>1800</td>\n      <td>3280000</td>\n    </tr>\n    <tr>\n      <th>1</th>\n      <td>Afghanistan</td>\n      <td>AFG</td>\n      <td>1801</td>\n      <td>3280000</td>\n    </tr>\n    <tr>\n      <th>2</th>\n      <td>Afghanistan</td>\n      <td>AFG</td>\n      <td>1802</td>\n      <td>3280000</td>\n    </tr>\n    <tr>\n      <th>3</th>\n      <td>Afghanistan</td>\n      <td>AFG</td>\n      <td>1803</td>\n      <td>3280000</td>\n    </tr>\n    <tr>\n      <th>4</th>\n      <td>Afghanistan</td>\n      <td>AFG</td>\n      <td>1804</td>\n      <td>3280000</td>\n    </tr>\n    <tr>\n      <th>...</th>\n      <td>...</td>\n      <td>...</td>\n      <td>...</td>\n      <td>...</td>\n    </tr>\n    <tr>\n      <th>66480</th>\n      <td>Zimbabwe</td>\n      <td>ZWE</td>\n      <td>2096</td>\n      <td>30941000</td>\n    </tr>\n    <tr>\n      <th>66481</th>\n      <td>Zimbabwe</td>\n      <td>ZWE</td>\n      <td>2097</td>\n      <td>30952000</td>\n    </tr>\n    <tr>\n      <th>66482</th>\n      <td>Zimbabwe</td>\n      <td>ZWE</td>\n      <td>2098</td>\n      <td>30960000</td>\n    </tr>\n    <tr>\n      <th>66483</th>\n      <td>Zimbabwe</td>\n      <td>ZWE</td>\n      <td>2099</td>\n      <td>30964000</td>\n    </tr>\n    <tr>\n      <th>66484</th>\n      <td>Zimbabwe</td>\n      <td>ZWE</td>\n      <td>2100</td>\n      <td>30965000</td>\n    </tr>\n  </tbody>\n</table>\n<p>66485 rows × 4 columns</p>\n</div>"
     },
     "metadata": {},
     "execution_count": 15
    }
   ],
   "source": [
    "# Population Data by Country\n",
    "population"
   ]
  },
  {
   "cell_type": "code",
   "execution_count": 16,
   "metadata": {},
   "outputs": [
    {
     "output_type": "execute_result",
     "data": {
      "text/plain": [
       "2100"
      ]
     },
     "metadata": {},
     "execution_count": 16
    }
   ],
   "source": [
    "# Latest year\n",
    "population['Year'].max()"
   ]
  },
  {
   "cell_type": "code",
   "execution_count": 17,
   "metadata": {},
   "outputs": [
    {
     "output_type": "execute_result",
     "data": {
      "text/plain": [
       "               Entity      Code  Year  \\\n",
       "219       Afghanistan       AFG  2019   \n",
       "422            Africa       NaN  2019   \n",
       "723           Albania       ALB  2019   \n",
       "1024          Algeria       DZA  2019   \n",
       "1175   American Samoa       ASM  2019   \n",
       "...               ...       ...   ...   \n",
       "65268  Western Sahara       ESH  2019   \n",
       "65500           World  OWID_WRL  2019   \n",
       "65801           Yemen       YEM  2019   \n",
       "66102          Zambia       ZMB  2019   \n",
       "66403        Zimbabwe       ZWE  2019   \n",
       "\n",
       "       Population by country and region, historic and projections (Gapminder, HYDE & UN)  \n",
       "219                                             38042000                                  \n",
       "422                                           1308064000                                  \n",
       "723                                              2881000                                  \n",
       "1024                                            43053000                                  \n",
       "1175                                               55000                                  \n",
       "...                                                  ...                                  \n",
       "65268                                             582000                                  \n",
       "65500                                         7713468000                                  \n",
       "65801                                           29162000                                  \n",
       "66102                                           17861000                                  \n",
       "66403                                           14645000                                  \n",
       "\n",
       "[242 rows x 4 columns]"
      ],
      "text/html": "<div>\n<style scoped>\n    .dataframe tbody tr th:only-of-type {\n        vertical-align: middle;\n    }\n\n    .dataframe tbody tr th {\n        vertical-align: top;\n    }\n\n    .dataframe thead th {\n        text-align: right;\n    }\n</style>\n<table border=\"1\" class=\"dataframe\">\n  <thead>\n    <tr style=\"text-align: right;\">\n      <th></th>\n      <th>Entity</th>\n      <th>Code</th>\n      <th>Year</th>\n      <th>Population by country and region, historic and projections (Gapminder, HYDE &amp; UN)</th>\n    </tr>\n  </thead>\n  <tbody>\n    <tr>\n      <th>219</th>\n      <td>Afghanistan</td>\n      <td>AFG</td>\n      <td>2019</td>\n      <td>38042000</td>\n    </tr>\n    <tr>\n      <th>422</th>\n      <td>Africa</td>\n      <td>NaN</td>\n      <td>2019</td>\n      <td>1308064000</td>\n    </tr>\n    <tr>\n      <th>723</th>\n      <td>Albania</td>\n      <td>ALB</td>\n      <td>2019</td>\n      <td>2881000</td>\n    </tr>\n    <tr>\n      <th>1024</th>\n      <td>Algeria</td>\n      <td>DZA</td>\n      <td>2019</td>\n      <td>43053000</td>\n    </tr>\n    <tr>\n      <th>1175</th>\n      <td>American Samoa</td>\n      <td>ASM</td>\n      <td>2019</td>\n      <td>55000</td>\n    </tr>\n    <tr>\n      <th>...</th>\n      <td>...</td>\n      <td>...</td>\n      <td>...</td>\n      <td>...</td>\n    </tr>\n    <tr>\n      <th>65268</th>\n      <td>Western Sahara</td>\n      <td>ESH</td>\n      <td>2019</td>\n      <td>582000</td>\n    </tr>\n    <tr>\n      <th>65500</th>\n      <td>World</td>\n      <td>OWID_WRL</td>\n      <td>2019</td>\n      <td>7713468000</td>\n    </tr>\n    <tr>\n      <th>65801</th>\n      <td>Yemen</td>\n      <td>YEM</td>\n      <td>2019</td>\n      <td>29162000</td>\n    </tr>\n    <tr>\n      <th>66102</th>\n      <td>Zambia</td>\n      <td>ZMB</td>\n      <td>2019</td>\n      <td>17861000</td>\n    </tr>\n    <tr>\n      <th>66403</th>\n      <td>Zimbabwe</td>\n      <td>ZWE</td>\n      <td>2019</td>\n      <td>14645000</td>\n    </tr>\n  </tbody>\n</table>\n<p>242 rows × 4 columns</p>\n</div>"
     },
     "metadata": {},
     "execution_count": 17
    }
   ],
   "source": [
    "# Obtaining Population as of 2019\n",
    "population1 = population[population['Year']==2019]\n",
    "population1"
   ]
  },
  {
   "cell_type": "code",
   "execution_count": 18,
   "metadata": {},
   "outputs": [
    {
     "output_type": "execute_result",
     "data": {
      "text/plain": [
       "               Entity      Code  Year  Population\n",
       "219       Afghanistan       AFG  2019    38042000\n",
       "422            Africa       NaN  2019  1308064000\n",
       "723           Albania       ALB  2019     2881000\n",
       "1024          Algeria       DZA  2019    43053000\n",
       "1175   American Samoa       ASM  2019       55000\n",
       "...               ...       ...   ...         ...\n",
       "65268  Western Sahara       ESH  2019      582000\n",
       "65500           World  OWID_WRL  2019  7713468000\n",
       "65801           Yemen       YEM  2019    29162000\n",
       "66102          Zambia       ZMB  2019    17861000\n",
       "66403        Zimbabwe       ZWE  2019    14645000\n",
       "\n",
       "[242 rows x 4 columns]"
      ],
      "text/html": "<div>\n<style scoped>\n    .dataframe tbody tr th:only-of-type {\n        vertical-align: middle;\n    }\n\n    .dataframe tbody tr th {\n        vertical-align: top;\n    }\n\n    .dataframe thead th {\n        text-align: right;\n    }\n</style>\n<table border=\"1\" class=\"dataframe\">\n  <thead>\n    <tr style=\"text-align: right;\">\n      <th></th>\n      <th>Entity</th>\n      <th>Code</th>\n      <th>Year</th>\n      <th>Population</th>\n    </tr>\n  </thead>\n  <tbody>\n    <tr>\n      <th>219</th>\n      <td>Afghanistan</td>\n      <td>AFG</td>\n      <td>2019</td>\n      <td>38042000</td>\n    </tr>\n    <tr>\n      <th>422</th>\n      <td>Africa</td>\n      <td>NaN</td>\n      <td>2019</td>\n      <td>1308064000</td>\n    </tr>\n    <tr>\n      <th>723</th>\n      <td>Albania</td>\n      <td>ALB</td>\n      <td>2019</td>\n      <td>2881000</td>\n    </tr>\n    <tr>\n      <th>1024</th>\n      <td>Algeria</td>\n      <td>DZA</td>\n      <td>2019</td>\n      <td>43053000</td>\n    </tr>\n    <tr>\n      <th>1175</th>\n      <td>American Samoa</td>\n      <td>ASM</td>\n      <td>2019</td>\n      <td>55000</td>\n    </tr>\n    <tr>\n      <th>...</th>\n      <td>...</td>\n      <td>...</td>\n      <td>...</td>\n      <td>...</td>\n    </tr>\n    <tr>\n      <th>65268</th>\n      <td>Western Sahara</td>\n      <td>ESH</td>\n      <td>2019</td>\n      <td>582000</td>\n    </tr>\n    <tr>\n      <th>65500</th>\n      <td>World</td>\n      <td>OWID_WRL</td>\n      <td>2019</td>\n      <td>7713468000</td>\n    </tr>\n    <tr>\n      <th>65801</th>\n      <td>Yemen</td>\n      <td>YEM</td>\n      <td>2019</td>\n      <td>29162000</td>\n    </tr>\n    <tr>\n      <th>66102</th>\n      <td>Zambia</td>\n      <td>ZMB</td>\n      <td>2019</td>\n      <td>17861000</td>\n    </tr>\n    <tr>\n      <th>66403</th>\n      <td>Zimbabwe</td>\n      <td>ZWE</td>\n      <td>2019</td>\n      <td>14645000</td>\n    </tr>\n  </tbody>\n</table>\n<p>242 rows × 4 columns</p>\n</div>"
     },
     "metadata": {},
     "execution_count": 18
    }
   ],
   "source": [
    "# Renaming the column\n",
    "population2 = population1.rename(columns={'Population by country and region, historic and projections (Gapminder, HYDE & UN)': 'Population'})\n",
    "population2"
   ]
  },
  {
   "cell_type": "code",
   "execution_count": 19,
   "metadata": {},
   "outputs": [
    {
     "output_type": "execute_result",
     "data": {
      "text/plain": [
       "               Entity  Population\n",
       "219       Afghanistan    38042000\n",
       "422            Africa  1308064000\n",
       "723           Albania     2881000\n",
       "1024          Algeria    43053000\n",
       "1175   American Samoa       55000\n",
       "...               ...         ...\n",
       "65268  Western Sahara      582000\n",
       "65500           World  7713468000\n",
       "65801           Yemen    29162000\n",
       "66102          Zambia    17861000\n",
       "66403        Zimbabwe    14645000\n",
       "\n",
       "[242 rows x 2 columns]"
      ],
      "text/html": "<div>\n<style scoped>\n    .dataframe tbody tr th:only-of-type {\n        vertical-align: middle;\n    }\n\n    .dataframe tbody tr th {\n        vertical-align: top;\n    }\n\n    .dataframe thead th {\n        text-align: right;\n    }\n</style>\n<table border=\"1\" class=\"dataframe\">\n  <thead>\n    <tr style=\"text-align: right;\">\n      <th></th>\n      <th>Entity</th>\n      <th>Population</th>\n    </tr>\n  </thead>\n  <tbody>\n    <tr>\n      <th>219</th>\n      <td>Afghanistan</td>\n      <td>38042000</td>\n    </tr>\n    <tr>\n      <th>422</th>\n      <td>Africa</td>\n      <td>1308064000</td>\n    </tr>\n    <tr>\n      <th>723</th>\n      <td>Albania</td>\n      <td>2881000</td>\n    </tr>\n    <tr>\n      <th>1024</th>\n      <td>Algeria</td>\n      <td>43053000</td>\n    </tr>\n    <tr>\n      <th>1175</th>\n      <td>American Samoa</td>\n      <td>55000</td>\n    </tr>\n    <tr>\n      <th>...</th>\n      <td>...</td>\n      <td>...</td>\n    </tr>\n    <tr>\n      <th>65268</th>\n      <td>Western Sahara</td>\n      <td>582000</td>\n    </tr>\n    <tr>\n      <th>65500</th>\n      <td>World</td>\n      <td>7713468000</td>\n    </tr>\n    <tr>\n      <th>65801</th>\n      <td>Yemen</td>\n      <td>29162000</td>\n    </tr>\n    <tr>\n      <th>66102</th>\n      <td>Zambia</td>\n      <td>17861000</td>\n    </tr>\n    <tr>\n      <th>66403</th>\n      <td>Zimbabwe</td>\n      <td>14645000</td>\n    </tr>\n  </tbody>\n</table>\n<p>242 rows × 2 columns</p>\n</div>"
     },
     "metadata": {},
     "execution_count": 19
    }
   ],
   "source": [
    "# Dropping the year and code\n",
    "population3 = population2.drop(columns=['Year', 'Code'])\n",
    "population3"
   ]
  },
  {
   "cell_type": "code",
   "execution_count": 20,
   "metadata": {},
   "outputs": [
    {
     "output_type": "execute_result",
     "data": {
      "text/plain": [
       "        Entity Code  Year  \\\n",
       "0  Afghanistan  AFG  1990   \n",
       "1  Afghanistan  AFG  1991   \n",
       "2  Afghanistan  AFG  1992   \n",
       "3  Afghanistan  AFG  1993   \n",
       "4  Afghanistan  AFG  1994   \n",
       "\n",
       "   Deaths - Cardiovascular diseases - Sex: Both - Age: All Ages (Percent)  \n",
       "0                                          23.707752                       \n",
       "1                                          23.490307                       \n",
       "2                                          23.146918                       \n",
       "3                                          21.154207                       \n",
       "4                                          19.756144                       "
      ],
      "text/html": "<div>\n<style scoped>\n    .dataframe tbody tr th:only-of-type {\n        vertical-align: middle;\n    }\n\n    .dataframe tbody tr th {\n        vertical-align: top;\n    }\n\n    .dataframe thead th {\n        text-align: right;\n    }\n</style>\n<table border=\"1\" class=\"dataframe\">\n  <thead>\n    <tr style=\"text-align: right;\">\n      <th></th>\n      <th>Entity</th>\n      <th>Code</th>\n      <th>Year</th>\n      <th>Deaths - Cardiovascular diseases - Sex: Both - Age: All Ages (Percent)</th>\n    </tr>\n  </thead>\n  <tbody>\n    <tr>\n      <th>0</th>\n      <td>Afghanistan</td>\n      <td>AFG</td>\n      <td>1990</td>\n      <td>23.707752</td>\n    </tr>\n    <tr>\n      <th>1</th>\n      <td>Afghanistan</td>\n      <td>AFG</td>\n      <td>1991</td>\n      <td>23.490307</td>\n    </tr>\n    <tr>\n      <th>2</th>\n      <td>Afghanistan</td>\n      <td>AFG</td>\n      <td>1992</td>\n      <td>23.146918</td>\n    </tr>\n    <tr>\n      <th>3</th>\n      <td>Afghanistan</td>\n      <td>AFG</td>\n      <td>1993</td>\n      <td>21.154207</td>\n    </tr>\n    <tr>\n      <th>4</th>\n      <td>Afghanistan</td>\n      <td>AFG</td>\n      <td>1994</td>\n      <td>19.756144</td>\n    </tr>\n  </tbody>\n</table>\n</div>"
     },
     "metadata": {},
     "execution_count": 20
    }
   ],
   "source": [
    "# Heart Disease Data cleaning\n",
    "heart_disease.head()"
   ]
  },
  {
   "cell_type": "code",
   "execution_count": 21,
   "metadata": {},
   "outputs": [
    {
     "output_type": "execute_result",
     "data": {
      "text/plain": [
       "2017"
      ]
     },
     "metadata": {},
     "execution_count": 21
    }
   ],
   "source": [
    "heart_disease['Year'].max()"
   ]
  },
  {
   "cell_type": "code",
   "execution_count": 22,
   "metadata": {},
   "outputs": [
    {
     "output_type": "execute_result",
     "data": {
      "text/plain": [
       "                          Entity      Code  Year  \\\n",
       "27                   Afghanistan       AFG  2017   \n",
       "55                       Albania       ALB  2017   \n",
       "83                       Algeria       DZA  2017   \n",
       "111               American Samoa       ASM  2017   \n",
       "139         Andean Latin America       NaN  2017   \n",
       "...                          ...       ...   ...   \n",
       "6355  Western Sub-Saharan Africa       NaN  2017   \n",
       "6383                       World  OWID_WRL  2017   \n",
       "6411                       Yemen       YEM  2017   \n",
       "6439                      Zambia       ZMB  2017   \n",
       "6467                    Zimbabwe       ZWE  2017   \n",
       "\n",
       "      Deaths - Cardiovascular diseases - Sex: Both - Age: All Ages (Percent)  \n",
       "27                                            24.780577                       \n",
       "55                                            55.822085                       \n",
       "83                                            47.284557                       \n",
       "111                                           30.440218                       \n",
       "139                                           21.193030                       \n",
       "...                                                 ...                       \n",
       "6355                                          10.304049                       \n",
       "6383                                          31.800515                       \n",
       "6411                                          32.373980                       \n",
       "6439                                          10.277008                       \n",
       "6467                                          14.430736                       \n",
       "\n",
       "[231 rows x 4 columns]"
      ],
      "text/html": "<div>\n<style scoped>\n    .dataframe tbody tr th:only-of-type {\n        vertical-align: middle;\n    }\n\n    .dataframe tbody tr th {\n        vertical-align: top;\n    }\n\n    .dataframe thead th {\n        text-align: right;\n    }\n</style>\n<table border=\"1\" class=\"dataframe\">\n  <thead>\n    <tr style=\"text-align: right;\">\n      <th></th>\n      <th>Entity</th>\n      <th>Code</th>\n      <th>Year</th>\n      <th>Deaths - Cardiovascular diseases - Sex: Both - Age: All Ages (Percent)</th>\n    </tr>\n  </thead>\n  <tbody>\n    <tr>\n      <th>27</th>\n      <td>Afghanistan</td>\n      <td>AFG</td>\n      <td>2017</td>\n      <td>24.780577</td>\n    </tr>\n    <tr>\n      <th>55</th>\n      <td>Albania</td>\n      <td>ALB</td>\n      <td>2017</td>\n      <td>55.822085</td>\n    </tr>\n    <tr>\n      <th>83</th>\n      <td>Algeria</td>\n      <td>DZA</td>\n      <td>2017</td>\n      <td>47.284557</td>\n    </tr>\n    <tr>\n      <th>111</th>\n      <td>American Samoa</td>\n      <td>ASM</td>\n      <td>2017</td>\n      <td>30.440218</td>\n    </tr>\n    <tr>\n      <th>139</th>\n      <td>Andean Latin America</td>\n      <td>NaN</td>\n      <td>2017</td>\n      <td>21.193030</td>\n    </tr>\n    <tr>\n      <th>...</th>\n      <td>...</td>\n      <td>...</td>\n      <td>...</td>\n      <td>...</td>\n    </tr>\n    <tr>\n      <th>6355</th>\n      <td>Western Sub-Saharan Africa</td>\n      <td>NaN</td>\n      <td>2017</td>\n      <td>10.304049</td>\n    </tr>\n    <tr>\n      <th>6383</th>\n      <td>World</td>\n      <td>OWID_WRL</td>\n      <td>2017</td>\n      <td>31.800515</td>\n    </tr>\n    <tr>\n      <th>6411</th>\n      <td>Yemen</td>\n      <td>YEM</td>\n      <td>2017</td>\n      <td>32.373980</td>\n    </tr>\n    <tr>\n      <th>6439</th>\n      <td>Zambia</td>\n      <td>ZMB</td>\n      <td>2017</td>\n      <td>10.277008</td>\n    </tr>\n    <tr>\n      <th>6467</th>\n      <td>Zimbabwe</td>\n      <td>ZWE</td>\n      <td>2017</td>\n      <td>14.430736</td>\n    </tr>\n  </tbody>\n</table>\n<p>231 rows × 4 columns</p>\n</div>"
     },
     "metadata": {},
     "execution_count": 22
    }
   ],
   "source": [
    "heart_disease1 = heart_disease[heart_disease['Year']==2017]\n",
    "heart_disease1"
   ]
  },
  {
   "cell_type": "code",
   "execution_count": null,
   "metadata": {},
   "outputs": [],
   "source": []
  },
  {
   "cell_type": "code",
   "execution_count": 23,
   "metadata": {},
   "outputs": [
    {
     "output_type": "execute_result",
     "data": {
      "text/plain": [
       "                          Entity  Cardiovascular Deaths %\n",
       "27                   Afghanistan                24.780577\n",
       "55                       Albania                55.822085\n",
       "83                       Algeria                47.284557\n",
       "111               American Samoa                30.440218\n",
       "139         Andean Latin America                21.193030\n",
       "...                          ...                      ...\n",
       "6355  Western Sub-Saharan Africa                10.304049\n",
       "6383                       World                31.800515\n",
       "6411                       Yemen                32.373980\n",
       "6439                      Zambia                10.277008\n",
       "6467                    Zimbabwe                14.430736\n",
       "\n",
       "[231 rows x 2 columns]"
      ],
      "text/html": "<div>\n<style scoped>\n    .dataframe tbody tr th:only-of-type {\n        vertical-align: middle;\n    }\n\n    .dataframe tbody tr th {\n        vertical-align: top;\n    }\n\n    .dataframe thead th {\n        text-align: right;\n    }\n</style>\n<table border=\"1\" class=\"dataframe\">\n  <thead>\n    <tr style=\"text-align: right;\">\n      <th></th>\n      <th>Entity</th>\n      <th>Cardiovascular Deaths %</th>\n    </tr>\n  </thead>\n  <tbody>\n    <tr>\n      <th>27</th>\n      <td>Afghanistan</td>\n      <td>24.780577</td>\n    </tr>\n    <tr>\n      <th>55</th>\n      <td>Albania</td>\n      <td>55.822085</td>\n    </tr>\n    <tr>\n      <th>83</th>\n      <td>Algeria</td>\n      <td>47.284557</td>\n    </tr>\n    <tr>\n      <th>111</th>\n      <td>American Samoa</td>\n      <td>30.440218</td>\n    </tr>\n    <tr>\n      <th>139</th>\n      <td>Andean Latin America</td>\n      <td>21.193030</td>\n    </tr>\n    <tr>\n      <th>...</th>\n      <td>...</td>\n      <td>...</td>\n    </tr>\n    <tr>\n      <th>6355</th>\n      <td>Western Sub-Saharan Africa</td>\n      <td>10.304049</td>\n    </tr>\n    <tr>\n      <th>6383</th>\n      <td>World</td>\n      <td>31.800515</td>\n    </tr>\n    <tr>\n      <th>6411</th>\n      <td>Yemen</td>\n      <td>32.373980</td>\n    </tr>\n    <tr>\n      <th>6439</th>\n      <td>Zambia</td>\n      <td>10.277008</td>\n    </tr>\n    <tr>\n      <th>6467</th>\n      <td>Zimbabwe</td>\n      <td>14.430736</td>\n    </tr>\n  </tbody>\n</table>\n<p>231 rows × 2 columns</p>\n</div>"
     },
     "metadata": {},
     "execution_count": 23
    }
   ],
   "source": [
    "heart_disease2 = heart_disease1.drop(columns=['Year', 'Code']).rename(columns={'Deaths - Cardiovascular diseases - Sex: Both - Age: All Ages (Percent)':'Cardiovascular Deaths %'})\n",
    "heart_disease2"
   ]
  },
  {
   "cell_type": "code",
   "execution_count": 24,
   "metadata": {},
   "outputs": [
    {
     "output_type": "execute_result",
     "data": {
      "text/plain": [
       "        Entity Code  Year  \\\n",
       "0  Afghanistan  AFG  1990   \n",
       "1  Afghanistan  AFG  1991   \n",
       "2  Afghanistan  AFG  1992   \n",
       "3  Afghanistan  AFG  1993   \n",
       "4  Afghanistan  AFG  1994   \n",
       "\n",
       "   Deaths - Tuberculosis - Sex: Both - Age: All Ages (Number)  \n",
       "0                                        4332.690583           \n",
       "1                                        4288.640464           \n",
       "2                                        4475.257542           \n",
       "3                                        4909.050325           \n",
       "4                                        5352.634058           "
      ],
      "text/html": "<div>\n<style scoped>\n    .dataframe tbody tr th:only-of-type {\n        vertical-align: middle;\n    }\n\n    .dataframe tbody tr th {\n        vertical-align: top;\n    }\n\n    .dataframe thead th {\n        text-align: right;\n    }\n</style>\n<table border=\"1\" class=\"dataframe\">\n  <thead>\n    <tr style=\"text-align: right;\">\n      <th></th>\n      <th>Entity</th>\n      <th>Code</th>\n      <th>Year</th>\n      <th>Deaths - Tuberculosis - Sex: Both - Age: All Ages (Number)</th>\n    </tr>\n  </thead>\n  <tbody>\n    <tr>\n      <th>0</th>\n      <td>Afghanistan</td>\n      <td>AFG</td>\n      <td>1990</td>\n      <td>4332.690583</td>\n    </tr>\n    <tr>\n      <th>1</th>\n      <td>Afghanistan</td>\n      <td>AFG</td>\n      <td>1991</td>\n      <td>4288.640464</td>\n    </tr>\n    <tr>\n      <th>2</th>\n      <td>Afghanistan</td>\n      <td>AFG</td>\n      <td>1992</td>\n      <td>4475.257542</td>\n    </tr>\n    <tr>\n      <th>3</th>\n      <td>Afghanistan</td>\n      <td>AFG</td>\n      <td>1993</td>\n      <td>4909.050325</td>\n    </tr>\n    <tr>\n      <th>4</th>\n      <td>Afghanistan</td>\n      <td>AFG</td>\n      <td>1994</td>\n      <td>5352.634058</td>\n    </tr>\n  </tbody>\n</table>\n</div>"
     },
     "metadata": {},
     "execution_count": 24
    }
   ],
   "source": [
    "# Tuberculosis Data\n",
    "tuberculosis.head()"
   ]
  },
  {
   "cell_type": "code",
   "execution_count": 25,
   "metadata": {},
   "outputs": [
    {
     "output_type": "execute_result",
     "data": {
      "text/plain": [
       "2017"
      ]
     },
     "metadata": {},
     "execution_count": 25
    }
   ],
   "source": [
    "# Latest year\n",
    "tuberculosis['Year'].max()"
   ]
  },
  {
   "cell_type": "code",
   "execution_count": 26,
   "metadata": {},
   "outputs": [
    {
     "output_type": "execute_result",
     "data": {
      "text/plain": [
       "                          Entity      Code  Year  \\\n",
       "27                   Afghanistan       AFG  2017   \n",
       "55                       Albania       ALB  2017   \n",
       "83                       Algeria       DZA  2017   \n",
       "111               American Samoa       ASM  2017   \n",
       "139         Andean Latin America       NaN  2017   \n",
       "...                          ...       ...   ...   \n",
       "6355  Western Sub-Saharan Africa       NaN  2017   \n",
       "6383                       World  OWID_WRL  2017   \n",
       "6411                       Yemen       YEM  2017   \n",
       "6439                      Zambia       ZMB  2017   \n",
       "6467                    Zimbabwe       ZWE  2017   \n",
       "\n",
       "      Deaths - Tuberculosis - Sex: Both - Age: All Ages (Number)  \n",
       "27                                         3.634061e+03           \n",
       "55                                         1.198700e+01           \n",
       "83                                         4.170693e+02           \n",
       "111                                        3.769006e-01           \n",
       "139                                        3.884472e+03           \n",
       "...                                                 ...           \n",
       "6355                                       1.297312e+05           \n",
       "6383                                       1.183672e+06           \n",
       "6411                                       1.021099e+03           \n",
       "6439                                       8.306847e+03           \n",
       "6467                                       1.195807e+04           \n",
       "\n",
       "[231 rows x 4 columns]"
      ],
      "text/html": "<div>\n<style scoped>\n    .dataframe tbody tr th:only-of-type {\n        vertical-align: middle;\n    }\n\n    .dataframe tbody tr th {\n        vertical-align: top;\n    }\n\n    .dataframe thead th {\n        text-align: right;\n    }\n</style>\n<table border=\"1\" class=\"dataframe\">\n  <thead>\n    <tr style=\"text-align: right;\">\n      <th></th>\n      <th>Entity</th>\n      <th>Code</th>\n      <th>Year</th>\n      <th>Deaths - Tuberculosis - Sex: Both - Age: All Ages (Number)</th>\n    </tr>\n  </thead>\n  <tbody>\n    <tr>\n      <th>27</th>\n      <td>Afghanistan</td>\n      <td>AFG</td>\n      <td>2017</td>\n      <td>3.634061e+03</td>\n    </tr>\n    <tr>\n      <th>55</th>\n      <td>Albania</td>\n      <td>ALB</td>\n      <td>2017</td>\n      <td>1.198700e+01</td>\n    </tr>\n    <tr>\n      <th>83</th>\n      <td>Algeria</td>\n      <td>DZA</td>\n      <td>2017</td>\n      <td>4.170693e+02</td>\n    </tr>\n    <tr>\n      <th>111</th>\n      <td>American Samoa</td>\n      <td>ASM</td>\n      <td>2017</td>\n      <td>3.769006e-01</td>\n    </tr>\n    <tr>\n      <th>139</th>\n      <td>Andean Latin America</td>\n      <td>NaN</td>\n      <td>2017</td>\n      <td>3.884472e+03</td>\n    </tr>\n    <tr>\n      <th>...</th>\n      <td>...</td>\n      <td>...</td>\n      <td>...</td>\n      <td>...</td>\n    </tr>\n    <tr>\n      <th>6355</th>\n      <td>Western Sub-Saharan Africa</td>\n      <td>NaN</td>\n      <td>2017</td>\n      <td>1.297312e+05</td>\n    </tr>\n    <tr>\n      <th>6383</th>\n      <td>World</td>\n      <td>OWID_WRL</td>\n      <td>2017</td>\n      <td>1.183672e+06</td>\n    </tr>\n    <tr>\n      <th>6411</th>\n      <td>Yemen</td>\n      <td>YEM</td>\n      <td>2017</td>\n      <td>1.021099e+03</td>\n    </tr>\n    <tr>\n      <th>6439</th>\n      <td>Zambia</td>\n      <td>ZMB</td>\n      <td>2017</td>\n      <td>8.306847e+03</td>\n    </tr>\n    <tr>\n      <th>6467</th>\n      <td>Zimbabwe</td>\n      <td>ZWE</td>\n      <td>2017</td>\n      <td>1.195807e+04</td>\n    </tr>\n  </tbody>\n</table>\n<p>231 rows × 4 columns</p>\n</div>"
     },
     "metadata": {},
     "execution_count": 26
    }
   ],
   "source": [
    "# Filtering based on latest year\n",
    "tuberculosis1 = tuberculosis[tuberculosis['Year']==2017]\n",
    "tuberculosis1"
   ]
  },
  {
   "cell_type": "code",
   "execution_count": 27,
   "metadata": {},
   "outputs": [
    {
     "output_type": "execute_result",
     "data": {
      "text/plain": [
       "                          Entity     TB Deaths\n",
       "27                   Afghanistan  3.634061e+03\n",
       "55                       Albania  1.198700e+01\n",
       "83                       Algeria  4.170693e+02\n",
       "111               American Samoa  3.769006e-01\n",
       "139         Andean Latin America  3.884472e+03\n",
       "...                          ...           ...\n",
       "6355  Western Sub-Saharan Africa  1.297312e+05\n",
       "6383                       World  1.183672e+06\n",
       "6411                       Yemen  1.021099e+03\n",
       "6439                      Zambia  8.306847e+03\n",
       "6467                    Zimbabwe  1.195807e+04\n",
       "\n",
       "[231 rows x 2 columns]"
      ],
      "text/html": "<div>\n<style scoped>\n    .dataframe tbody tr th:only-of-type {\n        vertical-align: middle;\n    }\n\n    .dataframe tbody tr th {\n        vertical-align: top;\n    }\n\n    .dataframe thead th {\n        text-align: right;\n    }\n</style>\n<table border=\"1\" class=\"dataframe\">\n  <thead>\n    <tr style=\"text-align: right;\">\n      <th></th>\n      <th>Entity</th>\n      <th>TB Deaths</th>\n    </tr>\n  </thead>\n  <tbody>\n    <tr>\n      <th>27</th>\n      <td>Afghanistan</td>\n      <td>3.634061e+03</td>\n    </tr>\n    <tr>\n      <th>55</th>\n      <td>Albania</td>\n      <td>1.198700e+01</td>\n    </tr>\n    <tr>\n      <th>83</th>\n      <td>Algeria</td>\n      <td>4.170693e+02</td>\n    </tr>\n    <tr>\n      <th>111</th>\n      <td>American Samoa</td>\n      <td>3.769006e-01</td>\n    </tr>\n    <tr>\n      <th>139</th>\n      <td>Andean Latin America</td>\n      <td>3.884472e+03</td>\n    </tr>\n    <tr>\n      <th>...</th>\n      <td>...</td>\n      <td>...</td>\n    </tr>\n    <tr>\n      <th>6355</th>\n      <td>Western Sub-Saharan Africa</td>\n      <td>1.297312e+05</td>\n    </tr>\n    <tr>\n      <th>6383</th>\n      <td>World</td>\n      <td>1.183672e+06</td>\n    </tr>\n    <tr>\n      <th>6411</th>\n      <td>Yemen</td>\n      <td>1.021099e+03</td>\n    </tr>\n    <tr>\n      <th>6439</th>\n      <td>Zambia</td>\n      <td>8.306847e+03</td>\n    </tr>\n    <tr>\n      <th>6467</th>\n      <td>Zimbabwe</td>\n      <td>1.195807e+04</td>\n    </tr>\n  </tbody>\n</table>\n<p>231 rows × 2 columns</p>\n</div>"
     },
     "metadata": {},
     "execution_count": 27
    }
   ],
   "source": [
    "# Dropping and renaming the column\n",
    "tuberculosis2 = tuberculosis1.drop(columns=['Code', 'Year']).rename(columns={'Deaths - Tuberculosis - Sex: Both - Age: All Ages (Number)':'TB Deaths'})\n",
    "tuberculosis2"
   ]
  },
  {
   "cell_type": "code",
   "execution_count": 28,
   "metadata": {},
   "outputs": [
    {
     "output_type": "execute_result",
     "data": {
      "text/plain": [
       "          Entity Code  Year  Child mortality rates (%)    HIV Deaths  \\\n",
       "0    Afghanistan  AFG  2016                       7.04    302.166880   \n",
       "1        Albania  ALB  2016                       1.35      1.285800   \n",
       "2        Algeria  DZA  2016                       2.52    326.660742   \n",
       "3        Andorra  AND  2016                       0.27      0.441990   \n",
       "4         Angola  AGO  2016                       8.25  14584.702430   \n",
       "..           ...  ...   ...                        ...           ...   \n",
       "185    Venezuela  VEN  2016                       1.63   2127.569960   \n",
       "186      Vietnam  VNM  2016                       2.16  11434.047180   \n",
       "187        Yemen  YEM  2016                       5.53    387.383175   \n",
       "188       Zambia  ZMB  2016                       6.34  21806.824350   \n",
       "189     Zimbabwe  ZWE  2016                       5.64  16065.329680   \n",
       "\n",
       "     HIV Incidences  \n",
       "0        922.173458  \n",
       "1          3.030192  \n",
       "2        900.805751  \n",
       "3          4.594938  \n",
       "4      19017.694410  \n",
       "..              ...  \n",
       "185     8195.995527  \n",
       "186    19075.495980  \n",
       "187     1082.582833  \n",
       "188    46838.910870  \n",
       "189    56259.055940  \n",
       "\n",
       "[190 rows x 6 columns]"
      ],
      "text/html": "<div>\n<style scoped>\n    .dataframe tbody tr th:only-of-type {\n        vertical-align: middle;\n    }\n\n    .dataframe tbody tr th {\n        vertical-align: top;\n    }\n\n    .dataframe thead th {\n        text-align: right;\n    }\n</style>\n<table border=\"1\" class=\"dataframe\">\n  <thead>\n    <tr style=\"text-align: right;\">\n      <th></th>\n      <th>Entity</th>\n      <th>Code</th>\n      <th>Year</th>\n      <th>Child mortality rates (%)</th>\n      <th>HIV Deaths</th>\n      <th>HIV Incidences</th>\n    </tr>\n  </thead>\n  <tbody>\n    <tr>\n      <th>0</th>\n      <td>Afghanistan</td>\n      <td>AFG</td>\n      <td>2016</td>\n      <td>7.04</td>\n      <td>302.166880</td>\n      <td>922.173458</td>\n    </tr>\n    <tr>\n      <th>1</th>\n      <td>Albania</td>\n      <td>ALB</td>\n      <td>2016</td>\n      <td>1.35</td>\n      <td>1.285800</td>\n      <td>3.030192</td>\n    </tr>\n    <tr>\n      <th>2</th>\n      <td>Algeria</td>\n      <td>DZA</td>\n      <td>2016</td>\n      <td>2.52</td>\n      <td>326.660742</td>\n      <td>900.805751</td>\n    </tr>\n    <tr>\n      <th>3</th>\n      <td>Andorra</td>\n      <td>AND</td>\n      <td>2016</td>\n      <td>0.27</td>\n      <td>0.441990</td>\n      <td>4.594938</td>\n    </tr>\n    <tr>\n      <th>4</th>\n      <td>Angola</td>\n      <td>AGO</td>\n      <td>2016</td>\n      <td>8.25</td>\n      <td>14584.702430</td>\n      <td>19017.694410</td>\n    </tr>\n    <tr>\n      <th>...</th>\n      <td>...</td>\n      <td>...</td>\n      <td>...</td>\n      <td>...</td>\n      <td>...</td>\n      <td>...</td>\n    </tr>\n    <tr>\n      <th>185</th>\n      <td>Venezuela</td>\n      <td>VEN</td>\n      <td>2016</td>\n      <td>1.63</td>\n      <td>2127.569960</td>\n      <td>8195.995527</td>\n    </tr>\n    <tr>\n      <th>186</th>\n      <td>Vietnam</td>\n      <td>VNM</td>\n      <td>2016</td>\n      <td>2.16</td>\n      <td>11434.047180</td>\n      <td>19075.495980</td>\n    </tr>\n    <tr>\n      <th>187</th>\n      <td>Yemen</td>\n      <td>YEM</td>\n      <td>2016</td>\n      <td>5.53</td>\n      <td>387.383175</td>\n      <td>1082.582833</td>\n    </tr>\n    <tr>\n      <th>188</th>\n      <td>Zambia</td>\n      <td>ZMB</td>\n      <td>2016</td>\n      <td>6.34</td>\n      <td>21806.824350</td>\n      <td>46838.910870</td>\n    </tr>\n    <tr>\n      <th>189</th>\n      <td>Zimbabwe</td>\n      <td>ZWE</td>\n      <td>2016</td>\n      <td>5.64</td>\n      <td>16065.329680</td>\n      <td>56259.055940</td>\n    </tr>\n  </tbody>\n</table>\n<p>190 rows × 6 columns</p>\n</div>"
     },
     "metadata": {},
     "execution_count": 28
    }
   ],
   "source": [
    "# Creating a single CSV File for later visualisation\n",
    "merged_df = pd.merge(child_mortality2,hiv_deaths3, on='Entity', how='inner')\n",
    "merged_df"
   ]
  },
  {
   "cell_type": "code",
   "execution_count": 29,
   "metadata": {},
   "outputs": [
    {
     "output_type": "execute_result",
     "data": {
      "text/plain": [
       "          Entity Code  Year  Child mortality rates (%)    HIV Deaths  \\\n",
       "0    Afghanistan  AFG  2016                       7.04    302.166880   \n",
       "1        Albania  ALB  2016                       1.35      1.285800   \n",
       "2        Algeria  DZA  2016                       2.52    326.660742   \n",
       "3        Andorra  AND  2016                       0.27      0.441990   \n",
       "4         Angola  AGO  2016                       8.25  14584.702430   \n",
       "..           ...  ...   ...                        ...           ...   \n",
       "185    Venezuela  VEN  2016                       1.63   2127.569960   \n",
       "186      Vietnam  VNM  2016                       2.16  11434.047180   \n",
       "187        Yemen  YEM  2016                       5.53    387.383175   \n",
       "188       Zambia  ZMB  2016                       6.34  21806.824350   \n",
       "189     Zimbabwe  ZWE  2016                       5.64  16065.329680   \n",
       "\n",
       "     HIV Incidences  Life expectancy  \n",
       "0        922.173458           64.833  \n",
       "1          3.030192           78.573  \n",
       "2        900.805751           76.880  \n",
       "3          4.594938           83.732  \n",
       "4      19017.694410           61.147  \n",
       "..              ...              ...  \n",
       "185     8195.995527           72.064  \n",
       "186    19075.495980           75.400  \n",
       "187     1082.582833           66.125  \n",
       "188    46838.910870           63.886  \n",
       "189    56259.055940           61.490  \n",
       "\n",
       "[190 rows x 7 columns]"
      ],
      "text/html": "<div>\n<style scoped>\n    .dataframe tbody tr th:only-of-type {\n        vertical-align: middle;\n    }\n\n    .dataframe tbody tr th {\n        vertical-align: top;\n    }\n\n    .dataframe thead th {\n        text-align: right;\n    }\n</style>\n<table border=\"1\" class=\"dataframe\">\n  <thead>\n    <tr style=\"text-align: right;\">\n      <th></th>\n      <th>Entity</th>\n      <th>Code</th>\n      <th>Year</th>\n      <th>Child mortality rates (%)</th>\n      <th>HIV Deaths</th>\n      <th>HIV Incidences</th>\n      <th>Life expectancy</th>\n    </tr>\n  </thead>\n  <tbody>\n    <tr>\n      <th>0</th>\n      <td>Afghanistan</td>\n      <td>AFG</td>\n      <td>2016</td>\n      <td>7.04</td>\n      <td>302.166880</td>\n      <td>922.173458</td>\n      <td>64.833</td>\n    </tr>\n    <tr>\n      <th>1</th>\n      <td>Albania</td>\n      <td>ALB</td>\n      <td>2016</td>\n      <td>1.35</td>\n      <td>1.285800</td>\n      <td>3.030192</td>\n      <td>78.573</td>\n    </tr>\n    <tr>\n      <th>2</th>\n      <td>Algeria</td>\n      <td>DZA</td>\n      <td>2016</td>\n      <td>2.52</td>\n      <td>326.660742</td>\n      <td>900.805751</td>\n      <td>76.880</td>\n    </tr>\n    <tr>\n      <th>3</th>\n      <td>Andorra</td>\n      <td>AND</td>\n      <td>2016</td>\n      <td>0.27</td>\n      <td>0.441990</td>\n      <td>4.594938</td>\n      <td>83.732</td>\n    </tr>\n    <tr>\n      <th>4</th>\n      <td>Angola</td>\n      <td>AGO</td>\n      <td>2016</td>\n      <td>8.25</td>\n      <td>14584.702430</td>\n      <td>19017.694410</td>\n      <td>61.147</td>\n    </tr>\n    <tr>\n      <th>...</th>\n      <td>...</td>\n      <td>...</td>\n      <td>...</td>\n      <td>...</td>\n      <td>...</td>\n      <td>...</td>\n      <td>...</td>\n    </tr>\n    <tr>\n      <th>185</th>\n      <td>Venezuela</td>\n      <td>VEN</td>\n      <td>2016</td>\n      <td>1.63</td>\n      <td>2127.569960</td>\n      <td>8195.995527</td>\n      <td>72.064</td>\n    </tr>\n    <tr>\n      <th>186</th>\n      <td>Vietnam</td>\n      <td>VNM</td>\n      <td>2016</td>\n      <td>2.16</td>\n      <td>11434.047180</td>\n      <td>19075.495980</td>\n      <td>75.400</td>\n    </tr>\n    <tr>\n      <th>187</th>\n      <td>Yemen</td>\n      <td>YEM</td>\n      <td>2016</td>\n      <td>5.53</td>\n      <td>387.383175</td>\n      <td>1082.582833</td>\n      <td>66.125</td>\n    </tr>\n    <tr>\n      <th>188</th>\n      <td>Zambia</td>\n      <td>ZMB</td>\n      <td>2016</td>\n      <td>6.34</td>\n      <td>21806.824350</td>\n      <td>46838.910870</td>\n      <td>63.886</td>\n    </tr>\n    <tr>\n      <th>189</th>\n      <td>Zimbabwe</td>\n      <td>ZWE</td>\n      <td>2016</td>\n      <td>5.64</td>\n      <td>16065.329680</td>\n      <td>56259.055940</td>\n      <td>61.490</td>\n    </tr>\n  </tbody>\n</table>\n<p>190 rows × 7 columns</p>\n</div>"
     },
     "metadata": {},
     "execution_count": 29
    }
   ],
   "source": [
    "# Merging with Life Expectency Dataframe\n",
    "merged_df1 = pd.merge(merged_df, life_expectency2, how='inner', on='Entity')\n",
    "merged_df1"
   ]
  },
  {
   "cell_type": "code",
   "execution_count": 30,
   "metadata": {},
   "outputs": [
    {
     "output_type": "execute_result",
     "data": {
      "text/plain": [
       "          Entity Code  Year  Child mortality rates (%)    HIV Deaths  \\\n",
       "0    Afghanistan  AFG  2016                       7.04    302.166880   \n",
       "1        Albania  ALB  2016                       1.35      1.285800   \n",
       "2        Algeria  DZA  2016                       2.52    326.660742   \n",
       "3        Andorra  AND  2016                       0.27      0.441990   \n",
       "4         Angola  AGO  2016                       8.25  14584.702430   \n",
       "..           ...  ...   ...                        ...           ...   \n",
       "185    Venezuela  VEN  2016                       1.63   2127.569960   \n",
       "186      Vietnam  VNM  2016                       2.16  11434.047180   \n",
       "187        Yemen  YEM  2016                       5.53    387.383175   \n",
       "188       Zambia  ZMB  2016                       6.34  21806.824350   \n",
       "189     Zimbabwe  ZWE  2016                       5.64  16065.329680   \n",
       "\n",
       "     HIV Incidences  Life expectancy  Population  \n",
       "0        922.173458           64.833    38042000  \n",
       "1          3.030192           78.573     2881000  \n",
       "2        900.805751           76.880    43053000  \n",
       "3          4.594938           83.732       77000  \n",
       "4      19017.694410           61.147    31825000  \n",
       "..              ...              ...         ...  \n",
       "185     8195.995527           72.064    28516000  \n",
       "186    19075.495980           75.400    96462000  \n",
       "187     1082.582833           66.125    29162000  \n",
       "188    46838.910870           63.886    17861000  \n",
       "189    56259.055940           61.490    14645000  \n",
       "\n",
       "[190 rows x 8 columns]"
      ],
      "text/html": "<div>\n<style scoped>\n    .dataframe tbody tr th:only-of-type {\n        vertical-align: middle;\n    }\n\n    .dataframe tbody tr th {\n        vertical-align: top;\n    }\n\n    .dataframe thead th {\n        text-align: right;\n    }\n</style>\n<table border=\"1\" class=\"dataframe\">\n  <thead>\n    <tr style=\"text-align: right;\">\n      <th></th>\n      <th>Entity</th>\n      <th>Code</th>\n      <th>Year</th>\n      <th>Child mortality rates (%)</th>\n      <th>HIV Deaths</th>\n      <th>HIV Incidences</th>\n      <th>Life expectancy</th>\n      <th>Population</th>\n    </tr>\n  </thead>\n  <tbody>\n    <tr>\n      <th>0</th>\n      <td>Afghanistan</td>\n      <td>AFG</td>\n      <td>2016</td>\n      <td>7.04</td>\n      <td>302.166880</td>\n      <td>922.173458</td>\n      <td>64.833</td>\n      <td>38042000</td>\n    </tr>\n    <tr>\n      <th>1</th>\n      <td>Albania</td>\n      <td>ALB</td>\n      <td>2016</td>\n      <td>1.35</td>\n      <td>1.285800</td>\n      <td>3.030192</td>\n      <td>78.573</td>\n      <td>2881000</td>\n    </tr>\n    <tr>\n      <th>2</th>\n      <td>Algeria</td>\n      <td>DZA</td>\n      <td>2016</td>\n      <td>2.52</td>\n      <td>326.660742</td>\n      <td>900.805751</td>\n      <td>76.880</td>\n      <td>43053000</td>\n    </tr>\n    <tr>\n      <th>3</th>\n      <td>Andorra</td>\n      <td>AND</td>\n      <td>2016</td>\n      <td>0.27</td>\n      <td>0.441990</td>\n      <td>4.594938</td>\n      <td>83.732</td>\n      <td>77000</td>\n    </tr>\n    <tr>\n      <th>4</th>\n      <td>Angola</td>\n      <td>AGO</td>\n      <td>2016</td>\n      <td>8.25</td>\n      <td>14584.702430</td>\n      <td>19017.694410</td>\n      <td>61.147</td>\n      <td>31825000</td>\n    </tr>\n    <tr>\n      <th>...</th>\n      <td>...</td>\n      <td>...</td>\n      <td>...</td>\n      <td>...</td>\n      <td>...</td>\n      <td>...</td>\n      <td>...</td>\n      <td>...</td>\n    </tr>\n    <tr>\n      <th>185</th>\n      <td>Venezuela</td>\n      <td>VEN</td>\n      <td>2016</td>\n      <td>1.63</td>\n      <td>2127.569960</td>\n      <td>8195.995527</td>\n      <td>72.064</td>\n      <td>28516000</td>\n    </tr>\n    <tr>\n      <th>186</th>\n      <td>Vietnam</td>\n      <td>VNM</td>\n      <td>2016</td>\n      <td>2.16</td>\n      <td>11434.047180</td>\n      <td>19075.495980</td>\n      <td>75.400</td>\n      <td>96462000</td>\n    </tr>\n    <tr>\n      <th>187</th>\n      <td>Yemen</td>\n      <td>YEM</td>\n      <td>2016</td>\n      <td>5.53</td>\n      <td>387.383175</td>\n      <td>1082.582833</td>\n      <td>66.125</td>\n      <td>29162000</td>\n    </tr>\n    <tr>\n      <th>188</th>\n      <td>Zambia</td>\n      <td>ZMB</td>\n      <td>2016</td>\n      <td>6.34</td>\n      <td>21806.824350</td>\n      <td>46838.910870</td>\n      <td>63.886</td>\n      <td>17861000</td>\n    </tr>\n    <tr>\n      <th>189</th>\n      <td>Zimbabwe</td>\n      <td>ZWE</td>\n      <td>2016</td>\n      <td>5.64</td>\n      <td>16065.329680</td>\n      <td>56259.055940</td>\n      <td>61.490</td>\n      <td>14645000</td>\n    </tr>\n  </tbody>\n</table>\n<p>190 rows × 8 columns</p>\n</div>"
     },
     "metadata": {},
     "execution_count": 30
    }
   ],
   "source": [
    "# Merging with population\n",
    "merged_df2 = pd.merge(merged_df1,population3, how='inner', on='Entity')\n",
    "merged_df2"
   ]
  },
  {
   "cell_type": "code",
   "execution_count": 31,
   "metadata": {},
   "outputs": [
    {
     "output_type": "execute_result",
     "data": {
      "text/plain": [
       "          Entity Code  Year  Child mortality rates (%)    HIV Deaths  \\\n",
       "0    Afghanistan  AFG  2016                       7.04    302.166880   \n",
       "1        Albania  ALB  2016                       1.35      1.285800   \n",
       "2        Algeria  DZA  2016                       2.52    326.660742   \n",
       "3        Andorra  AND  2016                       0.27      0.441990   \n",
       "4         Angola  AGO  2016                       8.25  14584.702430   \n",
       "..           ...  ...   ...                        ...           ...   \n",
       "185    Venezuela  VEN  2016                       1.63   2127.569960   \n",
       "186      Vietnam  VNM  2016                       2.16  11434.047180   \n",
       "187        Yemen  YEM  2016                       5.53    387.383175   \n",
       "188       Zambia  ZMB  2016                       6.34  21806.824350   \n",
       "189     Zimbabwe  ZWE  2016                       5.64  16065.329680   \n",
       "\n",
       "     HIV Incidences  Life expectancy  Population  Cardiovascular Deaths %  \n",
       "0        922.173458           64.833    38042000                24.780577  \n",
       "1          3.030192           78.573     2881000                55.822085  \n",
       "2        900.805751           76.880    43053000                47.284557  \n",
       "3          4.594938           83.732       77000                30.647196  \n",
       "4      19017.694410           61.147    31825000                11.828254  \n",
       "..              ...              ...         ...                      ...  \n",
       "185     8195.995527           72.064    28516000                30.540530  \n",
       "186    19075.495980           75.400    96462000                33.177107  \n",
       "187     1082.582833           66.125    29162000                32.373980  \n",
       "188    46838.910870           63.886    17861000                10.277008  \n",
       "189    56259.055940           61.490    14645000                14.430736  \n",
       "\n",
       "[190 rows x 9 columns]"
      ],
      "text/html": "<div>\n<style scoped>\n    .dataframe tbody tr th:only-of-type {\n        vertical-align: middle;\n    }\n\n    .dataframe tbody tr th {\n        vertical-align: top;\n    }\n\n    .dataframe thead th {\n        text-align: right;\n    }\n</style>\n<table border=\"1\" class=\"dataframe\">\n  <thead>\n    <tr style=\"text-align: right;\">\n      <th></th>\n      <th>Entity</th>\n      <th>Code</th>\n      <th>Year</th>\n      <th>Child mortality rates (%)</th>\n      <th>HIV Deaths</th>\n      <th>HIV Incidences</th>\n      <th>Life expectancy</th>\n      <th>Population</th>\n      <th>Cardiovascular Deaths %</th>\n    </tr>\n  </thead>\n  <tbody>\n    <tr>\n      <th>0</th>\n      <td>Afghanistan</td>\n      <td>AFG</td>\n      <td>2016</td>\n      <td>7.04</td>\n      <td>302.166880</td>\n      <td>922.173458</td>\n      <td>64.833</td>\n      <td>38042000</td>\n      <td>24.780577</td>\n    </tr>\n    <tr>\n      <th>1</th>\n      <td>Albania</td>\n      <td>ALB</td>\n      <td>2016</td>\n      <td>1.35</td>\n      <td>1.285800</td>\n      <td>3.030192</td>\n      <td>78.573</td>\n      <td>2881000</td>\n      <td>55.822085</td>\n    </tr>\n    <tr>\n      <th>2</th>\n      <td>Algeria</td>\n      <td>DZA</td>\n      <td>2016</td>\n      <td>2.52</td>\n      <td>326.660742</td>\n      <td>900.805751</td>\n      <td>76.880</td>\n      <td>43053000</td>\n      <td>47.284557</td>\n    </tr>\n    <tr>\n      <th>3</th>\n      <td>Andorra</td>\n      <td>AND</td>\n      <td>2016</td>\n      <td>0.27</td>\n      <td>0.441990</td>\n      <td>4.594938</td>\n      <td>83.732</td>\n      <td>77000</td>\n      <td>30.647196</td>\n    </tr>\n    <tr>\n      <th>4</th>\n      <td>Angola</td>\n      <td>AGO</td>\n      <td>2016</td>\n      <td>8.25</td>\n      <td>14584.702430</td>\n      <td>19017.694410</td>\n      <td>61.147</td>\n      <td>31825000</td>\n      <td>11.828254</td>\n    </tr>\n    <tr>\n      <th>...</th>\n      <td>...</td>\n      <td>...</td>\n      <td>...</td>\n      <td>...</td>\n      <td>...</td>\n      <td>...</td>\n      <td>...</td>\n      <td>...</td>\n      <td>...</td>\n    </tr>\n    <tr>\n      <th>185</th>\n      <td>Venezuela</td>\n      <td>VEN</td>\n      <td>2016</td>\n      <td>1.63</td>\n      <td>2127.569960</td>\n      <td>8195.995527</td>\n      <td>72.064</td>\n      <td>28516000</td>\n      <td>30.540530</td>\n    </tr>\n    <tr>\n      <th>186</th>\n      <td>Vietnam</td>\n      <td>VNM</td>\n      <td>2016</td>\n      <td>2.16</td>\n      <td>11434.047180</td>\n      <td>19075.495980</td>\n      <td>75.400</td>\n      <td>96462000</td>\n      <td>33.177107</td>\n    </tr>\n    <tr>\n      <th>187</th>\n      <td>Yemen</td>\n      <td>YEM</td>\n      <td>2016</td>\n      <td>5.53</td>\n      <td>387.383175</td>\n      <td>1082.582833</td>\n      <td>66.125</td>\n      <td>29162000</td>\n      <td>32.373980</td>\n    </tr>\n    <tr>\n      <th>188</th>\n      <td>Zambia</td>\n      <td>ZMB</td>\n      <td>2016</td>\n      <td>6.34</td>\n      <td>21806.824350</td>\n      <td>46838.910870</td>\n      <td>63.886</td>\n      <td>17861000</td>\n      <td>10.277008</td>\n    </tr>\n    <tr>\n      <th>189</th>\n      <td>Zimbabwe</td>\n      <td>ZWE</td>\n      <td>2016</td>\n      <td>5.64</td>\n      <td>16065.329680</td>\n      <td>56259.055940</td>\n      <td>61.490</td>\n      <td>14645000</td>\n      <td>14.430736</td>\n    </tr>\n  </tbody>\n</table>\n<p>190 rows × 9 columns</p>\n</div>"
     },
     "metadata": {},
     "execution_count": 31
    }
   ],
   "source": [
    "# Merging with Heart Disease\n",
    "merged_df3 = pd.merge(merged_df2, heart_disease2, on='Entity', how='inner')\n",
    "merged_df3"
   ]
  },
  {
   "cell_type": "code",
   "execution_count": 32,
   "metadata": {},
   "outputs": [
    {
     "output_type": "execute_result",
     "data": {
      "text/plain": [
       "          Entity Code  Year  Child mortality rates (%)    HIV Deaths  \\\n",
       "0    Afghanistan  AFG  2016                       7.04    302.166880   \n",
       "1        Albania  ALB  2016                       1.35      1.285800   \n",
       "2        Algeria  DZA  2016                       2.52    326.660742   \n",
       "3        Andorra  AND  2016                       0.27      0.441990   \n",
       "4         Angola  AGO  2016                       8.25  14584.702430   \n",
       "..           ...  ...   ...                        ...           ...   \n",
       "185    Venezuela  VEN  2016                       1.63   2127.569960   \n",
       "186      Vietnam  VNM  2016                       2.16  11434.047180   \n",
       "187        Yemen  YEM  2016                       5.53    387.383175   \n",
       "188       Zambia  ZMB  2016                       6.34  21806.824350   \n",
       "189     Zimbabwe  ZWE  2016                       5.64  16065.329680   \n",
       "\n",
       "     HIV Incidences  Life expectancy  Population  Cardiovascular Deaths %  \\\n",
       "0        922.173458           64.833    38042000                24.780577   \n",
       "1          3.030192           78.573     2881000                55.822085   \n",
       "2        900.805751           76.880    43053000                47.284557   \n",
       "3          4.594938           83.732       77000                30.647196   \n",
       "4      19017.694410           61.147    31825000                11.828254   \n",
       "..              ...              ...         ...                      ...   \n",
       "185     8195.995527           72.064    28516000                30.540530   \n",
       "186    19075.495980           75.400    96462000                33.177107   \n",
       "187     1082.582833           66.125    29162000                32.373980   \n",
       "188    46838.910870           63.886    17861000                10.277008   \n",
       "189    56259.055940           61.490    14645000                14.430736   \n",
       "\n",
       "        TB Deaths  \n",
       "0     3634.060664  \n",
       "1       11.986996  \n",
       "2      417.069297  \n",
       "3        0.357184  \n",
       "4    11409.417530  \n",
       "..            ...  \n",
       "185    786.710928  \n",
       "186  17594.454380  \n",
       "187   1021.099125  \n",
       "188   8306.847486  \n",
       "189  11958.066530  \n",
       "\n",
       "[190 rows x 10 columns]"
      ],
      "text/html": "<div>\n<style scoped>\n    .dataframe tbody tr th:only-of-type {\n        vertical-align: middle;\n    }\n\n    .dataframe tbody tr th {\n        vertical-align: top;\n    }\n\n    .dataframe thead th {\n        text-align: right;\n    }\n</style>\n<table border=\"1\" class=\"dataframe\">\n  <thead>\n    <tr style=\"text-align: right;\">\n      <th></th>\n      <th>Entity</th>\n      <th>Code</th>\n      <th>Year</th>\n      <th>Child mortality rates (%)</th>\n      <th>HIV Deaths</th>\n      <th>HIV Incidences</th>\n      <th>Life expectancy</th>\n      <th>Population</th>\n      <th>Cardiovascular Deaths %</th>\n      <th>TB Deaths</th>\n    </tr>\n  </thead>\n  <tbody>\n    <tr>\n      <th>0</th>\n      <td>Afghanistan</td>\n      <td>AFG</td>\n      <td>2016</td>\n      <td>7.04</td>\n      <td>302.166880</td>\n      <td>922.173458</td>\n      <td>64.833</td>\n      <td>38042000</td>\n      <td>24.780577</td>\n      <td>3634.060664</td>\n    </tr>\n    <tr>\n      <th>1</th>\n      <td>Albania</td>\n      <td>ALB</td>\n      <td>2016</td>\n      <td>1.35</td>\n      <td>1.285800</td>\n      <td>3.030192</td>\n      <td>78.573</td>\n      <td>2881000</td>\n      <td>55.822085</td>\n      <td>11.986996</td>\n    </tr>\n    <tr>\n      <th>2</th>\n      <td>Algeria</td>\n      <td>DZA</td>\n      <td>2016</td>\n      <td>2.52</td>\n      <td>326.660742</td>\n      <td>900.805751</td>\n      <td>76.880</td>\n      <td>43053000</td>\n      <td>47.284557</td>\n      <td>417.069297</td>\n    </tr>\n    <tr>\n      <th>3</th>\n      <td>Andorra</td>\n      <td>AND</td>\n      <td>2016</td>\n      <td>0.27</td>\n      <td>0.441990</td>\n      <td>4.594938</td>\n      <td>83.732</td>\n      <td>77000</td>\n      <td>30.647196</td>\n      <td>0.357184</td>\n    </tr>\n    <tr>\n      <th>4</th>\n      <td>Angola</td>\n      <td>AGO</td>\n      <td>2016</td>\n      <td>8.25</td>\n      <td>14584.702430</td>\n      <td>19017.694410</td>\n      <td>61.147</td>\n      <td>31825000</td>\n      <td>11.828254</td>\n      <td>11409.417530</td>\n    </tr>\n    <tr>\n      <th>...</th>\n      <td>...</td>\n      <td>...</td>\n      <td>...</td>\n      <td>...</td>\n      <td>...</td>\n      <td>...</td>\n      <td>...</td>\n      <td>...</td>\n      <td>...</td>\n      <td>...</td>\n    </tr>\n    <tr>\n      <th>185</th>\n      <td>Venezuela</td>\n      <td>VEN</td>\n      <td>2016</td>\n      <td>1.63</td>\n      <td>2127.569960</td>\n      <td>8195.995527</td>\n      <td>72.064</td>\n      <td>28516000</td>\n      <td>30.540530</td>\n      <td>786.710928</td>\n    </tr>\n    <tr>\n      <th>186</th>\n      <td>Vietnam</td>\n      <td>VNM</td>\n      <td>2016</td>\n      <td>2.16</td>\n      <td>11434.047180</td>\n      <td>19075.495980</td>\n      <td>75.400</td>\n      <td>96462000</td>\n      <td>33.177107</td>\n      <td>17594.454380</td>\n    </tr>\n    <tr>\n      <th>187</th>\n      <td>Yemen</td>\n      <td>YEM</td>\n      <td>2016</td>\n      <td>5.53</td>\n      <td>387.383175</td>\n      <td>1082.582833</td>\n      <td>66.125</td>\n      <td>29162000</td>\n      <td>32.373980</td>\n      <td>1021.099125</td>\n    </tr>\n    <tr>\n      <th>188</th>\n      <td>Zambia</td>\n      <td>ZMB</td>\n      <td>2016</td>\n      <td>6.34</td>\n      <td>21806.824350</td>\n      <td>46838.910870</td>\n      <td>63.886</td>\n      <td>17861000</td>\n      <td>10.277008</td>\n      <td>8306.847486</td>\n    </tr>\n    <tr>\n      <th>189</th>\n      <td>Zimbabwe</td>\n      <td>ZWE</td>\n      <td>2016</td>\n      <td>5.64</td>\n      <td>16065.329680</td>\n      <td>56259.055940</td>\n      <td>61.490</td>\n      <td>14645000</td>\n      <td>14.430736</td>\n      <td>11958.066530</td>\n    </tr>\n  </tbody>\n</table>\n<p>190 rows × 10 columns</p>\n</div>"
     },
     "metadata": {},
     "execution_count": 32
    }
   ],
   "source": [
    "# Merging with the TB Data\n",
    "merged_df4 = pd.merge(merged_df3, tuberculosis2, how='inner', on='Entity')\n",
    "merged_df4"
   ]
  },
  {
   "cell_type": "code",
   "execution_count": 33,
   "metadata": {},
   "outputs": [
    {
     "output_type": "execute_result",
     "data": {
      "text/plain": [
       "          Entity Code  Year  Child mortality rates (%)    HIV Deaths  \\\n",
       "0    Afghanistan  AFG  2016                       7.04    302.166880   \n",
       "1        Albania  ALB  2016                       1.35      1.285800   \n",
       "2        Algeria  DZA  2016                       2.52    326.660742   \n",
       "3        Andorra  AND  2016                       0.27      0.441990   \n",
       "4         Angola  AGO  2016                       8.25  14584.702430   \n",
       "..           ...  ...   ...                        ...           ...   \n",
       "185    Venezuela  VEN  2016                       1.63   2127.569960   \n",
       "186      Vietnam  VNM  2016                       2.16  11434.047180   \n",
       "187        Yemen  YEM  2016                       5.53    387.383175   \n",
       "188       Zambia  ZMB  2016                       6.34  21806.824350   \n",
       "189     Zimbabwe  ZWE  2016                       5.64  16065.329680   \n",
       "\n",
       "     HIV Incidences  Life expectancy  Population  Cardiovascular Deaths %  \\\n",
       "0        922.173458           64.833    38042000                24.780577   \n",
       "1          3.030192           78.573     2881000                55.822085   \n",
       "2        900.805751           76.880    43053000                47.284557   \n",
       "3          4.594938           83.732       77000                30.647196   \n",
       "4      19017.694410           61.147    31825000                11.828254   \n",
       "..              ...              ...         ...                      ...   \n",
       "185     8195.995527           72.064    28516000                30.540530   \n",
       "186    19075.495980           75.400    96462000                33.177107   \n",
       "187     1082.582833           66.125    29162000                32.373980   \n",
       "188    46838.910870           63.886    17861000                10.277008   \n",
       "189    56259.055940           61.490    14645000                14.430736   \n",
       "\n",
       "        TB Deaths  Child Mortality  \n",
       "0     3634.060664        2678156.8  \n",
       "1       11.986996          38893.5  \n",
       "2      417.069297        1084935.6  \n",
       "3        0.357184            207.9  \n",
       "4    11409.417530        2625562.5  \n",
       "..            ...              ...  \n",
       "185    786.710928         464810.8  \n",
       "186  17594.454380        2083579.2  \n",
       "187   1021.099125        1612658.6  \n",
       "188   8306.847486        1132387.4  \n",
       "189  11958.066530         825978.0  \n",
       "\n",
       "[190 rows x 11 columns]"
      ],
      "text/html": "<div>\n<style scoped>\n    .dataframe tbody tr th:only-of-type {\n        vertical-align: middle;\n    }\n\n    .dataframe tbody tr th {\n        vertical-align: top;\n    }\n\n    .dataframe thead th {\n        text-align: right;\n    }\n</style>\n<table border=\"1\" class=\"dataframe\">\n  <thead>\n    <tr style=\"text-align: right;\">\n      <th></th>\n      <th>Entity</th>\n      <th>Code</th>\n      <th>Year</th>\n      <th>Child mortality rates (%)</th>\n      <th>HIV Deaths</th>\n      <th>HIV Incidences</th>\n      <th>Life expectancy</th>\n      <th>Population</th>\n      <th>Cardiovascular Deaths %</th>\n      <th>TB Deaths</th>\n      <th>Child Mortality</th>\n    </tr>\n  </thead>\n  <tbody>\n    <tr>\n      <th>0</th>\n      <td>Afghanistan</td>\n      <td>AFG</td>\n      <td>2016</td>\n      <td>7.04</td>\n      <td>302.166880</td>\n      <td>922.173458</td>\n      <td>64.833</td>\n      <td>38042000</td>\n      <td>24.780577</td>\n      <td>3634.060664</td>\n      <td>2678156.8</td>\n    </tr>\n    <tr>\n      <th>1</th>\n      <td>Albania</td>\n      <td>ALB</td>\n      <td>2016</td>\n      <td>1.35</td>\n      <td>1.285800</td>\n      <td>3.030192</td>\n      <td>78.573</td>\n      <td>2881000</td>\n      <td>55.822085</td>\n      <td>11.986996</td>\n      <td>38893.5</td>\n    </tr>\n    <tr>\n      <th>2</th>\n      <td>Algeria</td>\n      <td>DZA</td>\n      <td>2016</td>\n      <td>2.52</td>\n      <td>326.660742</td>\n      <td>900.805751</td>\n      <td>76.880</td>\n      <td>43053000</td>\n      <td>47.284557</td>\n      <td>417.069297</td>\n      <td>1084935.6</td>\n    </tr>\n    <tr>\n      <th>3</th>\n      <td>Andorra</td>\n      <td>AND</td>\n      <td>2016</td>\n      <td>0.27</td>\n      <td>0.441990</td>\n      <td>4.594938</td>\n      <td>83.732</td>\n      <td>77000</td>\n      <td>30.647196</td>\n      <td>0.357184</td>\n      <td>207.9</td>\n    </tr>\n    <tr>\n      <th>4</th>\n      <td>Angola</td>\n      <td>AGO</td>\n      <td>2016</td>\n      <td>8.25</td>\n      <td>14584.702430</td>\n      <td>19017.694410</td>\n      <td>61.147</td>\n      <td>31825000</td>\n      <td>11.828254</td>\n      <td>11409.417530</td>\n      <td>2625562.5</td>\n    </tr>\n    <tr>\n      <th>...</th>\n      <td>...</td>\n      <td>...</td>\n      <td>...</td>\n      <td>...</td>\n      <td>...</td>\n      <td>...</td>\n      <td>...</td>\n      <td>...</td>\n      <td>...</td>\n      <td>...</td>\n      <td>...</td>\n    </tr>\n    <tr>\n      <th>185</th>\n      <td>Venezuela</td>\n      <td>VEN</td>\n      <td>2016</td>\n      <td>1.63</td>\n      <td>2127.569960</td>\n      <td>8195.995527</td>\n      <td>72.064</td>\n      <td>28516000</td>\n      <td>30.540530</td>\n      <td>786.710928</td>\n      <td>464810.8</td>\n    </tr>\n    <tr>\n      <th>186</th>\n      <td>Vietnam</td>\n      <td>VNM</td>\n      <td>2016</td>\n      <td>2.16</td>\n      <td>11434.047180</td>\n      <td>19075.495980</td>\n      <td>75.400</td>\n      <td>96462000</td>\n      <td>33.177107</td>\n      <td>17594.454380</td>\n      <td>2083579.2</td>\n    </tr>\n    <tr>\n      <th>187</th>\n      <td>Yemen</td>\n      <td>YEM</td>\n      <td>2016</td>\n      <td>5.53</td>\n      <td>387.383175</td>\n      <td>1082.582833</td>\n      <td>66.125</td>\n      <td>29162000</td>\n      <td>32.373980</td>\n      <td>1021.099125</td>\n      <td>1612658.6</td>\n    </tr>\n    <tr>\n      <th>188</th>\n      <td>Zambia</td>\n      <td>ZMB</td>\n      <td>2016</td>\n      <td>6.34</td>\n      <td>21806.824350</td>\n      <td>46838.910870</td>\n      <td>63.886</td>\n      <td>17861000</td>\n      <td>10.277008</td>\n      <td>8306.847486</td>\n      <td>1132387.4</td>\n    </tr>\n    <tr>\n      <th>189</th>\n      <td>Zimbabwe</td>\n      <td>ZWE</td>\n      <td>2016</td>\n      <td>5.64</td>\n      <td>16065.329680</td>\n      <td>56259.055940</td>\n      <td>61.490</td>\n      <td>14645000</td>\n      <td>14.430736</td>\n      <td>11958.066530</td>\n      <td>825978.0</td>\n    </tr>\n  </tbody>\n</table>\n<p>190 rows × 11 columns</p>\n</div>"
     },
     "metadata": {},
     "execution_count": 33
    }
   ],
   "source": [
    "# Converting percentages to absolute numbers\n",
    "merged_df4['Child Mortality'] = (merged_df4['Child mortality rates (%)']/100)*merged_df4['Population']\n",
    "merged_df4\n",
    "\n"
   ]
  },
  {
   "cell_type": "code",
   "execution_count": 34,
   "metadata": {},
   "outputs": [
    {
     "output_type": "execute_result",
     "data": {
      "text/plain": [
       "          Entity Code  Year  Child mortality rates (%)    HIV Deaths  \\\n",
       "0    Afghanistan  AFG  2016                       7.04    302.166880   \n",
       "1        Albania  ALB  2016                       1.35      1.285800   \n",
       "2        Algeria  DZA  2016                       2.52    326.660742   \n",
       "3        Andorra  AND  2016                       0.27      0.441990   \n",
       "4         Angola  AGO  2016                       8.25  14584.702430   \n",
       "..           ...  ...   ...                        ...           ...   \n",
       "185    Venezuela  VEN  2016                       1.63   2127.569960   \n",
       "186      Vietnam  VNM  2016                       2.16  11434.047180   \n",
       "187        Yemen  YEM  2016                       5.53    387.383175   \n",
       "188       Zambia  ZMB  2016                       6.34  21806.824350   \n",
       "189     Zimbabwe  ZWE  2016                       5.64  16065.329680   \n",
       "\n",
       "     HIV Incidences  Life expectancy  Population  Cardiovascular Deaths %  \\\n",
       "0        922.173458           64.833    38042000                24.780577   \n",
       "1          3.030192           78.573     2881000                55.822085   \n",
       "2        900.805751           76.880    43053000                47.284557   \n",
       "3          4.594938           83.732       77000                30.647196   \n",
       "4      19017.694410           61.147    31825000                11.828254   \n",
       "..              ...              ...         ...                      ...   \n",
       "185     8195.995527           72.064    28516000                30.540530   \n",
       "186    19075.495980           75.400    96462000                33.177107   \n",
       "187     1082.582833           66.125    29162000                32.373980   \n",
       "188    46838.910870           63.886    17861000                10.277008   \n",
       "189    56259.055940           61.490    14645000                14.430736   \n",
       "\n",
       "        TB Deaths  Child Mortality  Cardiovascular Deaths  \n",
       "0     3634.060664        2678156.8           9.427027e+06  \n",
       "1       11.986996          38893.5           1.608234e+06  \n",
       "2      417.069297        1084935.6           2.035742e+07  \n",
       "3        0.357184            207.9           2.359834e+04  \n",
       "4    11409.417530        2625562.5           3.764342e+06  \n",
       "..            ...              ...                    ...  \n",
       "185    786.710928         464810.8           8.708938e+06  \n",
       "186  17594.454380        2083579.2           3.200330e+07  \n",
       "187   1021.099125        1612658.6           9.440900e+06  \n",
       "188   8306.847486        1132387.4           1.835576e+06  \n",
       "189  11958.066530         825978.0           2.113381e+06  \n",
       "\n",
       "[190 rows x 12 columns]"
      ],
      "text/html": "<div>\n<style scoped>\n    .dataframe tbody tr th:only-of-type {\n        vertical-align: middle;\n    }\n\n    .dataframe tbody tr th {\n        vertical-align: top;\n    }\n\n    .dataframe thead th {\n        text-align: right;\n    }\n</style>\n<table border=\"1\" class=\"dataframe\">\n  <thead>\n    <tr style=\"text-align: right;\">\n      <th></th>\n      <th>Entity</th>\n      <th>Code</th>\n      <th>Year</th>\n      <th>Child mortality rates (%)</th>\n      <th>HIV Deaths</th>\n      <th>HIV Incidences</th>\n      <th>Life expectancy</th>\n      <th>Population</th>\n      <th>Cardiovascular Deaths %</th>\n      <th>TB Deaths</th>\n      <th>Child Mortality</th>\n      <th>Cardiovascular Deaths</th>\n    </tr>\n  </thead>\n  <tbody>\n    <tr>\n      <th>0</th>\n      <td>Afghanistan</td>\n      <td>AFG</td>\n      <td>2016</td>\n      <td>7.04</td>\n      <td>302.166880</td>\n      <td>922.173458</td>\n      <td>64.833</td>\n      <td>38042000</td>\n      <td>24.780577</td>\n      <td>3634.060664</td>\n      <td>2678156.8</td>\n      <td>9.427027e+06</td>\n    </tr>\n    <tr>\n      <th>1</th>\n      <td>Albania</td>\n      <td>ALB</td>\n      <td>2016</td>\n      <td>1.35</td>\n      <td>1.285800</td>\n      <td>3.030192</td>\n      <td>78.573</td>\n      <td>2881000</td>\n      <td>55.822085</td>\n      <td>11.986996</td>\n      <td>38893.5</td>\n      <td>1.608234e+06</td>\n    </tr>\n    <tr>\n      <th>2</th>\n      <td>Algeria</td>\n      <td>DZA</td>\n      <td>2016</td>\n      <td>2.52</td>\n      <td>326.660742</td>\n      <td>900.805751</td>\n      <td>76.880</td>\n      <td>43053000</td>\n      <td>47.284557</td>\n      <td>417.069297</td>\n      <td>1084935.6</td>\n      <td>2.035742e+07</td>\n    </tr>\n    <tr>\n      <th>3</th>\n      <td>Andorra</td>\n      <td>AND</td>\n      <td>2016</td>\n      <td>0.27</td>\n      <td>0.441990</td>\n      <td>4.594938</td>\n      <td>83.732</td>\n      <td>77000</td>\n      <td>30.647196</td>\n      <td>0.357184</td>\n      <td>207.9</td>\n      <td>2.359834e+04</td>\n    </tr>\n    <tr>\n      <th>4</th>\n      <td>Angola</td>\n      <td>AGO</td>\n      <td>2016</td>\n      <td>8.25</td>\n      <td>14584.702430</td>\n      <td>19017.694410</td>\n      <td>61.147</td>\n      <td>31825000</td>\n      <td>11.828254</td>\n      <td>11409.417530</td>\n      <td>2625562.5</td>\n      <td>3.764342e+06</td>\n    </tr>\n    <tr>\n      <th>...</th>\n      <td>...</td>\n      <td>...</td>\n      <td>...</td>\n      <td>...</td>\n      <td>...</td>\n      <td>...</td>\n      <td>...</td>\n      <td>...</td>\n      <td>...</td>\n      <td>...</td>\n      <td>...</td>\n      <td>...</td>\n    </tr>\n    <tr>\n      <th>185</th>\n      <td>Venezuela</td>\n      <td>VEN</td>\n      <td>2016</td>\n      <td>1.63</td>\n      <td>2127.569960</td>\n      <td>8195.995527</td>\n      <td>72.064</td>\n      <td>28516000</td>\n      <td>30.540530</td>\n      <td>786.710928</td>\n      <td>464810.8</td>\n      <td>8.708938e+06</td>\n    </tr>\n    <tr>\n      <th>186</th>\n      <td>Vietnam</td>\n      <td>VNM</td>\n      <td>2016</td>\n      <td>2.16</td>\n      <td>11434.047180</td>\n      <td>19075.495980</td>\n      <td>75.400</td>\n      <td>96462000</td>\n      <td>33.177107</td>\n      <td>17594.454380</td>\n      <td>2083579.2</td>\n      <td>3.200330e+07</td>\n    </tr>\n    <tr>\n      <th>187</th>\n      <td>Yemen</td>\n      <td>YEM</td>\n      <td>2016</td>\n      <td>5.53</td>\n      <td>387.383175</td>\n      <td>1082.582833</td>\n      <td>66.125</td>\n      <td>29162000</td>\n      <td>32.373980</td>\n      <td>1021.099125</td>\n      <td>1612658.6</td>\n      <td>9.440900e+06</td>\n    </tr>\n    <tr>\n      <th>188</th>\n      <td>Zambia</td>\n      <td>ZMB</td>\n      <td>2016</td>\n      <td>6.34</td>\n      <td>21806.824350</td>\n      <td>46838.910870</td>\n      <td>63.886</td>\n      <td>17861000</td>\n      <td>10.277008</td>\n      <td>8306.847486</td>\n      <td>1132387.4</td>\n      <td>1.835576e+06</td>\n    </tr>\n    <tr>\n      <th>189</th>\n      <td>Zimbabwe</td>\n      <td>ZWE</td>\n      <td>2016</td>\n      <td>5.64</td>\n      <td>16065.329680</td>\n      <td>56259.055940</td>\n      <td>61.490</td>\n      <td>14645000</td>\n      <td>14.430736</td>\n      <td>11958.066530</td>\n      <td>825978.0</td>\n      <td>2.113381e+06</td>\n    </tr>\n  </tbody>\n</table>\n<p>190 rows × 12 columns</p>\n</div>"
     },
     "metadata": {},
     "execution_count": 34
    }
   ],
   "source": [
    "# Converting cardiovascular rates to absolute numbers\n",
    "merged_df4['Cardiovascular Deaths'] = (merged_df4['Cardiovascular Deaths %']/100) * merged_df4['Population']\n",
    "merged_df4 "
   ]
  },
  {
   "cell_type": "code",
   "execution_count": 35,
   "metadata": {},
   "outputs": [
    {
     "output_type": "execute_result",
     "data": {
      "text/plain": [
       "         Country  Child mortality rates (%)    HIV Deaths  HIV Incidences  \\\n",
       "0    Afghanistan                       7.04    302.166880      922.173458   \n",
       "1        Albania                       1.35      1.285800        3.030192   \n",
       "2        Algeria                       2.52    326.660742      900.805751   \n",
       "3        Andorra                       0.27      0.441990        4.594938   \n",
       "4         Angola                       8.25  14584.702430    19017.694410   \n",
       "..           ...                        ...           ...             ...   \n",
       "185    Venezuela                       1.63   2127.569960     8195.995527   \n",
       "186      Vietnam                       2.16  11434.047180    19075.495980   \n",
       "187        Yemen                       5.53    387.383175     1082.582833   \n",
       "188       Zambia                       6.34  21806.824350    46838.910870   \n",
       "189     Zimbabwe                       5.64  16065.329680    56259.055940   \n",
       "\n",
       "     Life expectancy  Population  Cardiovascular Deaths %     TB Deaths  \\\n",
       "0             64.833    38042000                24.780577   3634.060664   \n",
       "1             78.573     2881000                55.822085     11.986996   \n",
       "2             76.880    43053000                47.284557    417.069297   \n",
       "3             83.732       77000                30.647196      0.357184   \n",
       "4             61.147    31825000                11.828254  11409.417530   \n",
       "..               ...         ...                      ...           ...   \n",
       "185           72.064    28516000                30.540530    786.710928   \n",
       "186           75.400    96462000                33.177107  17594.454380   \n",
       "187           66.125    29162000                32.373980   1021.099125   \n",
       "188           63.886    17861000                10.277008   8306.847486   \n",
       "189           61.490    14645000                14.430736  11958.066530   \n",
       "\n",
       "     Child Mortality  Cardiovascular Deaths  \n",
       "0          2678156.8           9.427027e+06  \n",
       "1            38893.5           1.608234e+06  \n",
       "2          1084935.6           2.035742e+07  \n",
       "3              207.9           2.359834e+04  \n",
       "4          2625562.5           3.764342e+06  \n",
       "..               ...                    ...  \n",
       "185         464810.8           8.708938e+06  \n",
       "186        2083579.2           3.200330e+07  \n",
       "187        1612658.6           9.440900e+06  \n",
       "188        1132387.4           1.835576e+06  \n",
       "189         825978.0           2.113381e+06  \n",
       "\n",
       "[190 rows x 10 columns]"
      ],
      "text/html": "<div>\n<style scoped>\n    .dataframe tbody tr th:only-of-type {\n        vertical-align: middle;\n    }\n\n    .dataframe tbody tr th {\n        vertical-align: top;\n    }\n\n    .dataframe thead th {\n        text-align: right;\n    }\n</style>\n<table border=\"1\" class=\"dataframe\">\n  <thead>\n    <tr style=\"text-align: right;\">\n      <th></th>\n      <th>Country</th>\n      <th>Child mortality rates (%)</th>\n      <th>HIV Deaths</th>\n      <th>HIV Incidences</th>\n      <th>Life expectancy</th>\n      <th>Population</th>\n      <th>Cardiovascular Deaths %</th>\n      <th>TB Deaths</th>\n      <th>Child Mortality</th>\n      <th>Cardiovascular Deaths</th>\n    </tr>\n  </thead>\n  <tbody>\n    <tr>\n      <th>0</th>\n      <td>Afghanistan</td>\n      <td>7.04</td>\n      <td>302.166880</td>\n      <td>922.173458</td>\n      <td>64.833</td>\n      <td>38042000</td>\n      <td>24.780577</td>\n      <td>3634.060664</td>\n      <td>2678156.8</td>\n      <td>9.427027e+06</td>\n    </tr>\n    <tr>\n      <th>1</th>\n      <td>Albania</td>\n      <td>1.35</td>\n      <td>1.285800</td>\n      <td>3.030192</td>\n      <td>78.573</td>\n      <td>2881000</td>\n      <td>55.822085</td>\n      <td>11.986996</td>\n      <td>38893.5</td>\n      <td>1.608234e+06</td>\n    </tr>\n    <tr>\n      <th>2</th>\n      <td>Algeria</td>\n      <td>2.52</td>\n      <td>326.660742</td>\n      <td>900.805751</td>\n      <td>76.880</td>\n      <td>43053000</td>\n      <td>47.284557</td>\n      <td>417.069297</td>\n      <td>1084935.6</td>\n      <td>2.035742e+07</td>\n    </tr>\n    <tr>\n      <th>3</th>\n      <td>Andorra</td>\n      <td>0.27</td>\n      <td>0.441990</td>\n      <td>4.594938</td>\n      <td>83.732</td>\n      <td>77000</td>\n      <td>30.647196</td>\n      <td>0.357184</td>\n      <td>207.9</td>\n      <td>2.359834e+04</td>\n    </tr>\n    <tr>\n      <th>4</th>\n      <td>Angola</td>\n      <td>8.25</td>\n      <td>14584.702430</td>\n      <td>19017.694410</td>\n      <td>61.147</td>\n      <td>31825000</td>\n      <td>11.828254</td>\n      <td>11409.417530</td>\n      <td>2625562.5</td>\n      <td>3.764342e+06</td>\n    </tr>\n    <tr>\n      <th>...</th>\n      <td>...</td>\n      <td>...</td>\n      <td>...</td>\n      <td>...</td>\n      <td>...</td>\n      <td>...</td>\n      <td>...</td>\n      <td>...</td>\n      <td>...</td>\n      <td>...</td>\n    </tr>\n    <tr>\n      <th>185</th>\n      <td>Venezuela</td>\n      <td>1.63</td>\n      <td>2127.569960</td>\n      <td>8195.995527</td>\n      <td>72.064</td>\n      <td>28516000</td>\n      <td>30.540530</td>\n      <td>786.710928</td>\n      <td>464810.8</td>\n      <td>8.708938e+06</td>\n    </tr>\n    <tr>\n      <th>186</th>\n      <td>Vietnam</td>\n      <td>2.16</td>\n      <td>11434.047180</td>\n      <td>19075.495980</td>\n      <td>75.400</td>\n      <td>96462000</td>\n      <td>33.177107</td>\n      <td>17594.454380</td>\n      <td>2083579.2</td>\n      <td>3.200330e+07</td>\n    </tr>\n    <tr>\n      <th>187</th>\n      <td>Yemen</td>\n      <td>5.53</td>\n      <td>387.383175</td>\n      <td>1082.582833</td>\n      <td>66.125</td>\n      <td>29162000</td>\n      <td>32.373980</td>\n      <td>1021.099125</td>\n      <td>1612658.6</td>\n      <td>9.440900e+06</td>\n    </tr>\n    <tr>\n      <th>188</th>\n      <td>Zambia</td>\n      <td>6.34</td>\n      <td>21806.824350</td>\n      <td>46838.910870</td>\n      <td>63.886</td>\n      <td>17861000</td>\n      <td>10.277008</td>\n      <td>8306.847486</td>\n      <td>1132387.4</td>\n      <td>1.835576e+06</td>\n    </tr>\n    <tr>\n      <th>189</th>\n      <td>Zimbabwe</td>\n      <td>5.64</td>\n      <td>16065.329680</td>\n      <td>56259.055940</td>\n      <td>61.490</td>\n      <td>14645000</td>\n      <td>14.430736</td>\n      <td>11958.066530</td>\n      <td>825978.0</td>\n      <td>2.113381e+06</td>\n    </tr>\n  </tbody>\n</table>\n<p>190 rows × 10 columns</p>\n</div>"
     },
     "metadata": {},
     "execution_count": 35
    }
   ],
   "source": [
    "# Renaming Entity to Country and dropping Year and Code\n",
    "merged_df6 = merged_df4.drop(columns=['Code', 'Year']).rename(columns={'Entity':'Country'})\n",
    "merged_df6"
   ]
  },
  {
   "cell_type": "code",
   "execution_count": 36,
   "metadata": {},
   "outputs": [
    {
     "output_type": "execute_result",
     "data": {
      "text/plain": [
       "          Entity      Code  \\\n",
       "0    Afghanistan       AFG   \n",
       "1        Albania       ALB   \n",
       "2        Algeria       DZA   \n",
       "3        Andorra       AND   \n",
       "4         Angola       AGO   \n",
       "..           ...       ...   \n",
       "248      Vietnam       VNM   \n",
       "249        World  OWID_WRL   \n",
       "250        Yemen       YEM   \n",
       "251       Zambia       ZMB   \n",
       "252     Zimbabwe       ZWE   \n",
       "\n",
       "     Diabetes prevalence (% of population ages 20 to 79)  \n",
       "0                                              9.59000    \n",
       "1                                             10.08000    \n",
       "2                                              6.73000    \n",
       "3                                              7.97000    \n",
       "4                                              3.94000    \n",
       "..                                                 ...    \n",
       "248                                            6.00000    \n",
       "249                                            8.50963    \n",
       "250                                            5.35000    \n",
       "251                                            3.94000    \n",
       "252                                            1.82000    \n",
       "\n",
       "[253 rows x 3 columns]"
      ],
      "text/html": "<div>\n<style scoped>\n    .dataframe tbody tr th:only-of-type {\n        vertical-align: middle;\n    }\n\n    .dataframe tbody tr th {\n        vertical-align: top;\n    }\n\n    .dataframe thead th {\n        text-align: right;\n    }\n</style>\n<table border=\"1\" class=\"dataframe\">\n  <thead>\n    <tr style=\"text-align: right;\">\n      <th></th>\n      <th>Entity</th>\n      <th>Code</th>\n      <th>Diabetes prevalence (% of population ages 20 to 79)</th>\n    </tr>\n  </thead>\n  <tbody>\n    <tr>\n      <th>0</th>\n      <td>Afghanistan</td>\n      <td>AFG</td>\n      <td>9.59000</td>\n    </tr>\n    <tr>\n      <th>1</th>\n      <td>Albania</td>\n      <td>ALB</td>\n      <td>10.08000</td>\n    </tr>\n    <tr>\n      <th>2</th>\n      <td>Algeria</td>\n      <td>DZA</td>\n      <td>6.73000</td>\n    </tr>\n    <tr>\n      <th>3</th>\n      <td>Andorra</td>\n      <td>AND</td>\n      <td>7.97000</td>\n    </tr>\n    <tr>\n      <th>4</th>\n      <td>Angola</td>\n      <td>AGO</td>\n      <td>3.94000</td>\n    </tr>\n    <tr>\n      <th>...</th>\n      <td>...</td>\n      <td>...</td>\n      <td>...</td>\n    </tr>\n    <tr>\n      <th>248</th>\n      <td>Vietnam</td>\n      <td>VNM</td>\n      <td>6.00000</td>\n    </tr>\n    <tr>\n      <th>249</th>\n      <td>World</td>\n      <td>OWID_WRL</td>\n      <td>8.50963</td>\n    </tr>\n    <tr>\n      <th>250</th>\n      <td>Yemen</td>\n      <td>YEM</td>\n      <td>5.35000</td>\n    </tr>\n    <tr>\n      <th>251</th>\n      <td>Zambia</td>\n      <td>ZMB</td>\n      <td>3.94000</td>\n    </tr>\n    <tr>\n      <th>252</th>\n      <td>Zimbabwe</td>\n      <td>ZWE</td>\n      <td>1.82000</td>\n    </tr>\n  </tbody>\n</table>\n<p>253 rows × 3 columns</p>\n</div>"
     },
     "metadata": {},
     "execution_count": 36
    }
   ],
   "source": [
    "# Diabetes dataframe\n",
    "diabetes = pd.read_csv('Dataset/healthdata/diabetes-prevalence.csv')\n",
    "diabetes"
   ]
  },
  {
   "cell_type": "code",
   "execution_count": 37,
   "metadata": {},
   "outputs": [
    {
     "output_type": "execute_result",
     "data": {
      "text/plain": [
       "         Country      Code  \\\n",
       "0    Afghanistan       AFG   \n",
       "1        Albania       ALB   \n",
       "2        Algeria       DZA   \n",
       "3        Andorra       AND   \n",
       "4         Angola       AGO   \n",
       "..           ...       ...   \n",
       "248      Vietnam       VNM   \n",
       "249        World  OWID_WRL   \n",
       "250        Yemen       YEM   \n",
       "251       Zambia       ZMB   \n",
       "252     Zimbabwe       ZWE   \n",
       "\n",
       "     Diabetes prevalence (% of population ages 20 to 79)  \n",
       "0                                              9.59000    \n",
       "1                                             10.08000    \n",
       "2                                              6.73000    \n",
       "3                                              7.97000    \n",
       "4                                              3.94000    \n",
       "..                                                 ...    \n",
       "248                                            6.00000    \n",
       "249                                            8.50963    \n",
       "250                                            5.35000    \n",
       "251                                            3.94000    \n",
       "252                                            1.82000    \n",
       "\n",
       "[253 rows x 3 columns]"
      ],
      "text/html": "<div>\n<style scoped>\n    .dataframe tbody tr th:only-of-type {\n        vertical-align: middle;\n    }\n\n    .dataframe tbody tr th {\n        vertical-align: top;\n    }\n\n    .dataframe thead th {\n        text-align: right;\n    }\n</style>\n<table border=\"1\" class=\"dataframe\">\n  <thead>\n    <tr style=\"text-align: right;\">\n      <th></th>\n      <th>Country</th>\n      <th>Code</th>\n      <th>Diabetes prevalence (% of population ages 20 to 79)</th>\n    </tr>\n  </thead>\n  <tbody>\n    <tr>\n      <th>0</th>\n      <td>Afghanistan</td>\n      <td>AFG</td>\n      <td>9.59000</td>\n    </tr>\n    <tr>\n      <th>1</th>\n      <td>Albania</td>\n      <td>ALB</td>\n      <td>10.08000</td>\n    </tr>\n    <tr>\n      <th>2</th>\n      <td>Algeria</td>\n      <td>DZA</td>\n      <td>6.73000</td>\n    </tr>\n    <tr>\n      <th>3</th>\n      <td>Andorra</td>\n      <td>AND</td>\n      <td>7.97000</td>\n    </tr>\n    <tr>\n      <th>4</th>\n      <td>Angola</td>\n      <td>AGO</td>\n      <td>3.94000</td>\n    </tr>\n    <tr>\n      <th>...</th>\n      <td>...</td>\n      <td>...</td>\n      <td>...</td>\n    </tr>\n    <tr>\n      <th>248</th>\n      <td>Vietnam</td>\n      <td>VNM</td>\n      <td>6.00000</td>\n    </tr>\n    <tr>\n      <th>249</th>\n      <td>World</td>\n      <td>OWID_WRL</td>\n      <td>8.50963</td>\n    </tr>\n    <tr>\n      <th>250</th>\n      <td>Yemen</td>\n      <td>YEM</td>\n      <td>5.35000</td>\n    </tr>\n    <tr>\n      <th>251</th>\n      <td>Zambia</td>\n      <td>ZMB</td>\n      <td>3.94000</td>\n    </tr>\n    <tr>\n      <th>252</th>\n      <td>Zimbabwe</td>\n      <td>ZWE</td>\n      <td>1.82000</td>\n    </tr>\n  </tbody>\n</table>\n<p>253 rows × 3 columns</p>\n</div>"
     },
     "metadata": {},
     "execution_count": 37
    }
   ],
   "source": [
    "diabetes1 = diabetes.rename(columns={'Entity':'Country'})\n",
    "diabetes1"
   ]
  },
  {
   "cell_type": "code",
   "execution_count": 38,
   "metadata": {},
   "outputs": [
    {
     "output_type": "execute_result",
     "data": {
      "text/plain": [
       "         Country  Child mortality rates (%)    HIV Deaths  HIV Incidences  \\\n",
       "0    Afghanistan                       7.04    302.166880      922.173458   \n",
       "1        Albania                       1.35      1.285800        3.030192   \n",
       "2        Algeria                       2.52    326.660742      900.805751   \n",
       "3        Andorra                       0.27      0.441990        4.594938   \n",
       "4         Angola                       8.25  14584.702430    19017.694410   \n",
       "..           ...                        ...           ...             ...   \n",
       "184    Venezuela                       1.63   2127.569960     8195.995527   \n",
       "185      Vietnam                       2.16  11434.047180    19075.495980   \n",
       "186        Yemen                       5.53    387.383175     1082.582833   \n",
       "187       Zambia                       6.34  21806.824350    46838.910870   \n",
       "188     Zimbabwe                       5.64  16065.329680    56259.055940   \n",
       "\n",
       "     Life expectancy  Population  Cardiovascular Deaths %     TB Deaths  \\\n",
       "0             64.833    38042000                24.780577   3634.060664   \n",
       "1             78.573     2881000                55.822085     11.986996   \n",
       "2             76.880    43053000                47.284557    417.069297   \n",
       "3             83.732       77000                30.647196      0.357184   \n",
       "4             61.147    31825000                11.828254  11409.417530   \n",
       "..               ...         ...                      ...           ...   \n",
       "184           72.064    28516000                30.540530    786.710928   \n",
       "185           75.400    96462000                33.177107  17594.454380   \n",
       "186           66.125    29162000                32.373980   1021.099125   \n",
       "187           63.886    17861000                10.277008   8306.847486   \n",
       "188           61.490    14645000                14.430736  11958.066530   \n",
       "\n",
       "     Child Mortality  Cardiovascular Deaths Code  \\\n",
       "0          2678156.8           9.427027e+06  AFG   \n",
       "1            38893.5           1.608234e+06  ALB   \n",
       "2          1084935.6           2.035742e+07  DZA   \n",
       "3              207.9           2.359834e+04  AND   \n",
       "4          2625562.5           3.764342e+06  AGO   \n",
       "..               ...                    ...  ...   \n",
       "184         464810.8           8.708938e+06  VEN   \n",
       "185        2083579.2           3.200330e+07  VNM   \n",
       "186        1612658.6           9.440900e+06  YEM   \n",
       "187        1132387.4           1.835576e+06  ZMB   \n",
       "188         825978.0           2.113381e+06  ZWE   \n",
       "\n",
       "     Diabetes prevalence (% of population ages 20 to 79)  \n",
       "0                                                 9.59    \n",
       "1                                                10.08    \n",
       "2                                                 6.73    \n",
       "3                                                 7.97    \n",
       "4                                                 3.94    \n",
       "..                                                 ...    \n",
       "184                                               6.47    \n",
       "185                                               6.00    \n",
       "186                                               5.35    \n",
       "187                                               3.94    \n",
       "188                                               1.82    \n",
       "\n",
       "[189 rows x 12 columns]"
      ],
      "text/html": "<div>\n<style scoped>\n    .dataframe tbody tr th:only-of-type {\n        vertical-align: middle;\n    }\n\n    .dataframe tbody tr th {\n        vertical-align: top;\n    }\n\n    .dataframe thead th {\n        text-align: right;\n    }\n</style>\n<table border=\"1\" class=\"dataframe\">\n  <thead>\n    <tr style=\"text-align: right;\">\n      <th></th>\n      <th>Country</th>\n      <th>Child mortality rates (%)</th>\n      <th>HIV Deaths</th>\n      <th>HIV Incidences</th>\n      <th>Life expectancy</th>\n      <th>Population</th>\n      <th>Cardiovascular Deaths %</th>\n      <th>TB Deaths</th>\n      <th>Child Mortality</th>\n      <th>Cardiovascular Deaths</th>\n      <th>Code</th>\n      <th>Diabetes prevalence (% of population ages 20 to 79)</th>\n    </tr>\n  </thead>\n  <tbody>\n    <tr>\n      <th>0</th>\n      <td>Afghanistan</td>\n      <td>7.04</td>\n      <td>302.166880</td>\n      <td>922.173458</td>\n      <td>64.833</td>\n      <td>38042000</td>\n      <td>24.780577</td>\n      <td>3634.060664</td>\n      <td>2678156.8</td>\n      <td>9.427027e+06</td>\n      <td>AFG</td>\n      <td>9.59</td>\n    </tr>\n    <tr>\n      <th>1</th>\n      <td>Albania</td>\n      <td>1.35</td>\n      <td>1.285800</td>\n      <td>3.030192</td>\n      <td>78.573</td>\n      <td>2881000</td>\n      <td>55.822085</td>\n      <td>11.986996</td>\n      <td>38893.5</td>\n      <td>1.608234e+06</td>\n      <td>ALB</td>\n      <td>10.08</td>\n    </tr>\n    <tr>\n      <th>2</th>\n      <td>Algeria</td>\n      <td>2.52</td>\n      <td>326.660742</td>\n      <td>900.805751</td>\n      <td>76.880</td>\n      <td>43053000</td>\n      <td>47.284557</td>\n      <td>417.069297</td>\n      <td>1084935.6</td>\n      <td>2.035742e+07</td>\n      <td>DZA</td>\n      <td>6.73</td>\n    </tr>\n    <tr>\n      <th>3</th>\n      <td>Andorra</td>\n      <td>0.27</td>\n      <td>0.441990</td>\n      <td>4.594938</td>\n      <td>83.732</td>\n      <td>77000</td>\n      <td>30.647196</td>\n      <td>0.357184</td>\n      <td>207.9</td>\n      <td>2.359834e+04</td>\n      <td>AND</td>\n      <td>7.97</td>\n    </tr>\n    <tr>\n      <th>4</th>\n      <td>Angola</td>\n      <td>8.25</td>\n      <td>14584.702430</td>\n      <td>19017.694410</td>\n      <td>61.147</td>\n      <td>31825000</td>\n      <td>11.828254</td>\n      <td>11409.417530</td>\n      <td>2625562.5</td>\n      <td>3.764342e+06</td>\n      <td>AGO</td>\n      <td>3.94</td>\n    </tr>\n    <tr>\n      <th>...</th>\n      <td>...</td>\n      <td>...</td>\n      <td>...</td>\n      <td>...</td>\n      <td>...</td>\n      <td>...</td>\n      <td>...</td>\n      <td>...</td>\n      <td>...</td>\n      <td>...</td>\n      <td>...</td>\n      <td>...</td>\n    </tr>\n    <tr>\n      <th>184</th>\n      <td>Venezuela</td>\n      <td>1.63</td>\n      <td>2127.569960</td>\n      <td>8195.995527</td>\n      <td>72.064</td>\n      <td>28516000</td>\n      <td>30.540530</td>\n      <td>786.710928</td>\n      <td>464810.8</td>\n      <td>8.708938e+06</td>\n      <td>VEN</td>\n      <td>6.47</td>\n    </tr>\n    <tr>\n      <th>185</th>\n      <td>Vietnam</td>\n      <td>2.16</td>\n      <td>11434.047180</td>\n      <td>19075.495980</td>\n      <td>75.400</td>\n      <td>96462000</td>\n      <td>33.177107</td>\n      <td>17594.454380</td>\n      <td>2083579.2</td>\n      <td>3.200330e+07</td>\n      <td>VNM</td>\n      <td>6.00</td>\n    </tr>\n    <tr>\n      <th>186</th>\n      <td>Yemen</td>\n      <td>5.53</td>\n      <td>387.383175</td>\n      <td>1082.582833</td>\n      <td>66.125</td>\n      <td>29162000</td>\n      <td>32.373980</td>\n      <td>1021.099125</td>\n      <td>1612658.6</td>\n      <td>9.440900e+06</td>\n      <td>YEM</td>\n      <td>5.35</td>\n    </tr>\n    <tr>\n      <th>187</th>\n      <td>Zambia</td>\n      <td>6.34</td>\n      <td>21806.824350</td>\n      <td>46838.910870</td>\n      <td>63.886</td>\n      <td>17861000</td>\n      <td>10.277008</td>\n      <td>8306.847486</td>\n      <td>1132387.4</td>\n      <td>1.835576e+06</td>\n      <td>ZMB</td>\n      <td>3.94</td>\n    </tr>\n    <tr>\n      <th>188</th>\n      <td>Zimbabwe</td>\n      <td>5.64</td>\n      <td>16065.329680</td>\n      <td>56259.055940</td>\n      <td>61.490</td>\n      <td>14645000</td>\n      <td>14.430736</td>\n      <td>11958.066530</td>\n      <td>825978.0</td>\n      <td>2.113381e+06</td>\n      <td>ZWE</td>\n      <td>1.82</td>\n    </tr>\n  </tbody>\n</table>\n<p>189 rows × 12 columns</p>\n</div>"
     },
     "metadata": {},
     "execution_count": 38
    }
   ],
   "source": [
    "# Merging the dataframe\n",
    "merged_df7 = pd.merge(merged_df6, diabetes1, how='inner', on='Country')\n",
    "merged_df7"
   ]
  },
  {
   "cell_type": "code",
   "execution_count": 39,
   "metadata": {},
   "outputs": [
    {
     "output_type": "execute_result",
     "data": {
      "text/plain": [
       "         Country  Child mortality rates (%)    HIV Deaths  HIV Incidences  \\\n",
       "0    Afghanistan                       7.04    302.166880      922.173458   \n",
       "1        Albania                       1.35      1.285800        3.030192   \n",
       "2        Algeria                       2.52    326.660742      900.805751   \n",
       "3        Andorra                       0.27      0.441990        4.594938   \n",
       "4         Angola                       8.25  14584.702430    19017.694410   \n",
       "..           ...                        ...           ...             ...   \n",
       "184    Venezuela                       1.63   2127.569960     8195.995527   \n",
       "185      Vietnam                       2.16  11434.047180    19075.495980   \n",
       "186        Yemen                       5.53    387.383175     1082.582833   \n",
       "187       Zambia                       6.34  21806.824350    46838.910870   \n",
       "188     Zimbabwe                       5.64  16065.329680    56259.055940   \n",
       "\n",
       "     Life expectancy  Population  Cardiovascular Deaths %     TB Deaths  \\\n",
       "0             64.833    38042000                24.780577   3634.060664   \n",
       "1             78.573     2881000                55.822085     11.986996   \n",
       "2             76.880    43053000                47.284557    417.069297   \n",
       "3             83.732       77000                30.647196      0.357184   \n",
       "4             61.147    31825000                11.828254  11409.417530   \n",
       "..               ...         ...                      ...           ...   \n",
       "184           72.064    28516000                30.540530    786.710928   \n",
       "185           75.400    96462000                33.177107  17594.454380   \n",
       "186           66.125    29162000                32.373980   1021.099125   \n",
       "187           63.886    17861000                10.277008   8306.847486   \n",
       "188           61.490    14645000                14.430736  11958.066530   \n",
       "\n",
       "     Child Mortality  Cardiovascular Deaths  Diabetes Incidence  \n",
       "0          2678156.8           9.427027e+06                9.59  \n",
       "1            38893.5           1.608234e+06               10.08  \n",
       "2          1084935.6           2.035742e+07                6.73  \n",
       "3              207.9           2.359834e+04                7.97  \n",
       "4          2625562.5           3.764342e+06                3.94  \n",
       "..               ...                    ...                 ...  \n",
       "184         464810.8           8.708938e+06                6.47  \n",
       "185        2083579.2           3.200330e+07                6.00  \n",
       "186        1612658.6           9.440900e+06                5.35  \n",
       "187        1132387.4           1.835576e+06                3.94  \n",
       "188         825978.0           2.113381e+06                1.82  \n",
       "\n",
       "[189 rows x 11 columns]"
      ],
      "text/html": "<div>\n<style scoped>\n    .dataframe tbody tr th:only-of-type {\n        vertical-align: middle;\n    }\n\n    .dataframe tbody tr th {\n        vertical-align: top;\n    }\n\n    .dataframe thead th {\n        text-align: right;\n    }\n</style>\n<table border=\"1\" class=\"dataframe\">\n  <thead>\n    <tr style=\"text-align: right;\">\n      <th></th>\n      <th>Country</th>\n      <th>Child mortality rates (%)</th>\n      <th>HIV Deaths</th>\n      <th>HIV Incidences</th>\n      <th>Life expectancy</th>\n      <th>Population</th>\n      <th>Cardiovascular Deaths %</th>\n      <th>TB Deaths</th>\n      <th>Child Mortality</th>\n      <th>Cardiovascular Deaths</th>\n      <th>Diabetes Incidence</th>\n    </tr>\n  </thead>\n  <tbody>\n    <tr>\n      <th>0</th>\n      <td>Afghanistan</td>\n      <td>7.04</td>\n      <td>302.166880</td>\n      <td>922.173458</td>\n      <td>64.833</td>\n      <td>38042000</td>\n      <td>24.780577</td>\n      <td>3634.060664</td>\n      <td>2678156.8</td>\n      <td>9.427027e+06</td>\n      <td>9.59</td>\n    </tr>\n    <tr>\n      <th>1</th>\n      <td>Albania</td>\n      <td>1.35</td>\n      <td>1.285800</td>\n      <td>3.030192</td>\n      <td>78.573</td>\n      <td>2881000</td>\n      <td>55.822085</td>\n      <td>11.986996</td>\n      <td>38893.5</td>\n      <td>1.608234e+06</td>\n      <td>10.08</td>\n    </tr>\n    <tr>\n      <th>2</th>\n      <td>Algeria</td>\n      <td>2.52</td>\n      <td>326.660742</td>\n      <td>900.805751</td>\n      <td>76.880</td>\n      <td>43053000</td>\n      <td>47.284557</td>\n      <td>417.069297</td>\n      <td>1084935.6</td>\n      <td>2.035742e+07</td>\n      <td>6.73</td>\n    </tr>\n    <tr>\n      <th>3</th>\n      <td>Andorra</td>\n      <td>0.27</td>\n      <td>0.441990</td>\n      <td>4.594938</td>\n      <td>83.732</td>\n      <td>77000</td>\n      <td>30.647196</td>\n      <td>0.357184</td>\n      <td>207.9</td>\n      <td>2.359834e+04</td>\n      <td>7.97</td>\n    </tr>\n    <tr>\n      <th>4</th>\n      <td>Angola</td>\n      <td>8.25</td>\n      <td>14584.702430</td>\n      <td>19017.694410</td>\n      <td>61.147</td>\n      <td>31825000</td>\n      <td>11.828254</td>\n      <td>11409.417530</td>\n      <td>2625562.5</td>\n      <td>3.764342e+06</td>\n      <td>3.94</td>\n    </tr>\n    <tr>\n      <th>...</th>\n      <td>...</td>\n      <td>...</td>\n      <td>...</td>\n      <td>...</td>\n      <td>...</td>\n      <td>...</td>\n      <td>...</td>\n      <td>...</td>\n      <td>...</td>\n      <td>...</td>\n      <td>...</td>\n    </tr>\n    <tr>\n      <th>184</th>\n      <td>Venezuela</td>\n      <td>1.63</td>\n      <td>2127.569960</td>\n      <td>8195.995527</td>\n      <td>72.064</td>\n      <td>28516000</td>\n      <td>30.540530</td>\n      <td>786.710928</td>\n      <td>464810.8</td>\n      <td>8.708938e+06</td>\n      <td>6.47</td>\n    </tr>\n    <tr>\n      <th>185</th>\n      <td>Vietnam</td>\n      <td>2.16</td>\n      <td>11434.047180</td>\n      <td>19075.495980</td>\n      <td>75.400</td>\n      <td>96462000</td>\n      <td>33.177107</td>\n      <td>17594.454380</td>\n      <td>2083579.2</td>\n      <td>3.200330e+07</td>\n      <td>6.00</td>\n    </tr>\n    <tr>\n      <th>186</th>\n      <td>Yemen</td>\n      <td>5.53</td>\n      <td>387.383175</td>\n      <td>1082.582833</td>\n      <td>66.125</td>\n      <td>29162000</td>\n      <td>32.373980</td>\n      <td>1021.099125</td>\n      <td>1612658.6</td>\n      <td>9.440900e+06</td>\n      <td>5.35</td>\n    </tr>\n    <tr>\n      <th>187</th>\n      <td>Zambia</td>\n      <td>6.34</td>\n      <td>21806.824350</td>\n      <td>46838.910870</td>\n      <td>63.886</td>\n      <td>17861000</td>\n      <td>10.277008</td>\n      <td>8306.847486</td>\n      <td>1132387.4</td>\n      <td>1.835576e+06</td>\n      <td>3.94</td>\n    </tr>\n    <tr>\n      <th>188</th>\n      <td>Zimbabwe</td>\n      <td>5.64</td>\n      <td>16065.329680</td>\n      <td>56259.055940</td>\n      <td>61.490</td>\n      <td>14645000</td>\n      <td>14.430736</td>\n      <td>11958.066530</td>\n      <td>825978.0</td>\n      <td>2.113381e+06</td>\n      <td>1.82</td>\n    </tr>\n  </tbody>\n</table>\n<p>189 rows × 11 columns</p>\n</div>"
     },
     "metadata": {},
     "execution_count": 39
    }
   ],
   "source": [
    "merged_df8 = merged_df7.drop(columns=['Code']).rename(columns={'Diabetes prevalence (% of population ages 20 to 79)':'Diabetes Incidence'})\n",
    "merged_df8"
   ]
  },
  {
   "cell_type": "code",
   "execution_count": 40,
   "metadata": {},
   "outputs": [
    {
     "output_type": "execute_result",
     "data": {
      "text/plain": [
       "         Country  Child mortality rates (%)    HIV Deaths  HIV Incidences  \\\n",
       "0    Afghanistan                       7.04    302.166880      922.173458   \n",
       "1        Albania                       1.35      1.285800        3.030192   \n",
       "2        Algeria                       2.52    326.660742      900.805751   \n",
       "3        Andorra                       0.27      0.441990        4.594938   \n",
       "4         Angola                       8.25  14584.702430    19017.694410   \n",
       "..           ...                        ...           ...             ...   \n",
       "184    Venezuela                       1.63   2127.569960     8195.995527   \n",
       "185      Vietnam                       2.16  11434.047180    19075.495980   \n",
       "186        Yemen                       5.53    387.383175     1082.582833   \n",
       "187       Zambia                       6.34  21806.824350    46838.910870   \n",
       "188     Zimbabwe                       5.64  16065.329680    56259.055940   \n",
       "\n",
       "     Life expectancy  Population  Cardiovascular Deaths %     TB Deaths  \\\n",
       "0             64.833    38042000                24.780577   3634.060664   \n",
       "1             78.573     2881000                55.822085     11.986996   \n",
       "2             76.880    43053000                47.284557    417.069297   \n",
       "3             83.732       77000                30.647196      0.357184   \n",
       "4             61.147    31825000                11.828254  11409.417530   \n",
       "..               ...         ...                      ...           ...   \n",
       "184           72.064    28516000                30.540530    786.710928   \n",
       "185           75.400    96462000                33.177107  17594.454380   \n",
       "186           66.125    29162000                32.373980   1021.099125   \n",
       "187           63.886    17861000                10.277008   8306.847486   \n",
       "188           61.490    14645000                14.430736  11958.066530   \n",
       "\n",
       "     Child Mortality  Cardiovascular Deaths  Diabetes Rates  \n",
       "0          2678156.8           9.427027e+06       3648227.8  \n",
       "1            38893.5           1.608234e+06        290404.8  \n",
       "2          1084935.6           2.035742e+07       2897466.9  \n",
       "3              207.9           2.359834e+04          6136.9  \n",
       "4          2625562.5           3.764342e+06       1253905.0  \n",
       "..               ...                    ...             ...  \n",
       "184         464810.8           8.708938e+06       1844985.2  \n",
       "185        2083579.2           3.200330e+07       5787720.0  \n",
       "186        1612658.6           9.440900e+06       1560167.0  \n",
       "187        1132387.4           1.835576e+06        703723.4  \n",
       "188         825978.0           2.113381e+06        266539.0  \n",
       "\n",
       "[189 rows x 11 columns]"
      ],
      "text/html": "<div>\n<style scoped>\n    .dataframe tbody tr th:only-of-type {\n        vertical-align: middle;\n    }\n\n    .dataframe tbody tr th {\n        vertical-align: top;\n    }\n\n    .dataframe thead th {\n        text-align: right;\n    }\n</style>\n<table border=\"1\" class=\"dataframe\">\n  <thead>\n    <tr style=\"text-align: right;\">\n      <th></th>\n      <th>Country</th>\n      <th>Child mortality rates (%)</th>\n      <th>HIV Deaths</th>\n      <th>HIV Incidences</th>\n      <th>Life expectancy</th>\n      <th>Population</th>\n      <th>Cardiovascular Deaths %</th>\n      <th>TB Deaths</th>\n      <th>Child Mortality</th>\n      <th>Cardiovascular Deaths</th>\n      <th>Diabetes Rates</th>\n    </tr>\n  </thead>\n  <tbody>\n    <tr>\n      <th>0</th>\n      <td>Afghanistan</td>\n      <td>7.04</td>\n      <td>302.166880</td>\n      <td>922.173458</td>\n      <td>64.833</td>\n      <td>38042000</td>\n      <td>24.780577</td>\n      <td>3634.060664</td>\n      <td>2678156.8</td>\n      <td>9.427027e+06</td>\n      <td>3648227.8</td>\n    </tr>\n    <tr>\n      <th>1</th>\n      <td>Albania</td>\n      <td>1.35</td>\n      <td>1.285800</td>\n      <td>3.030192</td>\n      <td>78.573</td>\n      <td>2881000</td>\n      <td>55.822085</td>\n      <td>11.986996</td>\n      <td>38893.5</td>\n      <td>1.608234e+06</td>\n      <td>290404.8</td>\n    </tr>\n    <tr>\n      <th>2</th>\n      <td>Algeria</td>\n      <td>2.52</td>\n      <td>326.660742</td>\n      <td>900.805751</td>\n      <td>76.880</td>\n      <td>43053000</td>\n      <td>47.284557</td>\n      <td>417.069297</td>\n      <td>1084935.6</td>\n      <td>2.035742e+07</td>\n      <td>2897466.9</td>\n    </tr>\n    <tr>\n      <th>3</th>\n      <td>Andorra</td>\n      <td>0.27</td>\n      <td>0.441990</td>\n      <td>4.594938</td>\n      <td>83.732</td>\n      <td>77000</td>\n      <td>30.647196</td>\n      <td>0.357184</td>\n      <td>207.9</td>\n      <td>2.359834e+04</td>\n      <td>6136.9</td>\n    </tr>\n    <tr>\n      <th>4</th>\n      <td>Angola</td>\n      <td>8.25</td>\n      <td>14584.702430</td>\n      <td>19017.694410</td>\n      <td>61.147</td>\n      <td>31825000</td>\n      <td>11.828254</td>\n      <td>11409.417530</td>\n      <td>2625562.5</td>\n      <td>3.764342e+06</td>\n      <td>1253905.0</td>\n    </tr>\n    <tr>\n      <th>...</th>\n      <td>...</td>\n      <td>...</td>\n      <td>...</td>\n      <td>...</td>\n      <td>...</td>\n      <td>...</td>\n      <td>...</td>\n      <td>...</td>\n      <td>...</td>\n      <td>...</td>\n      <td>...</td>\n    </tr>\n    <tr>\n      <th>184</th>\n      <td>Venezuela</td>\n      <td>1.63</td>\n      <td>2127.569960</td>\n      <td>8195.995527</td>\n      <td>72.064</td>\n      <td>28516000</td>\n      <td>30.540530</td>\n      <td>786.710928</td>\n      <td>464810.8</td>\n      <td>8.708938e+06</td>\n      <td>1844985.2</td>\n    </tr>\n    <tr>\n      <th>185</th>\n      <td>Vietnam</td>\n      <td>2.16</td>\n      <td>11434.047180</td>\n      <td>19075.495980</td>\n      <td>75.400</td>\n      <td>96462000</td>\n      <td>33.177107</td>\n      <td>17594.454380</td>\n      <td>2083579.2</td>\n      <td>3.200330e+07</td>\n      <td>5787720.0</td>\n    </tr>\n    <tr>\n      <th>186</th>\n      <td>Yemen</td>\n      <td>5.53</td>\n      <td>387.383175</td>\n      <td>1082.582833</td>\n      <td>66.125</td>\n      <td>29162000</td>\n      <td>32.373980</td>\n      <td>1021.099125</td>\n      <td>1612658.6</td>\n      <td>9.440900e+06</td>\n      <td>1560167.0</td>\n    </tr>\n    <tr>\n      <th>187</th>\n      <td>Zambia</td>\n      <td>6.34</td>\n      <td>21806.824350</td>\n      <td>46838.910870</td>\n      <td>63.886</td>\n      <td>17861000</td>\n      <td>10.277008</td>\n      <td>8306.847486</td>\n      <td>1132387.4</td>\n      <td>1.835576e+06</td>\n      <td>703723.4</td>\n    </tr>\n    <tr>\n      <th>188</th>\n      <td>Zimbabwe</td>\n      <td>5.64</td>\n      <td>16065.329680</td>\n      <td>56259.055940</td>\n      <td>61.490</td>\n      <td>14645000</td>\n      <td>14.430736</td>\n      <td>11958.066530</td>\n      <td>825978.0</td>\n      <td>2.113381e+06</td>\n      <td>266539.0</td>\n    </tr>\n  </tbody>\n</table>\n<p>189 rows × 11 columns</p>\n</div>"
     },
     "metadata": {},
     "execution_count": 40
    }
   ],
   "source": [
    "merged_df8['Diabetes Rates'] = (merged_df8['Diabetes Incidence']/100)*merged_df8['Population']\n",
    "merged_df9 = merged_df8.drop(columns=['Diabetes Incidence'])\n",
    "merged_df9"
   ]
  },
  {
   "cell_type": "code",
   "execution_count": 41,
   "metadata": {},
   "outputs": [],
   "source": [
    "# Exporting the Dataframe as a cleaned CSV file\n",
    "merged_df9.to_csv('cleaned_dataset/heatlh_data_by_country.csv', index=False)\n"
   ]
  },
  {
   "cell_type": "code",
   "execution_count": 42,
   "metadata": {},
   "outputs": [
    {
     "output_type": "execute_result",
     "data": {
      "text/plain": [
       "['Afghanistan', 'Albania', 'Algeria', 'Andorra', 'Angola']"
      ]
     },
     "metadata": {},
     "execution_count": 42
    }
   ],
   "source": [
    "# Creating a list of countries\n",
    "countries_list = merged_df9['Country'].tolist()\n",
    "countries_list[:5]"
   ]
  },
  {
   "cell_type": "code",
   "execution_count": 43,
   "metadata": {},
   "outputs": [],
   "source": [
    "# Environment Data\n",
    "co2_emission = pd.read_csv('Dataset/environmentdata/annual-co2-emissions-per-country.csv')\n",
    "plastic_waste = pd.read_csv('Dataset/environmentdata/plastic-waste-generation-total.csv')\n",
    "particulate_pollution = pd.read_csv('Dataset/environmentdata/PM25-air-pollution.csv')\n",
    "forest_cover = pd.read_csv('Dataset/environmentdata/forest-area-as-share-of-land-area.csv')"
   ]
  },
  {
   "cell_type": "code",
   "execution_count": 44,
   "metadata": {},
   "outputs": [
    {
     "output_type": "execute_result",
     "data": {
      "text/plain": [
       "           Entity Code  Year  Forest cover\n",
       "0     Afghanistan  AFG  1990      1.850994\n",
       "1     Afghanistan  AFG  1991      1.850994\n",
       "2     Afghanistan  AFG  1992      1.850994\n",
       "3     Afghanistan  AFG  1993      1.850994\n",
       "4     Afghanistan  AFG  1994      1.850994\n",
       "...           ...  ...   ...           ...\n",
       "7969     Zimbabwe  ZWE  2016     45.570273\n",
       "7970     Zimbabwe  ZWE  2017     45.451183\n",
       "7971     Zimbabwe  ZWE  2018     45.332093\n",
       "7972     Zimbabwe  ZWE  2019     45.213002\n",
       "7973     Zimbabwe  ZWE  2020     45.093912\n",
       "\n",
       "[7974 rows x 4 columns]"
      ],
      "text/html": "<div>\n<style scoped>\n    .dataframe tbody tr th:only-of-type {\n        vertical-align: middle;\n    }\n\n    .dataframe tbody tr th {\n        vertical-align: top;\n    }\n\n    .dataframe thead th {\n        text-align: right;\n    }\n</style>\n<table border=\"1\" class=\"dataframe\">\n  <thead>\n    <tr style=\"text-align: right;\">\n      <th></th>\n      <th>Entity</th>\n      <th>Code</th>\n      <th>Year</th>\n      <th>Forest cover</th>\n    </tr>\n  </thead>\n  <tbody>\n    <tr>\n      <th>0</th>\n      <td>Afghanistan</td>\n      <td>AFG</td>\n      <td>1990</td>\n      <td>1.850994</td>\n    </tr>\n    <tr>\n      <th>1</th>\n      <td>Afghanistan</td>\n      <td>AFG</td>\n      <td>1991</td>\n      <td>1.850994</td>\n    </tr>\n    <tr>\n      <th>2</th>\n      <td>Afghanistan</td>\n      <td>AFG</td>\n      <td>1992</td>\n      <td>1.850994</td>\n    </tr>\n    <tr>\n      <th>3</th>\n      <td>Afghanistan</td>\n      <td>AFG</td>\n      <td>1993</td>\n      <td>1.850994</td>\n    </tr>\n    <tr>\n      <th>4</th>\n      <td>Afghanistan</td>\n      <td>AFG</td>\n      <td>1994</td>\n      <td>1.850994</td>\n    </tr>\n    <tr>\n      <th>...</th>\n      <td>...</td>\n      <td>...</td>\n      <td>...</td>\n      <td>...</td>\n    </tr>\n    <tr>\n      <th>7969</th>\n      <td>Zimbabwe</td>\n      <td>ZWE</td>\n      <td>2016</td>\n      <td>45.570273</td>\n    </tr>\n    <tr>\n      <th>7970</th>\n      <td>Zimbabwe</td>\n      <td>ZWE</td>\n      <td>2017</td>\n      <td>45.451183</td>\n    </tr>\n    <tr>\n      <th>7971</th>\n      <td>Zimbabwe</td>\n      <td>ZWE</td>\n      <td>2018</td>\n      <td>45.332093</td>\n    </tr>\n    <tr>\n      <th>7972</th>\n      <td>Zimbabwe</td>\n      <td>ZWE</td>\n      <td>2019</td>\n      <td>45.213002</td>\n    </tr>\n    <tr>\n      <th>7973</th>\n      <td>Zimbabwe</td>\n      <td>ZWE</td>\n      <td>2020</td>\n      <td>45.093912</td>\n    </tr>\n  </tbody>\n</table>\n<p>7974 rows × 4 columns</p>\n</div>"
     },
     "metadata": {},
     "execution_count": 44
    }
   ],
   "source": [
    "forest_cover"
   ]
  },
  {
   "cell_type": "code",
   "execution_count": 45,
   "metadata": {},
   "outputs": [
    {
     "output_type": "execute_result",
     "data": {
      "text/plain": [
       "           Entity Code  Year  Forest cover\n",
       "0     Afghanistan  AFG  1990      1.850994\n",
       "29    Afghanistan  AFG  2019      1.850994\n",
       "31         Africa  NaN  1990     24.856428\n",
       "60         Africa  NaN  2019     21.436713\n",
       "62        Albania  ALB  1990     28.788321\n",
       "...           ...  ...   ...           ...\n",
       "7910        Yemen  YEM  2019      1.039832\n",
       "7912       Zambia  ZMB  1990     63.778098\n",
       "7941       Zambia  ZMB  2019     60.536521\n",
       "7943     Zimbabwe  ZWE  1990     48.666615\n",
       "7972     Zimbabwe  ZWE  2019     45.213002\n",
       "\n",
       "[488 rows x 4 columns]"
      ],
      "text/html": "<div>\n<style scoped>\n    .dataframe tbody tr th:only-of-type {\n        vertical-align: middle;\n    }\n\n    .dataframe tbody tr th {\n        vertical-align: top;\n    }\n\n    .dataframe thead th {\n        text-align: right;\n    }\n</style>\n<table border=\"1\" class=\"dataframe\">\n  <thead>\n    <tr style=\"text-align: right;\">\n      <th></th>\n      <th>Entity</th>\n      <th>Code</th>\n      <th>Year</th>\n      <th>Forest cover</th>\n    </tr>\n  </thead>\n  <tbody>\n    <tr>\n      <th>0</th>\n      <td>Afghanistan</td>\n      <td>AFG</td>\n      <td>1990</td>\n      <td>1.850994</td>\n    </tr>\n    <tr>\n      <th>29</th>\n      <td>Afghanistan</td>\n      <td>AFG</td>\n      <td>2019</td>\n      <td>1.850994</td>\n    </tr>\n    <tr>\n      <th>31</th>\n      <td>Africa</td>\n      <td>NaN</td>\n      <td>1990</td>\n      <td>24.856428</td>\n    </tr>\n    <tr>\n      <th>60</th>\n      <td>Africa</td>\n      <td>NaN</td>\n      <td>2019</td>\n      <td>21.436713</td>\n    </tr>\n    <tr>\n      <th>62</th>\n      <td>Albania</td>\n      <td>ALB</td>\n      <td>1990</td>\n      <td>28.788321</td>\n    </tr>\n    <tr>\n      <th>...</th>\n      <td>...</td>\n      <td>...</td>\n      <td>...</td>\n      <td>...</td>\n    </tr>\n    <tr>\n      <th>7910</th>\n      <td>Yemen</td>\n      <td>YEM</td>\n      <td>2019</td>\n      <td>1.039832</td>\n    </tr>\n    <tr>\n      <th>7912</th>\n      <td>Zambia</td>\n      <td>ZMB</td>\n      <td>1990</td>\n      <td>63.778098</td>\n    </tr>\n    <tr>\n      <th>7941</th>\n      <td>Zambia</td>\n      <td>ZMB</td>\n      <td>2019</td>\n      <td>60.536521</td>\n    </tr>\n    <tr>\n      <th>7943</th>\n      <td>Zimbabwe</td>\n      <td>ZWE</td>\n      <td>1990</td>\n      <td>48.666615</td>\n    </tr>\n    <tr>\n      <th>7972</th>\n      <td>Zimbabwe</td>\n      <td>ZWE</td>\n      <td>2019</td>\n      <td>45.213002</td>\n    </tr>\n  </tbody>\n</table>\n<p>488 rows × 4 columns</p>\n</div>"
     },
     "metadata": {},
     "execution_count": 45
    }
   ],
   "source": [
    "# Filtering by first and last year of reporting\n",
    "forest_cover1 = forest_cover[(forest_cover['Year']==1990) | (forest_cover['Year']==2019)]\n",
    "forest_cover1"
   ]
  },
  {
   "cell_type": "code",
   "execution_count": 46,
   "metadata": {},
   "outputs": [
    {
     "output_type": "execute_result",
     "data": {
      "text/plain": [
       "           Entity Code  Year  Forest cover  Deforestation Rate\n",
       "0     Afghanistan  AFG  1990      1.850994                 NaN\n",
       "29    Afghanistan  AFG  2019      1.850994            0.000000\n",
       "31         Africa  NaN  1990     24.856428         1242.869136\n",
       "60         Africa  NaN  2019     21.436713          -13.757870\n",
       "62        Albania  ALB  1990     28.788321           34.294474\n",
       "...           ...  ...   ...           ...                 ...\n",
       "7910        Yemen  YEM  2019      1.039832            0.000000\n",
       "7912       Zambia  ZMB  1990     63.778098         6033.501310\n",
       "7941       Zambia  ZMB  2019     60.536521           -5.082587\n",
       "7943     Zimbabwe  ZWE  1990     48.666615          -19.607842\n",
       "7972     Zimbabwe  ZWE  2019     45.213002           -7.096472\n",
       "\n",
       "[488 rows x 5 columns]"
      ],
      "text/html": "<div>\n<style scoped>\n    .dataframe tbody tr th:only-of-type {\n        vertical-align: middle;\n    }\n\n    .dataframe tbody tr th {\n        vertical-align: top;\n    }\n\n    .dataframe thead th {\n        text-align: right;\n    }\n</style>\n<table border=\"1\" class=\"dataframe\">\n  <thead>\n    <tr style=\"text-align: right;\">\n      <th></th>\n      <th>Entity</th>\n      <th>Code</th>\n      <th>Year</th>\n      <th>Forest cover</th>\n      <th>Deforestation Rate</th>\n    </tr>\n  </thead>\n  <tbody>\n    <tr>\n      <th>0</th>\n      <td>Afghanistan</td>\n      <td>AFG</td>\n      <td>1990</td>\n      <td>1.850994</td>\n      <td>NaN</td>\n    </tr>\n    <tr>\n      <th>29</th>\n      <td>Afghanistan</td>\n      <td>AFG</td>\n      <td>2019</td>\n      <td>1.850994</td>\n      <td>0.000000</td>\n    </tr>\n    <tr>\n      <th>31</th>\n      <td>Africa</td>\n      <td>NaN</td>\n      <td>1990</td>\n      <td>24.856428</td>\n      <td>1242.869136</td>\n    </tr>\n    <tr>\n      <th>60</th>\n      <td>Africa</td>\n      <td>NaN</td>\n      <td>2019</td>\n      <td>21.436713</td>\n      <td>-13.757870</td>\n    </tr>\n    <tr>\n      <th>62</th>\n      <td>Albania</td>\n      <td>ALB</td>\n      <td>1990</td>\n      <td>28.788321</td>\n      <td>34.294474</td>\n    </tr>\n    <tr>\n      <th>...</th>\n      <td>...</td>\n      <td>...</td>\n      <td>...</td>\n      <td>...</td>\n      <td>...</td>\n    </tr>\n    <tr>\n      <th>7910</th>\n      <td>Yemen</td>\n      <td>YEM</td>\n      <td>2019</td>\n      <td>1.039832</td>\n      <td>0.000000</td>\n    </tr>\n    <tr>\n      <th>7912</th>\n      <td>Zambia</td>\n      <td>ZMB</td>\n      <td>1990</td>\n      <td>63.778098</td>\n      <td>6033.501310</td>\n    </tr>\n    <tr>\n      <th>7941</th>\n      <td>Zambia</td>\n      <td>ZMB</td>\n      <td>2019</td>\n      <td>60.536521</td>\n      <td>-5.082587</td>\n    </tr>\n    <tr>\n      <th>7943</th>\n      <td>Zimbabwe</td>\n      <td>ZWE</td>\n      <td>1990</td>\n      <td>48.666615</td>\n      <td>-19.607842</td>\n    </tr>\n    <tr>\n      <th>7972</th>\n      <td>Zimbabwe</td>\n      <td>ZWE</td>\n      <td>2019</td>\n      <td>45.213002</td>\n      <td>-7.096472</td>\n    </tr>\n  </tbody>\n</table>\n<p>488 rows × 5 columns</p>\n</div>"
     },
     "metadata": {},
     "execution_count": 46
    }
   ],
   "source": [
    "# Deforestation Percentage Change\n",
    "forest_cover1['Deforestation Rate'] = (forest_cover1['Forest cover'].pct_change()) * 100\n",
    "forest_cover1"
   ]
  },
  {
   "cell_type": "code",
   "execution_count": 47,
   "metadata": {},
   "outputs": [
    {
     "output_type": "execute_result",
     "data": {
      "text/plain": [
       "           Entity  Year  Deforestation Rate\n",
       "0     Afghanistan  1990                 NaN\n",
       "29    Afghanistan  2019            0.000000\n",
       "31         Africa  1990         1242.869136\n",
       "60         Africa  2019          -13.757870\n",
       "62        Albania  1990           34.294474\n",
       "...           ...   ...                 ...\n",
       "7910        Yemen  2019            0.000000\n",
       "7912       Zambia  1990         6033.501310\n",
       "7941       Zambia  2019           -5.082587\n",
       "7943     Zimbabwe  1990          -19.607842\n",
       "7972     Zimbabwe  2019           -7.096472\n",
       "\n",
       "[488 rows x 3 columns]"
      ],
      "text/html": "<div>\n<style scoped>\n    .dataframe tbody tr th:only-of-type {\n        vertical-align: middle;\n    }\n\n    .dataframe tbody tr th {\n        vertical-align: top;\n    }\n\n    .dataframe thead th {\n        text-align: right;\n    }\n</style>\n<table border=\"1\" class=\"dataframe\">\n  <thead>\n    <tr style=\"text-align: right;\">\n      <th></th>\n      <th>Entity</th>\n      <th>Year</th>\n      <th>Deforestation Rate</th>\n    </tr>\n  </thead>\n  <tbody>\n    <tr>\n      <th>0</th>\n      <td>Afghanistan</td>\n      <td>1990</td>\n      <td>NaN</td>\n    </tr>\n    <tr>\n      <th>29</th>\n      <td>Afghanistan</td>\n      <td>2019</td>\n      <td>0.000000</td>\n    </tr>\n    <tr>\n      <th>31</th>\n      <td>Africa</td>\n      <td>1990</td>\n      <td>1242.869136</td>\n    </tr>\n    <tr>\n      <th>60</th>\n      <td>Africa</td>\n      <td>2019</td>\n      <td>-13.757870</td>\n    </tr>\n    <tr>\n      <th>62</th>\n      <td>Albania</td>\n      <td>1990</td>\n      <td>34.294474</td>\n    </tr>\n    <tr>\n      <th>...</th>\n      <td>...</td>\n      <td>...</td>\n      <td>...</td>\n    </tr>\n    <tr>\n      <th>7910</th>\n      <td>Yemen</td>\n      <td>2019</td>\n      <td>0.000000</td>\n    </tr>\n    <tr>\n      <th>7912</th>\n      <td>Zambia</td>\n      <td>1990</td>\n      <td>6033.501310</td>\n    </tr>\n    <tr>\n      <th>7941</th>\n      <td>Zambia</td>\n      <td>2019</td>\n      <td>-5.082587</td>\n    </tr>\n    <tr>\n      <th>7943</th>\n      <td>Zimbabwe</td>\n      <td>1990</td>\n      <td>-19.607842</td>\n    </tr>\n    <tr>\n      <th>7972</th>\n      <td>Zimbabwe</td>\n      <td>2019</td>\n      <td>-7.096472</td>\n    </tr>\n  </tbody>\n</table>\n<p>488 rows × 3 columns</p>\n</div>"
     },
     "metadata": {},
     "execution_count": 47
    }
   ],
   "source": [
    "# Filtering out deforrestation rates from the dataframe\n",
    "forest_cover2 = forest_cover1.drop(columns=['Code',\t'Forest cover'])\n",
    "forest_cover2"
   ]
  },
  {
   "cell_type": "code",
   "execution_count": 48,
   "metadata": {},
   "outputs": [
    {
     "output_type": "execute_result",
     "data": {
      "text/plain": [
       "              Entity  Year  Deforestation Rate\n",
       "29       Afghanistan  2019            0.000000\n",
       "60            Africa  2019          -13.757870\n",
       "91           Albania  2019            0.019967\n",
       "122          Algeria  2019           17.000600\n",
       "153   American Samoa  2019           -5.035971\n",
       "...              ...   ...                 ...\n",
       "7848  Western Sahara  2019           -0.015637\n",
       "7879           World  2019           -4.072102\n",
       "7910           Yemen  2019            0.000000\n",
       "7941          Zambia  2019           -5.082587\n",
       "7972        Zimbabwe  2019           -7.096472\n",
       "\n",
       "[262 rows x 3 columns]"
      ],
      "text/html": "<div>\n<style scoped>\n    .dataframe tbody tr th:only-of-type {\n        vertical-align: middle;\n    }\n\n    .dataframe tbody tr th {\n        vertical-align: top;\n    }\n\n    .dataframe thead th {\n        text-align: right;\n    }\n</style>\n<table border=\"1\" class=\"dataframe\">\n  <thead>\n    <tr style=\"text-align: right;\">\n      <th></th>\n      <th>Entity</th>\n      <th>Year</th>\n      <th>Deforestation Rate</th>\n    </tr>\n  </thead>\n  <tbody>\n    <tr>\n      <th>29</th>\n      <td>Afghanistan</td>\n      <td>2019</td>\n      <td>0.000000</td>\n    </tr>\n    <tr>\n      <th>60</th>\n      <td>Africa</td>\n      <td>2019</td>\n      <td>-13.757870</td>\n    </tr>\n    <tr>\n      <th>91</th>\n      <td>Albania</td>\n      <td>2019</td>\n      <td>0.019967</td>\n    </tr>\n    <tr>\n      <th>122</th>\n      <td>Algeria</td>\n      <td>2019</td>\n      <td>17.000600</td>\n    </tr>\n    <tr>\n      <th>153</th>\n      <td>American Samoa</td>\n      <td>2019</td>\n      <td>-5.035971</td>\n    </tr>\n    <tr>\n      <th>...</th>\n      <td>...</td>\n      <td>...</td>\n      <td>...</td>\n    </tr>\n    <tr>\n      <th>7848</th>\n      <td>Western Sahara</td>\n      <td>2019</td>\n      <td>-0.015637</td>\n    </tr>\n    <tr>\n      <th>7879</th>\n      <td>World</td>\n      <td>2019</td>\n      <td>-4.072102</td>\n    </tr>\n    <tr>\n      <th>7910</th>\n      <td>Yemen</td>\n      <td>2019</td>\n      <td>0.000000</td>\n    </tr>\n    <tr>\n      <th>7941</th>\n      <td>Zambia</td>\n      <td>2019</td>\n      <td>-5.082587</td>\n    </tr>\n    <tr>\n      <th>7972</th>\n      <td>Zimbabwe</td>\n      <td>2019</td>\n      <td>-7.096472</td>\n    </tr>\n  </tbody>\n</table>\n<p>262 rows × 3 columns</p>\n</div>"
     },
     "metadata": {},
     "execution_count": 48
    }
   ],
   "source": [
    "forest_cover3 = forest_cover2[forest_cover2['Year']==2019]\n",
    "forest_cover3"
   ]
  },
  {
   "cell_type": "code",
   "execution_count": 49,
   "metadata": {},
   "outputs": [
    {
     "output_type": "execute_result",
     "data": {
      "text/plain": [
       "        Entity Code  Year  Annual CO2 emissions\n",
       "0  Afghanistan  AFG  1949              0.014656\n",
       "1  Afghanistan  AFG  1950              0.084272\n",
       "2  Afghanistan  AFG  1951              0.091600\n",
       "3  Afghanistan  AFG  1952              0.091600\n",
       "4  Afghanistan  AFG  1953              0.106256"
      ],
      "text/html": "<div>\n<style scoped>\n    .dataframe tbody tr th:only-of-type {\n        vertical-align: middle;\n    }\n\n    .dataframe tbody tr th {\n        vertical-align: top;\n    }\n\n    .dataframe thead th {\n        text-align: right;\n    }\n</style>\n<table border=\"1\" class=\"dataframe\">\n  <thead>\n    <tr style=\"text-align: right;\">\n      <th></th>\n      <th>Entity</th>\n      <th>Code</th>\n      <th>Year</th>\n      <th>Annual CO2 emissions</th>\n    </tr>\n  </thead>\n  <tbody>\n    <tr>\n      <th>0</th>\n      <td>Afghanistan</td>\n      <td>AFG</td>\n      <td>1949</td>\n      <td>0.014656</td>\n    </tr>\n    <tr>\n      <th>1</th>\n      <td>Afghanistan</td>\n      <td>AFG</td>\n      <td>1950</td>\n      <td>0.084272</td>\n    </tr>\n    <tr>\n      <th>2</th>\n      <td>Afghanistan</td>\n      <td>AFG</td>\n      <td>1951</td>\n      <td>0.091600</td>\n    </tr>\n    <tr>\n      <th>3</th>\n      <td>Afghanistan</td>\n      <td>AFG</td>\n      <td>1952</td>\n      <td>0.091600</td>\n    </tr>\n    <tr>\n      <th>4</th>\n      <td>Afghanistan</td>\n      <td>AFG</td>\n      <td>1953</td>\n      <td>0.106256</td>\n    </tr>\n  </tbody>\n</table>\n</div>"
     },
     "metadata": {},
     "execution_count": 49
    }
   ],
   "source": [
    "# Co2 Emission\n",
    "co2_emission.head()"
   ]
  },
  {
   "cell_type": "code",
   "execution_count": 50,
   "metadata": {},
   "outputs": [
    {
     "output_type": "execute_result",
     "data": {
      "text/plain": [
       "2018"
      ]
     },
     "metadata": {},
     "execution_count": 50
    }
   ],
   "source": [
    "# Latest year\n",
    "co2_emission['Year'].max()"
   ]
  },
  {
   "cell_type": "code",
   "execution_count": 51,
   "metadata": {},
   "outputs": [
    {
     "output_type": "execute_result",
     "data": {
      "text/plain": [
       "                          Entity      Code  Year  Annual CO2 emissions\n",
       "69                   Afghanistan       AFG  2018              9.438789\n",
       "337                       Africa       NaN  2018           1400.841210\n",
       "423                      Albania       ALB  2018              4.569964\n",
       "532                      Algeria       DZA  2018            155.725261\n",
       "561                      Andorra       AND  2018              0.470909\n",
       "...                          ...       ...   ...                   ...\n",
       "22750  Wallis and Futuna Islands       NaN  2018              0.027057\n",
       "23018                      World  OWID_WRL  2018          36572.754220\n",
       "23087                      Yemen       YEM  2018             10.140644\n",
       "23244                     Zambia       ZMB  2018              5.228035\n",
       "23371                   Zimbabwe       ZWE  2018             12.262698\n",
       "\n",
       "[233 rows x 4 columns]"
      ],
      "text/html": "<div>\n<style scoped>\n    .dataframe tbody tr th:only-of-type {\n        vertical-align: middle;\n    }\n\n    .dataframe tbody tr th {\n        vertical-align: top;\n    }\n\n    .dataframe thead th {\n        text-align: right;\n    }\n</style>\n<table border=\"1\" class=\"dataframe\">\n  <thead>\n    <tr style=\"text-align: right;\">\n      <th></th>\n      <th>Entity</th>\n      <th>Code</th>\n      <th>Year</th>\n      <th>Annual CO2 emissions</th>\n    </tr>\n  </thead>\n  <tbody>\n    <tr>\n      <th>69</th>\n      <td>Afghanistan</td>\n      <td>AFG</td>\n      <td>2018</td>\n      <td>9.438789</td>\n    </tr>\n    <tr>\n      <th>337</th>\n      <td>Africa</td>\n      <td>NaN</td>\n      <td>2018</td>\n      <td>1400.841210</td>\n    </tr>\n    <tr>\n      <th>423</th>\n      <td>Albania</td>\n      <td>ALB</td>\n      <td>2018</td>\n      <td>4.569964</td>\n    </tr>\n    <tr>\n      <th>532</th>\n      <td>Algeria</td>\n      <td>DZA</td>\n      <td>2018</td>\n      <td>155.725261</td>\n    </tr>\n    <tr>\n      <th>561</th>\n      <td>Andorra</td>\n      <td>AND</td>\n      <td>2018</td>\n      <td>0.470909</td>\n    </tr>\n    <tr>\n      <th>...</th>\n      <td>...</td>\n      <td>...</td>\n      <td>...</td>\n      <td>...</td>\n    </tr>\n    <tr>\n      <th>22750</th>\n      <td>Wallis and Futuna Islands</td>\n      <td>NaN</td>\n      <td>2018</td>\n      <td>0.027057</td>\n    </tr>\n    <tr>\n      <th>23018</th>\n      <td>World</td>\n      <td>OWID_WRL</td>\n      <td>2018</td>\n      <td>36572.754220</td>\n    </tr>\n    <tr>\n      <th>23087</th>\n      <td>Yemen</td>\n      <td>YEM</td>\n      <td>2018</td>\n      <td>10.140644</td>\n    </tr>\n    <tr>\n      <th>23244</th>\n      <td>Zambia</td>\n      <td>ZMB</td>\n      <td>2018</td>\n      <td>5.228035</td>\n    </tr>\n    <tr>\n      <th>23371</th>\n      <td>Zimbabwe</td>\n      <td>ZWE</td>\n      <td>2018</td>\n      <td>12.262698</td>\n    </tr>\n  </tbody>\n</table>\n<p>233 rows × 4 columns</p>\n</div>"
     },
     "metadata": {},
     "execution_count": 51
    }
   ],
   "source": [
    "co2_emission1 = co2_emission[co2_emission['Year']==2018]\n",
    "co2_emission1"
   ]
  },
  {
   "cell_type": "code",
   "execution_count": 52,
   "metadata": {},
   "outputs": [
    {
     "output_type": "execute_result",
     "data": {
      "text/plain": [
       "                          Entity      Code  Year  Annual CO2 emissions (ppm)\n",
       "69                   Afghanistan       AFG  2018                    9.438789\n",
       "337                       Africa       NaN  2018                 1400.841210\n",
       "423                      Albania       ALB  2018                    4.569964\n",
       "532                      Algeria       DZA  2018                  155.725261\n",
       "561                      Andorra       AND  2018                    0.470909\n",
       "...                          ...       ...   ...                         ...\n",
       "22750  Wallis and Futuna Islands       NaN  2018                    0.027057\n",
       "23018                      World  OWID_WRL  2018                36572.754220\n",
       "23087                      Yemen       YEM  2018                   10.140644\n",
       "23244                     Zambia       ZMB  2018                    5.228035\n",
       "23371                   Zimbabwe       ZWE  2018                   12.262698\n",
       "\n",
       "[233 rows x 4 columns]"
      ],
      "text/html": "<div>\n<style scoped>\n    .dataframe tbody tr th:only-of-type {\n        vertical-align: middle;\n    }\n\n    .dataframe tbody tr th {\n        vertical-align: top;\n    }\n\n    .dataframe thead th {\n        text-align: right;\n    }\n</style>\n<table border=\"1\" class=\"dataframe\">\n  <thead>\n    <tr style=\"text-align: right;\">\n      <th></th>\n      <th>Entity</th>\n      <th>Code</th>\n      <th>Year</th>\n      <th>Annual CO2 emissions (ppm)</th>\n    </tr>\n  </thead>\n  <tbody>\n    <tr>\n      <th>69</th>\n      <td>Afghanistan</td>\n      <td>AFG</td>\n      <td>2018</td>\n      <td>9.438789</td>\n    </tr>\n    <tr>\n      <th>337</th>\n      <td>Africa</td>\n      <td>NaN</td>\n      <td>2018</td>\n      <td>1400.841210</td>\n    </tr>\n    <tr>\n      <th>423</th>\n      <td>Albania</td>\n      <td>ALB</td>\n      <td>2018</td>\n      <td>4.569964</td>\n    </tr>\n    <tr>\n      <th>532</th>\n      <td>Algeria</td>\n      <td>DZA</td>\n      <td>2018</td>\n      <td>155.725261</td>\n    </tr>\n    <tr>\n      <th>561</th>\n      <td>Andorra</td>\n      <td>AND</td>\n      <td>2018</td>\n      <td>0.470909</td>\n    </tr>\n    <tr>\n      <th>...</th>\n      <td>...</td>\n      <td>...</td>\n      <td>...</td>\n      <td>...</td>\n    </tr>\n    <tr>\n      <th>22750</th>\n      <td>Wallis and Futuna Islands</td>\n      <td>NaN</td>\n      <td>2018</td>\n      <td>0.027057</td>\n    </tr>\n    <tr>\n      <th>23018</th>\n      <td>World</td>\n      <td>OWID_WRL</td>\n      <td>2018</td>\n      <td>36572.754220</td>\n    </tr>\n    <tr>\n      <th>23087</th>\n      <td>Yemen</td>\n      <td>YEM</td>\n      <td>2018</td>\n      <td>10.140644</td>\n    </tr>\n    <tr>\n      <th>23244</th>\n      <td>Zambia</td>\n      <td>ZMB</td>\n      <td>2018</td>\n      <td>5.228035</td>\n    </tr>\n    <tr>\n      <th>23371</th>\n      <td>Zimbabwe</td>\n      <td>ZWE</td>\n      <td>2018</td>\n      <td>12.262698</td>\n    </tr>\n  </tbody>\n</table>\n<p>233 rows × 4 columns</p>\n</div>"
     },
     "metadata": {},
     "execution_count": 52
    }
   ],
   "source": [
    "co2_emission2 = co2_emission1.rename(columns={'Annual CO2 emissions':'Annual CO2 emissions (ppm)'})\n",
    "co2_emission2"
   ]
  },
  {
   "cell_type": "code",
   "execution_count": 53,
   "metadata": {},
   "outputs": [
    {
     "output_type": "execute_result",
     "data": {
      "text/plain": [
       "                          Entity  Annual CO2 emissions (ppm)\n",
       "69                   Afghanistan                    9.438789\n",
       "337                       Africa                 1400.841210\n",
       "423                      Albania                    4.569964\n",
       "532                      Algeria                  155.725261\n",
       "561                      Andorra                    0.470909\n",
       "...                          ...                         ...\n",
       "22750  Wallis and Futuna Islands                    0.027057\n",
       "23018                      World                36572.754220\n",
       "23087                      Yemen                   10.140644\n",
       "23244                     Zambia                    5.228035\n",
       "23371                   Zimbabwe                   12.262698\n",
       "\n",
       "[233 rows x 2 columns]"
      ],
      "text/html": "<div>\n<style scoped>\n    .dataframe tbody tr th:only-of-type {\n        vertical-align: middle;\n    }\n\n    .dataframe tbody tr th {\n        vertical-align: top;\n    }\n\n    .dataframe thead th {\n        text-align: right;\n    }\n</style>\n<table border=\"1\" class=\"dataframe\">\n  <thead>\n    <tr style=\"text-align: right;\">\n      <th></th>\n      <th>Entity</th>\n      <th>Annual CO2 emissions (ppm)</th>\n    </tr>\n  </thead>\n  <tbody>\n    <tr>\n      <th>69</th>\n      <td>Afghanistan</td>\n      <td>9.438789</td>\n    </tr>\n    <tr>\n      <th>337</th>\n      <td>Africa</td>\n      <td>1400.841210</td>\n    </tr>\n    <tr>\n      <th>423</th>\n      <td>Albania</td>\n      <td>4.569964</td>\n    </tr>\n    <tr>\n      <th>532</th>\n      <td>Algeria</td>\n      <td>155.725261</td>\n    </tr>\n    <tr>\n      <th>561</th>\n      <td>Andorra</td>\n      <td>0.470909</td>\n    </tr>\n    <tr>\n      <th>...</th>\n      <td>...</td>\n      <td>...</td>\n    </tr>\n    <tr>\n      <th>22750</th>\n      <td>Wallis and Futuna Islands</td>\n      <td>0.027057</td>\n    </tr>\n    <tr>\n      <th>23018</th>\n      <td>World</td>\n      <td>36572.754220</td>\n    </tr>\n    <tr>\n      <th>23087</th>\n      <td>Yemen</td>\n      <td>10.140644</td>\n    </tr>\n    <tr>\n      <th>23244</th>\n      <td>Zambia</td>\n      <td>5.228035</td>\n    </tr>\n    <tr>\n      <th>23371</th>\n      <td>Zimbabwe</td>\n      <td>12.262698</td>\n    </tr>\n  </tbody>\n</table>\n<p>233 rows × 2 columns</p>\n</div>"
     },
     "metadata": {},
     "execution_count": 53
    }
   ],
   "source": [
    "co2_emission3 = co2_emission2.drop(columns=['Code','Year'])\n",
    "co2_emission3"
   ]
  },
  {
   "cell_type": "code",
   "execution_count": 54,
   "metadata": {},
   "outputs": [
    {
     "output_type": "execute_result",
     "data": {
      "text/plain": [
       "                  Entity Code  Plastic waste generation (tonnes, total)\n",
       "0                Albania  ALB                                     73364\n",
       "1                Algeria  DZA                                   1898343\n",
       "2                 Angola  AGO                                    528843\n",
       "3    Antigua and Barbuda  ATG                                     22804\n",
       "4              Argentina  ARG                                   2753550\n",
       "..                   ...  ...                                       ...\n",
       "163              Uruguay  URY                                    310379\n",
       "164              Vanuatu  VUT                                     25443\n",
       "165            Venezuela  VEN                                   2669998\n",
       "166              Vietnam  VNM                                   3268227\n",
       "167                Yemen  YEM                                    887497\n",
       "\n",
       "[168 rows x 3 columns]"
      ],
      "text/html": "<div>\n<style scoped>\n    .dataframe tbody tr th:only-of-type {\n        vertical-align: middle;\n    }\n\n    .dataframe tbody tr th {\n        vertical-align: top;\n    }\n\n    .dataframe thead th {\n        text-align: right;\n    }\n</style>\n<table border=\"1\" class=\"dataframe\">\n  <thead>\n    <tr style=\"text-align: right;\">\n      <th></th>\n      <th>Entity</th>\n      <th>Code</th>\n      <th>Plastic waste generation (tonnes, total)</th>\n    </tr>\n  </thead>\n  <tbody>\n    <tr>\n      <th>0</th>\n      <td>Albania</td>\n      <td>ALB</td>\n      <td>73364</td>\n    </tr>\n    <tr>\n      <th>1</th>\n      <td>Algeria</td>\n      <td>DZA</td>\n      <td>1898343</td>\n    </tr>\n    <tr>\n      <th>2</th>\n      <td>Angola</td>\n      <td>AGO</td>\n      <td>528843</td>\n    </tr>\n    <tr>\n      <th>3</th>\n      <td>Antigua and Barbuda</td>\n      <td>ATG</td>\n      <td>22804</td>\n    </tr>\n    <tr>\n      <th>4</th>\n      <td>Argentina</td>\n      <td>ARG</td>\n      <td>2753550</td>\n    </tr>\n    <tr>\n      <th>...</th>\n      <td>...</td>\n      <td>...</td>\n      <td>...</td>\n    </tr>\n    <tr>\n      <th>163</th>\n      <td>Uruguay</td>\n      <td>URY</td>\n      <td>310379</td>\n    </tr>\n    <tr>\n      <th>164</th>\n      <td>Vanuatu</td>\n      <td>VUT</td>\n      <td>25443</td>\n    </tr>\n    <tr>\n      <th>165</th>\n      <td>Venezuela</td>\n      <td>VEN</td>\n      <td>2669998</td>\n    </tr>\n    <tr>\n      <th>166</th>\n      <td>Vietnam</td>\n      <td>VNM</td>\n      <td>3268227</td>\n    </tr>\n    <tr>\n      <th>167</th>\n      <td>Yemen</td>\n      <td>YEM</td>\n      <td>887497</td>\n    </tr>\n  </tbody>\n</table>\n<p>168 rows × 3 columns</p>\n</div>"
     },
     "metadata": {},
     "execution_count": 54
    }
   ],
   "source": [
    "# plastic waste generation\n",
    "plastic_waste"
   ]
  },
  {
   "cell_type": "code",
   "execution_count": 55,
   "metadata": {},
   "outputs": [],
   "source": [
    "plastic_waste.loc[0] = ['Afghanistan','AFG',112000]"
   ]
  },
  {
   "cell_type": "code",
   "execution_count": 56,
   "metadata": {},
   "outputs": [
    {
     "output_type": "execute_result",
     "data": {
      "text/plain": [
       "                  Entity  Plastic waste generation (tonnes, total)\n",
       "0            Afghanistan                                    112000\n",
       "1                Algeria                                   1898343\n",
       "2                 Angola                                    528843\n",
       "3    Antigua and Barbuda                                     22804\n",
       "4              Argentina                                   2753550\n",
       "..                   ...                                       ...\n",
       "163              Uruguay                                    310379\n",
       "164              Vanuatu                                     25443\n",
       "165            Venezuela                                   2669998\n",
       "166              Vietnam                                   3268227\n",
       "167                Yemen                                    887497\n",
       "\n",
       "[168 rows x 2 columns]"
      ],
      "text/html": "<div>\n<style scoped>\n    .dataframe tbody tr th:only-of-type {\n        vertical-align: middle;\n    }\n\n    .dataframe tbody tr th {\n        vertical-align: top;\n    }\n\n    .dataframe thead th {\n        text-align: right;\n    }\n</style>\n<table border=\"1\" class=\"dataframe\">\n  <thead>\n    <tr style=\"text-align: right;\">\n      <th></th>\n      <th>Entity</th>\n      <th>Plastic waste generation (tonnes, total)</th>\n    </tr>\n  </thead>\n  <tbody>\n    <tr>\n      <th>0</th>\n      <td>Afghanistan</td>\n      <td>112000</td>\n    </tr>\n    <tr>\n      <th>1</th>\n      <td>Algeria</td>\n      <td>1898343</td>\n    </tr>\n    <tr>\n      <th>2</th>\n      <td>Angola</td>\n      <td>528843</td>\n    </tr>\n    <tr>\n      <th>3</th>\n      <td>Antigua and Barbuda</td>\n      <td>22804</td>\n    </tr>\n    <tr>\n      <th>4</th>\n      <td>Argentina</td>\n      <td>2753550</td>\n    </tr>\n    <tr>\n      <th>...</th>\n      <td>...</td>\n      <td>...</td>\n    </tr>\n    <tr>\n      <th>163</th>\n      <td>Uruguay</td>\n      <td>310379</td>\n    </tr>\n    <tr>\n      <th>164</th>\n      <td>Vanuatu</td>\n      <td>25443</td>\n    </tr>\n    <tr>\n      <th>165</th>\n      <td>Venezuela</td>\n      <td>2669998</td>\n    </tr>\n    <tr>\n      <th>166</th>\n      <td>Vietnam</td>\n      <td>3268227</td>\n    </tr>\n    <tr>\n      <th>167</th>\n      <td>Yemen</td>\n      <td>887497</td>\n    </tr>\n  </tbody>\n</table>\n<p>168 rows × 2 columns</p>\n</div>"
     },
     "metadata": {},
     "execution_count": 56
    }
   ],
   "source": [
    "plastic_waste1 = plastic_waste.drop(columns=['Code'])\n",
    "plastic_waste1"
   ]
  },
  {
   "cell_type": "code",
   "execution_count": 57,
   "metadata": {},
   "outputs": [
    {
     "output_type": "execute_result",
     "data": {
      "text/plain": [
       "           Entity Code  Year  \\\n",
       "0     Afghanistan  AFG  1990   \n",
       "1     Afghanistan  AFG  1995   \n",
       "2     Afghanistan  AFG  2000   \n",
       "3     Afghanistan  AFG  2005   \n",
       "4     Afghanistan  AFG  2010   \n",
       "...           ...  ...   ...   \n",
       "2635     Zimbabwe  ZWE  2012   \n",
       "2636     Zimbabwe  ZWE  2013   \n",
       "2637     Zimbabwe  ZWE  2014   \n",
       "2638     Zimbabwe  ZWE  2015   \n",
       "2639     Zimbabwe  ZWE  2016   \n",
       "\n",
       "      PM2.5 air pollution, mean annual exposure (micrograms per cubic meter)  \n",
       "0                                             60.936690                       \n",
       "1                                             56.136628                       \n",
       "2                                             56.092028                       \n",
       "3                                             43.234032                       \n",
       "4                                             46.536809                       \n",
       "...                                                 ...                       \n",
       "2635                                          23.359478                       \n",
       "2636                                          23.448376                       \n",
       "2637                                          23.072327                       \n",
       "2638                                          24.371786                       \n",
       "2639                                          24.513035                       \n",
       "\n",
       "[2640 rows x 4 columns]"
      ],
      "text/html": "<div>\n<style scoped>\n    .dataframe tbody tr th:only-of-type {\n        vertical-align: middle;\n    }\n\n    .dataframe tbody tr th {\n        vertical-align: top;\n    }\n\n    .dataframe thead th {\n        text-align: right;\n    }\n</style>\n<table border=\"1\" class=\"dataframe\">\n  <thead>\n    <tr style=\"text-align: right;\">\n      <th></th>\n      <th>Entity</th>\n      <th>Code</th>\n      <th>Year</th>\n      <th>PM2.5 air pollution, mean annual exposure (micrograms per cubic meter)</th>\n    </tr>\n  </thead>\n  <tbody>\n    <tr>\n      <th>0</th>\n      <td>Afghanistan</td>\n      <td>AFG</td>\n      <td>1990</td>\n      <td>60.936690</td>\n    </tr>\n    <tr>\n      <th>1</th>\n      <td>Afghanistan</td>\n      <td>AFG</td>\n      <td>1995</td>\n      <td>56.136628</td>\n    </tr>\n    <tr>\n      <th>2</th>\n      <td>Afghanistan</td>\n      <td>AFG</td>\n      <td>2000</td>\n      <td>56.092028</td>\n    </tr>\n    <tr>\n      <th>3</th>\n      <td>Afghanistan</td>\n      <td>AFG</td>\n      <td>2005</td>\n      <td>43.234032</td>\n    </tr>\n    <tr>\n      <th>4</th>\n      <td>Afghanistan</td>\n      <td>AFG</td>\n      <td>2010</td>\n      <td>46.536809</td>\n    </tr>\n    <tr>\n      <th>...</th>\n      <td>...</td>\n      <td>...</td>\n      <td>...</td>\n      <td>...</td>\n    </tr>\n    <tr>\n      <th>2635</th>\n      <td>Zimbabwe</td>\n      <td>ZWE</td>\n      <td>2012</td>\n      <td>23.359478</td>\n    </tr>\n    <tr>\n      <th>2636</th>\n      <td>Zimbabwe</td>\n      <td>ZWE</td>\n      <td>2013</td>\n      <td>23.448376</td>\n    </tr>\n    <tr>\n      <th>2637</th>\n      <td>Zimbabwe</td>\n      <td>ZWE</td>\n      <td>2014</td>\n      <td>23.072327</td>\n    </tr>\n    <tr>\n      <th>2638</th>\n      <td>Zimbabwe</td>\n      <td>ZWE</td>\n      <td>2015</td>\n      <td>24.371786</td>\n    </tr>\n    <tr>\n      <th>2639</th>\n      <td>Zimbabwe</td>\n      <td>ZWE</td>\n      <td>2016</td>\n      <td>24.513035</td>\n    </tr>\n  </tbody>\n</table>\n<p>2640 rows × 4 columns</p>\n</div>"
     },
     "metadata": {},
     "execution_count": 57
    }
   ],
   "source": [
    "# Particle pollution\n",
    "particulate_pollution"
   ]
  },
  {
   "cell_type": "code",
   "execution_count": 58,
   "metadata": {},
   "outputs": [
    {
     "output_type": "execute_result",
     "data": {
      "text/plain": [
       "2016"
      ]
     },
     "metadata": {},
     "execution_count": 58
    }
   ],
   "source": [
    "# Latest year\n",
    "particulate_pollution['Year'].max()"
   ]
  },
  {
   "cell_type": "code",
   "execution_count": 59,
   "metadata": {},
   "outputs": [
    {
     "output_type": "execute_result",
     "data": {
      "text/plain": [
       "              Entity      Code  Year  \\\n",
       "10       Afghanistan       AFG  2016   \n",
       "21           Albania       ALB  2016   \n",
       "32           Algeria       DZA  2016   \n",
       "43    American Samoa       ASM  2016   \n",
       "54           Andorra       AND  2016   \n",
       "...              ...       ...   ...   \n",
       "2595         Vietnam       VNM  2016   \n",
       "2606           World  OWID_WRL  2016   \n",
       "2617           Yemen       YEM  2016   \n",
       "2628          Zambia       ZMB  2016   \n",
       "2639        Zimbabwe       ZWE  2016   \n",
       "\n",
       "      PM2.5 air pollution, mean annual exposure (micrograms per cubic meter)  \n",
       "10                                            62.854857                       \n",
       "21                                            14.634008                       \n",
       "32                                            37.230956                       \n",
       "43                                             3.763412                       \n",
       "54                                            10.879472                       \n",
       "...                                                 ...                       \n",
       "2595                                          26.285906                       \n",
       "2606                                          49.673465                       \n",
       "2617                                          72.553865                       \n",
       "2628                                          30.550295                       \n",
       "2639                                          24.513035                       \n",
       "\n",
       "[240 rows x 4 columns]"
      ],
      "text/html": "<div>\n<style scoped>\n    .dataframe tbody tr th:only-of-type {\n        vertical-align: middle;\n    }\n\n    .dataframe tbody tr th {\n        vertical-align: top;\n    }\n\n    .dataframe thead th {\n        text-align: right;\n    }\n</style>\n<table border=\"1\" class=\"dataframe\">\n  <thead>\n    <tr style=\"text-align: right;\">\n      <th></th>\n      <th>Entity</th>\n      <th>Code</th>\n      <th>Year</th>\n      <th>PM2.5 air pollution, mean annual exposure (micrograms per cubic meter)</th>\n    </tr>\n  </thead>\n  <tbody>\n    <tr>\n      <th>10</th>\n      <td>Afghanistan</td>\n      <td>AFG</td>\n      <td>2016</td>\n      <td>62.854857</td>\n    </tr>\n    <tr>\n      <th>21</th>\n      <td>Albania</td>\n      <td>ALB</td>\n      <td>2016</td>\n      <td>14.634008</td>\n    </tr>\n    <tr>\n      <th>32</th>\n      <td>Algeria</td>\n      <td>DZA</td>\n      <td>2016</td>\n      <td>37.230956</td>\n    </tr>\n    <tr>\n      <th>43</th>\n      <td>American Samoa</td>\n      <td>ASM</td>\n      <td>2016</td>\n      <td>3.763412</td>\n    </tr>\n    <tr>\n      <th>54</th>\n      <td>Andorra</td>\n      <td>AND</td>\n      <td>2016</td>\n      <td>10.879472</td>\n    </tr>\n    <tr>\n      <th>...</th>\n      <td>...</td>\n      <td>...</td>\n      <td>...</td>\n      <td>...</td>\n    </tr>\n    <tr>\n      <th>2595</th>\n      <td>Vietnam</td>\n      <td>VNM</td>\n      <td>2016</td>\n      <td>26.285906</td>\n    </tr>\n    <tr>\n      <th>2606</th>\n      <td>World</td>\n      <td>OWID_WRL</td>\n      <td>2016</td>\n      <td>49.673465</td>\n    </tr>\n    <tr>\n      <th>2617</th>\n      <td>Yemen</td>\n      <td>YEM</td>\n      <td>2016</td>\n      <td>72.553865</td>\n    </tr>\n    <tr>\n      <th>2628</th>\n      <td>Zambia</td>\n      <td>ZMB</td>\n      <td>2016</td>\n      <td>30.550295</td>\n    </tr>\n    <tr>\n      <th>2639</th>\n      <td>Zimbabwe</td>\n      <td>ZWE</td>\n      <td>2016</td>\n      <td>24.513035</td>\n    </tr>\n  </tbody>\n</table>\n<p>240 rows × 4 columns</p>\n</div>"
     },
     "metadata": {},
     "execution_count": 59
    }
   ],
   "source": [
    "particulate_pollution1 = particulate_pollution[particulate_pollution['Year']==2016]\n",
    "particulate_pollution1"
   ]
  },
  {
   "cell_type": "code",
   "execution_count": 60,
   "metadata": {},
   "outputs": [
    {
     "output_type": "execute_result",
     "data": {
      "text/plain": [
       "              Entity  PM2.5 air pollution(micrograms per cubic meter)\n",
       "10       Afghanistan                                        62.854857\n",
       "21           Albania                                        14.634008\n",
       "32           Algeria                                        37.230956\n",
       "43    American Samoa                                         3.763412\n",
       "54           Andorra                                        10.879472\n",
       "...              ...                                              ...\n",
       "2595         Vietnam                                        26.285906\n",
       "2606           World                                        49.673465\n",
       "2617           Yemen                                        72.553865\n",
       "2628          Zambia                                        30.550295\n",
       "2639        Zimbabwe                                        24.513035\n",
       "\n",
       "[240 rows x 2 columns]"
      ],
      "text/html": "<div>\n<style scoped>\n    .dataframe tbody tr th:only-of-type {\n        vertical-align: middle;\n    }\n\n    .dataframe tbody tr th {\n        vertical-align: top;\n    }\n\n    .dataframe thead th {\n        text-align: right;\n    }\n</style>\n<table border=\"1\" class=\"dataframe\">\n  <thead>\n    <tr style=\"text-align: right;\">\n      <th></th>\n      <th>Entity</th>\n      <th>PM2.5 air pollution(micrograms per cubic meter)</th>\n    </tr>\n  </thead>\n  <tbody>\n    <tr>\n      <th>10</th>\n      <td>Afghanistan</td>\n      <td>62.854857</td>\n    </tr>\n    <tr>\n      <th>21</th>\n      <td>Albania</td>\n      <td>14.634008</td>\n    </tr>\n    <tr>\n      <th>32</th>\n      <td>Algeria</td>\n      <td>37.230956</td>\n    </tr>\n    <tr>\n      <th>43</th>\n      <td>American Samoa</td>\n      <td>3.763412</td>\n    </tr>\n    <tr>\n      <th>54</th>\n      <td>Andorra</td>\n      <td>10.879472</td>\n    </tr>\n    <tr>\n      <th>...</th>\n      <td>...</td>\n      <td>...</td>\n    </tr>\n    <tr>\n      <th>2595</th>\n      <td>Vietnam</td>\n      <td>26.285906</td>\n    </tr>\n    <tr>\n      <th>2606</th>\n      <td>World</td>\n      <td>49.673465</td>\n    </tr>\n    <tr>\n      <th>2617</th>\n      <td>Yemen</td>\n      <td>72.553865</td>\n    </tr>\n    <tr>\n      <th>2628</th>\n      <td>Zambia</td>\n      <td>30.550295</td>\n    </tr>\n    <tr>\n      <th>2639</th>\n      <td>Zimbabwe</td>\n      <td>24.513035</td>\n    </tr>\n  </tbody>\n</table>\n<p>240 rows × 2 columns</p>\n</div>"
     },
     "metadata": {},
     "execution_count": 60
    }
   ],
   "source": [
    "particulate_pollution2 = particulate_pollution1.drop(columns=['Code','Year']).rename(columns={'PM2.5 air pollution, mean annual exposure (micrograms per cubic meter)':'PM2.5 air pollution(micrograms per cubic meter)'})\n",
    "particulate_pollution2"
   ]
  },
  {
   "cell_type": "code",
   "execution_count": 61,
   "metadata": {},
   "outputs": [
    {
     "output_type": "execute_result",
     "data": {
      "text/plain": [
       "                        Entity  Annual CO2 emissions (ppm)  Year  \\\n",
       "0                  Afghanistan                    9.438789  2019   \n",
       "1                       Africa                 1400.841210  2019   \n",
       "2                      Albania                    4.569964  2019   \n",
       "3                      Algeria                  155.725261  2019   \n",
       "4                      Andorra                    0.470909  2019   \n",
       "..                         ...                         ...   ...   \n",
       "209  Wallis and Futuna Islands                    0.027057  2019   \n",
       "210                      World                36572.754220  2019   \n",
       "211                      Yemen                   10.140644  2019   \n",
       "212                     Zambia                    5.228035  2019   \n",
       "213                   Zimbabwe                   12.262698  2019   \n",
       "\n",
       "     Deforestation Rate  \n",
       "0              0.000000  \n",
       "1            -13.757870  \n",
       "2              0.019967  \n",
       "3             17.000600  \n",
       "4              0.000000  \n",
       "..                  ...  \n",
       "209            0.517241  \n",
       "210           -4.072102  \n",
       "211            0.000000  \n",
       "212           -5.082587  \n",
       "213           -7.096472  \n",
       "\n",
       "[214 rows x 4 columns]"
      ],
      "text/html": "<div>\n<style scoped>\n    .dataframe tbody tr th:only-of-type {\n        vertical-align: middle;\n    }\n\n    .dataframe tbody tr th {\n        vertical-align: top;\n    }\n\n    .dataframe thead th {\n        text-align: right;\n    }\n</style>\n<table border=\"1\" class=\"dataframe\">\n  <thead>\n    <tr style=\"text-align: right;\">\n      <th></th>\n      <th>Entity</th>\n      <th>Annual CO2 emissions (ppm)</th>\n      <th>Year</th>\n      <th>Deforestation Rate</th>\n    </tr>\n  </thead>\n  <tbody>\n    <tr>\n      <th>0</th>\n      <td>Afghanistan</td>\n      <td>9.438789</td>\n      <td>2019</td>\n      <td>0.000000</td>\n    </tr>\n    <tr>\n      <th>1</th>\n      <td>Africa</td>\n      <td>1400.841210</td>\n      <td>2019</td>\n      <td>-13.757870</td>\n    </tr>\n    <tr>\n      <th>2</th>\n      <td>Albania</td>\n      <td>4.569964</td>\n      <td>2019</td>\n      <td>0.019967</td>\n    </tr>\n    <tr>\n      <th>3</th>\n      <td>Algeria</td>\n      <td>155.725261</td>\n      <td>2019</td>\n      <td>17.000600</td>\n    </tr>\n    <tr>\n      <th>4</th>\n      <td>Andorra</td>\n      <td>0.470909</td>\n      <td>2019</td>\n      <td>0.000000</td>\n    </tr>\n    <tr>\n      <th>...</th>\n      <td>...</td>\n      <td>...</td>\n      <td>...</td>\n      <td>...</td>\n    </tr>\n    <tr>\n      <th>209</th>\n      <td>Wallis and Futuna Islands</td>\n      <td>0.027057</td>\n      <td>2019</td>\n      <td>0.517241</td>\n    </tr>\n    <tr>\n      <th>210</th>\n      <td>World</td>\n      <td>36572.754220</td>\n      <td>2019</td>\n      <td>-4.072102</td>\n    </tr>\n    <tr>\n      <th>211</th>\n      <td>Yemen</td>\n      <td>10.140644</td>\n      <td>2019</td>\n      <td>0.000000</td>\n    </tr>\n    <tr>\n      <th>212</th>\n      <td>Zambia</td>\n      <td>5.228035</td>\n      <td>2019</td>\n      <td>-5.082587</td>\n    </tr>\n    <tr>\n      <th>213</th>\n      <td>Zimbabwe</td>\n      <td>12.262698</td>\n      <td>2019</td>\n      <td>-7.096472</td>\n    </tr>\n  </tbody>\n</table>\n<p>214 rows × 4 columns</p>\n</div>"
     },
     "metadata": {},
     "execution_count": 61
    }
   ],
   "source": [
    "# Merging the dataframes by country\n",
    "env_df = pd.merge(co2_emission3, forest_cover3, how='inner',on='Entity')\n",
    "env_df"
   ]
  },
  {
   "cell_type": "code",
   "execution_count": 62,
   "metadata": {},
   "outputs": [
    {
     "output_type": "execute_result",
     "data": {
      "text/plain": [
       "                  Entity  Annual CO2 emissions (ppm)  Year  \\\n",
       "0            Afghanistan                    9.438789  2019   \n",
       "1                Algeria                  155.725261  2019   \n",
       "2                 Angola                   34.537201  2019   \n",
       "3    Antigua and Barbuda                    0.565835  2019   \n",
       "4              Argentina                  195.531412  2019   \n",
       "..                   ...                         ...   ...   \n",
       "150              Uruguay                    6.943860  2019   \n",
       "151              Vanuatu                    0.154614  2019   \n",
       "152            Venezuela                  138.764602  2019   \n",
       "153              Vietnam                  206.660895  2019   \n",
       "154                Yemen                   10.140644  2019   \n",
       "\n",
       "     Deforestation Rate  Plastic waste generation (tonnes, total)  \n",
       "0              0.000000                                    112000  \n",
       "1             17.000600                                   1898343  \n",
       "2            -15.266103                                    528843  \n",
       "3            -19.030663                                     22804  \n",
       "4            -18.538234                                   2753550  \n",
       "..                  ...                                       ...  \n",
       "150          151.729323                                    310379  \n",
       "151            0.000000                                     25443  \n",
       "152          -10.965056                                   2669998  \n",
       "153           54.937137                                   3268227  \n",
       "154            0.000000                                    887497  \n",
       "\n",
       "[155 rows x 5 columns]"
      ],
      "text/html": "<div>\n<style scoped>\n    .dataframe tbody tr th:only-of-type {\n        vertical-align: middle;\n    }\n\n    .dataframe tbody tr th {\n        vertical-align: top;\n    }\n\n    .dataframe thead th {\n        text-align: right;\n    }\n</style>\n<table border=\"1\" class=\"dataframe\">\n  <thead>\n    <tr style=\"text-align: right;\">\n      <th></th>\n      <th>Entity</th>\n      <th>Annual CO2 emissions (ppm)</th>\n      <th>Year</th>\n      <th>Deforestation Rate</th>\n      <th>Plastic waste generation (tonnes, total)</th>\n    </tr>\n  </thead>\n  <tbody>\n    <tr>\n      <th>0</th>\n      <td>Afghanistan</td>\n      <td>9.438789</td>\n      <td>2019</td>\n      <td>0.000000</td>\n      <td>112000</td>\n    </tr>\n    <tr>\n      <th>1</th>\n      <td>Algeria</td>\n      <td>155.725261</td>\n      <td>2019</td>\n      <td>17.000600</td>\n      <td>1898343</td>\n    </tr>\n    <tr>\n      <th>2</th>\n      <td>Angola</td>\n      <td>34.537201</td>\n      <td>2019</td>\n      <td>-15.266103</td>\n      <td>528843</td>\n    </tr>\n    <tr>\n      <th>3</th>\n      <td>Antigua and Barbuda</td>\n      <td>0.565835</td>\n      <td>2019</td>\n      <td>-19.030663</td>\n      <td>22804</td>\n    </tr>\n    <tr>\n      <th>4</th>\n      <td>Argentina</td>\n      <td>195.531412</td>\n      <td>2019</td>\n      <td>-18.538234</td>\n      <td>2753550</td>\n    </tr>\n    <tr>\n      <th>...</th>\n      <td>...</td>\n      <td>...</td>\n      <td>...</td>\n      <td>...</td>\n      <td>...</td>\n    </tr>\n    <tr>\n      <th>150</th>\n      <td>Uruguay</td>\n      <td>6.943860</td>\n      <td>2019</td>\n      <td>151.729323</td>\n      <td>310379</td>\n    </tr>\n    <tr>\n      <th>151</th>\n      <td>Vanuatu</td>\n      <td>0.154614</td>\n      <td>2019</td>\n      <td>0.000000</td>\n      <td>25443</td>\n    </tr>\n    <tr>\n      <th>152</th>\n      <td>Venezuela</td>\n      <td>138.764602</td>\n      <td>2019</td>\n      <td>-10.965056</td>\n      <td>2669998</td>\n    </tr>\n    <tr>\n      <th>153</th>\n      <td>Vietnam</td>\n      <td>206.660895</td>\n      <td>2019</td>\n      <td>54.937137</td>\n      <td>3268227</td>\n    </tr>\n    <tr>\n      <th>154</th>\n      <td>Yemen</td>\n      <td>10.140644</td>\n      <td>2019</td>\n      <td>0.000000</td>\n      <td>887497</td>\n    </tr>\n  </tbody>\n</table>\n<p>155 rows × 5 columns</p>\n</div>"
     },
     "metadata": {},
     "execution_count": 62
    }
   ],
   "source": [
    "env_df1 = pd.merge(env_df, plastic_waste1, how='inner', on='Entity')\n",
    "env_df1"
   ]
  },
  {
   "cell_type": "code",
   "execution_count": 63,
   "metadata": {},
   "outputs": [
    {
     "output_type": "execute_result",
     "data": {
      "text/plain": [
       "                  Entity  Annual CO2 emissions (ppm)  Year  \\\n",
       "0            Afghanistan                    9.438789  2019   \n",
       "1                Algeria                  155.725261  2019   \n",
       "2                 Angola                   34.537201  2019   \n",
       "3    Antigua and Barbuda                    0.565835  2019   \n",
       "4              Argentina                  195.531412  2019   \n",
       "..                   ...                         ...   ...   \n",
       "139              Uruguay                    6.943860  2019   \n",
       "140              Vanuatu                    0.154614  2019   \n",
       "141            Venezuela                  138.764602  2019   \n",
       "142              Vietnam                  206.660895  2019   \n",
       "143                Yemen                   10.140644  2019   \n",
       "\n",
       "     Deforestation Rate  Plastic waste generation (tonnes, total)  \\\n",
       "0              0.000000                                    112000   \n",
       "1             17.000600                                   1898343   \n",
       "2            -15.266103                                    528843   \n",
       "3            -19.030663                                     22804   \n",
       "4            -18.538234                                   2753550   \n",
       "..                  ...                                       ...   \n",
       "139          151.729323                                    310379   \n",
       "140            0.000000                                     25443   \n",
       "141          -10.965056                                   2669998   \n",
       "142           54.937137                                   3268227   \n",
       "143            0.000000                                    887497   \n",
       "\n",
       "     PM2.5 air pollution(micrograms per cubic meter)  \n",
       "0                                          62.854857  \n",
       "1                                          37.230956  \n",
       "2                                          36.240479  \n",
       "3                                          15.685943  \n",
       "4                                          14.148167  \n",
       "..                                               ...  \n",
       "139                                        11.523398  \n",
       "140                                         8.848735  \n",
       "141                                        26.331181  \n",
       "142                                        26.285906  \n",
       "143                                        72.553865  \n",
       "\n",
       "[144 rows x 6 columns]"
      ],
      "text/html": "<div>\n<style scoped>\n    .dataframe tbody tr th:only-of-type {\n        vertical-align: middle;\n    }\n\n    .dataframe tbody tr th {\n        vertical-align: top;\n    }\n\n    .dataframe thead th {\n        text-align: right;\n    }\n</style>\n<table border=\"1\" class=\"dataframe\">\n  <thead>\n    <tr style=\"text-align: right;\">\n      <th></th>\n      <th>Entity</th>\n      <th>Annual CO2 emissions (ppm)</th>\n      <th>Year</th>\n      <th>Deforestation Rate</th>\n      <th>Plastic waste generation (tonnes, total)</th>\n      <th>PM2.5 air pollution(micrograms per cubic meter)</th>\n    </tr>\n  </thead>\n  <tbody>\n    <tr>\n      <th>0</th>\n      <td>Afghanistan</td>\n      <td>9.438789</td>\n      <td>2019</td>\n      <td>0.000000</td>\n      <td>112000</td>\n      <td>62.854857</td>\n    </tr>\n    <tr>\n      <th>1</th>\n      <td>Algeria</td>\n      <td>155.725261</td>\n      <td>2019</td>\n      <td>17.000600</td>\n      <td>1898343</td>\n      <td>37.230956</td>\n    </tr>\n    <tr>\n      <th>2</th>\n      <td>Angola</td>\n      <td>34.537201</td>\n      <td>2019</td>\n      <td>-15.266103</td>\n      <td>528843</td>\n      <td>36.240479</td>\n    </tr>\n    <tr>\n      <th>3</th>\n      <td>Antigua and Barbuda</td>\n      <td>0.565835</td>\n      <td>2019</td>\n      <td>-19.030663</td>\n      <td>22804</td>\n      <td>15.685943</td>\n    </tr>\n    <tr>\n      <th>4</th>\n      <td>Argentina</td>\n      <td>195.531412</td>\n      <td>2019</td>\n      <td>-18.538234</td>\n      <td>2753550</td>\n      <td>14.148167</td>\n    </tr>\n    <tr>\n      <th>...</th>\n      <td>...</td>\n      <td>...</td>\n      <td>...</td>\n      <td>...</td>\n      <td>...</td>\n      <td>...</td>\n    </tr>\n    <tr>\n      <th>139</th>\n      <td>Uruguay</td>\n      <td>6.943860</td>\n      <td>2019</td>\n      <td>151.729323</td>\n      <td>310379</td>\n      <td>11.523398</td>\n    </tr>\n    <tr>\n      <th>140</th>\n      <td>Vanuatu</td>\n      <td>0.154614</td>\n      <td>2019</td>\n      <td>0.000000</td>\n      <td>25443</td>\n      <td>8.848735</td>\n    </tr>\n    <tr>\n      <th>141</th>\n      <td>Venezuela</td>\n      <td>138.764602</td>\n      <td>2019</td>\n      <td>-10.965056</td>\n      <td>2669998</td>\n      <td>26.331181</td>\n    </tr>\n    <tr>\n      <th>142</th>\n      <td>Vietnam</td>\n      <td>206.660895</td>\n      <td>2019</td>\n      <td>54.937137</td>\n      <td>3268227</td>\n      <td>26.285906</td>\n    </tr>\n    <tr>\n      <th>143</th>\n      <td>Yemen</td>\n      <td>10.140644</td>\n      <td>2019</td>\n      <td>0.000000</td>\n      <td>887497</td>\n      <td>72.553865</td>\n    </tr>\n  </tbody>\n</table>\n<p>144 rows × 6 columns</p>\n</div>"
     },
     "metadata": {},
     "execution_count": 63
    }
   ],
   "source": [
    "env_df2 = pd.merge(env_df1, particulate_pollution2, how='inner',on='Entity')\n",
    "env_df2"
   ]
  },
  {
   "cell_type": "code",
   "execution_count": 83,
   "metadata": {},
   "outputs": [
    {
     "output_type": "execute_result",
     "data": {
      "text/plain": [
       "                 Country  Annual CO2 emissions (ppm)  Year  \\\n",
       "0            Afghanistan                    9.438789  2019   \n",
       "1                Algeria                  155.725261  2019   \n",
       "2                 Angola                   34.537201  2019   \n",
       "3    Antigua and Barbuda                    0.565835  2019   \n",
       "4              Argentina                  195.531412  2019   \n",
       "..                   ...                         ...   ...   \n",
       "139              Uruguay                    6.943860  2019   \n",
       "140              Vanuatu                    0.154614  2019   \n",
       "141            Venezuela                  138.764602  2019   \n",
       "142              Vietnam                  206.660895  2019   \n",
       "143                Yemen                   10.140644  2019   \n",
       "\n",
       "     Deforestation Rate  Plastic waste generation (tonnes, total)  \\\n",
       "0              0.000000                                    112000   \n",
       "1             17.000600                                   1898343   \n",
       "2            -15.266103                                    528843   \n",
       "3            -19.030663                                     22804   \n",
       "4            -18.538234                                   2753550   \n",
       "..                  ...                                       ...   \n",
       "139          151.729323                                    310379   \n",
       "140            0.000000                                     25443   \n",
       "141          -10.965056                                   2669998   \n",
       "142           54.937137                                   3268227   \n",
       "143            0.000000                                    887497   \n",
       "\n",
       "     PM2.5 air pollution(micrograms per cubic meter)  \n",
       "0                                          62.854857  \n",
       "1                                          37.230956  \n",
       "2                                          36.240479  \n",
       "3                                          15.685943  \n",
       "4                                          14.148167  \n",
       "..                                               ...  \n",
       "139                                        11.523398  \n",
       "140                                         8.848735  \n",
       "141                                        26.331181  \n",
       "142                                        26.285906  \n",
       "143                                        72.553865  \n",
       "\n",
       "[144 rows x 6 columns]"
      ],
      "text/html": "<div>\n<style scoped>\n    .dataframe tbody tr th:only-of-type {\n        vertical-align: middle;\n    }\n\n    .dataframe tbody tr th {\n        vertical-align: top;\n    }\n\n    .dataframe thead th {\n        text-align: right;\n    }\n</style>\n<table border=\"1\" class=\"dataframe\">\n  <thead>\n    <tr style=\"text-align: right;\">\n      <th></th>\n      <th>Country</th>\n      <th>Annual CO2 emissions (ppm)</th>\n      <th>Year</th>\n      <th>Deforestation Rate</th>\n      <th>Plastic waste generation (tonnes, total)</th>\n      <th>PM2.5 air pollution(micrograms per cubic meter)</th>\n    </tr>\n  </thead>\n  <tbody>\n    <tr>\n      <th>0</th>\n      <td>Afghanistan</td>\n      <td>9.438789</td>\n      <td>2019</td>\n      <td>0.000000</td>\n      <td>112000</td>\n      <td>62.854857</td>\n    </tr>\n    <tr>\n      <th>1</th>\n      <td>Algeria</td>\n      <td>155.725261</td>\n      <td>2019</td>\n      <td>17.000600</td>\n      <td>1898343</td>\n      <td>37.230956</td>\n    </tr>\n    <tr>\n      <th>2</th>\n      <td>Angola</td>\n      <td>34.537201</td>\n      <td>2019</td>\n      <td>-15.266103</td>\n      <td>528843</td>\n      <td>36.240479</td>\n    </tr>\n    <tr>\n      <th>3</th>\n      <td>Antigua and Barbuda</td>\n      <td>0.565835</td>\n      <td>2019</td>\n      <td>-19.030663</td>\n      <td>22804</td>\n      <td>15.685943</td>\n    </tr>\n    <tr>\n      <th>4</th>\n      <td>Argentina</td>\n      <td>195.531412</td>\n      <td>2019</td>\n      <td>-18.538234</td>\n      <td>2753550</td>\n      <td>14.148167</td>\n    </tr>\n    <tr>\n      <th>...</th>\n      <td>...</td>\n      <td>...</td>\n      <td>...</td>\n      <td>...</td>\n      <td>...</td>\n      <td>...</td>\n    </tr>\n    <tr>\n      <th>139</th>\n      <td>Uruguay</td>\n      <td>6.943860</td>\n      <td>2019</td>\n      <td>151.729323</td>\n      <td>310379</td>\n      <td>11.523398</td>\n    </tr>\n    <tr>\n      <th>140</th>\n      <td>Vanuatu</td>\n      <td>0.154614</td>\n      <td>2019</td>\n      <td>0.000000</td>\n      <td>25443</td>\n      <td>8.848735</td>\n    </tr>\n    <tr>\n      <th>141</th>\n      <td>Venezuela</td>\n      <td>138.764602</td>\n      <td>2019</td>\n      <td>-10.965056</td>\n      <td>2669998</td>\n      <td>26.331181</td>\n    </tr>\n    <tr>\n      <th>142</th>\n      <td>Vietnam</td>\n      <td>206.660895</td>\n      <td>2019</td>\n      <td>54.937137</td>\n      <td>3268227</td>\n      <td>26.285906</td>\n    </tr>\n    <tr>\n      <th>143</th>\n      <td>Yemen</td>\n      <td>10.140644</td>\n      <td>2019</td>\n      <td>0.000000</td>\n      <td>887497</td>\n      <td>72.553865</td>\n    </tr>\n  </tbody>\n</table>\n<p>144 rows × 6 columns</p>\n</div>"
     },
     "metadata": {},
     "execution_count": 83
    }
   ],
   "source": [
    "env_df3 = env_df2.rename(columns={'Entity':'Country'})\n",
    "env_df3"
   ]
  },
  {
   "source": [
    "# Agricultural Dataset"
   ],
   "cell_type": "markdown",
   "metadata": {}
  },
  {
   "cell_type": "code",
   "execution_count": 64,
   "metadata": {},
   "outputs": [
    {
     "output_type": "execute_result",
     "data": {
      "text/plain": [
       "    Domain Code Domain  Area Code         Area  Element Code Element  \\\n",
       "0            QC  Crops          2  Afghanistan          5419   Yield   \n",
       "1            QC  Crops          2  Afghanistan          5419   Yield   \n",
       "2            QC  Crops          2  Afghanistan          5419   Yield   \n",
       "3            QC  Crops          3      Albania          5419   Yield   \n",
       "4            QC  Crops          3      Albania          5419   Yield   \n",
       "..          ...    ...        ...          ...           ...     ...   \n",
       "565          QC  Crops        251       Zambia          5419   Yield   \n",
       "566          QC  Crops        181     Zimbabwe          5419   Yield   \n",
       "567          QC  Crops        181     Zimbabwe          5419   Yield   \n",
       "568          QC  Crops        181     Zimbabwe          5419   Yield   \n",
       "569          QC  Crops        181     Zimbabwe          5419   Yield   \n",
       "\n",
       "     Item Code      Item  Year Code  Year   Unit  Value Flag Flag Description  \n",
       "0           56     Maize       2016  2016  hg/ha  20517   Fc  Calculated data  \n",
       "1           27      Rice       2016  2016  hg/ha  29963   Fc  Calculated data  \n",
       "2           15     Wheat       2016  2016  hg/ha  19803   Fc  Calculated data  \n",
       "3           56     Maize       2016  2016  hg/ha  64877   Fc  Calculated data  \n",
       "4          236  Soybeans       2016  2016  hg/ha  25152   Fc  Calculated data  \n",
       "..         ...       ...        ...   ...    ...    ...  ...              ...  \n",
       "565         15     Wheat       2016  2016  hg/ha  66005   Fc  Calculated data  \n",
       "566         56     Maize       2016  2016  hg/ha   4405   Fc  Calculated data  \n",
       "567         27      Rice       2016  2016  hg/ha  22671   Fc  Calculated data  \n",
       "568        236  Soybeans       2016  2016  hg/ha  11958   Fc  Calculated data  \n",
       "569         15     Wheat       2016  2016  hg/ha  19013   Fc  Calculated data  \n",
       "\n",
       "[570 rows x 14 columns]"
      ],
      "text/html": "<div>\n<style scoped>\n    .dataframe tbody tr th:only-of-type {\n        vertical-align: middle;\n    }\n\n    .dataframe tbody tr th {\n        vertical-align: top;\n    }\n\n    .dataframe thead th {\n        text-align: right;\n    }\n</style>\n<table border=\"1\" class=\"dataframe\">\n  <thead>\n    <tr style=\"text-align: right;\">\n      <th></th>\n      <th>Domain Code</th>\n      <th>Domain</th>\n      <th>Area Code</th>\n      <th>Area</th>\n      <th>Element Code</th>\n      <th>Element</th>\n      <th>Item Code</th>\n      <th>Item</th>\n      <th>Year Code</th>\n      <th>Year</th>\n      <th>Unit</th>\n      <th>Value</th>\n      <th>Flag</th>\n      <th>Flag Description</th>\n    </tr>\n  </thead>\n  <tbody>\n    <tr>\n      <th>0</th>\n      <td>QC</td>\n      <td>Crops</td>\n      <td>2</td>\n      <td>Afghanistan</td>\n      <td>5419</td>\n      <td>Yield</td>\n      <td>56</td>\n      <td>Maize</td>\n      <td>2016</td>\n      <td>2016</td>\n      <td>hg/ha</td>\n      <td>20517</td>\n      <td>Fc</td>\n      <td>Calculated data</td>\n    </tr>\n    <tr>\n      <th>1</th>\n      <td>QC</td>\n      <td>Crops</td>\n      <td>2</td>\n      <td>Afghanistan</td>\n      <td>5419</td>\n      <td>Yield</td>\n      <td>27</td>\n      <td>Rice</td>\n      <td>2016</td>\n      <td>2016</td>\n      <td>hg/ha</td>\n      <td>29963</td>\n      <td>Fc</td>\n      <td>Calculated data</td>\n    </tr>\n    <tr>\n      <th>2</th>\n      <td>QC</td>\n      <td>Crops</td>\n      <td>2</td>\n      <td>Afghanistan</td>\n      <td>5419</td>\n      <td>Yield</td>\n      <td>15</td>\n      <td>Wheat</td>\n      <td>2016</td>\n      <td>2016</td>\n      <td>hg/ha</td>\n      <td>19803</td>\n      <td>Fc</td>\n      <td>Calculated data</td>\n    </tr>\n    <tr>\n      <th>3</th>\n      <td>QC</td>\n      <td>Crops</td>\n      <td>3</td>\n      <td>Albania</td>\n      <td>5419</td>\n      <td>Yield</td>\n      <td>56</td>\n      <td>Maize</td>\n      <td>2016</td>\n      <td>2016</td>\n      <td>hg/ha</td>\n      <td>64877</td>\n      <td>Fc</td>\n      <td>Calculated data</td>\n    </tr>\n    <tr>\n      <th>4</th>\n      <td>QC</td>\n      <td>Crops</td>\n      <td>3</td>\n      <td>Albania</td>\n      <td>5419</td>\n      <td>Yield</td>\n      <td>236</td>\n      <td>Soybeans</td>\n      <td>2016</td>\n      <td>2016</td>\n      <td>hg/ha</td>\n      <td>25152</td>\n      <td>Fc</td>\n      <td>Calculated data</td>\n    </tr>\n    <tr>\n      <th>...</th>\n      <td>...</td>\n      <td>...</td>\n      <td>...</td>\n      <td>...</td>\n      <td>...</td>\n      <td>...</td>\n      <td>...</td>\n      <td>...</td>\n      <td>...</td>\n      <td>...</td>\n      <td>...</td>\n      <td>...</td>\n      <td>...</td>\n      <td>...</td>\n    </tr>\n    <tr>\n      <th>565</th>\n      <td>QC</td>\n      <td>Crops</td>\n      <td>251</td>\n      <td>Zambia</td>\n      <td>5419</td>\n      <td>Yield</td>\n      <td>15</td>\n      <td>Wheat</td>\n      <td>2016</td>\n      <td>2016</td>\n      <td>hg/ha</td>\n      <td>66005</td>\n      <td>Fc</td>\n      <td>Calculated data</td>\n    </tr>\n    <tr>\n      <th>566</th>\n      <td>QC</td>\n      <td>Crops</td>\n      <td>181</td>\n      <td>Zimbabwe</td>\n      <td>5419</td>\n      <td>Yield</td>\n      <td>56</td>\n      <td>Maize</td>\n      <td>2016</td>\n      <td>2016</td>\n      <td>hg/ha</td>\n      <td>4405</td>\n      <td>Fc</td>\n      <td>Calculated data</td>\n    </tr>\n    <tr>\n      <th>567</th>\n      <td>QC</td>\n      <td>Crops</td>\n      <td>181</td>\n      <td>Zimbabwe</td>\n      <td>5419</td>\n      <td>Yield</td>\n      <td>27</td>\n      <td>Rice</td>\n      <td>2016</td>\n      <td>2016</td>\n      <td>hg/ha</td>\n      <td>22671</td>\n      <td>Fc</td>\n      <td>Calculated data</td>\n    </tr>\n    <tr>\n      <th>568</th>\n      <td>QC</td>\n      <td>Crops</td>\n      <td>181</td>\n      <td>Zimbabwe</td>\n      <td>5419</td>\n      <td>Yield</td>\n      <td>236</td>\n      <td>Soybeans</td>\n      <td>2016</td>\n      <td>2016</td>\n      <td>hg/ha</td>\n      <td>11958</td>\n      <td>Fc</td>\n      <td>Calculated data</td>\n    </tr>\n    <tr>\n      <th>569</th>\n      <td>QC</td>\n      <td>Crops</td>\n      <td>181</td>\n      <td>Zimbabwe</td>\n      <td>5419</td>\n      <td>Yield</td>\n      <td>15</td>\n      <td>Wheat</td>\n      <td>2016</td>\n      <td>2016</td>\n      <td>hg/ha</td>\n      <td>19013</td>\n      <td>Fc</td>\n      <td>Calculated data</td>\n    </tr>\n  </tbody>\n</table>\n<p>570 rows × 14 columns</p>\n</div>"
     },
     "metadata": {},
     "execution_count": 64
    }
   ],
   "source": [
    "agriculture = pd.read_csv('Dataset/agriculturaldata/worldagriculturaldata.csv')\n",
    "agriculture"
   ]
  },
  {
   "cell_type": "code",
   "execution_count": 65,
   "metadata": {},
   "outputs": [],
   "source": [
    "# Concatenating the items\n",
    "agriculture['Item'] = agriculture.groupby(['Area'])['Item'].transform(                                      \n",
    "lambda x: ' '.join(x))"
   ]
  },
  {
   "cell_type": "code",
   "execution_count": 66,
   "metadata": {},
   "outputs": [
    {
     "output_type": "execute_result",
     "data": {
      "text/plain": [
       "    Domain Code Domain  Area Code         Area  Element Code Element  \\\n",
       "0            QC  Crops          2  Afghanistan          5419   Yield   \n",
       "1            QC  Crops          2  Afghanistan          5419   Yield   \n",
       "2            QC  Crops          2  Afghanistan          5419   Yield   \n",
       "3            QC  Crops          3      Albania          5419   Yield   \n",
       "4            QC  Crops          3      Albania          5419   Yield   \n",
       "..          ...    ...        ...          ...           ...     ...   \n",
       "565          QC  Crops        251       Zambia          5419   Yield   \n",
       "566          QC  Crops        181     Zimbabwe          5419   Yield   \n",
       "567          QC  Crops        181     Zimbabwe          5419   Yield   \n",
       "568          QC  Crops        181     Zimbabwe          5419   Yield   \n",
       "569          QC  Crops        181     Zimbabwe          5419   Yield   \n",
       "\n",
       "     Item Code                       Item  Year Code  Year   Unit  Value Flag  \\\n",
       "0           56           Maize Rice Wheat       2016  2016  hg/ha  20517   Fc   \n",
       "1           27           Maize Rice Wheat       2016  2016  hg/ha  29963   Fc   \n",
       "2           15           Maize Rice Wheat       2016  2016  hg/ha  19803   Fc   \n",
       "3           56       Maize Soybeans Wheat       2016  2016  hg/ha  64877   Fc   \n",
       "4          236       Maize Soybeans Wheat       2016  2016  hg/ha  25152   Fc   \n",
       "..         ...                        ...        ...   ...    ...    ...  ...   \n",
       "565         15  Maize Rice Soybeans Wheat       2016  2016  hg/ha  66005   Fc   \n",
       "566         56  Maize Rice Soybeans Wheat       2016  2016  hg/ha   4405   Fc   \n",
       "567         27  Maize Rice Soybeans Wheat       2016  2016  hg/ha  22671   Fc   \n",
       "568        236  Maize Rice Soybeans Wheat       2016  2016  hg/ha  11958   Fc   \n",
       "569         15  Maize Rice Soybeans Wheat       2016  2016  hg/ha  19013   Fc   \n",
       "\n",
       "    Flag Description  \n",
       "0    Calculated data  \n",
       "1    Calculated data  \n",
       "2    Calculated data  \n",
       "3    Calculated data  \n",
       "4    Calculated data  \n",
       "..               ...  \n",
       "565  Calculated data  \n",
       "566  Calculated data  \n",
       "567  Calculated data  \n",
       "568  Calculated data  \n",
       "569  Calculated data  \n",
       "\n",
       "[570 rows x 14 columns]"
      ],
      "text/html": "<div>\n<style scoped>\n    .dataframe tbody tr th:only-of-type {\n        vertical-align: middle;\n    }\n\n    .dataframe tbody tr th {\n        vertical-align: top;\n    }\n\n    .dataframe thead th {\n        text-align: right;\n    }\n</style>\n<table border=\"1\" class=\"dataframe\">\n  <thead>\n    <tr style=\"text-align: right;\">\n      <th></th>\n      <th>Domain Code</th>\n      <th>Domain</th>\n      <th>Area Code</th>\n      <th>Area</th>\n      <th>Element Code</th>\n      <th>Element</th>\n      <th>Item Code</th>\n      <th>Item</th>\n      <th>Year Code</th>\n      <th>Year</th>\n      <th>Unit</th>\n      <th>Value</th>\n      <th>Flag</th>\n      <th>Flag Description</th>\n    </tr>\n  </thead>\n  <tbody>\n    <tr>\n      <th>0</th>\n      <td>QC</td>\n      <td>Crops</td>\n      <td>2</td>\n      <td>Afghanistan</td>\n      <td>5419</td>\n      <td>Yield</td>\n      <td>56</td>\n      <td>Maize Rice Wheat</td>\n      <td>2016</td>\n      <td>2016</td>\n      <td>hg/ha</td>\n      <td>20517</td>\n      <td>Fc</td>\n      <td>Calculated data</td>\n    </tr>\n    <tr>\n      <th>1</th>\n      <td>QC</td>\n      <td>Crops</td>\n      <td>2</td>\n      <td>Afghanistan</td>\n      <td>5419</td>\n      <td>Yield</td>\n      <td>27</td>\n      <td>Maize Rice Wheat</td>\n      <td>2016</td>\n      <td>2016</td>\n      <td>hg/ha</td>\n      <td>29963</td>\n      <td>Fc</td>\n      <td>Calculated data</td>\n    </tr>\n    <tr>\n      <th>2</th>\n      <td>QC</td>\n      <td>Crops</td>\n      <td>2</td>\n      <td>Afghanistan</td>\n      <td>5419</td>\n      <td>Yield</td>\n      <td>15</td>\n      <td>Maize Rice Wheat</td>\n      <td>2016</td>\n      <td>2016</td>\n      <td>hg/ha</td>\n      <td>19803</td>\n      <td>Fc</td>\n      <td>Calculated data</td>\n    </tr>\n    <tr>\n      <th>3</th>\n      <td>QC</td>\n      <td>Crops</td>\n      <td>3</td>\n      <td>Albania</td>\n      <td>5419</td>\n      <td>Yield</td>\n      <td>56</td>\n      <td>Maize Soybeans Wheat</td>\n      <td>2016</td>\n      <td>2016</td>\n      <td>hg/ha</td>\n      <td>64877</td>\n      <td>Fc</td>\n      <td>Calculated data</td>\n    </tr>\n    <tr>\n      <th>4</th>\n      <td>QC</td>\n      <td>Crops</td>\n      <td>3</td>\n      <td>Albania</td>\n      <td>5419</td>\n      <td>Yield</td>\n      <td>236</td>\n      <td>Maize Soybeans Wheat</td>\n      <td>2016</td>\n      <td>2016</td>\n      <td>hg/ha</td>\n      <td>25152</td>\n      <td>Fc</td>\n      <td>Calculated data</td>\n    </tr>\n    <tr>\n      <th>...</th>\n      <td>...</td>\n      <td>...</td>\n      <td>...</td>\n      <td>...</td>\n      <td>...</td>\n      <td>...</td>\n      <td>...</td>\n      <td>...</td>\n      <td>...</td>\n      <td>...</td>\n      <td>...</td>\n      <td>...</td>\n      <td>...</td>\n      <td>...</td>\n    </tr>\n    <tr>\n      <th>565</th>\n      <td>QC</td>\n      <td>Crops</td>\n      <td>251</td>\n      <td>Zambia</td>\n      <td>5419</td>\n      <td>Yield</td>\n      <td>15</td>\n      <td>Maize Rice Soybeans Wheat</td>\n      <td>2016</td>\n      <td>2016</td>\n      <td>hg/ha</td>\n      <td>66005</td>\n      <td>Fc</td>\n      <td>Calculated data</td>\n    </tr>\n    <tr>\n      <th>566</th>\n      <td>QC</td>\n      <td>Crops</td>\n      <td>181</td>\n      <td>Zimbabwe</td>\n      <td>5419</td>\n      <td>Yield</td>\n      <td>56</td>\n      <td>Maize Rice Soybeans Wheat</td>\n      <td>2016</td>\n      <td>2016</td>\n      <td>hg/ha</td>\n      <td>4405</td>\n      <td>Fc</td>\n      <td>Calculated data</td>\n    </tr>\n    <tr>\n      <th>567</th>\n      <td>QC</td>\n      <td>Crops</td>\n      <td>181</td>\n      <td>Zimbabwe</td>\n      <td>5419</td>\n      <td>Yield</td>\n      <td>27</td>\n      <td>Maize Rice Soybeans Wheat</td>\n      <td>2016</td>\n      <td>2016</td>\n      <td>hg/ha</td>\n      <td>22671</td>\n      <td>Fc</td>\n      <td>Calculated data</td>\n    </tr>\n    <tr>\n      <th>568</th>\n      <td>QC</td>\n      <td>Crops</td>\n      <td>181</td>\n      <td>Zimbabwe</td>\n      <td>5419</td>\n      <td>Yield</td>\n      <td>236</td>\n      <td>Maize Rice Soybeans Wheat</td>\n      <td>2016</td>\n      <td>2016</td>\n      <td>hg/ha</td>\n      <td>11958</td>\n      <td>Fc</td>\n      <td>Calculated data</td>\n    </tr>\n    <tr>\n      <th>569</th>\n      <td>QC</td>\n      <td>Crops</td>\n      <td>181</td>\n      <td>Zimbabwe</td>\n      <td>5419</td>\n      <td>Yield</td>\n      <td>15</td>\n      <td>Maize Rice Soybeans Wheat</td>\n      <td>2016</td>\n      <td>2016</td>\n      <td>hg/ha</td>\n      <td>19013</td>\n      <td>Fc</td>\n      <td>Calculated data</td>\n    </tr>\n  </tbody>\n</table>\n<p>570 rows × 14 columns</p>\n</div>"
     },
     "metadata": {},
     "execution_count": 66
    }
   ],
   "source": [
    "agriculture"
   ]
  },
  {
   "cell_type": "code",
   "execution_count": 67,
   "metadata": {},
   "outputs": [
    {
     "output_type": "execute_result",
     "data": {
      "text/plain": [
       "['Afghanistan',\n",
       " 'Albania',\n",
       " 'Algeria',\n",
       " 'American Samoa',\n",
       " 'Angola',\n",
       " 'Antigua and Barbuda',\n",
       " 'Argentina',\n",
       " 'Armenia',\n",
       " 'Australia',\n",
       " 'Austria',\n",
       " 'Azerbaijan',\n",
       " 'Bahamas',\n",
       " 'Bangladesh',\n",
       " 'Barbados',\n",
       " 'Belarus',\n",
       " 'Belgium',\n",
       " 'Belize',\n",
       " 'Benin',\n",
       " 'Bhutan',\n",
       " 'Bolivia',\n",
       " 'Bosnia',\n",
       " 'Brazil',\n",
       " 'Brunei',\n",
       " 'Bulgaria',\n",
       " 'Burkina Faso',\n",
       " 'Burundi',\n",
       " 'Cabo Verde',\n",
       " 'Cambodia',\n",
       " 'Cameroon',\n",
       " 'Canada',\n",
       " 'Cayman Islands',\n",
       " 'Central African Republic',\n",
       " 'Chad',\n",
       " 'Chile',\n",
       " 'China',\n",
       " 'Hong Kong',\n",
       " 'Taiwan',\n",
       " 'Colombia',\n",
       " 'Comoros',\n",
       " 'Congo',\n",
       " 'Costa Rica',\n",
       " \"Côte d'Ivoire\",\n",
       " 'Croatia',\n",
       " 'Cuba',\n",
       " 'Cyprus',\n",
       " 'Czechia',\n",
       " 'North Korea',\n",
       " 'Democratic Republic of the Congo',\n",
       " 'Denmark',\n",
       " 'Djibouti',\n",
       " 'Dominica',\n",
       " 'Dominican Republic',\n",
       " 'Ecuador',\n",
       " 'Egypt',\n",
       " 'El Salvador',\n",
       " 'Eritrea',\n",
       " 'Estonia',\n",
       " 'Eswatini',\n",
       " 'Ethiopia',\n",
       " 'Fiji',\n",
       " 'Finland',\n",
       " 'France',\n",
       " 'French Guyana',\n",
       " 'Gabon',\n",
       " 'Gambia',\n",
       " 'Georgia',\n",
       " 'Germany',\n",
       " 'Ghana',\n",
       " 'Greece',\n",
       " 'Grenada',\n",
       " 'Guadeloupe',\n",
       " 'Guam',\n",
       " 'Guatemala',\n",
       " 'Guinea',\n",
       " 'Guinea-Bissau',\n",
       " 'Guyana',\n",
       " 'Haiti',\n",
       " 'Honduras',\n",
       " 'Hungary',\n",
       " 'India',\n",
       " 'Indonesia',\n",
       " 'Iran',\n",
       " 'Iraq',\n",
       " 'Ireland',\n",
       " 'Israel',\n",
       " 'Italy',\n",
       " 'Jamaica',\n",
       " 'Japan',\n",
       " 'Jordan',\n",
       " 'Kazakhstan',\n",
       " 'Kenya',\n",
       " 'Kuwait',\n",
       " 'Kyrgyzstan',\n",
       " 'Laos',\n",
       " 'Latvia',\n",
       " 'Lebanon',\n",
       " 'Lesotho',\n",
       " 'Liberia',\n",
       " 'Libya',\n",
       " 'Lithuania',\n",
       " 'Luxembourg',\n",
       " 'Madagascar',\n",
       " 'Malawi',\n",
       " 'Malaysia',\n",
       " 'Maldives',\n",
       " 'Mali',\n",
       " 'Malta',\n",
       " 'Martinique',\n",
       " 'Mauritania',\n",
       " 'Mauritius',\n",
       " 'Mexico',\n",
       " 'Micronesia',\n",
       " 'Mongolia',\n",
       " 'Montenegro',\n",
       " 'Montserrat',\n",
       " 'Morocco',\n",
       " 'Mozambique',\n",
       " 'Myanmar',\n",
       " 'Namibia',\n",
       " 'Nepal',\n",
       " 'Netherlands',\n",
       " 'New Caledonia',\n",
       " 'New Zealand',\n",
       " 'Nicaragua',\n",
       " 'Niger',\n",
       " 'Nigeria',\n",
       " 'Niue',\n",
       " 'North Macedonia',\n",
       " 'Norway',\n",
       " 'Oman',\n",
       " 'Pakistan',\n",
       " 'Palestine',\n",
       " 'Panama',\n",
       " 'Papua New Guinea',\n",
       " 'Paraguay',\n",
       " 'Peru',\n",
       " 'Philippines',\n",
       " 'Poland',\n",
       " 'Portugal',\n",
       " 'Puerto Rico',\n",
       " 'Qatar',\n",
       " 'South Korea',\n",
       " 'Republic of Moldova',\n",
       " 'Réunion',\n",
       " 'Romania',\n",
       " 'Russia',\n",
       " 'Rwanda',\n",
       " 'Saint Lucia',\n",
       " 'Saint Vincent',\n",
       " 'Samoa',\n",
       " 'Sao Tome and Principe',\n",
       " 'Saudi Arabia',\n",
       " 'Senegal',\n",
       " 'Serbia',\n",
       " 'Sierra Leone',\n",
       " 'Slovakia',\n",
       " 'Slovenia',\n",
       " 'Solomon Islands',\n",
       " 'Somalia',\n",
       " 'South Africa',\n",
       " 'South Sudan',\n",
       " 'Spain',\n",
       " 'Sri Lanka',\n",
       " 'Sudan',\n",
       " 'Suriname',\n",
       " 'Sweden',\n",
       " 'Switzerland',\n",
       " 'Syria',\n",
       " 'Tajikistan',\n",
       " 'Thailand',\n",
       " 'Timor',\n",
       " 'Togo',\n",
       " 'Tonga',\n",
       " 'Trinidad and Tobago',\n",
       " 'Tunisia',\n",
       " 'Turkey',\n",
       " 'Turkmenistan',\n",
       " 'Uganda',\n",
       " 'Ukraine',\n",
       " 'United Arab Emirates',\n",
       " 'United Kingdom',\n",
       " 'Tanzania',\n",
       " 'United States',\n",
       " 'Uruguay',\n",
       " 'Uzbekistan',\n",
       " 'Vanuatu',\n",
       " 'Venezuela',\n",
       " 'Viet Nam',\n",
       " 'Wallis and Futuna Islands',\n",
       " 'Yemen',\n",
       " 'Zambia',\n",
       " 'Zimbabwe']"
      ]
     },
     "metadata": {},
     "execution_count": 67
    }
   ],
   "source": [
    "# Creating a list of countries to iterate over\n",
    "area_list = agriculture['Area'].tolist()\n",
    "area_list1 = list(dict.fromkeys(area_list))\n",
    "area_list1"
   ]
  },
  {
   "cell_type": "code",
   "execution_count": 68,
   "metadata": {
    "tags": []
   },
   "outputs": [
    {
     "output_type": "stream",
     "name": "stdout",
     "text": [
      "Afghanistan\n",
      " Staple Crop Yeild 70283\n",
      "Albania\n",
      " Staple Crop Yeild 129029\n",
      "Algeria\n",
      " Staple Crop Yeild 76438\n",
      "American Samoa\n",
      " Staple Crop Yeild 35941\n",
      "Angola\n",
      " Staple Crop Yeild 31962\n",
      "Antigua and Barbuda\n",
      " Staple Crop Yeild 48045\n",
      "Argentina\n",
      " Staple Crop Yeild 200828\n",
      "Armenia\n",
      " Staple Crop Yeild 96336\n",
      "Australia\n",
      " Staple Crop Yeild 216760\n",
      "Austria\n",
      " Staple Crop Yeild 204811\n",
      "Azerbaijan\n",
      " Staple Crop Yeild 120472\n",
      "Bahamas\n",
      " Staple Crop Yeild 87327\n",
      "Bangladesh\n",
      " Staple Crop Yeild 167508\n",
      "Barbados\n",
      " Staple Crop Yeild 145004\n",
      "Belarus\n",
      " Staple Crop Yeild 92557\n",
      "Belgium\n",
      " Staple Crop Yeild 160139\n",
      "Belize\n",
      " Staple Crop Yeild 192691\n",
      "Benin\n",
      " Staple Crop Yeild 206058\n",
      "Bhutan\n",
      " Staple Crop Yeild 102874\n",
      "Bolivia\n",
      " Staple Crop Yeild 88115\n",
      "Bosnia\n",
      " Staple Crop Yeild 133118\n",
      "Brazil\n",
      " Staple Crop Yeild 255253\n",
      "Brunei\n",
      " Staple Crop Yeild 15584\n",
      "Bulgaria\n",
      " Staple Crop Yeild 169141\n",
      "Burkina Faso\n",
      " Staple Crop Yeild 111192\n",
      "Burundi\n",
      " Staple Crop Yeild 126906\n",
      "Cabo Verde\n",
      " Staple Crop Yeild 1780\n",
      "Cambodia\n",
      " Staple Crop Yeild 96915\n",
      "Cameroon\n",
      " Staple Crop Yeild 168843\n",
      "Canada\n",
      " Staple Crop Yeild 170765\n",
      "Cayman Islands\n",
      " Staple Crop Yeild 33739\n",
      "Central African Republic\n",
      " Staple Crop Yeild 105219\n",
      "Chad\n",
      " Staple Crop Yeild 142627\n",
      "Chile\n",
      " Staple Crop Yeild 241710\n",
      "China\n",
      " Staple Crop Yeild 400546\n",
      "Hong Kong\n",
      " Staple Crop Yeild 19902\n",
      "Taiwan\n",
      " Staple Crop Yeild 154253\n",
      "Colombia\n",
      " Staple Crop Yeild 226117\n",
      "Comoros\n",
      " Staple Crop Yeild 87414\n",
      "Congo\n",
      " Staple Crop Yeild 60811\n",
      "Costa Rica\n",
      " Staple Crop Yeild 211815\n",
      "Côte d'Ivoire\n",
      " Staple Crop Yeild 121202\n",
      "Croatia\n",
      " Staple Crop Yeild 173054\n",
      "Cuba\n",
      " Staple Crop Yeild 117754\n",
      "Cyprus\n",
      " Staple Crop Yeild 8230\n",
      "Czechia\n",
      " Staple Crop Yeild 189210\n",
      "North Korea\n",
      " Staple Crop Yeild 119194\n",
      "Democratic Republic of the Congo\n",
      " Staple Crop Yeild 76490\n",
      "Denmark\n",
      " Staple Crop Yeild 148909\n",
      "Djibouti\n",
      " Staple Crop Yeild 20503\n",
      "Dominica\n",
      " Staple Crop Yeild 133487\n",
      "Dominican Republic\n",
      " Staple Crop Yeild 117025\n",
      "Ecuador\n",
      " Staple Crop Yeild 108702\n",
      "Egypt\n",
      " Staple Crop Yeild 269276\n",
      "El Salvador\n",
      " Staple Crop Yeild 118223\n",
      "Eritrea\n",
      " Staple Crop Yeild 20000\n",
      "Estonia\n",
      " Staple Crop Yeild 27685\n",
      "Eswatini\n",
      " Staple Crop Yeild 62065\n",
      "Ethiopia\n",
      " Staple Crop Yeild 413763\n",
      "Fiji\n",
      " Staple Crop Yeild 210000\n",
      "Finland\n",
      " Staple Crop Yeild 38303\n",
      "France\n",
      " Staple Crop Yeild 207830\n",
      "French Guyana\n",
      " Staple Crop Yeild 71059\n",
      "Gabon\n",
      " Staple Crop Yeild 110412\n",
      "Gambia\n",
      " Staple Crop Yeild 17732\n",
      "Georgia\n",
      " Staple Crop Yeild 84469\n",
      "Germany\n",
      " Staple Crop Yeild 199796\n",
      "Ghana\n",
      " Staple Crop Yeild 233985\n",
      "Greece\n",
      " Staple Crop Yeild 257598\n",
      "Grenada\n",
      " Staple Crop Yeild 29919\n",
      "Guadeloupe\n",
      " Staple Crop Yeild 139258\n",
      "Guam\n",
      " Staple Crop Yeild 26319\n",
      "Guatemala\n",
      " Staple Crop Yeild 97950\n",
      "Guinea\n",
      " Staple Crop Yeild 106747\n",
      "Guinea-Bissau\n",
      " Staple Crop Yeild 24885\n",
      "Guyana\n",
      " Staple Crop Yeild 105635\n",
      "Haiti\n",
      " Staple Crop Yeild 128066\n",
      "Honduras\n",
      " Staple Crop Yeild 80955\n",
      "Hungary\n",
      " Staple Crop Yeild 207248\n",
      "India\n",
      " Staple Crop Yeild 106173\n",
      "Indonesia\n",
      " Staple Crop Yeild 120309\n",
      "Iran\n",
      " Staple Crop Yeild 174044\n",
      "Iraq\n",
      " Staple Crop Yeild 128143\n",
      "Ireland\n",
      " Staple Crop Yeild 95390\n",
      "Israel\n",
      " Staple Crop Yeild 268427\n",
      "Italy\n",
      " Staple Crop Yeild 250881\n",
      "Jamaica\n",
      " Staple Crop Yeild 226735\n",
      "Japan\n",
      " Staple Crop Yeild 351772\n",
      "Jordan\n",
      " Staple Crop Yeild 361699\n",
      "Kazakhstan\n",
      " Staple Crop Yeild 137802\n",
      "Kenya\n",
      " Staple Crop Yeild 169665\n",
      "Kuwait\n",
      " Staple Crop Yeild 95533\n",
      "Kyrgyzstan\n",
      " Staple Crop Yeild 135428\n",
      "Laos\n",
      " Staple Crop Yeild 118432\n",
      "Latvia\n",
      " Staple Crop Yeild 43045\n",
      "Lebanon\n",
      " Staple Crop Yeild 72217\n",
      "Lesotho\n",
      " Staple Crop Yeild 10617\n",
      "Liberia\n",
      " Staple Crop Yeild 101967\n",
      "Libya\n",
      " Staple Crop Yeild 29766\n",
      "Lithuania\n",
      " Staple Crop Yeild 113058\n",
      "Luxembourg\n",
      " Staple Crop Yeild 117714\n",
      "Madagascar\n",
      " Staple Crop Yeild 88220\n",
      "Malawi\n",
      " Staple Crop Yeild 49720\n",
      "Malaysia\n",
      " Staple Crop Yeild 104371\n",
      "Maldives\n",
      " Staple Crop Yeild 50317\n",
      "Mali\n",
      " Staple Crop Yeild 351567\n",
      "Malta\n",
      " Staple Crop Yeild 49826\n",
      "Martinique\n",
      " Staple Crop Yeild 10056\n",
      "Mauritania\n",
      " Staple Crop Yeild 143457\n",
      "Mauritius\n",
      " Staple Crop Yeild 89896\n",
      "Mexico\n",
      " Staple Crop Yeild 170241\n",
      "Micronesia\n",
      " Staple Crop Yeild 32937\n",
      "Mongolia\n",
      " Staple Crop Yeild 13154\n",
      "Montenegro\n",
      " Staple Crop Yeild 73695\n",
      "Montserrat\n",
      " Staple Crop Yeild 70195\n",
      "Morocco\n",
      " Staple Crop Yeild 101471\n",
      "Mozambique\n",
      " Staple Crop Yeild 25897\n",
      "Myanmar\n",
      " Staple Crop Yeild 97977\n",
      "Namibia\n",
      " Staple Crop Yeild 66802\n",
      "Nepal\n",
      " Staple Crop Yeild 92193\n",
      "Netherlands\n",
      " Staple Crop Yeild 180308\n",
      "New Caledonia\n",
      " Staple Crop Yeild 108164\n",
      "New Zealand\n",
      " Staple Crop Yeild 208864\n",
      "Nicaragua\n",
      " Staple Crop Yeild 224853\n",
      "Niger\n",
      " Staple Crop Yeild 76669\n",
      "Nigeria\n",
      " Staple Crop Yeild 142617\n",
      "Niue\n",
      " Staple Crop Yeild 11252\n",
      "North Macedonia\n",
      " Staple Crop Yeild 143841\n",
      "Norway\n",
      " Staple Crop Yeild 46339\n",
      "Oman\n",
      " Staple Crop Yeild 110925\n",
      "Pakistan\n",
      " Staple Crop Yeild 119508\n",
      "Palestine\n",
      " Staple Crop Yeild 25715\n",
      "Panama\n",
      " Staple Crop Yeild 101520\n",
      "Papua New Guinea\n",
      " Staple Crop Yeild 249274\n",
      "Paraguay\n",
      " Staple Crop Yeild 168860\n",
      "Peru\n",
      " Staple Crop Yeild 140297\n",
      "Philippines\n",
      " Staple Crop Yeild 135952\n",
      "Poland\n",
      " Staple Crop Yeild 138272\n",
      "Portugal\n",
      " Staple Crop Yeild 332402\n",
      "Puerto Rico\n",
      " Staple Crop Yeild 115280\n",
      "Qatar\n",
      " Staple Crop Yeild 147974\n",
      "South Korea\n",
      " Staple Crop Yeild 173224\n",
      "Republic of Moldova\n",
      " Staple Crop Yeild 76470\n",
      "Réunion\n",
      " Staple Crop Yeild 125588\n",
      "Romania\n",
      " Staple Crop Yeild 148454\n",
      "Russia\n",
      " Staple Crop Yeild 149738\n",
      "Rwanda\n",
      " Staple Crop Yeild 163424\n",
      "Saint Lucia\n",
      " Staple Crop Yeild 36813\n",
      "Saint Vincent\n",
      " Staple Crop Yeild 375321\n",
      "Samoa\n",
      " Staple Crop Yeild 36489\n",
      "Sao Tome and Principe\n",
      " Staple Crop Yeild 79021\n",
      "Saudi Arabia\n",
      " Staple Crop Yeild 119209\n",
      "Senegal\n",
      " Staple Crop Yeild 55347\n",
      "Serbia\n",
      " Staple Crop Yeild 153110\n",
      "Sierra Leone\n",
      " Staple Crop Yeild 14769\n",
      "Slovakia\n",
      " Staple Crop Yeild 177492\n",
      "Slovenia\n",
      " Staple Crop Yeild 176962\n",
      "Solomon Islands\n",
      " Staple Crop Yeild 120771\n",
      "Somalia\n",
      " Staple Crop Yeild 28156\n",
      "South Africa\n",
      " Staple Crop Yeild 119683\n",
      "South Sudan\n",
      " Staple Crop Yeild 29295\n",
      "Spain\n",
      " Staple Crop Yeild 253437\n",
      "Sri Lanka\n",
      " Staple Crop Yeild 90402\n",
      "Sudan\n",
      " Staple Crop Yeild 98111\n",
      "Suriname\n",
      " Staple Crop Yeild 79063\n",
      "Sweden\n",
      " Staple Crop Yeild 63204\n",
      "Switzerland\n",
      " Staple Crop Yeild 171139\n",
      "Syria\n",
      " Staple Crop Yeild 73310\n",
      "Tajikistan\n",
      " Staple Crop Yeild 228380\n",
      "Thailand\n",
      " Staple Crop Yeild 99609\n",
      "Timor\n",
      " Staple Crop Yeild 65649\n",
      "Togo\n",
      " Staple Crop Yeild 122534\n",
      "Tonga\n",
      " Staple Crop Yeild 136683\n",
      "Trinidad and Tobago\n",
      " Staple Crop Yeild 61832\n",
      "Tunisia\n",
      " Staple Crop Yeild 18227\n",
      "Turkey\n",
      " Staple Crop Yeild 243743\n",
      "Turkmenistan\n",
      " Staple Crop Yeild 35288\n",
      "Uganda\n",
      " Staple Crop Yeild 70334\n",
      "Ukraine\n",
      " Staple Crop Yeild 184999\n",
      "United Arab Emirates\n",
      " Staple Crop Yeild 333965\n",
      "United Kingdom\n",
      " Staple Crop Yeild 78897\n",
      "Tanzania\n",
      " Staple Crop Yeild 123253\n",
      "United States\n",
      " Staple Crop Yeild 268898\n",
      "Uruguay\n",
      " Staple Crop Yeild 207752\n",
      "Uzbekistan\n",
      " Staple Crop Yeild 253296\n",
      "Vanuatu\n",
      " Staple Crop Yeild 6082\n",
      "Venezuela\n",
      " Staple Crop Yeild 209935\n",
      "Viet Nam\n",
      " Staple Crop Yeild 117405\n",
      "Wallis and Futuna Islands\n",
      " Staple Crop Yeild 91657\n",
      "Yemen\n",
      " Staple Crop Yeild 26544\n",
      "Zambia\n",
      " Staple Crop Yeild 122307\n",
      "Zimbabwe\n",
      " Staple Crop Yeild 58047\n"
     ]
    }
   ],
   "source": [
    "# Iterating through the dataframe to obtain total staple crop yield\n",
    "\n",
    "country_item = []\n",
    "crop_output = []\n",
    "\n",
    "\n",
    "for country in area_list1:\n",
    "\n",
    "    crop_yeild = agriculture[agriculture['Area']==country]['Value'].sum()\n",
    "    crops = agriculture['Item']\n",
    "        \n",
    "    print(f'{country}\\n Staple Crop Yeild {crop_yeild}')\n",
    "\n",
    "    country_item.append(country)\n",
    "    crop_output.append(crop_yeild)"
   ]
  },
  {
   "cell_type": "code",
   "execution_count": 69,
   "metadata": {},
   "outputs": [
    {
     "output_type": "execute_result",
     "data": {
      "text/plain": [
       "                          Area  Crop Yeild (kg/ha)\n",
       "0                  Afghanistan               70283\n",
       "1                      Albania              129029\n",
       "2                      Algeria               76438\n",
       "3               American Samoa               35941\n",
       "4                       Angola               31962\n",
       "..                         ...                 ...\n",
       "187                   Viet Nam              117405\n",
       "188  Wallis and Futuna Islands               91657\n",
       "189                      Yemen               26544\n",
       "190                     Zambia              122307\n",
       "191                   Zimbabwe               58047\n",
       "\n",
       "[192 rows x 2 columns]"
      ],
      "text/html": "<div>\n<style scoped>\n    .dataframe tbody tr th:only-of-type {\n        vertical-align: middle;\n    }\n\n    .dataframe tbody tr th {\n        vertical-align: top;\n    }\n\n    .dataframe thead th {\n        text-align: right;\n    }\n</style>\n<table border=\"1\" class=\"dataframe\">\n  <thead>\n    <tr style=\"text-align: right;\">\n      <th></th>\n      <th>Area</th>\n      <th>Crop Yeild (kg/ha)</th>\n    </tr>\n  </thead>\n  <tbody>\n    <tr>\n      <th>0</th>\n      <td>Afghanistan</td>\n      <td>70283</td>\n    </tr>\n    <tr>\n      <th>1</th>\n      <td>Albania</td>\n      <td>129029</td>\n    </tr>\n    <tr>\n      <th>2</th>\n      <td>Algeria</td>\n      <td>76438</td>\n    </tr>\n    <tr>\n      <th>3</th>\n      <td>American Samoa</td>\n      <td>35941</td>\n    </tr>\n    <tr>\n      <th>4</th>\n      <td>Angola</td>\n      <td>31962</td>\n    </tr>\n    <tr>\n      <th>...</th>\n      <td>...</td>\n      <td>...</td>\n    </tr>\n    <tr>\n      <th>187</th>\n      <td>Viet Nam</td>\n      <td>117405</td>\n    </tr>\n    <tr>\n      <th>188</th>\n      <td>Wallis and Futuna Islands</td>\n      <td>91657</td>\n    </tr>\n    <tr>\n      <th>189</th>\n      <td>Yemen</td>\n      <td>26544</td>\n    </tr>\n    <tr>\n      <th>190</th>\n      <td>Zambia</td>\n      <td>122307</td>\n    </tr>\n    <tr>\n      <th>191</th>\n      <td>Zimbabwe</td>\n      <td>58047</td>\n    </tr>\n  </tbody>\n</table>\n<p>192 rows × 2 columns</p>\n</div>"
     },
     "metadata": {},
     "execution_count": 69
    }
   ],
   "source": [
    "agriculture1 = pd.DataFrame({\n",
    "    'Area':country_item,\n",
    "    'Crop Yeild (kg/ha)':crop_output,\n",
    "    \n",
    "})\n",
    "\n",
    "agriculture1"
   ]
  },
  {
   "cell_type": "code",
   "execution_count": 70,
   "metadata": {},
   "outputs": [
    {
     "output_type": "execute_result",
     "data": {
      "text/plain": [
       "    Domain Code Domain  Area Code         Area  Element Code Element  \\\n",
       "0            QC  Crops          2  Afghanistan          5419   Yield   \n",
       "1            QC  Crops          2  Afghanistan          5419   Yield   \n",
       "2            QC  Crops          2  Afghanistan          5419   Yield   \n",
       "3            QC  Crops          3      Albania          5419   Yield   \n",
       "4            QC  Crops          3      Albania          5419   Yield   \n",
       "..          ...    ...        ...          ...           ...     ...   \n",
       "565          QC  Crops        251       Zambia          5419   Yield   \n",
       "566          QC  Crops        181     Zimbabwe          5419   Yield   \n",
       "567          QC  Crops        181     Zimbabwe          5419   Yield   \n",
       "568          QC  Crops        181     Zimbabwe          5419   Yield   \n",
       "569          QC  Crops        181     Zimbabwe          5419   Yield   \n",
       "\n",
       "     Item Code                       Item  Year Code  Year   Unit  Value Flag  \\\n",
       "0           56           Maize Rice Wheat       2016  2016  hg/ha  20517   Fc   \n",
       "1           27           Maize Rice Wheat       2016  2016  hg/ha  29963   Fc   \n",
       "2           15           Maize Rice Wheat       2016  2016  hg/ha  19803   Fc   \n",
       "3           56       Maize Soybeans Wheat       2016  2016  hg/ha  64877   Fc   \n",
       "4          236       Maize Soybeans Wheat       2016  2016  hg/ha  25152   Fc   \n",
       "..         ...                        ...        ...   ...    ...    ...  ...   \n",
       "565         15  Maize Rice Soybeans Wheat       2016  2016  hg/ha  66005   Fc   \n",
       "566         56  Maize Rice Soybeans Wheat       2016  2016  hg/ha   4405   Fc   \n",
       "567         27  Maize Rice Soybeans Wheat       2016  2016  hg/ha  22671   Fc   \n",
       "568        236  Maize Rice Soybeans Wheat       2016  2016  hg/ha  11958   Fc   \n",
       "569         15  Maize Rice Soybeans Wheat       2016  2016  hg/ha  19013   Fc   \n",
       "\n",
       "    Flag Description  Crop Yeild (kg/ha)  \n",
       "0    Calculated data               70283  \n",
       "1    Calculated data               70283  \n",
       "2    Calculated data               70283  \n",
       "3    Calculated data              129029  \n",
       "4    Calculated data              129029  \n",
       "..               ...                 ...  \n",
       "565  Calculated data              122307  \n",
       "566  Calculated data               58047  \n",
       "567  Calculated data               58047  \n",
       "568  Calculated data               58047  \n",
       "569  Calculated data               58047  \n",
       "\n",
       "[570 rows x 15 columns]"
      ],
      "text/html": "<div>\n<style scoped>\n    .dataframe tbody tr th:only-of-type {\n        vertical-align: middle;\n    }\n\n    .dataframe tbody tr th {\n        vertical-align: top;\n    }\n\n    .dataframe thead th {\n        text-align: right;\n    }\n</style>\n<table border=\"1\" class=\"dataframe\">\n  <thead>\n    <tr style=\"text-align: right;\">\n      <th></th>\n      <th>Domain Code</th>\n      <th>Domain</th>\n      <th>Area Code</th>\n      <th>Area</th>\n      <th>Element Code</th>\n      <th>Element</th>\n      <th>Item Code</th>\n      <th>Item</th>\n      <th>Year Code</th>\n      <th>Year</th>\n      <th>Unit</th>\n      <th>Value</th>\n      <th>Flag</th>\n      <th>Flag Description</th>\n      <th>Crop Yeild (kg/ha)</th>\n    </tr>\n  </thead>\n  <tbody>\n    <tr>\n      <th>0</th>\n      <td>QC</td>\n      <td>Crops</td>\n      <td>2</td>\n      <td>Afghanistan</td>\n      <td>5419</td>\n      <td>Yield</td>\n      <td>56</td>\n      <td>Maize Rice Wheat</td>\n      <td>2016</td>\n      <td>2016</td>\n      <td>hg/ha</td>\n      <td>20517</td>\n      <td>Fc</td>\n      <td>Calculated data</td>\n      <td>70283</td>\n    </tr>\n    <tr>\n      <th>1</th>\n      <td>QC</td>\n      <td>Crops</td>\n      <td>2</td>\n      <td>Afghanistan</td>\n      <td>5419</td>\n      <td>Yield</td>\n      <td>27</td>\n      <td>Maize Rice Wheat</td>\n      <td>2016</td>\n      <td>2016</td>\n      <td>hg/ha</td>\n      <td>29963</td>\n      <td>Fc</td>\n      <td>Calculated data</td>\n      <td>70283</td>\n    </tr>\n    <tr>\n      <th>2</th>\n      <td>QC</td>\n      <td>Crops</td>\n      <td>2</td>\n      <td>Afghanistan</td>\n      <td>5419</td>\n      <td>Yield</td>\n      <td>15</td>\n      <td>Maize Rice Wheat</td>\n      <td>2016</td>\n      <td>2016</td>\n      <td>hg/ha</td>\n      <td>19803</td>\n      <td>Fc</td>\n      <td>Calculated data</td>\n      <td>70283</td>\n    </tr>\n    <tr>\n      <th>3</th>\n      <td>QC</td>\n      <td>Crops</td>\n      <td>3</td>\n      <td>Albania</td>\n      <td>5419</td>\n      <td>Yield</td>\n      <td>56</td>\n      <td>Maize Soybeans Wheat</td>\n      <td>2016</td>\n      <td>2016</td>\n      <td>hg/ha</td>\n      <td>64877</td>\n      <td>Fc</td>\n      <td>Calculated data</td>\n      <td>129029</td>\n    </tr>\n    <tr>\n      <th>4</th>\n      <td>QC</td>\n      <td>Crops</td>\n      <td>3</td>\n      <td>Albania</td>\n      <td>5419</td>\n      <td>Yield</td>\n      <td>236</td>\n      <td>Maize Soybeans Wheat</td>\n      <td>2016</td>\n      <td>2016</td>\n      <td>hg/ha</td>\n      <td>25152</td>\n      <td>Fc</td>\n      <td>Calculated data</td>\n      <td>129029</td>\n    </tr>\n    <tr>\n      <th>...</th>\n      <td>...</td>\n      <td>...</td>\n      <td>...</td>\n      <td>...</td>\n      <td>...</td>\n      <td>...</td>\n      <td>...</td>\n      <td>...</td>\n      <td>...</td>\n      <td>...</td>\n      <td>...</td>\n      <td>...</td>\n      <td>...</td>\n      <td>...</td>\n      <td>...</td>\n    </tr>\n    <tr>\n      <th>565</th>\n      <td>QC</td>\n      <td>Crops</td>\n      <td>251</td>\n      <td>Zambia</td>\n      <td>5419</td>\n      <td>Yield</td>\n      <td>15</td>\n      <td>Maize Rice Soybeans Wheat</td>\n      <td>2016</td>\n      <td>2016</td>\n      <td>hg/ha</td>\n      <td>66005</td>\n      <td>Fc</td>\n      <td>Calculated data</td>\n      <td>122307</td>\n    </tr>\n    <tr>\n      <th>566</th>\n      <td>QC</td>\n      <td>Crops</td>\n      <td>181</td>\n      <td>Zimbabwe</td>\n      <td>5419</td>\n      <td>Yield</td>\n      <td>56</td>\n      <td>Maize Rice Soybeans Wheat</td>\n      <td>2016</td>\n      <td>2016</td>\n      <td>hg/ha</td>\n      <td>4405</td>\n      <td>Fc</td>\n      <td>Calculated data</td>\n      <td>58047</td>\n    </tr>\n    <tr>\n      <th>567</th>\n      <td>QC</td>\n      <td>Crops</td>\n      <td>181</td>\n      <td>Zimbabwe</td>\n      <td>5419</td>\n      <td>Yield</td>\n      <td>27</td>\n      <td>Maize Rice Soybeans Wheat</td>\n      <td>2016</td>\n      <td>2016</td>\n      <td>hg/ha</td>\n      <td>22671</td>\n      <td>Fc</td>\n      <td>Calculated data</td>\n      <td>58047</td>\n    </tr>\n    <tr>\n      <th>568</th>\n      <td>QC</td>\n      <td>Crops</td>\n      <td>181</td>\n      <td>Zimbabwe</td>\n      <td>5419</td>\n      <td>Yield</td>\n      <td>236</td>\n      <td>Maize Rice Soybeans Wheat</td>\n      <td>2016</td>\n      <td>2016</td>\n      <td>hg/ha</td>\n      <td>11958</td>\n      <td>Fc</td>\n      <td>Calculated data</td>\n      <td>58047</td>\n    </tr>\n    <tr>\n      <th>569</th>\n      <td>QC</td>\n      <td>Crops</td>\n      <td>181</td>\n      <td>Zimbabwe</td>\n      <td>5419</td>\n      <td>Yield</td>\n      <td>15</td>\n      <td>Maize Rice Soybeans Wheat</td>\n      <td>2016</td>\n      <td>2016</td>\n      <td>hg/ha</td>\n      <td>19013</td>\n      <td>Fc</td>\n      <td>Calculated data</td>\n      <td>58047</td>\n    </tr>\n  </tbody>\n</table>\n<p>570 rows × 15 columns</p>\n</div>"
     },
     "metadata": {},
     "execution_count": 70
    }
   ],
   "source": [
    "# New dataframe\n",
    "agriculture2 = pd.merge(agriculture, agriculture1, how='inner', on='Area')\n",
    "agriculture2"
   ]
  },
  {
   "cell_type": "code",
   "execution_count": 71,
   "metadata": {},
   "outputs": [
    {
     "output_type": "execute_result",
     "data": {
      "text/plain": [
       "Index(['Domain Code', 'Domain', 'Area Code', 'Area', 'Element Code', 'Element',\n",
       "       'Item Code', 'Item', 'Year Code', 'Year', 'Unit', 'Value', 'Flag',\n",
       "       'Flag Description', 'Crop Yeild (kg/ha)'],\n",
       "      dtype='object')"
      ]
     },
     "metadata": {},
     "execution_count": 71
    }
   ],
   "source": [
    "agriculture2.columns"
   ]
  },
  {
   "cell_type": "code",
   "execution_count": 72,
   "metadata": {},
   "outputs": [
    {
     "output_type": "execute_result",
     "data": {
      "text/plain": [
       "            Area                       Item  Crop Yeild (kg/ha)\n",
       "0    Afghanistan           Maize Rice Wheat               70283\n",
       "1    Afghanistan           Maize Rice Wheat               70283\n",
       "2    Afghanistan           Maize Rice Wheat               70283\n",
       "3        Albania       Maize Soybeans Wheat              129029\n",
       "4        Albania       Maize Soybeans Wheat              129029\n",
       "..           ...                        ...                 ...\n",
       "565       Zambia  Maize Rice Soybeans Wheat              122307\n",
       "566     Zimbabwe  Maize Rice Soybeans Wheat               58047\n",
       "567     Zimbabwe  Maize Rice Soybeans Wheat               58047\n",
       "568     Zimbabwe  Maize Rice Soybeans Wheat               58047\n",
       "569     Zimbabwe  Maize Rice Soybeans Wheat               58047\n",
       "\n",
       "[570 rows x 3 columns]"
      ],
      "text/html": "<div>\n<style scoped>\n    .dataframe tbody tr th:only-of-type {\n        vertical-align: middle;\n    }\n\n    .dataframe tbody tr th {\n        vertical-align: top;\n    }\n\n    .dataframe thead th {\n        text-align: right;\n    }\n</style>\n<table border=\"1\" class=\"dataframe\">\n  <thead>\n    <tr style=\"text-align: right;\">\n      <th></th>\n      <th>Area</th>\n      <th>Item</th>\n      <th>Crop Yeild (kg/ha)</th>\n    </tr>\n  </thead>\n  <tbody>\n    <tr>\n      <th>0</th>\n      <td>Afghanistan</td>\n      <td>Maize Rice Wheat</td>\n      <td>70283</td>\n    </tr>\n    <tr>\n      <th>1</th>\n      <td>Afghanistan</td>\n      <td>Maize Rice Wheat</td>\n      <td>70283</td>\n    </tr>\n    <tr>\n      <th>2</th>\n      <td>Afghanistan</td>\n      <td>Maize Rice Wheat</td>\n      <td>70283</td>\n    </tr>\n    <tr>\n      <th>3</th>\n      <td>Albania</td>\n      <td>Maize Soybeans Wheat</td>\n      <td>129029</td>\n    </tr>\n    <tr>\n      <th>4</th>\n      <td>Albania</td>\n      <td>Maize Soybeans Wheat</td>\n      <td>129029</td>\n    </tr>\n    <tr>\n      <th>...</th>\n      <td>...</td>\n      <td>...</td>\n      <td>...</td>\n    </tr>\n    <tr>\n      <th>565</th>\n      <td>Zambia</td>\n      <td>Maize Rice Soybeans Wheat</td>\n      <td>122307</td>\n    </tr>\n    <tr>\n      <th>566</th>\n      <td>Zimbabwe</td>\n      <td>Maize Rice Soybeans Wheat</td>\n      <td>58047</td>\n    </tr>\n    <tr>\n      <th>567</th>\n      <td>Zimbabwe</td>\n      <td>Maize Rice Soybeans Wheat</td>\n      <td>58047</td>\n    </tr>\n    <tr>\n      <th>568</th>\n      <td>Zimbabwe</td>\n      <td>Maize Rice Soybeans Wheat</td>\n      <td>58047</td>\n    </tr>\n    <tr>\n      <th>569</th>\n      <td>Zimbabwe</td>\n      <td>Maize Rice Soybeans Wheat</td>\n      <td>58047</td>\n    </tr>\n  </tbody>\n</table>\n<p>570 rows × 3 columns</p>\n</div>"
     },
     "metadata": {},
     "execution_count": 72
    }
   ],
   "source": [
    "agriculture3 = agriculture2.drop(columns=['Domain Code', 'Domain', 'Area Code','Element Code', 'Element',\n",
    "       'Item Code','Year Code', 'Year', 'Unit', 'Value', 'Flag',\n",
    "       'Flag Description' ])\n",
    "\n",
    "agriculture3"
   ]
  },
  {
   "cell_type": "code",
   "execution_count": 85,
   "metadata": {},
   "outputs": [],
   "source": [
    "agriculture4 = agriculture3.drop_duplicates()\n",
    "agriculture5 = agriculture4.rename(columns={'Area':'Entity'})"
   ]
  },
  {
   "cell_type": "code",
   "execution_count": 74,
   "metadata": {},
   "outputs": [
    {
     "output_type": "execute_result",
     "data": {
      "text/plain": [
       "           Entity Code  Year  \\\n",
       "0     Afghanistan  AFG  2002   \n",
       "1     Afghanistan  AFG  2003   \n",
       "2     Afghanistan  AFG  2004   \n",
       "3     Afghanistan  AFG  2005   \n",
       "4     Afghanistan  AFG  2006   \n",
       "...           ...  ...   ...   \n",
       "5228     Zimbabwe  ZWE  2013   \n",
       "5229     Zimbabwe  ZWE  2014   \n",
       "5230     Zimbabwe  ZWE  2015   \n",
       "5231     Zimbabwe  ZWE  2016   \n",
       "5232     Zimbabwe  ZWE  2017   \n",
       "\n",
       "      Agriculture, value added per worker (constant 2010 US$)  \n",
       "0                                            872.846684        \n",
       "1                                            856.625361        \n",
       "2                                            657.038803        \n",
       "3                                            724.391297        \n",
       "4                                            686.918524        \n",
       "...                                                 ...        \n",
       "5228                                         269.582684        \n",
       "5229                                         317.117440        \n",
       "5230                                         293.152050        \n",
       "5231                                         274.353843        \n",
       "5232                                         300.529041        \n",
       "\n",
       "[5233 rows x 4 columns]"
      ],
      "text/html": "<div>\n<style scoped>\n    .dataframe tbody tr th:only-of-type {\n        vertical-align: middle;\n    }\n\n    .dataframe tbody tr th {\n        vertical-align: top;\n    }\n\n    .dataframe thead th {\n        text-align: right;\n    }\n</style>\n<table border=\"1\" class=\"dataframe\">\n  <thead>\n    <tr style=\"text-align: right;\">\n      <th></th>\n      <th>Entity</th>\n      <th>Code</th>\n      <th>Year</th>\n      <th>Agriculture, value added per worker (constant 2010 US$)</th>\n    </tr>\n  </thead>\n  <tbody>\n    <tr>\n      <th>0</th>\n      <td>Afghanistan</td>\n      <td>AFG</td>\n      <td>2002</td>\n      <td>872.846684</td>\n    </tr>\n    <tr>\n      <th>1</th>\n      <td>Afghanistan</td>\n      <td>AFG</td>\n      <td>2003</td>\n      <td>856.625361</td>\n    </tr>\n    <tr>\n      <th>2</th>\n      <td>Afghanistan</td>\n      <td>AFG</td>\n      <td>2004</td>\n      <td>657.038803</td>\n    </tr>\n    <tr>\n      <th>3</th>\n      <td>Afghanistan</td>\n      <td>AFG</td>\n      <td>2005</td>\n      <td>724.391297</td>\n    </tr>\n    <tr>\n      <th>4</th>\n      <td>Afghanistan</td>\n      <td>AFG</td>\n      <td>2006</td>\n      <td>686.918524</td>\n    </tr>\n    <tr>\n      <th>...</th>\n      <td>...</td>\n      <td>...</td>\n      <td>...</td>\n      <td>...</td>\n    </tr>\n    <tr>\n      <th>5228</th>\n      <td>Zimbabwe</td>\n      <td>ZWE</td>\n      <td>2013</td>\n      <td>269.582684</td>\n    </tr>\n    <tr>\n      <th>5229</th>\n      <td>Zimbabwe</td>\n      <td>ZWE</td>\n      <td>2014</td>\n      <td>317.117440</td>\n    </tr>\n    <tr>\n      <th>5230</th>\n      <td>Zimbabwe</td>\n      <td>ZWE</td>\n      <td>2015</td>\n      <td>293.152050</td>\n    </tr>\n    <tr>\n      <th>5231</th>\n      <td>Zimbabwe</td>\n      <td>ZWE</td>\n      <td>2016</td>\n      <td>274.353843</td>\n    </tr>\n    <tr>\n      <th>5232</th>\n      <td>Zimbabwe</td>\n      <td>ZWE</td>\n      <td>2017</td>\n      <td>300.529041</td>\n    </tr>\n  </tbody>\n</table>\n<p>5233 rows × 4 columns</p>\n</div>"
     },
     "metadata": {},
     "execution_count": 74
    }
   ],
   "source": [
    "# Employment in Agriculture\n",
    "agri_employment = pd.read_csv('Dataset/agriculturaldata/agriculture-value-added-per-worker-wdi.csv')\n",
    "agri_employment"
   ]
  },
  {
   "cell_type": "code",
   "execution_count": 75,
   "metadata": {},
   "outputs": [
    {
     "output_type": "execute_result",
     "data": {
      "text/plain": [
       "           Entity      Code  Year  \\\n",
       "13    Afghanistan       AFG  2015   \n",
       "39        Albania       ALB  2015   \n",
       "66        Algeria       DZA  2015   \n",
       "93     Arab World       NaN  2015   \n",
       "119     Argentina       ARG  2015   \n",
       "...           ...       ...   ...   \n",
       "5124      Vietnam       VNM  2015   \n",
       "5151        World  OWID_WRL  2015   \n",
       "5177        Yemen       YEM  2015   \n",
       "5203       Zambia       ZMB  2015   \n",
       "5230     Zimbabwe       ZWE  2015   \n",
       "\n",
       "      Agriculture, value added per worker (constant 2010 US$)  \n",
       "13                                           761.461513        \n",
       "39                                          5374.476370        \n",
       "66                                         14065.123850        \n",
       "93                                          5215.818543        \n",
       "119                                       338735.911200        \n",
       "...                                                 ...        \n",
       "5124                                        1023.036173        \n",
       "5151                                        3430.940120        \n",
       "5177                                         873.961738        \n",
       "5203                                         584.557209        \n",
       "5230                                         293.152050        \n",
       "\n",
       "[210 rows x 4 columns]"
      ],
      "text/html": "<div>\n<style scoped>\n    .dataframe tbody tr th:only-of-type {\n        vertical-align: middle;\n    }\n\n    .dataframe tbody tr th {\n        vertical-align: top;\n    }\n\n    .dataframe thead th {\n        text-align: right;\n    }\n</style>\n<table border=\"1\" class=\"dataframe\">\n  <thead>\n    <tr style=\"text-align: right;\">\n      <th></th>\n      <th>Entity</th>\n      <th>Code</th>\n      <th>Year</th>\n      <th>Agriculture, value added per worker (constant 2010 US$)</th>\n    </tr>\n  </thead>\n  <tbody>\n    <tr>\n      <th>13</th>\n      <td>Afghanistan</td>\n      <td>AFG</td>\n      <td>2015</td>\n      <td>761.461513</td>\n    </tr>\n    <tr>\n      <th>39</th>\n      <td>Albania</td>\n      <td>ALB</td>\n      <td>2015</td>\n      <td>5374.476370</td>\n    </tr>\n    <tr>\n      <th>66</th>\n      <td>Algeria</td>\n      <td>DZA</td>\n      <td>2015</td>\n      <td>14065.123850</td>\n    </tr>\n    <tr>\n      <th>93</th>\n      <td>Arab World</td>\n      <td>NaN</td>\n      <td>2015</td>\n      <td>5215.818543</td>\n    </tr>\n    <tr>\n      <th>119</th>\n      <td>Argentina</td>\n      <td>ARG</td>\n      <td>2015</td>\n      <td>338735.911200</td>\n    </tr>\n    <tr>\n      <th>...</th>\n      <td>...</td>\n      <td>...</td>\n      <td>...</td>\n      <td>...</td>\n    </tr>\n    <tr>\n      <th>5124</th>\n      <td>Vietnam</td>\n      <td>VNM</td>\n      <td>2015</td>\n      <td>1023.036173</td>\n    </tr>\n    <tr>\n      <th>5151</th>\n      <td>World</td>\n      <td>OWID_WRL</td>\n      <td>2015</td>\n      <td>3430.940120</td>\n    </tr>\n    <tr>\n      <th>5177</th>\n      <td>Yemen</td>\n      <td>YEM</td>\n      <td>2015</td>\n      <td>873.961738</td>\n    </tr>\n    <tr>\n      <th>5203</th>\n      <td>Zambia</td>\n      <td>ZMB</td>\n      <td>2015</td>\n      <td>584.557209</td>\n    </tr>\n    <tr>\n      <th>5230</th>\n      <td>Zimbabwe</td>\n      <td>ZWE</td>\n      <td>2015</td>\n      <td>293.152050</td>\n    </tr>\n  </tbody>\n</table>\n<p>210 rows × 4 columns</p>\n</div>"
     },
     "metadata": {},
     "execution_count": 75
    }
   ],
   "source": [
    "# Obtaining the latest information\n",
    "agri_employment1 = agri_employment[agri_employment['Year']==2015]\n",
    "agri_employment1"
   ]
  },
  {
   "cell_type": "code",
   "execution_count": 77,
   "metadata": {},
   "outputs": [
    {
     "output_type": "execute_result",
     "data": {
      "text/plain": [
       "              Entity      Code  Year  Total population (Gapminder, HYDE & UN)  \\\n",
       "0           Abkhazia  OWID_ABK  2015                                      NaN   \n",
       "1        Afghanistan       AFG  1800                                3280000.0   \n",
       "2        Afghanistan       AFG  1801                                3280000.0   \n",
       "3        Afghanistan       AFG  1802                                3280000.0   \n",
       "4        Afghanistan       AFG  1803                                3280000.0   \n",
       "...              ...       ...   ...                                      ...   \n",
       "49539       Zimbabwe       ZWE  2016                               14030000.0   \n",
       "49540       Zimbabwe       ZWE  2017                               14237000.0   \n",
       "49541       Zimbabwe       ZWE  2018                               14439000.0   \n",
       "49542       Zimbabwe       ZWE  2019                               14645000.0   \n",
       "49543  Åland Islands       ALA  2015                                      NaN   \n",
       "\n",
       "      Continent  Urban population (% of total)  \\\n",
       "0          Asia                            NaN   \n",
       "1           NaN                            NaN   \n",
       "2           NaN                            NaN   \n",
       "3           NaN                            NaN   \n",
       "4           NaN                            NaN   \n",
       "...         ...                            ...   \n",
       "49539       NaN                         32.296   \n",
       "49540       NaN                         32.237   \n",
       "49541       NaN                            NaN   \n",
       "49542       NaN                            NaN   \n",
       "49543    Europe                            NaN   \n",
       "\n",
       "       Employment in agriculture (% of total employment) (modeled ILO estimate)  \n",
       "0                                                    NaN                         \n",
       "1                                                    NaN                         \n",
       "2                                                    NaN                         \n",
       "3                                                    NaN                         \n",
       "4                                                    NaN                         \n",
       "...                                                  ...                         \n",
       "49539                                          67.430000                         \n",
       "49540                                          68.455002                         \n",
       "49541                                                NaN                         \n",
       "49542                                                NaN                         \n",
       "49543                                                NaN                         \n",
       "\n",
       "[49544 rows x 7 columns]"
      ],
      "text/html": "<div>\n<style scoped>\n    .dataframe tbody tr th:only-of-type {\n        vertical-align: middle;\n    }\n\n    .dataframe tbody tr th {\n        vertical-align: top;\n    }\n\n    .dataframe thead th {\n        text-align: right;\n    }\n</style>\n<table border=\"1\" class=\"dataframe\">\n  <thead>\n    <tr style=\"text-align: right;\">\n      <th></th>\n      <th>Entity</th>\n      <th>Code</th>\n      <th>Year</th>\n      <th>Total population (Gapminder, HYDE &amp; UN)</th>\n      <th>Continent</th>\n      <th>Urban population (% of total)</th>\n      <th>Employment in agriculture (% of total employment) (modeled ILO estimate)</th>\n    </tr>\n  </thead>\n  <tbody>\n    <tr>\n      <th>0</th>\n      <td>Abkhazia</td>\n      <td>OWID_ABK</td>\n      <td>2015</td>\n      <td>NaN</td>\n      <td>Asia</td>\n      <td>NaN</td>\n      <td>NaN</td>\n    </tr>\n    <tr>\n      <th>1</th>\n      <td>Afghanistan</td>\n      <td>AFG</td>\n      <td>1800</td>\n      <td>3280000.0</td>\n      <td>NaN</td>\n      <td>NaN</td>\n      <td>NaN</td>\n    </tr>\n    <tr>\n      <th>2</th>\n      <td>Afghanistan</td>\n      <td>AFG</td>\n      <td>1801</td>\n      <td>3280000.0</td>\n      <td>NaN</td>\n      <td>NaN</td>\n      <td>NaN</td>\n    </tr>\n    <tr>\n      <th>3</th>\n      <td>Afghanistan</td>\n      <td>AFG</td>\n      <td>1802</td>\n      <td>3280000.0</td>\n      <td>NaN</td>\n      <td>NaN</td>\n      <td>NaN</td>\n    </tr>\n    <tr>\n      <th>4</th>\n      <td>Afghanistan</td>\n      <td>AFG</td>\n      <td>1803</td>\n      <td>3280000.0</td>\n      <td>NaN</td>\n      <td>NaN</td>\n      <td>NaN</td>\n    </tr>\n    <tr>\n      <th>...</th>\n      <td>...</td>\n      <td>...</td>\n      <td>...</td>\n      <td>...</td>\n      <td>...</td>\n      <td>...</td>\n      <td>...</td>\n    </tr>\n    <tr>\n      <th>49539</th>\n      <td>Zimbabwe</td>\n      <td>ZWE</td>\n      <td>2016</td>\n      <td>14030000.0</td>\n      <td>NaN</td>\n      <td>32.296</td>\n      <td>67.430000</td>\n    </tr>\n    <tr>\n      <th>49540</th>\n      <td>Zimbabwe</td>\n      <td>ZWE</td>\n      <td>2017</td>\n      <td>14237000.0</td>\n      <td>NaN</td>\n      <td>32.237</td>\n      <td>68.455002</td>\n    </tr>\n    <tr>\n      <th>49541</th>\n      <td>Zimbabwe</td>\n      <td>ZWE</td>\n      <td>2018</td>\n      <td>14439000.0</td>\n      <td>NaN</td>\n      <td>NaN</td>\n      <td>NaN</td>\n    </tr>\n    <tr>\n      <th>49542</th>\n      <td>Zimbabwe</td>\n      <td>ZWE</td>\n      <td>2019</td>\n      <td>14645000.0</td>\n      <td>NaN</td>\n      <td>NaN</td>\n      <td>NaN</td>\n    </tr>\n    <tr>\n      <th>49543</th>\n      <td>Åland Islands</td>\n      <td>ALA</td>\n      <td>2015</td>\n      <td>NaN</td>\n      <td>Europe</td>\n      <td>NaN</td>\n      <td>NaN</td>\n    </tr>\n  </tbody>\n</table>\n<p>49544 rows × 7 columns</p>\n</div>"
     },
     "metadata": {},
     "execution_count": 77
    }
   ],
   "source": [
    "# Agri employment in Urban setting\n",
    "agri_emp_urban = pd.read_csv('Dataset/agriculturaldata/employment-in-agri-vs-urban-pop.csv')\n",
    "agri_emp_urban\n"
   ]
  },
  {
   "cell_type": "code",
   "execution_count": 78,
   "metadata": {},
   "outputs": [
    {
     "output_type": "execute_result",
     "data": {
      "text/plain": [
       "                      Entity      Code  Year  \\\n",
       "0                   Abkhazia  OWID_ABK  2015   \n",
       "216              Afghanistan       AFG  2015   \n",
       "338                   Africa       NaN  2015   \n",
       "343    Akrotiri and Dhekelia  OWID_AKD  2015   \n",
       "559                  Albania       ALB  2015   \n",
       "...                      ...       ...   ...   \n",
       "49101             Yugoslavia  OWID_YGS  2015   \n",
       "49317                 Zambia       ZMB  2015   \n",
       "49322               Zanzibar  OWID_ZAN  2015   \n",
       "49538               Zimbabwe       ZWE  2015   \n",
       "49543          Åland Islands       ALA  2015   \n",
       "\n",
       "       Total population (Gapminder, HYDE & UN) Continent  \\\n",
       "0                                          NaN      Asia   \n",
       "216                               3.441400e+07      Asia   \n",
       "338                               1.182439e+09       NaN   \n",
       "343                                        NaN      Asia   \n",
       "559                               2.891000e+06    Europe   \n",
       "...                                        ...       ...   \n",
       "49101                                      NaN    Europe   \n",
       "49317                             1.587900e+07    Africa   \n",
       "49322                                      NaN    Africa   \n",
       "49538                             1.381500e+07    Africa   \n",
       "49543                                      NaN    Europe   \n",
       "\n",
       "       Urban population (% of total)  \\\n",
       "0                                NaN   \n",
       "216                           24.803   \n",
       "338                              NaN   \n",
       "343                              NaN   \n",
       "559                           57.434   \n",
       "...                              ...   \n",
       "49101                            NaN   \n",
       "49317                         41.907   \n",
       "49322                            NaN   \n",
       "49538                         32.385   \n",
       "49543                            NaN   \n",
       "\n",
       "       Employment in agriculture (% of total employment) (modeled ILO estimate)  \n",
       "0                                                    NaN                         \n",
       "216                                            61.132000                         \n",
       "338                                                  NaN                         \n",
       "343                                                  NaN                         \n",
       "559                                            41.366001                         \n",
       "...                                                  ...                         \n",
       "49101                                                NaN                         \n",
       "49317                                          53.666000                         \n",
       "49322                                                NaN                         \n",
       "49538                                          67.209999                         \n",
       "49543                                                NaN                         \n",
       "\n",
       "[338 rows x 7 columns]"
      ],
      "text/html": "<div>\n<style scoped>\n    .dataframe tbody tr th:only-of-type {\n        vertical-align: middle;\n    }\n\n    .dataframe tbody tr th {\n        vertical-align: top;\n    }\n\n    .dataframe thead th {\n        text-align: right;\n    }\n</style>\n<table border=\"1\" class=\"dataframe\">\n  <thead>\n    <tr style=\"text-align: right;\">\n      <th></th>\n      <th>Entity</th>\n      <th>Code</th>\n      <th>Year</th>\n      <th>Total population (Gapminder, HYDE &amp; UN)</th>\n      <th>Continent</th>\n      <th>Urban population (% of total)</th>\n      <th>Employment in agriculture (% of total employment) (modeled ILO estimate)</th>\n    </tr>\n  </thead>\n  <tbody>\n    <tr>\n      <th>0</th>\n      <td>Abkhazia</td>\n      <td>OWID_ABK</td>\n      <td>2015</td>\n      <td>NaN</td>\n      <td>Asia</td>\n      <td>NaN</td>\n      <td>NaN</td>\n    </tr>\n    <tr>\n      <th>216</th>\n      <td>Afghanistan</td>\n      <td>AFG</td>\n      <td>2015</td>\n      <td>3.441400e+07</td>\n      <td>Asia</td>\n      <td>24.803</td>\n      <td>61.132000</td>\n    </tr>\n    <tr>\n      <th>338</th>\n      <td>Africa</td>\n      <td>NaN</td>\n      <td>2015</td>\n      <td>1.182439e+09</td>\n      <td>NaN</td>\n      <td>NaN</td>\n      <td>NaN</td>\n    </tr>\n    <tr>\n      <th>343</th>\n      <td>Akrotiri and Dhekelia</td>\n      <td>OWID_AKD</td>\n      <td>2015</td>\n      <td>NaN</td>\n      <td>Asia</td>\n      <td>NaN</td>\n      <td>NaN</td>\n    </tr>\n    <tr>\n      <th>559</th>\n      <td>Albania</td>\n      <td>ALB</td>\n      <td>2015</td>\n      <td>2.891000e+06</td>\n      <td>Europe</td>\n      <td>57.434</td>\n      <td>41.366001</td>\n    </tr>\n    <tr>\n      <th>...</th>\n      <td>...</td>\n      <td>...</td>\n      <td>...</td>\n      <td>...</td>\n      <td>...</td>\n      <td>...</td>\n      <td>...</td>\n    </tr>\n    <tr>\n      <th>49101</th>\n      <td>Yugoslavia</td>\n      <td>OWID_YGS</td>\n      <td>2015</td>\n      <td>NaN</td>\n      <td>Europe</td>\n      <td>NaN</td>\n      <td>NaN</td>\n    </tr>\n    <tr>\n      <th>49317</th>\n      <td>Zambia</td>\n      <td>ZMB</td>\n      <td>2015</td>\n      <td>1.587900e+07</td>\n      <td>Africa</td>\n      <td>41.907</td>\n      <td>53.666000</td>\n    </tr>\n    <tr>\n      <th>49322</th>\n      <td>Zanzibar</td>\n      <td>OWID_ZAN</td>\n      <td>2015</td>\n      <td>NaN</td>\n      <td>Africa</td>\n      <td>NaN</td>\n      <td>NaN</td>\n    </tr>\n    <tr>\n      <th>49538</th>\n      <td>Zimbabwe</td>\n      <td>ZWE</td>\n      <td>2015</td>\n      <td>1.381500e+07</td>\n      <td>Africa</td>\n      <td>32.385</td>\n      <td>67.209999</td>\n    </tr>\n    <tr>\n      <th>49543</th>\n      <td>Åland Islands</td>\n      <td>ALA</td>\n      <td>2015</td>\n      <td>NaN</td>\n      <td>Europe</td>\n      <td>NaN</td>\n      <td>NaN</td>\n    </tr>\n  </tbody>\n</table>\n<p>338 rows × 7 columns</p>\n</div>"
     },
     "metadata": {},
     "execution_count": 78
    }
   ],
   "source": [
    "# Obtaining the latest data\n",
    "agri_emp_urban1 = agri_emp_urban[agri_emp_urban['Year']==2015]\n",
    "agri_emp_urban1"
   ]
  },
  {
   "cell_type": "code",
   "execution_count": 79,
   "metadata": {},
   "outputs": [
    {
     "output_type": "execute_result",
     "data": {
      "text/plain": [
       "            Entity Code  Year  Total population (Gapminder, HYDE & UN)  \\\n",
       "216    Afghanistan  AFG  2015                               34414000.0   \n",
       "559        Albania  ALB  2015                                2891000.0   \n",
       "779        Algeria  DZA  2015                               39728000.0   \n",
       "1289        Angola  AGO  2015                               27884000.0   \n",
       "1858     Argentina  ARG  2015                               43075000.0   \n",
       "...            ...  ...   ...                                      ...   \n",
       "48361    Venezuela  VEN  2015                               30082000.0   \n",
       "48581      Vietnam  VNM  2015                               92677000.0   \n",
       "49094        Yemen  YEM  2015                               26498000.0   \n",
       "49317       Zambia  ZMB  2015                               15879000.0   \n",
       "49538     Zimbabwe  ZWE  2015                               13815000.0   \n",
       "\n",
       "           Continent  Urban population (% of total)  \\\n",
       "216             Asia                         24.803   \n",
       "559           Europe                         57.434   \n",
       "779           Africa                         70.848   \n",
       "1289          Africa                         63.446   \n",
       "1858   South America                         91.503   \n",
       "...              ...                            ...   \n",
       "48361  South America                         88.154   \n",
       "48581           Asia                         33.809   \n",
       "49094           Asia                         34.777   \n",
       "49317         Africa                         41.907   \n",
       "49538         Africa                         32.385   \n",
       "\n",
       "       Employment in agriculture (% of total employment) (modeled ILO estimate)  \n",
       "216                                            61.132000                         \n",
       "559                                            41.366001                         \n",
       "779                                            13.075000                         \n",
       "1289                                           48.896000                         \n",
       "1858                                            0.518000                         \n",
       "...                                                  ...                         \n",
       "48361                                           9.076000                         \n",
       "48581                                          43.931999                         \n",
       "49094                                          34.674999                         \n",
       "49317                                          53.666000                         \n",
       "49538                                          67.209999                         \n",
       "\n",
       "[185 rows x 7 columns]"
      ],
      "text/html": "<div>\n<style scoped>\n    .dataframe tbody tr th:only-of-type {\n        vertical-align: middle;\n    }\n\n    .dataframe tbody tr th {\n        vertical-align: top;\n    }\n\n    .dataframe thead th {\n        text-align: right;\n    }\n</style>\n<table border=\"1\" class=\"dataframe\">\n  <thead>\n    <tr style=\"text-align: right;\">\n      <th></th>\n      <th>Entity</th>\n      <th>Code</th>\n      <th>Year</th>\n      <th>Total population (Gapminder, HYDE &amp; UN)</th>\n      <th>Continent</th>\n      <th>Urban population (% of total)</th>\n      <th>Employment in agriculture (% of total employment) (modeled ILO estimate)</th>\n    </tr>\n  </thead>\n  <tbody>\n    <tr>\n      <th>216</th>\n      <td>Afghanistan</td>\n      <td>AFG</td>\n      <td>2015</td>\n      <td>34414000.0</td>\n      <td>Asia</td>\n      <td>24.803</td>\n      <td>61.132000</td>\n    </tr>\n    <tr>\n      <th>559</th>\n      <td>Albania</td>\n      <td>ALB</td>\n      <td>2015</td>\n      <td>2891000.0</td>\n      <td>Europe</td>\n      <td>57.434</td>\n      <td>41.366001</td>\n    </tr>\n    <tr>\n      <th>779</th>\n      <td>Algeria</td>\n      <td>DZA</td>\n      <td>2015</td>\n      <td>39728000.0</td>\n      <td>Africa</td>\n      <td>70.848</td>\n      <td>13.075000</td>\n    </tr>\n    <tr>\n      <th>1289</th>\n      <td>Angola</td>\n      <td>AGO</td>\n      <td>2015</td>\n      <td>27884000.0</td>\n      <td>Africa</td>\n      <td>63.446</td>\n      <td>48.896000</td>\n    </tr>\n    <tr>\n      <th>1858</th>\n      <td>Argentina</td>\n      <td>ARG</td>\n      <td>2015</td>\n      <td>43075000.0</td>\n      <td>South America</td>\n      <td>91.503</td>\n      <td>0.518000</td>\n    </tr>\n    <tr>\n      <th>...</th>\n      <td>...</td>\n      <td>...</td>\n      <td>...</td>\n      <td>...</td>\n      <td>...</td>\n      <td>...</td>\n      <td>...</td>\n    </tr>\n    <tr>\n      <th>48361</th>\n      <td>Venezuela</td>\n      <td>VEN</td>\n      <td>2015</td>\n      <td>30082000.0</td>\n      <td>South America</td>\n      <td>88.154</td>\n      <td>9.076000</td>\n    </tr>\n    <tr>\n      <th>48581</th>\n      <td>Vietnam</td>\n      <td>VNM</td>\n      <td>2015</td>\n      <td>92677000.0</td>\n      <td>Asia</td>\n      <td>33.809</td>\n      <td>43.931999</td>\n    </tr>\n    <tr>\n      <th>49094</th>\n      <td>Yemen</td>\n      <td>YEM</td>\n      <td>2015</td>\n      <td>26498000.0</td>\n      <td>Asia</td>\n      <td>34.777</td>\n      <td>34.674999</td>\n    </tr>\n    <tr>\n      <th>49317</th>\n      <td>Zambia</td>\n      <td>ZMB</td>\n      <td>2015</td>\n      <td>15879000.0</td>\n      <td>Africa</td>\n      <td>41.907</td>\n      <td>53.666000</td>\n    </tr>\n    <tr>\n      <th>49538</th>\n      <td>Zimbabwe</td>\n      <td>ZWE</td>\n      <td>2015</td>\n      <td>13815000.0</td>\n      <td>Africa</td>\n      <td>32.385</td>\n      <td>67.209999</td>\n    </tr>\n  </tbody>\n</table>\n<p>185 rows × 7 columns</p>\n</div>"
     },
     "metadata": {},
     "execution_count": 79
    }
   ],
   "source": [
    "agri_emp_urban2 = agri_emp_urban1.dropna(inplace=False)\n",
    "agri_emp_urban2"
   ]
  },
  {
   "cell_type": "code",
   "execution_count": 80,
   "metadata": {},
   "outputs": [
    {
     "output_type": "execute_result",
     "data": {
      "text/plain": [
       "Index(['Entity', 'Code', 'Year', 'Total population (Gapminder, HYDE & UN)',\n",
       "       'Continent', 'Urban population (% of total)',\n",
       "       'Employment in agriculture (% of total employment) (modeled ILO estimate)'],\n",
       "      dtype='object')"
      ]
     },
     "metadata": {},
     "execution_count": 80
    }
   ],
   "source": [
    "agri_emp_urban2.columns"
   ]
  },
  {
   "cell_type": "code",
   "execution_count": 82,
   "metadata": {},
   "outputs": [
    {
     "output_type": "execute_result",
     "data": {
      "text/plain": [
       "            Entity  Urban Population (%)  Employed in Agriculture(%)\n",
       "216    Afghanistan                24.803                   61.132000\n",
       "559        Albania                57.434                   41.366001\n",
       "779        Algeria                70.848                   13.075000\n",
       "1289        Angola                63.446                   48.896000\n",
       "1858     Argentina                91.503                    0.518000\n",
       "...            ...                   ...                         ...\n",
       "48361    Venezuela                88.154                    9.076000\n",
       "48581      Vietnam                33.809                   43.931999\n",
       "49094        Yemen                34.777                   34.674999\n",
       "49317       Zambia                41.907                   53.666000\n",
       "49538     Zimbabwe                32.385                   67.209999\n",
       "\n",
       "[185 rows x 3 columns]"
      ],
      "text/html": "<div>\n<style scoped>\n    .dataframe tbody tr th:only-of-type {\n        vertical-align: middle;\n    }\n\n    .dataframe tbody tr th {\n        vertical-align: top;\n    }\n\n    .dataframe thead th {\n        text-align: right;\n    }\n</style>\n<table border=\"1\" class=\"dataframe\">\n  <thead>\n    <tr style=\"text-align: right;\">\n      <th></th>\n      <th>Entity</th>\n      <th>Urban Population (%)</th>\n      <th>Employed in Agriculture(%)</th>\n    </tr>\n  </thead>\n  <tbody>\n    <tr>\n      <th>216</th>\n      <td>Afghanistan</td>\n      <td>24.803</td>\n      <td>61.132000</td>\n    </tr>\n    <tr>\n      <th>559</th>\n      <td>Albania</td>\n      <td>57.434</td>\n      <td>41.366001</td>\n    </tr>\n    <tr>\n      <th>779</th>\n      <td>Algeria</td>\n      <td>70.848</td>\n      <td>13.075000</td>\n    </tr>\n    <tr>\n      <th>1289</th>\n      <td>Angola</td>\n      <td>63.446</td>\n      <td>48.896000</td>\n    </tr>\n    <tr>\n      <th>1858</th>\n      <td>Argentina</td>\n      <td>91.503</td>\n      <td>0.518000</td>\n    </tr>\n    <tr>\n      <th>...</th>\n      <td>...</td>\n      <td>...</td>\n      <td>...</td>\n    </tr>\n    <tr>\n      <th>48361</th>\n      <td>Venezuela</td>\n      <td>88.154</td>\n      <td>9.076000</td>\n    </tr>\n    <tr>\n      <th>48581</th>\n      <td>Vietnam</td>\n      <td>33.809</td>\n      <td>43.931999</td>\n    </tr>\n    <tr>\n      <th>49094</th>\n      <td>Yemen</td>\n      <td>34.777</td>\n      <td>34.674999</td>\n    </tr>\n    <tr>\n      <th>49317</th>\n      <td>Zambia</td>\n      <td>41.907</td>\n      <td>53.666000</td>\n    </tr>\n    <tr>\n      <th>49538</th>\n      <td>Zimbabwe</td>\n      <td>32.385</td>\n      <td>67.209999</td>\n    </tr>\n  </tbody>\n</table>\n<p>185 rows × 3 columns</p>\n</div>"
     },
     "metadata": {},
     "execution_count": 82
    }
   ],
   "source": [
    "agri_emp_urban3 = agri_emp_urban2.drop(columns=['Code', 'Year', 'Total population (Gapminder, HYDE & UN)',\n",
    "       'Continent']).rename(columns={'Urban population (% of total)':'Urban Population (%)','Employment in agriculture (% of total employment) (modeled ILO estimate)':'Employed in Agriculture(%)'})\n",
    "\n",
    "agri_emp_urban3"
   ]
  },
  {
   "cell_type": "code",
   "execution_count": 86,
   "metadata": {},
   "outputs": [
    {
     "output_type": "execute_result",
     "data": {
      "text/plain": [
       "          Entity                       Item  Crop Yeild (kg/ha) Code  Year  \\\n",
       "0    Afghanistan           Maize Rice Wheat               70283  AFG  2015   \n",
       "1        Albania       Maize Soybeans Wheat              129029  ALB  2015   \n",
       "2        Algeria           Maize Rice Wheat               76438  DZA  2015   \n",
       "3      Argentina  Maize Rice Soybeans Wheat              200828  ARG  2015   \n",
       "4        Armenia                Maize Wheat               96336  ARM  2015   \n",
       "..           ...                        ...                 ...  ...   ...   \n",
       "148      Uruguay  Maize Rice Soybeans Wheat              207752  URY  2015   \n",
       "149   Uzbekistan  Maize Rice Soybeans Wheat              253296  UZB  2015   \n",
       "150        Yemen                Maize Wheat               26544  YEM  2015   \n",
       "151       Zambia  Maize Rice Soybeans Wheat              122307  ZMB  2015   \n",
       "152     Zimbabwe  Maize Rice Soybeans Wheat               58047  ZWE  2015   \n",
       "\n",
       "     Agriculture, value added per worker (constant 2010 US$)  \n",
       "0                                           761.461513        \n",
       "1                                          5374.476370        \n",
       "2                                         14065.123850        \n",
       "3                                        338735.911200        \n",
       "4                                          6289.041997        \n",
       "..                                                 ...        \n",
       "148                                       23018.482870        \n",
       "149                                        3179.070812        \n",
       "150                                         873.961738        \n",
       "151                                         584.557209        \n",
       "152                                         293.152050        \n",
       "\n",
       "[153 rows x 6 columns]"
      ],
      "text/html": "<div>\n<style scoped>\n    .dataframe tbody tr th:only-of-type {\n        vertical-align: middle;\n    }\n\n    .dataframe tbody tr th {\n        vertical-align: top;\n    }\n\n    .dataframe thead th {\n        text-align: right;\n    }\n</style>\n<table border=\"1\" class=\"dataframe\">\n  <thead>\n    <tr style=\"text-align: right;\">\n      <th></th>\n      <th>Entity</th>\n      <th>Item</th>\n      <th>Crop Yeild (kg/ha)</th>\n      <th>Code</th>\n      <th>Year</th>\n      <th>Agriculture, value added per worker (constant 2010 US$)</th>\n    </tr>\n  </thead>\n  <tbody>\n    <tr>\n      <th>0</th>\n      <td>Afghanistan</td>\n      <td>Maize Rice Wheat</td>\n      <td>70283</td>\n      <td>AFG</td>\n      <td>2015</td>\n      <td>761.461513</td>\n    </tr>\n    <tr>\n      <th>1</th>\n      <td>Albania</td>\n      <td>Maize Soybeans Wheat</td>\n      <td>129029</td>\n      <td>ALB</td>\n      <td>2015</td>\n      <td>5374.476370</td>\n    </tr>\n    <tr>\n      <th>2</th>\n      <td>Algeria</td>\n      <td>Maize Rice Wheat</td>\n      <td>76438</td>\n      <td>DZA</td>\n      <td>2015</td>\n      <td>14065.123850</td>\n    </tr>\n    <tr>\n      <th>3</th>\n      <td>Argentina</td>\n      <td>Maize Rice Soybeans Wheat</td>\n      <td>200828</td>\n      <td>ARG</td>\n      <td>2015</td>\n      <td>338735.911200</td>\n    </tr>\n    <tr>\n      <th>4</th>\n      <td>Armenia</td>\n      <td>Maize Wheat</td>\n      <td>96336</td>\n      <td>ARM</td>\n      <td>2015</td>\n      <td>6289.041997</td>\n    </tr>\n    <tr>\n      <th>...</th>\n      <td>...</td>\n      <td>...</td>\n      <td>...</td>\n      <td>...</td>\n      <td>...</td>\n      <td>...</td>\n    </tr>\n    <tr>\n      <th>148</th>\n      <td>Uruguay</td>\n      <td>Maize Rice Soybeans Wheat</td>\n      <td>207752</td>\n      <td>URY</td>\n      <td>2015</td>\n      <td>23018.482870</td>\n    </tr>\n    <tr>\n      <th>149</th>\n      <td>Uzbekistan</td>\n      <td>Maize Rice Soybeans Wheat</td>\n      <td>253296</td>\n      <td>UZB</td>\n      <td>2015</td>\n      <td>3179.070812</td>\n    </tr>\n    <tr>\n      <th>150</th>\n      <td>Yemen</td>\n      <td>Maize Wheat</td>\n      <td>26544</td>\n      <td>YEM</td>\n      <td>2015</td>\n      <td>873.961738</td>\n    </tr>\n    <tr>\n      <th>151</th>\n      <td>Zambia</td>\n      <td>Maize Rice Soybeans Wheat</td>\n      <td>122307</td>\n      <td>ZMB</td>\n      <td>2015</td>\n      <td>584.557209</td>\n    </tr>\n    <tr>\n      <th>152</th>\n      <td>Zimbabwe</td>\n      <td>Maize Rice Soybeans Wheat</td>\n      <td>58047</td>\n      <td>ZWE</td>\n      <td>2015</td>\n      <td>293.152050</td>\n    </tr>\n  </tbody>\n</table>\n<p>153 rows × 6 columns</p>\n</div>"
     },
     "metadata": {},
     "execution_count": 86
    }
   ],
   "source": [
    "# Merging the datasets\n",
    "agrimerge = pd.merge(agriculture5,agri_employment1, on='Entity',how='inner')\n",
    "agrimerge"
   ]
  },
  {
   "cell_type": "code",
   "execution_count": 87,
   "metadata": {},
   "outputs": [
    {
     "output_type": "execute_result",
     "data": {
      "text/plain": [
       "          Entity                       Item  Crop Yeild (kg/ha) Code  Year  \\\n",
       "0    Afghanistan           Maize Rice Wheat               70283  AFG  2015   \n",
       "1        Albania       Maize Soybeans Wheat              129029  ALB  2015   \n",
       "2        Algeria           Maize Rice Wheat               76438  DZA  2015   \n",
       "3      Argentina  Maize Rice Soybeans Wheat              200828  ARG  2015   \n",
       "4        Armenia                Maize Wheat               96336  ARM  2015   \n",
       "..           ...                        ...                 ...  ...   ...   \n",
       "148      Uruguay  Maize Rice Soybeans Wheat              207752  URY  2015   \n",
       "149   Uzbekistan  Maize Rice Soybeans Wheat              253296  UZB  2015   \n",
       "150        Yemen                Maize Wheat               26544  YEM  2015   \n",
       "151       Zambia  Maize Rice Soybeans Wheat              122307  ZMB  2015   \n",
       "152     Zimbabwe  Maize Rice Soybeans Wheat               58047  ZWE  2015   \n",
       "\n",
       "     Agriculture, value added per worker (constant 2010 US$)  \\\n",
       "0                                           761.461513         \n",
       "1                                          5374.476370         \n",
       "2                                         14065.123850         \n",
       "3                                        338735.911200         \n",
       "4                                          6289.041997         \n",
       "..                                                 ...         \n",
       "148                                       23018.482870         \n",
       "149                                        3179.070812         \n",
       "150                                         873.961738         \n",
       "151                                         584.557209         \n",
       "152                                         293.152050         \n",
       "\n",
       "     Urban Population (%)  Employed in Agriculture(%)  \n",
       "0                  24.803                   61.132000  \n",
       "1                  57.434                   41.366001  \n",
       "2                  70.848                   13.075000  \n",
       "3                  91.503                    0.518000  \n",
       "4                  63.085                   35.328999  \n",
       "..                    ...                         ...  \n",
       "148                95.045                    8.824000  \n",
       "149                50.750                   22.846001  \n",
       "150                34.777                   34.674999  \n",
       "151                41.907                   53.666000  \n",
       "152                32.385                   67.209999  \n",
       "\n",
       "[153 rows x 8 columns]"
      ],
      "text/html": "<div>\n<style scoped>\n    .dataframe tbody tr th:only-of-type {\n        vertical-align: middle;\n    }\n\n    .dataframe tbody tr th {\n        vertical-align: top;\n    }\n\n    .dataframe thead th {\n        text-align: right;\n    }\n</style>\n<table border=\"1\" class=\"dataframe\">\n  <thead>\n    <tr style=\"text-align: right;\">\n      <th></th>\n      <th>Entity</th>\n      <th>Item</th>\n      <th>Crop Yeild (kg/ha)</th>\n      <th>Code</th>\n      <th>Year</th>\n      <th>Agriculture, value added per worker (constant 2010 US$)</th>\n      <th>Urban Population (%)</th>\n      <th>Employed in Agriculture(%)</th>\n    </tr>\n  </thead>\n  <tbody>\n    <tr>\n      <th>0</th>\n      <td>Afghanistan</td>\n      <td>Maize Rice Wheat</td>\n      <td>70283</td>\n      <td>AFG</td>\n      <td>2015</td>\n      <td>761.461513</td>\n      <td>24.803</td>\n      <td>61.132000</td>\n    </tr>\n    <tr>\n      <th>1</th>\n      <td>Albania</td>\n      <td>Maize Soybeans Wheat</td>\n      <td>129029</td>\n      <td>ALB</td>\n      <td>2015</td>\n      <td>5374.476370</td>\n      <td>57.434</td>\n      <td>41.366001</td>\n    </tr>\n    <tr>\n      <th>2</th>\n      <td>Algeria</td>\n      <td>Maize Rice Wheat</td>\n      <td>76438</td>\n      <td>DZA</td>\n      <td>2015</td>\n      <td>14065.123850</td>\n      <td>70.848</td>\n      <td>13.075000</td>\n    </tr>\n    <tr>\n      <th>3</th>\n      <td>Argentina</td>\n      <td>Maize Rice Soybeans Wheat</td>\n      <td>200828</td>\n      <td>ARG</td>\n      <td>2015</td>\n      <td>338735.911200</td>\n      <td>91.503</td>\n      <td>0.518000</td>\n    </tr>\n    <tr>\n      <th>4</th>\n      <td>Armenia</td>\n      <td>Maize Wheat</td>\n      <td>96336</td>\n      <td>ARM</td>\n      <td>2015</td>\n      <td>6289.041997</td>\n      <td>63.085</td>\n      <td>35.328999</td>\n    </tr>\n    <tr>\n      <th>...</th>\n      <td>...</td>\n      <td>...</td>\n      <td>...</td>\n      <td>...</td>\n      <td>...</td>\n      <td>...</td>\n      <td>...</td>\n      <td>...</td>\n    </tr>\n    <tr>\n      <th>148</th>\n      <td>Uruguay</td>\n      <td>Maize Rice Soybeans Wheat</td>\n      <td>207752</td>\n      <td>URY</td>\n      <td>2015</td>\n      <td>23018.482870</td>\n      <td>95.045</td>\n      <td>8.824000</td>\n    </tr>\n    <tr>\n      <th>149</th>\n      <td>Uzbekistan</td>\n      <td>Maize Rice Soybeans Wheat</td>\n      <td>253296</td>\n      <td>UZB</td>\n      <td>2015</td>\n      <td>3179.070812</td>\n      <td>50.750</td>\n      <td>22.846001</td>\n    </tr>\n    <tr>\n      <th>150</th>\n      <td>Yemen</td>\n      <td>Maize Wheat</td>\n      <td>26544</td>\n      <td>YEM</td>\n      <td>2015</td>\n      <td>873.961738</td>\n      <td>34.777</td>\n      <td>34.674999</td>\n    </tr>\n    <tr>\n      <th>151</th>\n      <td>Zambia</td>\n      <td>Maize Rice Soybeans Wheat</td>\n      <td>122307</td>\n      <td>ZMB</td>\n      <td>2015</td>\n      <td>584.557209</td>\n      <td>41.907</td>\n      <td>53.666000</td>\n    </tr>\n    <tr>\n      <th>152</th>\n      <td>Zimbabwe</td>\n      <td>Maize Rice Soybeans Wheat</td>\n      <td>58047</td>\n      <td>ZWE</td>\n      <td>2015</td>\n      <td>293.152050</td>\n      <td>32.385</td>\n      <td>67.209999</td>\n    </tr>\n  </tbody>\n</table>\n<p>153 rows × 8 columns</p>\n</div>"
     },
     "metadata": {},
     "execution_count": 87
    }
   ],
   "source": [
    "agrimerge1 = pd.merge(agrimerge,agri_emp_urban3, on='Entity', how='inner')\n",
    "agrimerge1"
   ]
  },
  {
   "cell_type": "code",
   "execution_count": 89,
   "metadata": {},
   "outputs": [
    {
     "output_type": "execute_result",
     "data": {
      "text/plain": [
       "          Entity                       Item  Crop Yeild (kg/ha)  \\\n",
       "0    Afghanistan           Maize Rice Wheat               70283   \n",
       "1        Albania       Maize Soybeans Wheat              129029   \n",
       "2        Algeria           Maize Rice Wheat               76438   \n",
       "3      Argentina  Maize Rice Soybeans Wheat              200828   \n",
       "4        Armenia                Maize Wheat               96336   \n",
       "..           ...                        ...                 ...   \n",
       "148      Uruguay  Maize Rice Soybeans Wheat              207752   \n",
       "149   Uzbekistan  Maize Rice Soybeans Wheat              253296   \n",
       "150        Yemen                Maize Wheat               26544   \n",
       "151       Zambia  Maize Rice Soybeans Wheat              122307   \n",
       "152     Zimbabwe  Maize Rice Soybeans Wheat               58047   \n",
       "\n",
       "     Agriculture, value added per worker (constant 2010 US$)  \\\n",
       "0                                           761.461513         \n",
       "1                                          5374.476370         \n",
       "2                                         14065.123850         \n",
       "3                                        338735.911200         \n",
       "4                                          6289.041997         \n",
       "..                                                 ...         \n",
       "148                                       23018.482870         \n",
       "149                                        3179.070812         \n",
       "150                                         873.961738         \n",
       "151                                         584.557209         \n",
       "152                                         293.152050         \n",
       "\n",
       "     Urban Population (%)  Employed in Agriculture(%)  \n",
       "0                  24.803                   61.132000  \n",
       "1                  57.434                   41.366001  \n",
       "2                  70.848                   13.075000  \n",
       "3                  91.503                    0.518000  \n",
       "4                  63.085                   35.328999  \n",
       "..                    ...                         ...  \n",
       "148                95.045                    8.824000  \n",
       "149                50.750                   22.846001  \n",
       "150                34.777                   34.674999  \n",
       "151                41.907                   53.666000  \n",
       "152                32.385                   67.209999  \n",
       "\n",
       "[153 rows x 6 columns]"
      ],
      "text/html": "<div>\n<style scoped>\n    .dataframe tbody tr th:only-of-type {\n        vertical-align: middle;\n    }\n\n    .dataframe tbody tr th {\n        vertical-align: top;\n    }\n\n    .dataframe thead th {\n        text-align: right;\n    }\n</style>\n<table border=\"1\" class=\"dataframe\">\n  <thead>\n    <tr style=\"text-align: right;\">\n      <th></th>\n      <th>Entity</th>\n      <th>Item</th>\n      <th>Crop Yeild (kg/ha)</th>\n      <th>Agriculture, value added per worker (constant 2010 US$)</th>\n      <th>Urban Population (%)</th>\n      <th>Employed in Agriculture(%)</th>\n    </tr>\n  </thead>\n  <tbody>\n    <tr>\n      <th>0</th>\n      <td>Afghanistan</td>\n      <td>Maize Rice Wheat</td>\n      <td>70283</td>\n      <td>761.461513</td>\n      <td>24.803</td>\n      <td>61.132000</td>\n    </tr>\n    <tr>\n      <th>1</th>\n      <td>Albania</td>\n      <td>Maize Soybeans Wheat</td>\n      <td>129029</td>\n      <td>5374.476370</td>\n      <td>57.434</td>\n      <td>41.366001</td>\n    </tr>\n    <tr>\n      <th>2</th>\n      <td>Algeria</td>\n      <td>Maize Rice Wheat</td>\n      <td>76438</td>\n      <td>14065.123850</td>\n      <td>70.848</td>\n      <td>13.075000</td>\n    </tr>\n    <tr>\n      <th>3</th>\n      <td>Argentina</td>\n      <td>Maize Rice Soybeans Wheat</td>\n      <td>200828</td>\n      <td>338735.911200</td>\n      <td>91.503</td>\n      <td>0.518000</td>\n    </tr>\n    <tr>\n      <th>4</th>\n      <td>Armenia</td>\n      <td>Maize Wheat</td>\n      <td>96336</td>\n      <td>6289.041997</td>\n      <td>63.085</td>\n      <td>35.328999</td>\n    </tr>\n    <tr>\n      <th>...</th>\n      <td>...</td>\n      <td>...</td>\n      <td>...</td>\n      <td>...</td>\n      <td>...</td>\n      <td>...</td>\n    </tr>\n    <tr>\n      <th>148</th>\n      <td>Uruguay</td>\n      <td>Maize Rice Soybeans Wheat</td>\n      <td>207752</td>\n      <td>23018.482870</td>\n      <td>95.045</td>\n      <td>8.824000</td>\n    </tr>\n    <tr>\n      <th>149</th>\n      <td>Uzbekistan</td>\n      <td>Maize Rice Soybeans Wheat</td>\n      <td>253296</td>\n      <td>3179.070812</td>\n      <td>50.750</td>\n      <td>22.846001</td>\n    </tr>\n    <tr>\n      <th>150</th>\n      <td>Yemen</td>\n      <td>Maize Wheat</td>\n      <td>26544</td>\n      <td>873.961738</td>\n      <td>34.777</td>\n      <td>34.674999</td>\n    </tr>\n    <tr>\n      <th>151</th>\n      <td>Zambia</td>\n      <td>Maize Rice Soybeans Wheat</td>\n      <td>122307</td>\n      <td>584.557209</td>\n      <td>41.907</td>\n      <td>53.666000</td>\n    </tr>\n    <tr>\n      <th>152</th>\n      <td>Zimbabwe</td>\n      <td>Maize Rice Soybeans Wheat</td>\n      <td>58047</td>\n      <td>293.152050</td>\n      <td>32.385</td>\n      <td>67.209999</td>\n    </tr>\n  </tbody>\n</table>\n<p>153 rows × 6 columns</p>\n</div>"
     },
     "metadata": {},
     "execution_count": 89
    }
   ],
   "source": [
    "agrimerge2 = agrimerge1.drop(columns=['Code','Year'])\n",
    "agrimerge2"
   ]
  },
  {
   "cell_type": "code",
   "execution_count": 94,
   "metadata": {},
   "outputs": [
    {
     "output_type": "execute_result",
     "data": {
      "text/plain": [
       "    Domain Code Domain  Area Code         Area  Element Code Element  \\\n",
       "0            QC  Crops          2  Afghanistan          5419   Yield   \n",
       "1            QC  Crops          3      Albania          5419   Yield   \n",
       "2            QC  Crops          3      Albania          5419   Yield   \n",
       "3            QC  Crops          4      Algeria          5419   Yield   \n",
       "4            QC  Crops          4      Algeria          5419   Yield   \n",
       "..          ...    ...        ...          ...           ...     ...   \n",
       "403          QC  Crops        251       Zambia          5419   Yield   \n",
       "404          QC  Crops        181     Zimbabwe          5419   Yield   \n",
       "405          QC  Crops        181     Zimbabwe          5419   Yield   \n",
       "406          QC  Crops        181     Zimbabwe          5419   Yield   \n",
       "407          QC  Crops        181     Zimbabwe          5419   Yield   \n",
       "\n",
       "     Item Code     Item  Year Code  Year   Unit  Value Flag Flag Description  \n",
       "0          328   Cotton       2018  2018  hg/ha  10000   Fc  Calculated data  \n",
       "1          328   Cotton       2018  2018  hg/ha  11081   Fc  Calculated data  \n",
       "2          826  Tobacco       2018  2018  hg/ha  16863   Fc  Calculated data  \n",
       "3          328   Cotton       2018  2018  hg/ha   3077   Fc  Calculated data  \n",
       "4          826  Tobacco       2018  2018  hg/ha  20967   Fc  Calculated data  \n",
       "..         ...      ...        ...   ...    ...    ...  ...              ...  \n",
       "403        826  Tobacco       2018  2018  hg/ha  17659   Fc  Calculated data  \n",
       "404        656   Coffee       2018  2018  hg/ha   2419   Fc  Calculated data  \n",
       "405        328   Cotton       2018  2018  hg/ha   5625   Fc  Calculated data  \n",
       "406        667      Tea       2018  2018  hg/ha  34722   Fc  Calculated data  \n",
       "407        826  Tobacco       2018  2018  hg/ha  13114   Fc  Calculated data  \n",
       "\n",
       "[408 rows x 14 columns]"
      ],
      "text/html": "<div>\n<style scoped>\n    .dataframe tbody tr th:only-of-type {\n        vertical-align: middle;\n    }\n\n    .dataframe tbody tr th {\n        vertical-align: top;\n    }\n\n    .dataframe thead th {\n        text-align: right;\n    }\n</style>\n<table border=\"1\" class=\"dataframe\">\n  <thead>\n    <tr style=\"text-align: right;\">\n      <th></th>\n      <th>Domain Code</th>\n      <th>Domain</th>\n      <th>Area Code</th>\n      <th>Area</th>\n      <th>Element Code</th>\n      <th>Element</th>\n      <th>Item Code</th>\n      <th>Item</th>\n      <th>Year Code</th>\n      <th>Year</th>\n      <th>Unit</th>\n      <th>Value</th>\n      <th>Flag</th>\n      <th>Flag Description</th>\n    </tr>\n  </thead>\n  <tbody>\n    <tr>\n      <th>0</th>\n      <td>QC</td>\n      <td>Crops</td>\n      <td>2</td>\n      <td>Afghanistan</td>\n      <td>5419</td>\n      <td>Yield</td>\n      <td>328</td>\n      <td>Cotton</td>\n      <td>2018</td>\n      <td>2018</td>\n      <td>hg/ha</td>\n      <td>10000</td>\n      <td>Fc</td>\n      <td>Calculated data</td>\n    </tr>\n    <tr>\n      <th>1</th>\n      <td>QC</td>\n      <td>Crops</td>\n      <td>3</td>\n      <td>Albania</td>\n      <td>5419</td>\n      <td>Yield</td>\n      <td>328</td>\n      <td>Cotton</td>\n      <td>2018</td>\n      <td>2018</td>\n      <td>hg/ha</td>\n      <td>11081</td>\n      <td>Fc</td>\n      <td>Calculated data</td>\n    </tr>\n    <tr>\n      <th>2</th>\n      <td>QC</td>\n      <td>Crops</td>\n      <td>3</td>\n      <td>Albania</td>\n      <td>5419</td>\n      <td>Yield</td>\n      <td>826</td>\n      <td>Tobacco</td>\n      <td>2018</td>\n      <td>2018</td>\n      <td>hg/ha</td>\n      <td>16863</td>\n      <td>Fc</td>\n      <td>Calculated data</td>\n    </tr>\n    <tr>\n      <th>3</th>\n      <td>QC</td>\n      <td>Crops</td>\n      <td>4</td>\n      <td>Algeria</td>\n      <td>5419</td>\n      <td>Yield</td>\n      <td>328</td>\n      <td>Cotton</td>\n      <td>2018</td>\n      <td>2018</td>\n      <td>hg/ha</td>\n      <td>3077</td>\n      <td>Fc</td>\n      <td>Calculated data</td>\n    </tr>\n    <tr>\n      <th>4</th>\n      <td>QC</td>\n      <td>Crops</td>\n      <td>4</td>\n      <td>Algeria</td>\n      <td>5419</td>\n      <td>Yield</td>\n      <td>826</td>\n      <td>Tobacco</td>\n      <td>2018</td>\n      <td>2018</td>\n      <td>hg/ha</td>\n      <td>20967</td>\n      <td>Fc</td>\n      <td>Calculated data</td>\n    </tr>\n    <tr>\n      <th>...</th>\n      <td>...</td>\n      <td>...</td>\n      <td>...</td>\n      <td>...</td>\n      <td>...</td>\n      <td>...</td>\n      <td>...</td>\n      <td>...</td>\n      <td>...</td>\n      <td>...</td>\n      <td>...</td>\n      <td>...</td>\n      <td>...</td>\n      <td>...</td>\n    </tr>\n    <tr>\n      <th>403</th>\n      <td>QC</td>\n      <td>Crops</td>\n      <td>251</td>\n      <td>Zambia</td>\n      <td>5419</td>\n      <td>Yield</td>\n      <td>826</td>\n      <td>Tobacco</td>\n      <td>2018</td>\n      <td>2018</td>\n      <td>hg/ha</td>\n      <td>17659</td>\n      <td>Fc</td>\n      <td>Calculated data</td>\n    </tr>\n    <tr>\n      <th>404</th>\n      <td>QC</td>\n      <td>Crops</td>\n      <td>181</td>\n      <td>Zimbabwe</td>\n      <td>5419</td>\n      <td>Yield</td>\n      <td>656</td>\n      <td>Coffee</td>\n      <td>2018</td>\n      <td>2018</td>\n      <td>hg/ha</td>\n      <td>2419</td>\n      <td>Fc</td>\n      <td>Calculated data</td>\n    </tr>\n    <tr>\n      <th>405</th>\n      <td>QC</td>\n      <td>Crops</td>\n      <td>181</td>\n      <td>Zimbabwe</td>\n      <td>5419</td>\n      <td>Yield</td>\n      <td>328</td>\n      <td>Cotton</td>\n      <td>2018</td>\n      <td>2018</td>\n      <td>hg/ha</td>\n      <td>5625</td>\n      <td>Fc</td>\n      <td>Calculated data</td>\n    </tr>\n    <tr>\n      <th>406</th>\n      <td>QC</td>\n      <td>Crops</td>\n      <td>181</td>\n      <td>Zimbabwe</td>\n      <td>5419</td>\n      <td>Yield</td>\n      <td>667</td>\n      <td>Tea</td>\n      <td>2018</td>\n      <td>2018</td>\n      <td>hg/ha</td>\n      <td>34722</td>\n      <td>Fc</td>\n      <td>Calculated data</td>\n    </tr>\n    <tr>\n      <th>407</th>\n      <td>QC</td>\n      <td>Crops</td>\n      <td>181</td>\n      <td>Zimbabwe</td>\n      <td>5419</td>\n      <td>Yield</td>\n      <td>826</td>\n      <td>Tobacco</td>\n      <td>2018</td>\n      <td>2018</td>\n      <td>hg/ha</td>\n      <td>13114</td>\n      <td>Fc</td>\n      <td>Calculated data</td>\n    </tr>\n  </tbody>\n</table>\n<p>408 rows × 14 columns</p>\n</div>"
     },
     "metadata": {},
     "execution_count": 94
    }
   ],
   "source": [
    "# Cashcrops\n",
    "cashcrops = pd.read_csv('Dataset/agriculturaldata/cashcrops.csv')\n",
    "cashcrops"
   ]
  },
  {
   "cell_type": "code",
   "execution_count": 95,
   "metadata": {},
   "outputs": [],
   "source": [
    "cashcrops['Item'] = cashcrops.groupby(['Area'])['Item'].transform(\n",
    "lambda x: ' '.join(x))"
   ]
  },
  {
   "cell_type": "code",
   "execution_count": 96,
   "metadata": {},
   "outputs": [
    {
     "output_type": "execute_result",
     "data": {
      "text/plain": [
       "    Domain Code Domain  Area Code         Area  Element Code Element  \\\n",
       "0            QC  Crops          2  Afghanistan          5419   Yield   \n",
       "1            QC  Crops          3      Albania          5419   Yield   \n",
       "2            QC  Crops          3      Albania          5419   Yield   \n",
       "3            QC  Crops          4      Algeria          5419   Yield   \n",
       "4            QC  Crops          4      Algeria          5419   Yield   \n",
       "..          ...    ...        ...          ...           ...     ...   \n",
       "403          QC  Crops        251       Zambia          5419   Yield   \n",
       "404          QC  Crops        181     Zimbabwe          5419   Yield   \n",
       "405          QC  Crops        181     Zimbabwe          5419   Yield   \n",
       "406          QC  Crops        181     Zimbabwe          5419   Yield   \n",
       "407          QC  Crops        181     Zimbabwe          5419   Yield   \n",
       "\n",
       "     Item Code                       Item  Year Code  Year   Unit  Value Flag  \\\n",
       "0          328                     Cotton       2018  2018  hg/ha  10000   Fc   \n",
       "1          328             Cotton Tobacco       2018  2018  hg/ha  11081   Fc   \n",
       "2          826             Cotton Tobacco       2018  2018  hg/ha  16863   Fc   \n",
       "3          328             Cotton Tobacco       2018  2018  hg/ha   3077   Fc   \n",
       "4          826             Cotton Tobacco       2018  2018  hg/ha  20967   Fc   \n",
       "..         ...                        ...        ...   ...    ...    ...  ...   \n",
       "403        826  Coffee Cotton Tea Tobacco       2018  2018  hg/ha  17659   Fc   \n",
       "404        656  Coffee Cotton Tea Tobacco       2018  2018  hg/ha   2419   Fc   \n",
       "405        328  Coffee Cotton Tea Tobacco       2018  2018  hg/ha   5625   Fc   \n",
       "406        667  Coffee Cotton Tea Tobacco       2018  2018  hg/ha  34722   Fc   \n",
       "407        826  Coffee Cotton Tea Tobacco       2018  2018  hg/ha  13114   Fc   \n",
       "\n",
       "    Flag Description  \n",
       "0    Calculated data  \n",
       "1    Calculated data  \n",
       "2    Calculated data  \n",
       "3    Calculated data  \n",
       "4    Calculated data  \n",
       "..               ...  \n",
       "403  Calculated data  \n",
       "404  Calculated data  \n",
       "405  Calculated data  \n",
       "406  Calculated data  \n",
       "407  Calculated data  \n",
       "\n",
       "[408 rows x 14 columns]"
      ],
      "text/html": "<div>\n<style scoped>\n    .dataframe tbody tr th:only-of-type {\n        vertical-align: middle;\n    }\n\n    .dataframe tbody tr th {\n        vertical-align: top;\n    }\n\n    .dataframe thead th {\n        text-align: right;\n    }\n</style>\n<table border=\"1\" class=\"dataframe\">\n  <thead>\n    <tr style=\"text-align: right;\">\n      <th></th>\n      <th>Domain Code</th>\n      <th>Domain</th>\n      <th>Area Code</th>\n      <th>Area</th>\n      <th>Element Code</th>\n      <th>Element</th>\n      <th>Item Code</th>\n      <th>Item</th>\n      <th>Year Code</th>\n      <th>Year</th>\n      <th>Unit</th>\n      <th>Value</th>\n      <th>Flag</th>\n      <th>Flag Description</th>\n    </tr>\n  </thead>\n  <tbody>\n    <tr>\n      <th>0</th>\n      <td>QC</td>\n      <td>Crops</td>\n      <td>2</td>\n      <td>Afghanistan</td>\n      <td>5419</td>\n      <td>Yield</td>\n      <td>328</td>\n      <td>Cotton</td>\n      <td>2018</td>\n      <td>2018</td>\n      <td>hg/ha</td>\n      <td>10000</td>\n      <td>Fc</td>\n      <td>Calculated data</td>\n    </tr>\n    <tr>\n      <th>1</th>\n      <td>QC</td>\n      <td>Crops</td>\n      <td>3</td>\n      <td>Albania</td>\n      <td>5419</td>\n      <td>Yield</td>\n      <td>328</td>\n      <td>Cotton Tobacco</td>\n      <td>2018</td>\n      <td>2018</td>\n      <td>hg/ha</td>\n      <td>11081</td>\n      <td>Fc</td>\n      <td>Calculated data</td>\n    </tr>\n    <tr>\n      <th>2</th>\n      <td>QC</td>\n      <td>Crops</td>\n      <td>3</td>\n      <td>Albania</td>\n      <td>5419</td>\n      <td>Yield</td>\n      <td>826</td>\n      <td>Cotton Tobacco</td>\n      <td>2018</td>\n      <td>2018</td>\n      <td>hg/ha</td>\n      <td>16863</td>\n      <td>Fc</td>\n      <td>Calculated data</td>\n    </tr>\n    <tr>\n      <th>3</th>\n      <td>QC</td>\n      <td>Crops</td>\n      <td>4</td>\n      <td>Algeria</td>\n      <td>5419</td>\n      <td>Yield</td>\n      <td>328</td>\n      <td>Cotton Tobacco</td>\n      <td>2018</td>\n      <td>2018</td>\n      <td>hg/ha</td>\n      <td>3077</td>\n      <td>Fc</td>\n      <td>Calculated data</td>\n    </tr>\n    <tr>\n      <th>4</th>\n      <td>QC</td>\n      <td>Crops</td>\n      <td>4</td>\n      <td>Algeria</td>\n      <td>5419</td>\n      <td>Yield</td>\n      <td>826</td>\n      <td>Cotton Tobacco</td>\n      <td>2018</td>\n      <td>2018</td>\n      <td>hg/ha</td>\n      <td>20967</td>\n      <td>Fc</td>\n      <td>Calculated data</td>\n    </tr>\n    <tr>\n      <th>...</th>\n      <td>...</td>\n      <td>...</td>\n      <td>...</td>\n      <td>...</td>\n      <td>...</td>\n      <td>...</td>\n      <td>...</td>\n      <td>...</td>\n      <td>...</td>\n      <td>...</td>\n      <td>...</td>\n      <td>...</td>\n      <td>...</td>\n      <td>...</td>\n    </tr>\n    <tr>\n      <th>403</th>\n      <td>QC</td>\n      <td>Crops</td>\n      <td>251</td>\n      <td>Zambia</td>\n      <td>5419</td>\n      <td>Yield</td>\n      <td>826</td>\n      <td>Coffee Cotton Tea Tobacco</td>\n      <td>2018</td>\n      <td>2018</td>\n      <td>hg/ha</td>\n      <td>17659</td>\n      <td>Fc</td>\n      <td>Calculated data</td>\n    </tr>\n    <tr>\n      <th>404</th>\n      <td>QC</td>\n      <td>Crops</td>\n      <td>181</td>\n      <td>Zimbabwe</td>\n      <td>5419</td>\n      <td>Yield</td>\n      <td>656</td>\n      <td>Coffee Cotton Tea Tobacco</td>\n      <td>2018</td>\n      <td>2018</td>\n      <td>hg/ha</td>\n      <td>2419</td>\n      <td>Fc</td>\n      <td>Calculated data</td>\n    </tr>\n    <tr>\n      <th>405</th>\n      <td>QC</td>\n      <td>Crops</td>\n      <td>181</td>\n      <td>Zimbabwe</td>\n      <td>5419</td>\n      <td>Yield</td>\n      <td>328</td>\n      <td>Coffee Cotton Tea Tobacco</td>\n      <td>2018</td>\n      <td>2018</td>\n      <td>hg/ha</td>\n      <td>5625</td>\n      <td>Fc</td>\n      <td>Calculated data</td>\n    </tr>\n    <tr>\n      <th>406</th>\n      <td>QC</td>\n      <td>Crops</td>\n      <td>181</td>\n      <td>Zimbabwe</td>\n      <td>5419</td>\n      <td>Yield</td>\n      <td>667</td>\n      <td>Coffee Cotton Tea Tobacco</td>\n      <td>2018</td>\n      <td>2018</td>\n      <td>hg/ha</td>\n      <td>34722</td>\n      <td>Fc</td>\n      <td>Calculated data</td>\n    </tr>\n    <tr>\n      <th>407</th>\n      <td>QC</td>\n      <td>Crops</td>\n      <td>181</td>\n      <td>Zimbabwe</td>\n      <td>5419</td>\n      <td>Yield</td>\n      <td>826</td>\n      <td>Coffee Cotton Tea Tobacco</td>\n      <td>2018</td>\n      <td>2018</td>\n      <td>hg/ha</td>\n      <td>13114</td>\n      <td>Fc</td>\n      <td>Calculated data</td>\n    </tr>\n  </tbody>\n</table>\n<p>408 rows × 14 columns</p>\n</div>"
     },
     "metadata": {},
     "execution_count": 96
    }
   ],
   "source": [
    "cashcrops"
   ]
  },
  {
   "cell_type": "code",
   "execution_count": 97,
   "metadata": {},
   "outputs": [
    {
     "output_type": "execute_result",
     "data": {
      "text/plain": [
       "['Afghanistan',\n",
       " 'Albania',\n",
       " 'Algeria',\n",
       " 'American Samoa',\n",
       " 'Angola',\n",
       " 'Antigua and Barbuda',\n",
       " 'Argentina',\n",
       " 'Armenia',\n",
       " 'Australia',\n",
       " 'Austria',\n",
       " 'Azerbaijan',\n",
       " 'Bahamas',\n",
       " 'Bangladesh',\n",
       " 'Barbados',\n",
       " 'Belarus',\n",
       " 'Belgium',\n",
       " 'Belize',\n",
       " 'Benin',\n",
       " 'Bhutan',\n",
       " 'Bolivia',\n",
       " 'Bosnia',\n",
       " 'Brazil',\n",
       " 'Brunei',\n",
       " 'Bulgaria',\n",
       " 'Burkina Faso',\n",
       " 'Burundi',\n",
       " 'Cabo Verde',\n",
       " 'Cambodia',\n",
       " 'Cameroon',\n",
       " 'Canada',\n",
       " 'Cayman Islands',\n",
       " 'Central African Republic',\n",
       " 'Chad',\n",
       " 'Chile',\n",
       " 'China',\n",
       " 'Hong Kong',\n",
       " 'Taiwan',\n",
       " 'Colombia',\n",
       " 'Comoros',\n",
       " 'Congo',\n",
       " 'Costa Rica',\n",
       " \"Côte d'Ivoire\",\n",
       " 'Croatia',\n",
       " 'Cuba',\n",
       " 'Cyprus',\n",
       " 'Czechia',\n",
       " 'North Korea',\n",
       " 'Democratic Republic of the Congo',\n",
       " 'Denmark',\n",
       " 'Djibouti',\n",
       " 'Dominica',\n",
       " 'Dominican Republic',\n",
       " 'Ecuador',\n",
       " 'Egypt',\n",
       " 'El Salvador',\n",
       " 'Eritrea',\n",
       " 'Estonia',\n",
       " 'Eswatini',\n",
       " 'Ethiopia',\n",
       " 'Fiji',\n",
       " 'Finland',\n",
       " 'France',\n",
       " 'French Guyana',\n",
       " 'Gabon',\n",
       " 'Gambia',\n",
       " 'Georgia',\n",
       " 'Germany',\n",
       " 'Ghana',\n",
       " 'Greece',\n",
       " 'Grenada',\n",
       " 'Guadeloupe',\n",
       " 'Guam',\n",
       " 'Guatemala',\n",
       " 'Guinea',\n",
       " 'Guinea-Bissau',\n",
       " 'Guyana',\n",
       " 'Haiti',\n",
       " 'Honduras',\n",
       " 'Hungary',\n",
       " 'India',\n",
       " 'Indonesia',\n",
       " 'Iran',\n",
       " 'Iraq',\n",
       " 'Ireland',\n",
       " 'Israel',\n",
       " 'Italy',\n",
       " 'Jamaica',\n",
       " 'Japan',\n",
       " 'Jordan',\n",
       " 'Kazakhstan',\n",
       " 'Kenya',\n",
       " 'Kuwait',\n",
       " 'Kyrgyzstan',\n",
       " 'Laos',\n",
       " 'Latvia',\n",
       " 'Lebanon',\n",
       " 'Lesotho',\n",
       " 'Liberia',\n",
       " 'Libya',\n",
       " 'Lithuania',\n",
       " 'Luxembourg',\n",
       " 'Madagascar',\n",
       " 'Malawi',\n",
       " 'Malaysia',\n",
       " 'Maldives',\n",
       " 'Mali',\n",
       " 'Malta',\n",
       " 'Martinique',\n",
       " 'Mauritania',\n",
       " 'Mauritius',\n",
       " 'Mexico',\n",
       " 'Micronesia',\n",
       " 'Mongolia',\n",
       " 'Montenegro',\n",
       " 'Montserrat',\n",
       " 'Morocco',\n",
       " 'Mozambique',\n",
       " 'Myanmar',\n",
       " 'Namibia',\n",
       " 'Nepal',\n",
       " 'Netherlands',\n",
       " 'New Caledonia',\n",
       " 'New Zealand',\n",
       " 'Nicaragua',\n",
       " 'Niger',\n",
       " 'Nigeria',\n",
       " 'Niue',\n",
       " 'North Macedonia',\n",
       " 'Norway',\n",
       " 'Oman',\n",
       " 'Pakistan',\n",
       " 'Palestine',\n",
       " 'Panama',\n",
       " 'Papua New Guinea',\n",
       " 'Paraguay',\n",
       " 'Peru',\n",
       " 'Philippines',\n",
       " 'Poland',\n",
       " 'Portugal',\n",
       " 'Puerto Rico',\n",
       " 'Qatar',\n",
       " 'South Korea',\n",
       " 'Republic of Moldova',\n",
       " 'Réunion',\n",
       " 'Romania',\n",
       " 'Russia',\n",
       " 'Rwanda',\n",
       " 'Saint Lucia',\n",
       " 'Saint Vincent',\n",
       " 'Samoa',\n",
       " 'Sao Tome and Principe',\n",
       " 'Saudi Arabia',\n",
       " 'Senegal',\n",
       " 'Serbia',\n",
       " 'Sierra Leone',\n",
       " 'Slovakia',\n",
       " 'Slovenia',\n",
       " 'Solomon Islands',\n",
       " 'Somalia',\n",
       " 'South Africa',\n",
       " 'South Sudan',\n",
       " 'Spain',\n",
       " 'Sri Lanka',\n",
       " 'Sudan',\n",
       " 'Suriname',\n",
       " 'Sweden',\n",
       " 'Switzerland',\n",
       " 'Syria',\n",
       " 'Tajikistan',\n",
       " 'Thailand',\n",
       " 'Timor',\n",
       " 'Togo',\n",
       " 'Tonga',\n",
       " 'Trinidad and Tobago',\n",
       " 'Tunisia',\n",
       " 'Turkey',\n",
       " 'Turkmenistan',\n",
       " 'Uganda',\n",
       " 'Ukraine',\n",
       " 'United Arab Emirates',\n",
       " 'United Kingdom',\n",
       " 'Tanzania',\n",
       " 'United States',\n",
       " 'Uruguay',\n",
       " 'Uzbekistan',\n",
       " 'Vanuatu',\n",
       " 'Venezuela',\n",
       " 'Viet Nam',\n",
       " 'Wallis and Futuna Islands',\n",
       " 'Yemen',\n",
       " 'Zambia',\n",
       " 'Zimbabwe']"
      ]
     },
     "metadata": {},
     "execution_count": 97
    }
   ],
   "source": [
    "area_list2 = cashcrops['Area'].tolist()\n",
    "area_list3 = list(dict.fromkeys(area_list))\n",
    "area_list3"
   ]
  },
  {
   "cell_type": "code",
   "execution_count": 102,
   "metadata": {},
   "outputs": [
    {
     "output_type": "stream",
     "name": "stdout",
     "text": [
      "Afghanistan\n Cash Crop Yeild 10000\nAlbania\n Cash Crop Yeild 27944\nAlgeria\n Cash Crop Yeild 24044\nAmerican Samoa\n Cash Crop Yeild 542\nAngola\n Cash Crop Yeild 33265\nAntigua and Barbuda\n Cash Crop Yeild 1750\nArgentina\n Cash Crop Yeild 65207\nArmenia\n Cash Crop Yeild 23257\nAustralia\n Cash Crop Yeild 78916\nAustria\n Cash Crop Yeild 16781\nAzerbaijan\n Cash Crop Yeild 49726\nBahamas\n Cash Crop Yeild 0\nBangladesh\n Cash Crop Yeild 69169\nBarbados\n Cash Crop Yeild 0\nBelarus\n Cash Crop Yeild 0\nBelgium\n Cash Crop Yeild 28306\nBelize\n Cash Crop Yeild 14865\nBenin\n Cash Crop Yeild 21172\nBhutan\n Cash Crop Yeild 14957\nBolivia\n Cash Crop Yeild 77532\nBosnia\n Cash Crop Yeild 15270\nBrazil\n Cash Crop Yeild 110575\nBrunei\n Cash Crop Yeild 0\nBulgaria\n Cash Crop Yeild 22421\nBurkina Faso\n Cash Crop Yeild 18982\nBurundi\n Cash Crop Yeild 78317\nCabo Verde\n Cash Crop Yeild 2074\nCambodia\n Cash Crop Yeild 39673\nCameroon\n Cash Crop Yeild 60931\nCanada\n Cash Crop Yeild 27662\nCayman Islands\n Cash Crop Yeild 0\nCentral African Republic\n Cash Crop Yeild 16932\nChad\n Cash Crop Yeild 22307\nChile\n Cash Crop Yeild 31200\nChina\n Cash Crop Yeild 231773\nHong Kong\n Cash Crop Yeild 0\nTaiwan\n Cash Crop Yeild 36383\nColombia\n Cash Crop Yeild 95038\nComoros\n Cash Crop Yeild 4655\nCongo\n Cash Crop Yeild 10333\nCosta Rica\n Cash Crop Yeild 38488\nCôte d'Ivoire\n Cash Crop Yeild 19969\nCroatia\n Cash Crop Yeild 19721\nCuba\n Cash Crop Yeild 21786\nCyprus\n Cash Crop Yeild 43155\nCzechia\n Cash Crop Yeild 0\nNorth Korea\n Cash Crop Yeild 34536\nDemocratic Republic of the Congo\n Cash Crop Yeild 18940\nDenmark\n Cash Crop Yeild 0\nDjibouti\n Cash Crop Yeild 0\nDominica\n Cash Crop Yeild 5023\nDominican Republic\n Cash Crop Yeild 25185\nEcuador\n Cash Crop Yeild 56875\nEgypt\n Cash Crop Yeild 22213\nEl Salvador\n Cash Crop Yeild 61684\nEritrea\n Cash Crop Yeild 0\nEstonia\n Cash Crop Yeild 0\nEswatini\n Cash Crop Yeild 10832\nEthiopia\n Cash Crop Yeild 37881\nFiji\n Cash Crop Yeild 12777\nFinland\n Cash Crop Yeild 0\nFrance\n Cash Crop Yeild 26038\nFrench Guyana\n Cash Crop Yeild 0\nGabon\n Cash Crop Yeild 4062\nGambia\n Cash Crop Yeild 3482\nGeorgia\n Cash Crop Yeild 13079\nGermany\n Cash Crop Yeild 26106\nGhana\n Cash Crop Yeild 35708\nGreece\n Cash Crop Yeild 45661\nGrenada\n Cash Crop Yeild 9964\nGuadeloupe\n Cash Crop Yeild 9765\nGuam\n Cash Crop Yeild 0\nGuatemala\n Cash Crop Yeild 92212\nGuinea\n Cash Crop Yeild 31455\nGuinea-Bissau\n Cash Crop Yeild 11308\nGuyana\n Cash Crop Yeild 20012\nHaiti\n Cash Crop Yeild 27359\nHonduras\n Cash Crop Yeild 48858\nHungary\n Cash Crop Yeild 15597\nIndia\n Cash Crop Yeild 60799\nIndonesia\n Cash Crop Yeild 31549\nIran\n Cash Crop Yeild 102658\nIraq\n Cash Crop Yeild 28169\nIreland\n Cash Crop Yeild 0\nIsrael\n Cash Crop Yeild 38948\nItaly\n Cash Crop Yeild 34523\nJamaica\n Cash Crop Yeild 33063\nJapan\n Cash Crop Yeild 43437\nJordan\n Cash Crop Yeild 14679\nKazakhstan\n Cash Crop Yeild 57625\nKenya\n Cash Crop Yeild 34163\nKuwait\n Cash Crop Yeild 0\nKyrgyzstan\n Cash Crop Yeild 57667\nLaos\n Cash Crop Yeild 164866\nLatvia\n Cash Crop Yeild 0\nLebanon\n Cash Crop Yeild 11638\nLesotho\n Cash Crop Yeild 0\nLiberia\n Cash Crop Yeild 3921\nLibya\n Cash Crop Yeild 20574\nLithuania\n Cash Crop Yeild 0\nLuxembourg\n Cash Crop Yeild 0\nMadagascar\n Cash Crop Yeild 36071\nMalawi\n Cash Crop Yeild 66961\nMalaysia\n Cash Crop Yeild 103266\nMaldives\n Cash Crop Yeild 0\nMali\n Cash Crop Yeild 48248\nMalta\n Cash Crop Yeild 0\nMartinique\n Cash Crop Yeild 9824\nMauritania\n Cash Crop Yeild 0\nMauritius\n Cash Crop Yeild 39080\nMexico\n Cash Crop Yeild 78875\nMicronesia\n Cash Crop Yeild 3855\nMongolia\n Cash Crop Yeild 0\nMontenegro\n Cash Crop Yeild 27912\nMontserrat\n Cash Crop Yeild 9429\nMorocco\n Cash Crop Yeild 50700\nMozambique\n Cash Crop Yeild 43713\nMyanmar\n Cash Crop Yeild 57748\nNamibia\n Cash Crop Yeild 0\nNepal\n Cash Crop Yeild 31650\nNetherlands\n Cash Crop Yeild 0\nNew Caledonia\n Cash Crop Yeild 1360\nNew Zealand\n Cash Crop Yeild 0\nNicaragua\n Cash Crop Yeild 58009\nNiger\n Cash Crop Yeild 27766\nNigeria\n Cash Crop Yeild 29916\nNiue\n Cash Crop Yeild 0\nNorth Macedonia\n Cash Crop Yeild 15406\nNorway\n Cash Crop Yeild 0\nOman\n Cash Crop Yeild 45448\nPakistan\n Cash Crop Yeild 43384\nPalestine\n Cash Crop Yeild 7019\nPanama\n Cash Crop Yeild 24149\nPapua New Guinea\n Cash Crop Yeild 28880\nParaguay\n Cash Crop Yeild 54781\nPeru\n Cash Crop Yeild 147204\nPhilippines\n Cash Crop Yeild 29620\nPoland\n Cash Crop Yeild 20251\nPortugal\n Cash Crop Yeild 69243\nPuerto Rico\n Cash Crop Yeild 16072\nQatar\n Cash Crop Yeild 0\nSouth Korea\n Cash Crop Yeild 35385\nRepublic of Moldova\n Cash Crop Yeild 18907\nRéunion\n Cash Crop Yeild 23792\nRomania\n Cash Crop Yeild 13745\nRussia\n Cash Crop Yeild 20485\nRwanda\n Cash Crop Yeild 30815\nSaint Lucia\n Cash Crop Yeild 16530\nSaint Vincent\n Cash Crop Yeild 0\nSamoa\n Cash Crop Yeild 55836\nSao Tome and Principe\n Cash Crop Yeild 1429\nSaudi Arabia\n Cash Crop Yeild 0\nSenegal\n Cash Crop Yeild 11153\nSerbia\n Cash Crop Yeild 12442\nSierra Leone\n Cash Crop Yeild 30477\nSlovakia\n Cash Crop Yeild 4286\nSlovenia\n Cash Crop Yeild 0\nSolomon Islands\n Cash Crop Yeild 12685\nSomalia\n Cash Crop Yeild 8173\nSouth Africa\n Cash Crop Yeild 79091\nSouth Sudan\n Cash Crop Yeild 0\nSpain\n Cash Crop Yeild 54491\nSri Lanka\n Cash Crop Yeild 98102\nSudan\n Cash Crop Yeild 19512\nSuriname\n Cash Crop Yeild 534\nSweden\n Cash Crop Yeild 0\nSwitzerland\n Cash Crop Yeild 20801\nSyria\n Cash Crop Yeild 19895\nTajikistan\n Cash Crop Yeild 30517\nThailand\n Cash Crop Yeild 132969\nTimor\n Cash Crop Yeild 2868\nTogo\n Cash Crop Yeild 24180\nTonga\n Cash Crop Yeild 14498\nTrinidad and Tobago\n Cash Crop Yeild 21638\nTunisia\n Cash Crop Yeild 20037\nTurkey\n Cash Crop Yeild 90475\nTurkmenistan\n Cash Crop Yeild 33340\nUganda\n Cash Crop Yeild 59356\nUkraine\n Cash Crop Yeild 25800\nUnited Arab Emirates\n Cash Crop Yeild 138242\nUnited Kingdom\n Cash Crop Yeild 0\nTanzania\n Cash Crop Yeild 0\nUnited States\n Cash Crop Yeild 0\nUruguay\n Cash Crop Yeild 39580\nUzbekistan\n Cash Crop Yeild 43585\nVanuatu\n Cash Crop Yeild 11283\nVenezuela\n Cash Crop Yeild 37119\nViet Nam\n Cash Crop Yeild 0\nWallis and Futuna Islands\n Cash Crop Yeild 0\nYemen\n Cash Crop Yeild 37851\nZambia\n Cash Crop Yeild 49272\nZimbabwe\n Cash Crop Yeild 55880\n"
     ]
    }
   ],
   "source": [
    "# Iterating through the dataframe to obtain total staple crop yield\n",
    "\n",
    "country_item1 = []\n",
    "crop_output1 = []\n",
    "\n",
    "\n",
    "for country1 in area_list3:\n",
    "\n",
    "    crop_yeild1 = cashcrops[cashcrops['Area']==country1]['Value'].sum()\n",
    "    \n",
    "        \n",
    "    print(f'{country1}\\n Cash Crop Yeild {crop_yeild1}')\n",
    "\n",
    "    country_item1.append(country1)\n",
    "    crop_output1.append(crop_yeild1)"
   ]
  },
  {
   "cell_type": "code",
   "execution_count": 103,
   "metadata": {},
   "outputs": [
    {
     "output_type": "execute_result",
     "data": {
      "text/plain": [
       "                          Area  Crop Yeild (kg/ha)\n",
       "0                  Afghanistan               10000\n",
       "1                      Albania               27944\n",
       "2                      Algeria               24044\n",
       "3               American Samoa                 542\n",
       "4                       Angola               33265\n",
       "..                         ...                 ...\n",
       "187                   Viet Nam                   0\n",
       "188  Wallis and Futuna Islands                   0\n",
       "189                      Yemen               37851\n",
       "190                     Zambia               49272\n",
       "191                   Zimbabwe               55880\n",
       "\n",
       "[192 rows x 2 columns]"
      ],
      "text/html": "<div>\n<style scoped>\n    .dataframe tbody tr th:only-of-type {\n        vertical-align: middle;\n    }\n\n    .dataframe tbody tr th {\n        vertical-align: top;\n    }\n\n    .dataframe thead th {\n        text-align: right;\n    }\n</style>\n<table border=\"1\" class=\"dataframe\">\n  <thead>\n    <tr style=\"text-align: right;\">\n      <th></th>\n      <th>Area</th>\n      <th>Crop Yeild (kg/ha)</th>\n    </tr>\n  </thead>\n  <tbody>\n    <tr>\n      <th>0</th>\n      <td>Afghanistan</td>\n      <td>10000</td>\n    </tr>\n    <tr>\n      <th>1</th>\n      <td>Albania</td>\n      <td>27944</td>\n    </tr>\n    <tr>\n      <th>2</th>\n      <td>Algeria</td>\n      <td>24044</td>\n    </tr>\n    <tr>\n      <th>3</th>\n      <td>American Samoa</td>\n      <td>542</td>\n    </tr>\n    <tr>\n      <th>4</th>\n      <td>Angola</td>\n      <td>33265</td>\n    </tr>\n    <tr>\n      <th>...</th>\n      <td>...</td>\n      <td>...</td>\n    </tr>\n    <tr>\n      <th>187</th>\n      <td>Viet Nam</td>\n      <td>0</td>\n    </tr>\n    <tr>\n      <th>188</th>\n      <td>Wallis and Futuna Islands</td>\n      <td>0</td>\n    </tr>\n    <tr>\n      <th>189</th>\n      <td>Yemen</td>\n      <td>37851</td>\n    </tr>\n    <tr>\n      <th>190</th>\n      <td>Zambia</td>\n      <td>49272</td>\n    </tr>\n    <tr>\n      <th>191</th>\n      <td>Zimbabwe</td>\n      <td>55880</td>\n    </tr>\n  </tbody>\n</table>\n<p>192 rows × 2 columns</p>\n</div>"
     },
     "metadata": {},
     "execution_count": 103
    }
   ],
   "source": [
    "cashcrops1 = pd.DataFrame({\n",
    "    'Area':country_item1,\n",
    "    'Crop Yeild (kg/ha)':crop_output1,\n",
    "    \n",
    "})\n",
    "\n",
    "cashcrops1"
   ]
  },
  {
   "cell_type": "code",
   "execution_count": 104,
   "metadata": {},
   "outputs": [
    {
     "output_type": "execute_result",
     "data": {
      "text/plain": [
       "    Domain Code Domain  Area Code         Area  Element Code Element  \\\n",
       "0            QC  Crops          2  Afghanistan          5419   Yield   \n",
       "1            QC  Crops          3      Albania          5419   Yield   \n",
       "2            QC  Crops          3      Albania          5419   Yield   \n",
       "3            QC  Crops          4      Algeria          5419   Yield   \n",
       "4            QC  Crops          4      Algeria          5419   Yield   \n",
       "..          ...    ...        ...          ...           ...     ...   \n",
       "380          QC  Crops        251       Zambia          5419   Yield   \n",
       "381          QC  Crops        181     Zimbabwe          5419   Yield   \n",
       "382          QC  Crops        181     Zimbabwe          5419   Yield   \n",
       "383          QC  Crops        181     Zimbabwe          5419   Yield   \n",
       "384          QC  Crops        181     Zimbabwe          5419   Yield   \n",
       "\n",
       "     Item Code                       Item  Year Code  Year   Unit  Value Flag  \\\n",
       "0          328                     Cotton       2018  2018  hg/ha  10000   Fc   \n",
       "1          328             Cotton Tobacco       2018  2018  hg/ha  11081   Fc   \n",
       "2          826             Cotton Tobacco       2018  2018  hg/ha  16863   Fc   \n",
       "3          328             Cotton Tobacco       2018  2018  hg/ha   3077   Fc   \n",
       "4          826             Cotton Tobacco       2018  2018  hg/ha  20967   Fc   \n",
       "..         ...                        ...        ...   ...    ...    ...  ...   \n",
       "380        826  Coffee Cotton Tea Tobacco       2018  2018  hg/ha  17659   Fc   \n",
       "381        656  Coffee Cotton Tea Tobacco       2018  2018  hg/ha   2419   Fc   \n",
       "382        328  Coffee Cotton Tea Tobacco       2018  2018  hg/ha   5625   Fc   \n",
       "383        667  Coffee Cotton Tea Tobacco       2018  2018  hg/ha  34722   Fc   \n",
       "384        826  Coffee Cotton Tea Tobacco       2018  2018  hg/ha  13114   Fc   \n",
       "\n",
       "    Flag Description  Crop Yeild (kg/ha)  \n",
       "0    Calculated data               10000  \n",
       "1    Calculated data               27944  \n",
       "2    Calculated data               27944  \n",
       "3    Calculated data               24044  \n",
       "4    Calculated data               24044  \n",
       "..               ...                 ...  \n",
       "380  Calculated data               49272  \n",
       "381  Calculated data               55880  \n",
       "382  Calculated data               55880  \n",
       "383  Calculated data               55880  \n",
       "384  Calculated data               55880  \n",
       "\n",
       "[385 rows x 15 columns]"
      ],
      "text/html": "<div>\n<style scoped>\n    .dataframe tbody tr th:only-of-type {\n        vertical-align: middle;\n    }\n\n    .dataframe tbody tr th {\n        vertical-align: top;\n    }\n\n    .dataframe thead th {\n        text-align: right;\n    }\n</style>\n<table border=\"1\" class=\"dataframe\">\n  <thead>\n    <tr style=\"text-align: right;\">\n      <th></th>\n      <th>Domain Code</th>\n      <th>Domain</th>\n      <th>Area Code</th>\n      <th>Area</th>\n      <th>Element Code</th>\n      <th>Element</th>\n      <th>Item Code</th>\n      <th>Item</th>\n      <th>Year Code</th>\n      <th>Year</th>\n      <th>Unit</th>\n      <th>Value</th>\n      <th>Flag</th>\n      <th>Flag Description</th>\n      <th>Crop Yeild (kg/ha)</th>\n    </tr>\n  </thead>\n  <tbody>\n    <tr>\n      <th>0</th>\n      <td>QC</td>\n      <td>Crops</td>\n      <td>2</td>\n      <td>Afghanistan</td>\n      <td>5419</td>\n      <td>Yield</td>\n      <td>328</td>\n      <td>Cotton</td>\n      <td>2018</td>\n      <td>2018</td>\n      <td>hg/ha</td>\n      <td>10000</td>\n      <td>Fc</td>\n      <td>Calculated data</td>\n      <td>10000</td>\n    </tr>\n    <tr>\n      <th>1</th>\n      <td>QC</td>\n      <td>Crops</td>\n      <td>3</td>\n      <td>Albania</td>\n      <td>5419</td>\n      <td>Yield</td>\n      <td>328</td>\n      <td>Cotton Tobacco</td>\n      <td>2018</td>\n      <td>2018</td>\n      <td>hg/ha</td>\n      <td>11081</td>\n      <td>Fc</td>\n      <td>Calculated data</td>\n      <td>27944</td>\n    </tr>\n    <tr>\n      <th>2</th>\n      <td>QC</td>\n      <td>Crops</td>\n      <td>3</td>\n      <td>Albania</td>\n      <td>5419</td>\n      <td>Yield</td>\n      <td>826</td>\n      <td>Cotton Tobacco</td>\n      <td>2018</td>\n      <td>2018</td>\n      <td>hg/ha</td>\n      <td>16863</td>\n      <td>Fc</td>\n      <td>Calculated data</td>\n      <td>27944</td>\n    </tr>\n    <tr>\n      <th>3</th>\n      <td>QC</td>\n      <td>Crops</td>\n      <td>4</td>\n      <td>Algeria</td>\n      <td>5419</td>\n      <td>Yield</td>\n      <td>328</td>\n      <td>Cotton Tobacco</td>\n      <td>2018</td>\n      <td>2018</td>\n      <td>hg/ha</td>\n      <td>3077</td>\n      <td>Fc</td>\n      <td>Calculated data</td>\n      <td>24044</td>\n    </tr>\n    <tr>\n      <th>4</th>\n      <td>QC</td>\n      <td>Crops</td>\n      <td>4</td>\n      <td>Algeria</td>\n      <td>5419</td>\n      <td>Yield</td>\n      <td>826</td>\n      <td>Cotton Tobacco</td>\n      <td>2018</td>\n      <td>2018</td>\n      <td>hg/ha</td>\n      <td>20967</td>\n      <td>Fc</td>\n      <td>Calculated data</td>\n      <td>24044</td>\n    </tr>\n    <tr>\n      <th>...</th>\n      <td>...</td>\n      <td>...</td>\n      <td>...</td>\n      <td>...</td>\n      <td>...</td>\n      <td>...</td>\n      <td>...</td>\n      <td>...</td>\n      <td>...</td>\n      <td>...</td>\n      <td>...</td>\n      <td>...</td>\n      <td>...</td>\n      <td>...</td>\n      <td>...</td>\n    </tr>\n    <tr>\n      <th>380</th>\n      <td>QC</td>\n      <td>Crops</td>\n      <td>251</td>\n      <td>Zambia</td>\n      <td>5419</td>\n      <td>Yield</td>\n      <td>826</td>\n      <td>Coffee Cotton Tea Tobacco</td>\n      <td>2018</td>\n      <td>2018</td>\n      <td>hg/ha</td>\n      <td>17659</td>\n      <td>Fc</td>\n      <td>Calculated data</td>\n      <td>49272</td>\n    </tr>\n    <tr>\n      <th>381</th>\n      <td>QC</td>\n      <td>Crops</td>\n      <td>181</td>\n      <td>Zimbabwe</td>\n      <td>5419</td>\n      <td>Yield</td>\n      <td>656</td>\n      <td>Coffee Cotton Tea Tobacco</td>\n      <td>2018</td>\n      <td>2018</td>\n      <td>hg/ha</td>\n      <td>2419</td>\n      <td>Fc</td>\n      <td>Calculated data</td>\n      <td>55880</td>\n    </tr>\n    <tr>\n      <th>382</th>\n      <td>QC</td>\n      <td>Crops</td>\n      <td>181</td>\n      <td>Zimbabwe</td>\n      <td>5419</td>\n      <td>Yield</td>\n      <td>328</td>\n      <td>Coffee Cotton Tea Tobacco</td>\n      <td>2018</td>\n      <td>2018</td>\n      <td>hg/ha</td>\n      <td>5625</td>\n      <td>Fc</td>\n      <td>Calculated data</td>\n      <td>55880</td>\n    </tr>\n    <tr>\n      <th>383</th>\n      <td>QC</td>\n      <td>Crops</td>\n      <td>181</td>\n      <td>Zimbabwe</td>\n      <td>5419</td>\n      <td>Yield</td>\n      <td>667</td>\n      <td>Coffee Cotton Tea Tobacco</td>\n      <td>2018</td>\n      <td>2018</td>\n      <td>hg/ha</td>\n      <td>34722</td>\n      <td>Fc</td>\n      <td>Calculated data</td>\n      <td>55880</td>\n    </tr>\n    <tr>\n      <th>384</th>\n      <td>QC</td>\n      <td>Crops</td>\n      <td>181</td>\n      <td>Zimbabwe</td>\n      <td>5419</td>\n      <td>Yield</td>\n      <td>826</td>\n      <td>Coffee Cotton Tea Tobacco</td>\n      <td>2018</td>\n      <td>2018</td>\n      <td>hg/ha</td>\n      <td>13114</td>\n      <td>Fc</td>\n      <td>Calculated data</td>\n      <td>55880</td>\n    </tr>\n  </tbody>\n</table>\n<p>385 rows × 15 columns</p>\n</div>"
     },
     "metadata": {},
     "execution_count": 104
    }
   ],
   "source": [
    "# New dataframe\n",
    "cashcrops2 = pd.merge(cashcrops, cashcrops1, how='inner', on='Area')\n",
    "cashcrops2"
   ]
  },
  {
   "cell_type": "code",
   "execution_count": 105,
   "metadata": {},
   "outputs": [
    {
     "output_type": "execute_result",
     "data": {
      "text/plain": [
       "Index(['Domain Code', 'Domain', 'Area Code', 'Area', 'Element Code', 'Element',\n",
       "       'Item Code', 'Item', 'Year Code', 'Year', 'Unit', 'Value', 'Flag',\n",
       "       'Flag Description', 'Crop Yeild (kg/ha)'],\n",
       "      dtype='object')"
      ]
     },
     "metadata": {},
     "execution_count": 105
    }
   ],
   "source": [
    "cashcrops2.columns"
   ]
  },
  {
   "cell_type": "code",
   "execution_count": 106,
   "metadata": {},
   "outputs": [
    {
     "output_type": "execute_result",
     "data": {
      "text/plain": [
       "            Area                       Item  Crop Yeild (kg/ha)\n",
       "0    Afghanistan                     Cotton               10000\n",
       "1        Albania             Cotton Tobacco               27944\n",
       "2        Albania             Cotton Tobacco               27944\n",
       "3        Algeria             Cotton Tobacco               24044\n",
       "4        Algeria             Cotton Tobacco               24044\n",
       "..           ...                        ...                 ...\n",
       "380       Zambia  Coffee Cotton Tea Tobacco               49272\n",
       "381     Zimbabwe  Coffee Cotton Tea Tobacco               55880\n",
       "382     Zimbabwe  Coffee Cotton Tea Tobacco               55880\n",
       "383     Zimbabwe  Coffee Cotton Tea Tobacco               55880\n",
       "384     Zimbabwe  Coffee Cotton Tea Tobacco               55880\n",
       "\n",
       "[385 rows x 3 columns]"
      ],
      "text/html": "<div>\n<style scoped>\n    .dataframe tbody tr th:only-of-type {\n        vertical-align: middle;\n    }\n\n    .dataframe tbody tr th {\n        vertical-align: top;\n    }\n\n    .dataframe thead th {\n        text-align: right;\n    }\n</style>\n<table border=\"1\" class=\"dataframe\">\n  <thead>\n    <tr style=\"text-align: right;\">\n      <th></th>\n      <th>Area</th>\n      <th>Item</th>\n      <th>Crop Yeild (kg/ha)</th>\n    </tr>\n  </thead>\n  <tbody>\n    <tr>\n      <th>0</th>\n      <td>Afghanistan</td>\n      <td>Cotton</td>\n      <td>10000</td>\n    </tr>\n    <tr>\n      <th>1</th>\n      <td>Albania</td>\n      <td>Cotton Tobacco</td>\n      <td>27944</td>\n    </tr>\n    <tr>\n      <th>2</th>\n      <td>Albania</td>\n      <td>Cotton Tobacco</td>\n      <td>27944</td>\n    </tr>\n    <tr>\n      <th>3</th>\n      <td>Algeria</td>\n      <td>Cotton Tobacco</td>\n      <td>24044</td>\n    </tr>\n    <tr>\n      <th>4</th>\n      <td>Algeria</td>\n      <td>Cotton Tobacco</td>\n      <td>24044</td>\n    </tr>\n    <tr>\n      <th>...</th>\n      <td>...</td>\n      <td>...</td>\n      <td>...</td>\n    </tr>\n    <tr>\n      <th>380</th>\n      <td>Zambia</td>\n      <td>Coffee Cotton Tea Tobacco</td>\n      <td>49272</td>\n    </tr>\n    <tr>\n      <th>381</th>\n      <td>Zimbabwe</td>\n      <td>Coffee Cotton Tea Tobacco</td>\n      <td>55880</td>\n    </tr>\n    <tr>\n      <th>382</th>\n      <td>Zimbabwe</td>\n      <td>Coffee Cotton Tea Tobacco</td>\n      <td>55880</td>\n    </tr>\n    <tr>\n      <th>383</th>\n      <td>Zimbabwe</td>\n      <td>Coffee Cotton Tea Tobacco</td>\n      <td>55880</td>\n    </tr>\n    <tr>\n      <th>384</th>\n      <td>Zimbabwe</td>\n      <td>Coffee Cotton Tea Tobacco</td>\n      <td>55880</td>\n    </tr>\n  </tbody>\n</table>\n<p>385 rows × 3 columns</p>\n</div>"
     },
     "metadata": {},
     "execution_count": 106
    }
   ],
   "source": [
    "cashcrops3 = cashcrops2.drop(columns=['Domain Code', 'Domain', 'Area Code','Element Code', 'Element',\n",
    "       'Item Code','Year Code', 'Year', 'Unit', 'Value', 'Flag',\n",
    "       'Flag Description' ])\n",
    "\n",
    "cashcrops3"
   ]
  },
  {
   "cell_type": "code",
   "execution_count": 107,
   "metadata": {},
   "outputs": [],
   "source": [
    "cashcrops4 = cashcrops3.drop_duplicates()\n",
    "cashcrops5 = cashcrops4.rename(columns={'Area':'Entity'})"
   ]
  },
  {
   "cell_type": "code",
   "execution_count": 108,
   "metadata": {},
   "outputs": [
    {
     "output_type": "execute_result",
     "data": {
      "text/plain": [
       "          Entity                     Item_x  Crop Yeild (kg/ha)_x  \\\n",
       "0    Afghanistan           Maize Rice Wheat                 70283   \n",
       "1        Albania       Maize Soybeans Wheat                129029   \n",
       "2        Algeria           Maize Rice Wheat                 76438   \n",
       "3      Argentina  Maize Rice Soybeans Wheat                200828   \n",
       "4        Armenia                Maize Wheat                 96336   \n",
       "..           ...                        ...                   ...   \n",
       "119      Uruguay  Maize Rice Soybeans Wheat                207752   \n",
       "120   Uzbekistan  Maize Rice Soybeans Wheat                253296   \n",
       "121        Yemen                Maize Wheat                 26544   \n",
       "122       Zambia  Maize Rice Soybeans Wheat                122307   \n",
       "123     Zimbabwe  Maize Rice Soybeans Wheat                 58047   \n",
       "\n",
       "     Agriculture, value added per worker (constant 2010 US$)  \\\n",
       "0                                           761.461513         \n",
       "1                                          5374.476370         \n",
       "2                                         14065.123850         \n",
       "3                                        338735.911200         \n",
       "4                                          6289.041997         \n",
       "..                                                 ...         \n",
       "119                                       23018.482870         \n",
       "120                                        3179.070812         \n",
       "121                                         873.961738         \n",
       "122                                         584.557209         \n",
       "123                                         293.152050         \n",
       "\n",
       "     Urban Population (%)  Employed in Agriculture(%)  \\\n",
       "0                  24.803                   61.132000   \n",
       "1                  57.434                   41.366001   \n",
       "2                  70.848                   13.075000   \n",
       "3                  91.503                    0.518000   \n",
       "4                  63.085                   35.328999   \n",
       "..                    ...                         ...   \n",
       "119                95.045                    8.824000   \n",
       "120                50.750                   22.846001   \n",
       "121                34.777                   34.674999   \n",
       "122                41.907                   53.666000   \n",
       "123                32.385                   67.209999   \n",
       "\n",
       "                        Item_y  Crop Yeild (kg/ha)_y  \n",
       "0                       Cotton                 10000  \n",
       "1               Cotton Tobacco                 27944  \n",
       "2               Cotton Tobacco                 24044  \n",
       "3           Cotton Tea Tobacco                 65207  \n",
       "4                      Tobacco                 23257  \n",
       "..                         ...                   ...  \n",
       "119                    Tobacco                 39580  \n",
       "120             Cotton Tobacco                 43585  \n",
       "121      Coffee Cotton Tobacco                 37851  \n",
       "122  Coffee Cotton Tea Tobacco                 49272  \n",
       "123  Coffee Cotton Tea Tobacco                 55880  \n",
       "\n",
       "[124 rows x 8 columns]"
      ],
      "text/html": "<div>\n<style scoped>\n    .dataframe tbody tr th:only-of-type {\n        vertical-align: middle;\n    }\n\n    .dataframe tbody tr th {\n        vertical-align: top;\n    }\n\n    .dataframe thead th {\n        text-align: right;\n    }\n</style>\n<table border=\"1\" class=\"dataframe\">\n  <thead>\n    <tr style=\"text-align: right;\">\n      <th></th>\n      <th>Entity</th>\n      <th>Item_x</th>\n      <th>Crop Yeild (kg/ha)_x</th>\n      <th>Agriculture, value added per worker (constant 2010 US$)</th>\n      <th>Urban Population (%)</th>\n      <th>Employed in Agriculture(%)</th>\n      <th>Item_y</th>\n      <th>Crop Yeild (kg/ha)_y</th>\n    </tr>\n  </thead>\n  <tbody>\n    <tr>\n      <th>0</th>\n      <td>Afghanistan</td>\n      <td>Maize Rice Wheat</td>\n      <td>70283</td>\n      <td>761.461513</td>\n      <td>24.803</td>\n      <td>61.132000</td>\n      <td>Cotton</td>\n      <td>10000</td>\n    </tr>\n    <tr>\n      <th>1</th>\n      <td>Albania</td>\n      <td>Maize Soybeans Wheat</td>\n      <td>129029</td>\n      <td>5374.476370</td>\n      <td>57.434</td>\n      <td>41.366001</td>\n      <td>Cotton Tobacco</td>\n      <td>27944</td>\n    </tr>\n    <tr>\n      <th>2</th>\n      <td>Algeria</td>\n      <td>Maize Rice Wheat</td>\n      <td>76438</td>\n      <td>14065.123850</td>\n      <td>70.848</td>\n      <td>13.075000</td>\n      <td>Cotton Tobacco</td>\n      <td>24044</td>\n    </tr>\n    <tr>\n      <th>3</th>\n      <td>Argentina</td>\n      <td>Maize Rice Soybeans Wheat</td>\n      <td>200828</td>\n      <td>338735.911200</td>\n      <td>91.503</td>\n      <td>0.518000</td>\n      <td>Cotton Tea Tobacco</td>\n      <td>65207</td>\n    </tr>\n    <tr>\n      <th>4</th>\n      <td>Armenia</td>\n      <td>Maize Wheat</td>\n      <td>96336</td>\n      <td>6289.041997</td>\n      <td>63.085</td>\n      <td>35.328999</td>\n      <td>Tobacco</td>\n      <td>23257</td>\n    </tr>\n    <tr>\n      <th>...</th>\n      <td>...</td>\n      <td>...</td>\n      <td>...</td>\n      <td>...</td>\n      <td>...</td>\n      <td>...</td>\n      <td>...</td>\n      <td>...</td>\n    </tr>\n    <tr>\n      <th>119</th>\n      <td>Uruguay</td>\n      <td>Maize Rice Soybeans Wheat</td>\n      <td>207752</td>\n      <td>23018.482870</td>\n      <td>95.045</td>\n      <td>8.824000</td>\n      <td>Tobacco</td>\n      <td>39580</td>\n    </tr>\n    <tr>\n      <th>120</th>\n      <td>Uzbekistan</td>\n      <td>Maize Rice Soybeans Wheat</td>\n      <td>253296</td>\n      <td>3179.070812</td>\n      <td>50.750</td>\n      <td>22.846001</td>\n      <td>Cotton Tobacco</td>\n      <td>43585</td>\n    </tr>\n    <tr>\n      <th>121</th>\n      <td>Yemen</td>\n      <td>Maize Wheat</td>\n      <td>26544</td>\n      <td>873.961738</td>\n      <td>34.777</td>\n      <td>34.674999</td>\n      <td>Coffee Cotton Tobacco</td>\n      <td>37851</td>\n    </tr>\n    <tr>\n      <th>122</th>\n      <td>Zambia</td>\n      <td>Maize Rice Soybeans Wheat</td>\n      <td>122307</td>\n      <td>584.557209</td>\n      <td>41.907</td>\n      <td>53.666000</td>\n      <td>Coffee Cotton Tea Tobacco</td>\n      <td>49272</td>\n    </tr>\n    <tr>\n      <th>123</th>\n      <td>Zimbabwe</td>\n      <td>Maize Rice Soybeans Wheat</td>\n      <td>58047</td>\n      <td>293.152050</td>\n      <td>32.385</td>\n      <td>67.209999</td>\n      <td>Coffee Cotton Tea Tobacco</td>\n      <td>55880</td>\n    </tr>\n  </tbody>\n</table>\n<p>124 rows × 8 columns</p>\n</div>"
     },
     "metadata": {},
     "execution_count": 108
    }
   ],
   "source": []
  },
  {
   "cell_type": "code",
   "execution_count": null,
   "metadata": {},
   "outputs": [],
   "source": []
  }
 ]
}