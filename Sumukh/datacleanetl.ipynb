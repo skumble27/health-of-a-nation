{
 "metadata": {
  "language_info": {
   "codemirror_mode": {
    "name": "ipython",
    "version": 3
   },
   "file_extension": ".py",
   "mimetype": "text/x-python",
   "name": "python",
   "nbconvert_exporter": "python",
   "pygments_lexer": "ipython3",
   "version": "3.6.12-final"
  },
  "orig_nbformat": 2,
  "kernelspec": {
   "name": "python361264bitbootcampmonashconda2e6efb6a376242db90ce542f5ab8dbba",
   "display_name": "Python 3.6.12 64-bit ('BootCampMonash': conda)",
   "language": "python"
  }
 },
 "nbformat": 4,
 "nbformat_minor": 2,
 "cells": [
  {
   "cell_type": "code",
   "execution_count": 1,
   "metadata": {},
   "outputs": [],
   "source": [
    "# Importing dependencies\n",
    "import pandas as pd"
   ]
  },
  {
   "cell_type": "code",
   "execution_count": 2,
   "metadata": {},
   "outputs": [],
   "source": [
    "# Reading the dataframes\n",
    "child_mortality = pd.read_csv('Dataset/healthdata/child-mortality.csv')\n",
    "hiv_deaths = pd.read_csv('Dataset/healthdata/deaths-and-new-cases-of-hiv.csv')\n",
    "life_expectency = pd.read_csv('Dataset/healthdata/life-expectancy.csv')\n",
    "population = pd.read_csv('Dataset/healthdata/projected-population-by-country.csv')\n",
    "heart_disease = pd.read_csv('Dataset/healthdata/share-deaths-heart-disease.csv')\n",
    "tuberculosis = pd.read_csv('Dataset/healthdata/tuberculosis-deaths-region.csv')\n"
   ]
  },
  {
   "source": [
    "# Cleaning up the dataset"
   ],
   "cell_type": "markdown",
   "metadata": {}
  },
  {
   "cell_type": "code",
   "execution_count": 3,
   "metadata": {},
   "outputs": [
    {
     "output_type": "execute_result",
     "data": {
      "text/plain": [
       "2016"
      ]
     },
     "metadata": {},
     "execution_count": 3
    }
   ],
   "source": [
    "# Child mortality rates\n",
    "child_mortality1 = child_mortality['Year'].max()\n",
    "child_mortality1"
   ]
  },
  {
   "cell_type": "code",
   "execution_count": 4,
   "metadata": {},
   "outputs": [
    {
     "output_type": "execute_result",
     "data": {
      "text/plain": [
       "               Entity Code  Year  Child mortality rates (%)\n",
       "59        Afghanistan  AFG  2016                     7.0400\n",
       "98            Albania  ALB  2016                     1.3500\n",
       "161           Algeria  DZA  2016                     2.5200\n",
       "188           Andorra  AND  2016                     0.2700\n",
       "225            Angola  AGO  2016                     8.2500\n",
       "...               ...  ...   ...                        ...\n",
       "13314         Vietnam  VNM  2016                     2.1600\n",
       "13317  Western Sahara  ESH  2016                     3.6388\n",
       "13382           Yemen  YEM  2016                     5.5300\n",
       "13447          Zambia  ZMB  2016                     6.3400\n",
       "13511        Zimbabwe  ZWE  2016                     5.6400\n",
       "\n",
       "[211 rows x 4 columns]"
      ],
      "text/html": "<div>\n<style scoped>\n    .dataframe tbody tr th:only-of-type {\n        vertical-align: middle;\n    }\n\n    .dataframe tbody tr th {\n        vertical-align: top;\n    }\n\n    .dataframe thead th {\n        text-align: right;\n    }\n</style>\n<table border=\"1\" class=\"dataframe\">\n  <thead>\n    <tr style=\"text-align: right;\">\n      <th></th>\n      <th>Entity</th>\n      <th>Code</th>\n      <th>Year</th>\n      <th>Child mortality rates (%)</th>\n    </tr>\n  </thead>\n  <tbody>\n    <tr>\n      <th>59</th>\n      <td>Afghanistan</td>\n      <td>AFG</td>\n      <td>2016</td>\n      <td>7.0400</td>\n    </tr>\n    <tr>\n      <th>98</th>\n      <td>Albania</td>\n      <td>ALB</td>\n      <td>2016</td>\n      <td>1.3500</td>\n    </tr>\n    <tr>\n      <th>161</th>\n      <td>Algeria</td>\n      <td>DZA</td>\n      <td>2016</td>\n      <td>2.5200</td>\n    </tr>\n    <tr>\n      <th>188</th>\n      <td>Andorra</td>\n      <td>AND</td>\n      <td>2016</td>\n      <td>0.2700</td>\n    </tr>\n    <tr>\n      <th>225</th>\n      <td>Angola</td>\n      <td>AGO</td>\n      <td>2016</td>\n      <td>8.2500</td>\n    </tr>\n    <tr>\n      <th>...</th>\n      <td>...</td>\n      <td>...</td>\n      <td>...</td>\n      <td>...</td>\n    </tr>\n    <tr>\n      <th>13314</th>\n      <td>Vietnam</td>\n      <td>VNM</td>\n      <td>2016</td>\n      <td>2.1600</td>\n    </tr>\n    <tr>\n      <th>13317</th>\n      <td>Western Sahara</td>\n      <td>ESH</td>\n      <td>2016</td>\n      <td>3.6388</td>\n    </tr>\n    <tr>\n      <th>13382</th>\n      <td>Yemen</td>\n      <td>YEM</td>\n      <td>2016</td>\n      <td>5.5300</td>\n    </tr>\n    <tr>\n      <th>13447</th>\n      <td>Zambia</td>\n      <td>ZMB</td>\n      <td>2016</td>\n      <td>6.3400</td>\n    </tr>\n    <tr>\n      <th>13511</th>\n      <td>Zimbabwe</td>\n      <td>ZWE</td>\n      <td>2016</td>\n      <td>5.6400</td>\n    </tr>\n  </tbody>\n</table>\n<p>211 rows × 4 columns</p>\n</div>"
     },
     "metadata": {},
     "execution_count": 4
    }
   ],
   "source": [
    "child_mortality2 = child_mortality[child_mortality['Year']==2016]\n",
    "child_mortality2"
   ]
  },
  {
   "cell_type": "code",
   "execution_count": 5,
   "metadata": {},
   "outputs": [
    {
     "output_type": "execute_result",
     "data": {
      "text/plain": [
       "Index(['Entity', 'Code', 'Year', 'Deaths', 'Prevalence', 'Incidences'], dtype='object')"
      ]
     },
     "metadata": {},
     "execution_count": 5
    }
   ],
   "source": [
    "# Hiv Deaths\n",
    "hiv_deaths.columns"
   ]
  },
  {
   "cell_type": "code",
   "execution_count": 6,
   "metadata": {},
   "outputs": [
    {
     "output_type": "execute_result",
     "data": {
      "text/plain": [
       "        Entity Code  Year     Deaths  Prevalence  Incidences\n",
       "0  Afghanistan  AFG  1990  32.098129  398.257783   78.304642\n",
       "1  Afghanistan  AFG  1991  37.524158  438.019845   83.233703\n",
       "2  Afghanistan  AFG  1992  50.670559  543.250161  104.710195\n",
       "3  Afghanistan  AFG  1993  58.433049  668.869833  128.605343\n",
       "4  Afghanistan  AFG  1994  65.531176  735.565331  136.848748"
      ],
      "text/html": "<div>\n<style scoped>\n    .dataframe tbody tr th:only-of-type {\n        vertical-align: middle;\n    }\n\n    .dataframe tbody tr th {\n        vertical-align: top;\n    }\n\n    .dataframe thead th {\n        text-align: right;\n    }\n</style>\n<table border=\"1\" class=\"dataframe\">\n  <thead>\n    <tr style=\"text-align: right;\">\n      <th></th>\n      <th>Entity</th>\n      <th>Code</th>\n      <th>Year</th>\n      <th>Deaths</th>\n      <th>Prevalence</th>\n      <th>Incidences</th>\n    </tr>\n  </thead>\n  <tbody>\n    <tr>\n      <th>0</th>\n      <td>Afghanistan</td>\n      <td>AFG</td>\n      <td>1990</td>\n      <td>32.098129</td>\n      <td>398.257783</td>\n      <td>78.304642</td>\n    </tr>\n    <tr>\n      <th>1</th>\n      <td>Afghanistan</td>\n      <td>AFG</td>\n      <td>1991</td>\n      <td>37.524158</td>\n      <td>438.019845</td>\n      <td>83.233703</td>\n    </tr>\n    <tr>\n      <th>2</th>\n      <td>Afghanistan</td>\n      <td>AFG</td>\n      <td>1992</td>\n      <td>50.670559</td>\n      <td>543.250161</td>\n      <td>104.710195</td>\n    </tr>\n    <tr>\n      <th>3</th>\n      <td>Afghanistan</td>\n      <td>AFG</td>\n      <td>1993</td>\n      <td>58.433049</td>\n      <td>668.869833</td>\n      <td>128.605343</td>\n    </tr>\n    <tr>\n      <th>4</th>\n      <td>Afghanistan</td>\n      <td>AFG</td>\n      <td>1994</td>\n      <td>65.531176</td>\n      <td>735.565331</td>\n      <td>136.848748</td>\n    </tr>\n  </tbody>\n</table>\n</div>"
     },
     "metadata": {},
     "execution_count": 6
    }
   ],
   "source": [
    "hiv_deaths.head()"
   ]
  },
  {
   "cell_type": "code",
   "execution_count": 7,
   "metadata": {},
   "outputs": [
    {
     "output_type": "execute_result",
     "data": {
      "text/plain": [
       "2017"
      ]
     },
     "metadata": {},
     "execution_count": 7
    }
   ],
   "source": [
    "# Obtaining the latest year\n",
    "hiv_deaths['Year'].max()"
   ]
  },
  {
   "cell_type": "code",
   "execution_count": 8,
   "metadata": {},
   "outputs": [
    {
     "output_type": "execute_result",
     "data": {
      "text/plain": [
       "                          Entity      Code  Year         Deaths    Prevalence  \\\n",
       "27                   Afghanistan       AFG  2017     302.166880  4.730034e+03   \n",
       "55                       Albania       ALB  2017       1.285800  3.187413e+01   \n",
       "83                       Algeria       DZA  2017     326.660742  1.125392e+04   \n",
       "111               American Samoa       ASM  2017       0.335763  4.887205e+00   \n",
       "139         Andean Latin America       NaN  2017    4655.939469  1.388683e+05   \n",
       "...                          ...       ...   ...            ...           ...   \n",
       "6355  Western Sub-Saharan Africa       NaN  2017  256899.798300  5.852181e+06   \n",
       "6383                       World  OWID_WRL  2017  954491.747200  3.682224e+07   \n",
       "6411                       Yemen       YEM  2017     387.383175  6.962759e+03   \n",
       "6439                      Zambia       ZMB  2017   21806.824350  1.200474e+06   \n",
       "6467                    Zimbabwe       ZWE  2017   16065.329680  1.297676e+06   \n",
       "\n",
       "        Incidences  \n",
       "27    9.221735e+02  \n",
       "55    3.030192e+00  \n",
       "83    9.008058e+02  \n",
       "111   6.577304e-01  \n",
       "139   1.238097e+04  \n",
       "...            ...  \n",
       "6355  3.604100e+05  \n",
       "6383  1.942071e+06  \n",
       "6411  1.082583e+03  \n",
       "6439  4.683891e+04  \n",
       "6467  5.625906e+04  \n",
       "\n",
       "[231 rows x 6 columns]"
      ],
      "text/html": "<div>\n<style scoped>\n    .dataframe tbody tr th:only-of-type {\n        vertical-align: middle;\n    }\n\n    .dataframe tbody tr th {\n        vertical-align: top;\n    }\n\n    .dataframe thead th {\n        text-align: right;\n    }\n</style>\n<table border=\"1\" class=\"dataframe\">\n  <thead>\n    <tr style=\"text-align: right;\">\n      <th></th>\n      <th>Entity</th>\n      <th>Code</th>\n      <th>Year</th>\n      <th>Deaths</th>\n      <th>Prevalence</th>\n      <th>Incidences</th>\n    </tr>\n  </thead>\n  <tbody>\n    <tr>\n      <th>27</th>\n      <td>Afghanistan</td>\n      <td>AFG</td>\n      <td>2017</td>\n      <td>302.166880</td>\n      <td>4.730034e+03</td>\n      <td>9.221735e+02</td>\n    </tr>\n    <tr>\n      <th>55</th>\n      <td>Albania</td>\n      <td>ALB</td>\n      <td>2017</td>\n      <td>1.285800</td>\n      <td>3.187413e+01</td>\n      <td>3.030192e+00</td>\n    </tr>\n    <tr>\n      <th>83</th>\n      <td>Algeria</td>\n      <td>DZA</td>\n      <td>2017</td>\n      <td>326.660742</td>\n      <td>1.125392e+04</td>\n      <td>9.008058e+02</td>\n    </tr>\n    <tr>\n      <th>111</th>\n      <td>American Samoa</td>\n      <td>ASM</td>\n      <td>2017</td>\n      <td>0.335763</td>\n      <td>4.887205e+00</td>\n      <td>6.577304e-01</td>\n    </tr>\n    <tr>\n      <th>139</th>\n      <td>Andean Latin America</td>\n      <td>NaN</td>\n      <td>2017</td>\n      <td>4655.939469</td>\n      <td>1.388683e+05</td>\n      <td>1.238097e+04</td>\n    </tr>\n    <tr>\n      <th>...</th>\n      <td>...</td>\n      <td>...</td>\n      <td>...</td>\n      <td>...</td>\n      <td>...</td>\n      <td>...</td>\n    </tr>\n    <tr>\n      <th>6355</th>\n      <td>Western Sub-Saharan Africa</td>\n      <td>NaN</td>\n      <td>2017</td>\n      <td>256899.798300</td>\n      <td>5.852181e+06</td>\n      <td>3.604100e+05</td>\n    </tr>\n    <tr>\n      <th>6383</th>\n      <td>World</td>\n      <td>OWID_WRL</td>\n      <td>2017</td>\n      <td>954491.747200</td>\n      <td>3.682224e+07</td>\n      <td>1.942071e+06</td>\n    </tr>\n    <tr>\n      <th>6411</th>\n      <td>Yemen</td>\n      <td>YEM</td>\n      <td>2017</td>\n      <td>387.383175</td>\n      <td>6.962759e+03</td>\n      <td>1.082583e+03</td>\n    </tr>\n    <tr>\n      <th>6439</th>\n      <td>Zambia</td>\n      <td>ZMB</td>\n      <td>2017</td>\n      <td>21806.824350</td>\n      <td>1.200474e+06</td>\n      <td>4.683891e+04</td>\n    </tr>\n    <tr>\n      <th>6467</th>\n      <td>Zimbabwe</td>\n      <td>ZWE</td>\n      <td>2017</td>\n      <td>16065.329680</td>\n      <td>1.297676e+06</td>\n      <td>5.625906e+04</td>\n    </tr>\n  </tbody>\n</table>\n<p>231 rows × 6 columns</p>\n</div>"
     },
     "metadata": {},
     "execution_count": 8
    }
   ],
   "source": [
    "hiv_deaths1 = hiv_deaths[hiv_deaths['Year']==2017]\n",
    "hiv_deaths1"
   ]
  },
  {
   "cell_type": "code",
   "execution_count": 9,
   "metadata": {},
   "outputs": [
    {
     "output_type": "execute_result",
     "data": {
      "text/plain": [
       "                          Entity      Code  Year     HIV Deaths    Prevalence  \\\n",
       "27                   Afghanistan       AFG  2017     302.166880  4.730034e+03   \n",
       "55                       Albania       ALB  2017       1.285800  3.187413e+01   \n",
       "83                       Algeria       DZA  2017     326.660742  1.125392e+04   \n",
       "111               American Samoa       ASM  2017       0.335763  4.887205e+00   \n",
       "139         Andean Latin America       NaN  2017    4655.939469  1.388683e+05   \n",
       "...                          ...       ...   ...            ...           ...   \n",
       "6355  Western Sub-Saharan Africa       NaN  2017  256899.798300  5.852181e+06   \n",
       "6383                       World  OWID_WRL  2017  954491.747200  3.682224e+07   \n",
       "6411                       Yemen       YEM  2017     387.383175  6.962759e+03   \n",
       "6439                      Zambia       ZMB  2017   21806.824350  1.200474e+06   \n",
       "6467                    Zimbabwe       ZWE  2017   16065.329680  1.297676e+06   \n",
       "\n",
       "      HIV Incidences  \n",
       "27      9.221735e+02  \n",
       "55      3.030192e+00  \n",
       "83      9.008058e+02  \n",
       "111     6.577304e-01  \n",
       "139     1.238097e+04  \n",
       "...              ...  \n",
       "6355    3.604100e+05  \n",
       "6383    1.942071e+06  \n",
       "6411    1.082583e+03  \n",
       "6439    4.683891e+04  \n",
       "6467    5.625906e+04  \n",
       "\n",
       "[231 rows x 6 columns]"
      ],
      "text/html": "<div>\n<style scoped>\n    .dataframe tbody tr th:only-of-type {\n        vertical-align: middle;\n    }\n\n    .dataframe tbody tr th {\n        vertical-align: top;\n    }\n\n    .dataframe thead th {\n        text-align: right;\n    }\n</style>\n<table border=\"1\" class=\"dataframe\">\n  <thead>\n    <tr style=\"text-align: right;\">\n      <th></th>\n      <th>Entity</th>\n      <th>Code</th>\n      <th>Year</th>\n      <th>HIV Deaths</th>\n      <th>Prevalence</th>\n      <th>HIV Incidences</th>\n    </tr>\n  </thead>\n  <tbody>\n    <tr>\n      <th>27</th>\n      <td>Afghanistan</td>\n      <td>AFG</td>\n      <td>2017</td>\n      <td>302.166880</td>\n      <td>4.730034e+03</td>\n      <td>9.221735e+02</td>\n    </tr>\n    <tr>\n      <th>55</th>\n      <td>Albania</td>\n      <td>ALB</td>\n      <td>2017</td>\n      <td>1.285800</td>\n      <td>3.187413e+01</td>\n      <td>3.030192e+00</td>\n    </tr>\n    <tr>\n      <th>83</th>\n      <td>Algeria</td>\n      <td>DZA</td>\n      <td>2017</td>\n      <td>326.660742</td>\n      <td>1.125392e+04</td>\n      <td>9.008058e+02</td>\n    </tr>\n    <tr>\n      <th>111</th>\n      <td>American Samoa</td>\n      <td>ASM</td>\n      <td>2017</td>\n      <td>0.335763</td>\n      <td>4.887205e+00</td>\n      <td>6.577304e-01</td>\n    </tr>\n    <tr>\n      <th>139</th>\n      <td>Andean Latin America</td>\n      <td>NaN</td>\n      <td>2017</td>\n      <td>4655.939469</td>\n      <td>1.388683e+05</td>\n      <td>1.238097e+04</td>\n    </tr>\n    <tr>\n      <th>...</th>\n      <td>...</td>\n      <td>...</td>\n      <td>...</td>\n      <td>...</td>\n      <td>...</td>\n      <td>...</td>\n    </tr>\n    <tr>\n      <th>6355</th>\n      <td>Western Sub-Saharan Africa</td>\n      <td>NaN</td>\n      <td>2017</td>\n      <td>256899.798300</td>\n      <td>5.852181e+06</td>\n      <td>3.604100e+05</td>\n    </tr>\n    <tr>\n      <th>6383</th>\n      <td>World</td>\n      <td>OWID_WRL</td>\n      <td>2017</td>\n      <td>954491.747200</td>\n      <td>3.682224e+07</td>\n      <td>1.942071e+06</td>\n    </tr>\n    <tr>\n      <th>6411</th>\n      <td>Yemen</td>\n      <td>YEM</td>\n      <td>2017</td>\n      <td>387.383175</td>\n      <td>6.962759e+03</td>\n      <td>1.082583e+03</td>\n    </tr>\n    <tr>\n      <th>6439</th>\n      <td>Zambia</td>\n      <td>ZMB</td>\n      <td>2017</td>\n      <td>21806.824350</td>\n      <td>1.200474e+06</td>\n      <td>4.683891e+04</td>\n    </tr>\n    <tr>\n      <th>6467</th>\n      <td>Zimbabwe</td>\n      <td>ZWE</td>\n      <td>2017</td>\n      <td>16065.329680</td>\n      <td>1.297676e+06</td>\n      <td>5.625906e+04</td>\n    </tr>\n  </tbody>\n</table>\n<p>231 rows × 6 columns</p>\n</div>"
     },
     "metadata": {},
     "execution_count": 9
    }
   ],
   "source": [
    "hiv_deaths2 = hiv_deaths1.rename(columns={'Deaths':'HIV Deaths', 'Incidences':'HIV Incidences'})\n",
    "hiv_deaths2"
   ]
  },
  {
   "cell_type": "code",
   "execution_count": 10,
   "metadata": {},
   "outputs": [
    {
     "output_type": "execute_result",
     "data": {
      "text/plain": [
       "                          Entity     HIV Deaths  HIV Incidences\n",
       "27                   Afghanistan     302.166880    9.221735e+02\n",
       "55                       Albania       1.285800    3.030192e+00\n",
       "83                       Algeria     326.660742    9.008058e+02\n",
       "111               American Samoa       0.335763    6.577304e-01\n",
       "139         Andean Latin America    4655.939469    1.238097e+04\n",
       "...                          ...            ...             ...\n",
       "6355  Western Sub-Saharan Africa  256899.798300    3.604100e+05\n",
       "6383                       World  954491.747200    1.942071e+06\n",
       "6411                       Yemen     387.383175    1.082583e+03\n",
       "6439                      Zambia   21806.824350    4.683891e+04\n",
       "6467                    Zimbabwe   16065.329680    5.625906e+04\n",
       "\n",
       "[231 rows x 3 columns]"
      ],
      "text/html": "<div>\n<style scoped>\n    .dataframe tbody tr th:only-of-type {\n        vertical-align: middle;\n    }\n\n    .dataframe tbody tr th {\n        vertical-align: top;\n    }\n\n    .dataframe thead th {\n        text-align: right;\n    }\n</style>\n<table border=\"1\" class=\"dataframe\">\n  <thead>\n    <tr style=\"text-align: right;\">\n      <th></th>\n      <th>Entity</th>\n      <th>HIV Deaths</th>\n      <th>HIV Incidences</th>\n    </tr>\n  </thead>\n  <tbody>\n    <tr>\n      <th>27</th>\n      <td>Afghanistan</td>\n      <td>302.166880</td>\n      <td>9.221735e+02</td>\n    </tr>\n    <tr>\n      <th>55</th>\n      <td>Albania</td>\n      <td>1.285800</td>\n      <td>3.030192e+00</td>\n    </tr>\n    <tr>\n      <th>83</th>\n      <td>Algeria</td>\n      <td>326.660742</td>\n      <td>9.008058e+02</td>\n    </tr>\n    <tr>\n      <th>111</th>\n      <td>American Samoa</td>\n      <td>0.335763</td>\n      <td>6.577304e-01</td>\n    </tr>\n    <tr>\n      <th>139</th>\n      <td>Andean Latin America</td>\n      <td>4655.939469</td>\n      <td>1.238097e+04</td>\n    </tr>\n    <tr>\n      <th>...</th>\n      <td>...</td>\n      <td>...</td>\n      <td>...</td>\n    </tr>\n    <tr>\n      <th>6355</th>\n      <td>Western Sub-Saharan Africa</td>\n      <td>256899.798300</td>\n      <td>3.604100e+05</td>\n    </tr>\n    <tr>\n      <th>6383</th>\n      <td>World</td>\n      <td>954491.747200</td>\n      <td>1.942071e+06</td>\n    </tr>\n    <tr>\n      <th>6411</th>\n      <td>Yemen</td>\n      <td>387.383175</td>\n      <td>1.082583e+03</td>\n    </tr>\n    <tr>\n      <th>6439</th>\n      <td>Zambia</td>\n      <td>21806.824350</td>\n      <td>4.683891e+04</td>\n    </tr>\n    <tr>\n      <th>6467</th>\n      <td>Zimbabwe</td>\n      <td>16065.329680</td>\n      <td>5.625906e+04</td>\n    </tr>\n  </tbody>\n</table>\n<p>231 rows × 3 columns</p>\n</div>"
     },
     "metadata": {},
     "execution_count": 10
    }
   ],
   "source": [
    "# Dropping Columns\n",
    "hiv_deaths3 = hiv_deaths2.drop(columns=['Prevalence','Code','Year'])\n",
    "hiv_deaths3"
   ]
  },
  {
   "cell_type": "code",
   "execution_count": 11,
   "metadata": {},
   "outputs": [
    {
     "output_type": "execute_result",
     "data": {
      "text/plain": [
       "        Entity Code  Year  Life expectancy\n",
       "0  Afghanistan  AFG  1950           27.638\n",
       "1  Afghanistan  AFG  1951           27.878\n",
       "2  Afghanistan  AFG  1952           28.361\n",
       "3  Afghanistan  AFG  1953           28.852\n",
       "4  Afghanistan  AFG  1954           29.350"
      ],
      "text/html": "<div>\n<style scoped>\n    .dataframe tbody tr th:only-of-type {\n        vertical-align: middle;\n    }\n\n    .dataframe tbody tr th {\n        vertical-align: top;\n    }\n\n    .dataframe thead th {\n        text-align: right;\n    }\n</style>\n<table border=\"1\" class=\"dataframe\">\n  <thead>\n    <tr style=\"text-align: right;\">\n      <th></th>\n      <th>Entity</th>\n      <th>Code</th>\n      <th>Year</th>\n      <th>Life expectancy</th>\n    </tr>\n  </thead>\n  <tbody>\n    <tr>\n      <th>0</th>\n      <td>Afghanistan</td>\n      <td>AFG</td>\n      <td>1950</td>\n      <td>27.638</td>\n    </tr>\n    <tr>\n      <th>1</th>\n      <td>Afghanistan</td>\n      <td>AFG</td>\n      <td>1951</td>\n      <td>27.878</td>\n    </tr>\n    <tr>\n      <th>2</th>\n      <td>Afghanistan</td>\n      <td>AFG</td>\n      <td>1952</td>\n      <td>28.361</td>\n    </tr>\n    <tr>\n      <th>3</th>\n      <td>Afghanistan</td>\n      <td>AFG</td>\n      <td>1953</td>\n      <td>28.852</td>\n    </tr>\n    <tr>\n      <th>4</th>\n      <td>Afghanistan</td>\n      <td>AFG</td>\n      <td>1954</td>\n      <td>29.350</td>\n    </tr>\n  </tbody>\n</table>\n</div>"
     },
     "metadata": {},
     "execution_count": 11
    }
   ],
   "source": [
    "# Life Expectency\n",
    "life_expectency.head()"
   ]
  },
  {
   "cell_type": "code",
   "execution_count": 12,
   "metadata": {},
   "outputs": [
    {
     "output_type": "execute_result",
     "data": {
      "text/plain": [
       "2019"
      ]
     },
     "metadata": {},
     "execution_count": 12
    }
   ],
   "source": [
    "life_expectency['Year'].max()"
   ]
  },
  {
   "cell_type": "code",
   "execution_count": 13,
   "metadata": {},
   "outputs": [
    {
     "output_type": "execute_result",
     "data": {
      "text/plain": [
       "               Entity      Code  Year  Life expectancy\n",
       "69        Afghanistan       AFG  2019           64.833\n",
       "141            Africa       NaN  2019           63.170\n",
       "211           Albania       ALB  2019           78.573\n",
       "284           Algeria       DZA  2019           76.880\n",
       "354    American Samoa       ASM  2019           73.745\n",
       "...               ...       ...   ...              ...\n",
       "18740  Western Sahara       ESH  2019           70.263\n",
       "18817           World  OWID_WRL  2019           72.584\n",
       "18887           Yemen       YEM  2019           66.125\n",
       "18957          Zambia       ZMB  2019           63.886\n",
       "19027        Zimbabwe       ZWE  2019           61.490\n",
       "\n",
       "[243 rows x 4 columns]"
      ],
      "text/html": "<div>\n<style scoped>\n    .dataframe tbody tr th:only-of-type {\n        vertical-align: middle;\n    }\n\n    .dataframe tbody tr th {\n        vertical-align: top;\n    }\n\n    .dataframe thead th {\n        text-align: right;\n    }\n</style>\n<table border=\"1\" class=\"dataframe\">\n  <thead>\n    <tr style=\"text-align: right;\">\n      <th></th>\n      <th>Entity</th>\n      <th>Code</th>\n      <th>Year</th>\n      <th>Life expectancy</th>\n    </tr>\n  </thead>\n  <tbody>\n    <tr>\n      <th>69</th>\n      <td>Afghanistan</td>\n      <td>AFG</td>\n      <td>2019</td>\n      <td>64.833</td>\n    </tr>\n    <tr>\n      <th>141</th>\n      <td>Africa</td>\n      <td>NaN</td>\n      <td>2019</td>\n      <td>63.170</td>\n    </tr>\n    <tr>\n      <th>211</th>\n      <td>Albania</td>\n      <td>ALB</td>\n      <td>2019</td>\n      <td>78.573</td>\n    </tr>\n    <tr>\n      <th>284</th>\n      <td>Algeria</td>\n      <td>DZA</td>\n      <td>2019</td>\n      <td>76.880</td>\n    </tr>\n    <tr>\n      <th>354</th>\n      <td>American Samoa</td>\n      <td>ASM</td>\n      <td>2019</td>\n      <td>73.745</td>\n    </tr>\n    <tr>\n      <th>...</th>\n      <td>...</td>\n      <td>...</td>\n      <td>...</td>\n      <td>...</td>\n    </tr>\n    <tr>\n      <th>18740</th>\n      <td>Western Sahara</td>\n      <td>ESH</td>\n      <td>2019</td>\n      <td>70.263</td>\n    </tr>\n    <tr>\n      <th>18817</th>\n      <td>World</td>\n      <td>OWID_WRL</td>\n      <td>2019</td>\n      <td>72.584</td>\n    </tr>\n    <tr>\n      <th>18887</th>\n      <td>Yemen</td>\n      <td>YEM</td>\n      <td>2019</td>\n      <td>66.125</td>\n    </tr>\n    <tr>\n      <th>18957</th>\n      <td>Zambia</td>\n      <td>ZMB</td>\n      <td>2019</td>\n      <td>63.886</td>\n    </tr>\n    <tr>\n      <th>19027</th>\n      <td>Zimbabwe</td>\n      <td>ZWE</td>\n      <td>2019</td>\n      <td>61.490</td>\n    </tr>\n  </tbody>\n</table>\n<p>243 rows × 4 columns</p>\n</div>"
     },
     "metadata": {},
     "execution_count": 13
    }
   ],
   "source": [
    "# Obtaining the latest data\n",
    "life_expectency1 = life_expectency[life_expectency['Year']==2019]\n",
    "life_expectency1"
   ]
  },
  {
   "cell_type": "code",
   "execution_count": 14,
   "metadata": {},
   "outputs": [
    {
     "output_type": "execute_result",
     "data": {
      "text/plain": [
       "               Entity  Life expectancy\n",
       "69        Afghanistan           64.833\n",
       "141            Africa           63.170\n",
       "211           Albania           78.573\n",
       "284           Algeria           76.880\n",
       "354    American Samoa           73.745\n",
       "...               ...              ...\n",
       "18740  Western Sahara           70.263\n",
       "18817           World           72.584\n",
       "18887           Yemen           66.125\n",
       "18957          Zambia           63.886\n",
       "19027        Zimbabwe           61.490\n",
       "\n",
       "[243 rows x 2 columns]"
      ],
      "text/html": "<div>\n<style scoped>\n    .dataframe tbody tr th:only-of-type {\n        vertical-align: middle;\n    }\n\n    .dataframe tbody tr th {\n        vertical-align: top;\n    }\n\n    .dataframe thead th {\n        text-align: right;\n    }\n</style>\n<table border=\"1\" class=\"dataframe\">\n  <thead>\n    <tr style=\"text-align: right;\">\n      <th></th>\n      <th>Entity</th>\n      <th>Life expectancy</th>\n    </tr>\n  </thead>\n  <tbody>\n    <tr>\n      <th>69</th>\n      <td>Afghanistan</td>\n      <td>64.833</td>\n    </tr>\n    <tr>\n      <th>141</th>\n      <td>Africa</td>\n      <td>63.170</td>\n    </tr>\n    <tr>\n      <th>211</th>\n      <td>Albania</td>\n      <td>78.573</td>\n    </tr>\n    <tr>\n      <th>284</th>\n      <td>Algeria</td>\n      <td>76.880</td>\n    </tr>\n    <tr>\n      <th>354</th>\n      <td>American Samoa</td>\n      <td>73.745</td>\n    </tr>\n    <tr>\n      <th>...</th>\n      <td>...</td>\n      <td>...</td>\n    </tr>\n    <tr>\n      <th>18740</th>\n      <td>Western Sahara</td>\n      <td>70.263</td>\n    </tr>\n    <tr>\n      <th>18817</th>\n      <td>World</td>\n      <td>72.584</td>\n    </tr>\n    <tr>\n      <th>18887</th>\n      <td>Yemen</td>\n      <td>66.125</td>\n    </tr>\n    <tr>\n      <th>18957</th>\n      <td>Zambia</td>\n      <td>63.886</td>\n    </tr>\n    <tr>\n      <th>19027</th>\n      <td>Zimbabwe</td>\n      <td>61.490</td>\n    </tr>\n  </tbody>\n</table>\n<p>243 rows × 2 columns</p>\n</div>"
     },
     "metadata": {},
     "execution_count": 14
    }
   ],
   "source": [
    "life_expectency2 = life_expectency1.drop(columns=['Code', 'Year'])\n",
    "life_expectency2"
   ]
  },
  {
   "cell_type": "code",
   "execution_count": 15,
   "metadata": {},
   "outputs": [
    {
     "output_type": "execute_result",
     "data": {
      "text/plain": [
       "            Entity Code  Year  \\\n",
       "0      Afghanistan  AFG  1800   \n",
       "1      Afghanistan  AFG  1801   \n",
       "2      Afghanistan  AFG  1802   \n",
       "3      Afghanistan  AFG  1803   \n",
       "4      Afghanistan  AFG  1804   \n",
       "...            ...  ...   ...   \n",
       "66480     Zimbabwe  ZWE  2096   \n",
       "66481     Zimbabwe  ZWE  2097   \n",
       "66482     Zimbabwe  ZWE  2098   \n",
       "66483     Zimbabwe  ZWE  2099   \n",
       "66484     Zimbabwe  ZWE  2100   \n",
       "\n",
       "       Population by country and region, historic and projections (Gapminder, HYDE & UN)  \n",
       "0                                                3280000                                  \n",
       "1                                                3280000                                  \n",
       "2                                                3280000                                  \n",
       "3                                                3280000                                  \n",
       "4                                                3280000                                  \n",
       "...                                                  ...                                  \n",
       "66480                                           30941000                                  \n",
       "66481                                           30952000                                  \n",
       "66482                                           30960000                                  \n",
       "66483                                           30964000                                  \n",
       "66484                                           30965000                                  \n",
       "\n",
       "[66485 rows x 4 columns]"
      ],
      "text/html": "<div>\n<style scoped>\n    .dataframe tbody tr th:only-of-type {\n        vertical-align: middle;\n    }\n\n    .dataframe tbody tr th {\n        vertical-align: top;\n    }\n\n    .dataframe thead th {\n        text-align: right;\n    }\n</style>\n<table border=\"1\" class=\"dataframe\">\n  <thead>\n    <tr style=\"text-align: right;\">\n      <th></th>\n      <th>Entity</th>\n      <th>Code</th>\n      <th>Year</th>\n      <th>Population by country and region, historic and projections (Gapminder, HYDE &amp; UN)</th>\n    </tr>\n  </thead>\n  <tbody>\n    <tr>\n      <th>0</th>\n      <td>Afghanistan</td>\n      <td>AFG</td>\n      <td>1800</td>\n      <td>3280000</td>\n    </tr>\n    <tr>\n      <th>1</th>\n      <td>Afghanistan</td>\n      <td>AFG</td>\n      <td>1801</td>\n      <td>3280000</td>\n    </tr>\n    <tr>\n      <th>2</th>\n      <td>Afghanistan</td>\n      <td>AFG</td>\n      <td>1802</td>\n      <td>3280000</td>\n    </tr>\n    <tr>\n      <th>3</th>\n      <td>Afghanistan</td>\n      <td>AFG</td>\n      <td>1803</td>\n      <td>3280000</td>\n    </tr>\n    <tr>\n      <th>4</th>\n      <td>Afghanistan</td>\n      <td>AFG</td>\n      <td>1804</td>\n      <td>3280000</td>\n    </tr>\n    <tr>\n      <th>...</th>\n      <td>...</td>\n      <td>...</td>\n      <td>...</td>\n      <td>...</td>\n    </tr>\n    <tr>\n      <th>66480</th>\n      <td>Zimbabwe</td>\n      <td>ZWE</td>\n      <td>2096</td>\n      <td>30941000</td>\n    </tr>\n    <tr>\n      <th>66481</th>\n      <td>Zimbabwe</td>\n      <td>ZWE</td>\n      <td>2097</td>\n      <td>30952000</td>\n    </tr>\n    <tr>\n      <th>66482</th>\n      <td>Zimbabwe</td>\n      <td>ZWE</td>\n      <td>2098</td>\n      <td>30960000</td>\n    </tr>\n    <tr>\n      <th>66483</th>\n      <td>Zimbabwe</td>\n      <td>ZWE</td>\n      <td>2099</td>\n      <td>30964000</td>\n    </tr>\n    <tr>\n      <th>66484</th>\n      <td>Zimbabwe</td>\n      <td>ZWE</td>\n      <td>2100</td>\n      <td>30965000</td>\n    </tr>\n  </tbody>\n</table>\n<p>66485 rows × 4 columns</p>\n</div>"
     },
     "metadata": {},
     "execution_count": 15
    }
   ],
   "source": [
    "# Population Data by Country\n",
    "population"
   ]
  },
  {
   "cell_type": "code",
   "execution_count": 16,
   "metadata": {},
   "outputs": [
    {
     "output_type": "execute_result",
     "data": {
      "text/plain": [
       "2100"
      ]
     },
     "metadata": {},
     "execution_count": 16
    }
   ],
   "source": [
    "# Latest year\n",
    "population['Year'].max()"
   ]
  },
  {
   "cell_type": "code",
   "execution_count": 17,
   "metadata": {},
   "outputs": [
    {
     "output_type": "execute_result",
     "data": {
      "text/plain": [
       "               Entity      Code  Year  \\\n",
       "219       Afghanistan       AFG  2019   \n",
       "422            Africa       NaN  2019   \n",
       "723           Albania       ALB  2019   \n",
       "1024          Algeria       DZA  2019   \n",
       "1175   American Samoa       ASM  2019   \n",
       "...               ...       ...   ...   \n",
       "65268  Western Sahara       ESH  2019   \n",
       "65500           World  OWID_WRL  2019   \n",
       "65801           Yemen       YEM  2019   \n",
       "66102          Zambia       ZMB  2019   \n",
       "66403        Zimbabwe       ZWE  2019   \n",
       "\n",
       "       Population by country and region, historic and projections (Gapminder, HYDE & UN)  \n",
       "219                                             38042000                                  \n",
       "422                                           1308064000                                  \n",
       "723                                              2881000                                  \n",
       "1024                                            43053000                                  \n",
       "1175                                               55000                                  \n",
       "...                                                  ...                                  \n",
       "65268                                             582000                                  \n",
       "65500                                         7713468000                                  \n",
       "65801                                           29162000                                  \n",
       "66102                                           17861000                                  \n",
       "66403                                           14645000                                  \n",
       "\n",
       "[242 rows x 4 columns]"
      ],
      "text/html": "<div>\n<style scoped>\n    .dataframe tbody tr th:only-of-type {\n        vertical-align: middle;\n    }\n\n    .dataframe tbody tr th {\n        vertical-align: top;\n    }\n\n    .dataframe thead th {\n        text-align: right;\n    }\n</style>\n<table border=\"1\" class=\"dataframe\">\n  <thead>\n    <tr style=\"text-align: right;\">\n      <th></th>\n      <th>Entity</th>\n      <th>Code</th>\n      <th>Year</th>\n      <th>Population by country and region, historic and projections (Gapminder, HYDE &amp; UN)</th>\n    </tr>\n  </thead>\n  <tbody>\n    <tr>\n      <th>219</th>\n      <td>Afghanistan</td>\n      <td>AFG</td>\n      <td>2019</td>\n      <td>38042000</td>\n    </tr>\n    <tr>\n      <th>422</th>\n      <td>Africa</td>\n      <td>NaN</td>\n      <td>2019</td>\n      <td>1308064000</td>\n    </tr>\n    <tr>\n      <th>723</th>\n      <td>Albania</td>\n      <td>ALB</td>\n      <td>2019</td>\n      <td>2881000</td>\n    </tr>\n    <tr>\n      <th>1024</th>\n      <td>Algeria</td>\n      <td>DZA</td>\n      <td>2019</td>\n      <td>43053000</td>\n    </tr>\n    <tr>\n      <th>1175</th>\n      <td>American Samoa</td>\n      <td>ASM</td>\n      <td>2019</td>\n      <td>55000</td>\n    </tr>\n    <tr>\n      <th>...</th>\n      <td>...</td>\n      <td>...</td>\n      <td>...</td>\n      <td>...</td>\n    </tr>\n    <tr>\n      <th>65268</th>\n      <td>Western Sahara</td>\n      <td>ESH</td>\n      <td>2019</td>\n      <td>582000</td>\n    </tr>\n    <tr>\n      <th>65500</th>\n      <td>World</td>\n      <td>OWID_WRL</td>\n      <td>2019</td>\n      <td>7713468000</td>\n    </tr>\n    <tr>\n      <th>65801</th>\n      <td>Yemen</td>\n      <td>YEM</td>\n      <td>2019</td>\n      <td>29162000</td>\n    </tr>\n    <tr>\n      <th>66102</th>\n      <td>Zambia</td>\n      <td>ZMB</td>\n      <td>2019</td>\n      <td>17861000</td>\n    </tr>\n    <tr>\n      <th>66403</th>\n      <td>Zimbabwe</td>\n      <td>ZWE</td>\n      <td>2019</td>\n      <td>14645000</td>\n    </tr>\n  </tbody>\n</table>\n<p>242 rows × 4 columns</p>\n</div>"
     },
     "metadata": {},
     "execution_count": 17
    }
   ],
   "source": [
    "# Obtaining Population as of 2019\n",
    "population1 = population[population['Year']==2019]\n",
    "population1"
   ]
  },
  {
   "cell_type": "code",
   "execution_count": 18,
   "metadata": {},
   "outputs": [
    {
     "output_type": "execute_result",
     "data": {
      "text/plain": [
       "               Entity      Code  Year  Population\n",
       "219       Afghanistan       AFG  2019    38042000\n",
       "422            Africa       NaN  2019  1308064000\n",
       "723           Albania       ALB  2019     2881000\n",
       "1024          Algeria       DZA  2019    43053000\n",
       "1175   American Samoa       ASM  2019       55000\n",
       "...               ...       ...   ...         ...\n",
       "65268  Western Sahara       ESH  2019      582000\n",
       "65500           World  OWID_WRL  2019  7713468000\n",
       "65801           Yemen       YEM  2019    29162000\n",
       "66102          Zambia       ZMB  2019    17861000\n",
       "66403        Zimbabwe       ZWE  2019    14645000\n",
       "\n",
       "[242 rows x 4 columns]"
      ],
      "text/html": "<div>\n<style scoped>\n    .dataframe tbody tr th:only-of-type {\n        vertical-align: middle;\n    }\n\n    .dataframe tbody tr th {\n        vertical-align: top;\n    }\n\n    .dataframe thead th {\n        text-align: right;\n    }\n</style>\n<table border=\"1\" class=\"dataframe\">\n  <thead>\n    <tr style=\"text-align: right;\">\n      <th></th>\n      <th>Entity</th>\n      <th>Code</th>\n      <th>Year</th>\n      <th>Population</th>\n    </tr>\n  </thead>\n  <tbody>\n    <tr>\n      <th>219</th>\n      <td>Afghanistan</td>\n      <td>AFG</td>\n      <td>2019</td>\n      <td>38042000</td>\n    </tr>\n    <tr>\n      <th>422</th>\n      <td>Africa</td>\n      <td>NaN</td>\n      <td>2019</td>\n      <td>1308064000</td>\n    </tr>\n    <tr>\n      <th>723</th>\n      <td>Albania</td>\n      <td>ALB</td>\n      <td>2019</td>\n      <td>2881000</td>\n    </tr>\n    <tr>\n      <th>1024</th>\n      <td>Algeria</td>\n      <td>DZA</td>\n      <td>2019</td>\n      <td>43053000</td>\n    </tr>\n    <tr>\n      <th>1175</th>\n      <td>American Samoa</td>\n      <td>ASM</td>\n      <td>2019</td>\n      <td>55000</td>\n    </tr>\n    <tr>\n      <th>...</th>\n      <td>...</td>\n      <td>...</td>\n      <td>...</td>\n      <td>...</td>\n    </tr>\n    <tr>\n      <th>65268</th>\n      <td>Western Sahara</td>\n      <td>ESH</td>\n      <td>2019</td>\n      <td>582000</td>\n    </tr>\n    <tr>\n      <th>65500</th>\n      <td>World</td>\n      <td>OWID_WRL</td>\n      <td>2019</td>\n      <td>7713468000</td>\n    </tr>\n    <tr>\n      <th>65801</th>\n      <td>Yemen</td>\n      <td>YEM</td>\n      <td>2019</td>\n      <td>29162000</td>\n    </tr>\n    <tr>\n      <th>66102</th>\n      <td>Zambia</td>\n      <td>ZMB</td>\n      <td>2019</td>\n      <td>17861000</td>\n    </tr>\n    <tr>\n      <th>66403</th>\n      <td>Zimbabwe</td>\n      <td>ZWE</td>\n      <td>2019</td>\n      <td>14645000</td>\n    </tr>\n  </tbody>\n</table>\n<p>242 rows × 4 columns</p>\n</div>"
     },
     "metadata": {},
     "execution_count": 18
    }
   ],
   "source": [
    "# Renaming the column\n",
    "population2 = population1.rename(columns={'Population by country and region, historic and projections (Gapminder, HYDE & UN)': 'Population'})\n",
    "population2"
   ]
  },
  {
   "cell_type": "code",
   "execution_count": 19,
   "metadata": {},
   "outputs": [
    {
     "output_type": "execute_result",
     "data": {
      "text/plain": [
       "               Entity  Population\n",
       "219       Afghanistan    38042000\n",
       "422            Africa  1308064000\n",
       "723           Albania     2881000\n",
       "1024          Algeria    43053000\n",
       "1175   American Samoa       55000\n",
       "...               ...         ...\n",
       "65268  Western Sahara      582000\n",
       "65500           World  7713468000\n",
       "65801           Yemen    29162000\n",
       "66102          Zambia    17861000\n",
       "66403        Zimbabwe    14645000\n",
       "\n",
       "[242 rows x 2 columns]"
      ],
      "text/html": "<div>\n<style scoped>\n    .dataframe tbody tr th:only-of-type {\n        vertical-align: middle;\n    }\n\n    .dataframe tbody tr th {\n        vertical-align: top;\n    }\n\n    .dataframe thead th {\n        text-align: right;\n    }\n</style>\n<table border=\"1\" class=\"dataframe\">\n  <thead>\n    <tr style=\"text-align: right;\">\n      <th></th>\n      <th>Entity</th>\n      <th>Population</th>\n    </tr>\n  </thead>\n  <tbody>\n    <tr>\n      <th>219</th>\n      <td>Afghanistan</td>\n      <td>38042000</td>\n    </tr>\n    <tr>\n      <th>422</th>\n      <td>Africa</td>\n      <td>1308064000</td>\n    </tr>\n    <tr>\n      <th>723</th>\n      <td>Albania</td>\n      <td>2881000</td>\n    </tr>\n    <tr>\n      <th>1024</th>\n      <td>Algeria</td>\n      <td>43053000</td>\n    </tr>\n    <tr>\n      <th>1175</th>\n      <td>American Samoa</td>\n      <td>55000</td>\n    </tr>\n    <tr>\n      <th>...</th>\n      <td>...</td>\n      <td>...</td>\n    </tr>\n    <tr>\n      <th>65268</th>\n      <td>Western Sahara</td>\n      <td>582000</td>\n    </tr>\n    <tr>\n      <th>65500</th>\n      <td>World</td>\n      <td>7713468000</td>\n    </tr>\n    <tr>\n      <th>65801</th>\n      <td>Yemen</td>\n      <td>29162000</td>\n    </tr>\n    <tr>\n      <th>66102</th>\n      <td>Zambia</td>\n      <td>17861000</td>\n    </tr>\n    <tr>\n      <th>66403</th>\n      <td>Zimbabwe</td>\n      <td>14645000</td>\n    </tr>\n  </tbody>\n</table>\n<p>242 rows × 2 columns</p>\n</div>"
     },
     "metadata": {},
     "execution_count": 19
    }
   ],
   "source": [
    "# Dropping the year and code\n",
    "population3 = population2.drop(columns=['Year', 'Code'])\n",
    "population3"
   ]
  },
  {
   "cell_type": "code",
   "execution_count": 20,
   "metadata": {},
   "outputs": [
    {
     "output_type": "execute_result",
     "data": {
      "text/plain": [
       "        Entity Code  Year  \\\n",
       "0  Afghanistan  AFG  1990   \n",
       "1  Afghanistan  AFG  1991   \n",
       "2  Afghanistan  AFG  1992   \n",
       "3  Afghanistan  AFG  1993   \n",
       "4  Afghanistan  AFG  1994   \n",
       "\n",
       "   Deaths - Cardiovascular diseases - Sex: Both - Age: All Ages (Percent)  \n",
       "0                                          23.707752                       \n",
       "1                                          23.490307                       \n",
       "2                                          23.146918                       \n",
       "3                                          21.154207                       \n",
       "4                                          19.756144                       "
      ],
      "text/html": "<div>\n<style scoped>\n    .dataframe tbody tr th:only-of-type {\n        vertical-align: middle;\n    }\n\n    .dataframe tbody tr th {\n        vertical-align: top;\n    }\n\n    .dataframe thead th {\n        text-align: right;\n    }\n</style>\n<table border=\"1\" class=\"dataframe\">\n  <thead>\n    <tr style=\"text-align: right;\">\n      <th></th>\n      <th>Entity</th>\n      <th>Code</th>\n      <th>Year</th>\n      <th>Deaths - Cardiovascular diseases - Sex: Both - Age: All Ages (Percent)</th>\n    </tr>\n  </thead>\n  <tbody>\n    <tr>\n      <th>0</th>\n      <td>Afghanistan</td>\n      <td>AFG</td>\n      <td>1990</td>\n      <td>23.707752</td>\n    </tr>\n    <tr>\n      <th>1</th>\n      <td>Afghanistan</td>\n      <td>AFG</td>\n      <td>1991</td>\n      <td>23.490307</td>\n    </tr>\n    <tr>\n      <th>2</th>\n      <td>Afghanistan</td>\n      <td>AFG</td>\n      <td>1992</td>\n      <td>23.146918</td>\n    </tr>\n    <tr>\n      <th>3</th>\n      <td>Afghanistan</td>\n      <td>AFG</td>\n      <td>1993</td>\n      <td>21.154207</td>\n    </tr>\n    <tr>\n      <th>4</th>\n      <td>Afghanistan</td>\n      <td>AFG</td>\n      <td>1994</td>\n      <td>19.756144</td>\n    </tr>\n  </tbody>\n</table>\n</div>"
     },
     "metadata": {},
     "execution_count": 20
    }
   ],
   "source": [
    "# Heart Disease Data cleaning\n",
    "heart_disease.head()"
   ]
  },
  {
   "cell_type": "code",
   "execution_count": 21,
   "metadata": {},
   "outputs": [
    {
     "output_type": "execute_result",
     "data": {
      "text/plain": [
       "2017"
      ]
     },
     "metadata": {},
     "execution_count": 21
    }
   ],
   "source": [
    "heart_disease['Year'].max()"
   ]
  },
  {
   "cell_type": "code",
   "execution_count": 22,
   "metadata": {},
   "outputs": [
    {
     "output_type": "execute_result",
     "data": {
      "text/plain": [
       "                          Entity      Code  Year  \\\n",
       "27                   Afghanistan       AFG  2017   \n",
       "55                       Albania       ALB  2017   \n",
       "83                       Algeria       DZA  2017   \n",
       "111               American Samoa       ASM  2017   \n",
       "139         Andean Latin America       NaN  2017   \n",
       "...                          ...       ...   ...   \n",
       "6355  Western Sub-Saharan Africa       NaN  2017   \n",
       "6383                       World  OWID_WRL  2017   \n",
       "6411                       Yemen       YEM  2017   \n",
       "6439                      Zambia       ZMB  2017   \n",
       "6467                    Zimbabwe       ZWE  2017   \n",
       "\n",
       "      Deaths - Cardiovascular diseases - Sex: Both - Age: All Ages (Percent)  \n",
       "27                                            24.780577                       \n",
       "55                                            55.822085                       \n",
       "83                                            47.284557                       \n",
       "111                                           30.440218                       \n",
       "139                                           21.193030                       \n",
       "...                                                 ...                       \n",
       "6355                                          10.304049                       \n",
       "6383                                          31.800515                       \n",
       "6411                                          32.373980                       \n",
       "6439                                          10.277008                       \n",
       "6467                                          14.430736                       \n",
       "\n",
       "[231 rows x 4 columns]"
      ],
      "text/html": "<div>\n<style scoped>\n    .dataframe tbody tr th:only-of-type {\n        vertical-align: middle;\n    }\n\n    .dataframe tbody tr th {\n        vertical-align: top;\n    }\n\n    .dataframe thead th {\n        text-align: right;\n    }\n</style>\n<table border=\"1\" class=\"dataframe\">\n  <thead>\n    <tr style=\"text-align: right;\">\n      <th></th>\n      <th>Entity</th>\n      <th>Code</th>\n      <th>Year</th>\n      <th>Deaths - Cardiovascular diseases - Sex: Both - Age: All Ages (Percent)</th>\n    </tr>\n  </thead>\n  <tbody>\n    <tr>\n      <th>27</th>\n      <td>Afghanistan</td>\n      <td>AFG</td>\n      <td>2017</td>\n      <td>24.780577</td>\n    </tr>\n    <tr>\n      <th>55</th>\n      <td>Albania</td>\n      <td>ALB</td>\n      <td>2017</td>\n      <td>55.822085</td>\n    </tr>\n    <tr>\n      <th>83</th>\n      <td>Algeria</td>\n      <td>DZA</td>\n      <td>2017</td>\n      <td>47.284557</td>\n    </tr>\n    <tr>\n      <th>111</th>\n      <td>American Samoa</td>\n      <td>ASM</td>\n      <td>2017</td>\n      <td>30.440218</td>\n    </tr>\n    <tr>\n      <th>139</th>\n      <td>Andean Latin America</td>\n      <td>NaN</td>\n      <td>2017</td>\n      <td>21.193030</td>\n    </tr>\n    <tr>\n      <th>...</th>\n      <td>...</td>\n      <td>...</td>\n      <td>...</td>\n      <td>...</td>\n    </tr>\n    <tr>\n      <th>6355</th>\n      <td>Western Sub-Saharan Africa</td>\n      <td>NaN</td>\n      <td>2017</td>\n      <td>10.304049</td>\n    </tr>\n    <tr>\n      <th>6383</th>\n      <td>World</td>\n      <td>OWID_WRL</td>\n      <td>2017</td>\n      <td>31.800515</td>\n    </tr>\n    <tr>\n      <th>6411</th>\n      <td>Yemen</td>\n      <td>YEM</td>\n      <td>2017</td>\n      <td>32.373980</td>\n    </tr>\n    <tr>\n      <th>6439</th>\n      <td>Zambia</td>\n      <td>ZMB</td>\n      <td>2017</td>\n      <td>10.277008</td>\n    </tr>\n    <tr>\n      <th>6467</th>\n      <td>Zimbabwe</td>\n      <td>ZWE</td>\n      <td>2017</td>\n      <td>14.430736</td>\n    </tr>\n  </tbody>\n</table>\n<p>231 rows × 4 columns</p>\n</div>"
     },
     "metadata": {},
     "execution_count": 22
    }
   ],
   "source": [
    "heart_disease1 = heart_disease[heart_disease['Year']==2017]\n",
    "heart_disease1"
   ]
  },
  {
   "cell_type": "code",
   "execution_count": 23,
   "metadata": {},
   "outputs": [
    {
     "output_type": "execute_result",
     "data": {
      "text/plain": [
       "                          Entity  Cardiovascular Deaths %\n",
       "27                   Afghanistan                24.780577\n",
       "55                       Albania                55.822085\n",
       "83                       Algeria                47.284557\n",
       "111               American Samoa                30.440218\n",
       "139         Andean Latin America                21.193030\n",
       "...                          ...                      ...\n",
       "6355  Western Sub-Saharan Africa                10.304049\n",
       "6383                       World                31.800515\n",
       "6411                       Yemen                32.373980\n",
       "6439                      Zambia                10.277008\n",
       "6467                    Zimbabwe                14.430736\n",
       "\n",
       "[231 rows x 2 columns]"
      ],
      "text/html": "<div>\n<style scoped>\n    .dataframe tbody tr th:only-of-type {\n        vertical-align: middle;\n    }\n\n    .dataframe tbody tr th {\n        vertical-align: top;\n    }\n\n    .dataframe thead th {\n        text-align: right;\n    }\n</style>\n<table border=\"1\" class=\"dataframe\">\n  <thead>\n    <tr style=\"text-align: right;\">\n      <th></th>\n      <th>Entity</th>\n      <th>Cardiovascular Deaths %</th>\n    </tr>\n  </thead>\n  <tbody>\n    <tr>\n      <th>27</th>\n      <td>Afghanistan</td>\n      <td>24.780577</td>\n    </tr>\n    <tr>\n      <th>55</th>\n      <td>Albania</td>\n      <td>55.822085</td>\n    </tr>\n    <tr>\n      <th>83</th>\n      <td>Algeria</td>\n      <td>47.284557</td>\n    </tr>\n    <tr>\n      <th>111</th>\n      <td>American Samoa</td>\n      <td>30.440218</td>\n    </tr>\n    <tr>\n      <th>139</th>\n      <td>Andean Latin America</td>\n      <td>21.193030</td>\n    </tr>\n    <tr>\n      <th>...</th>\n      <td>...</td>\n      <td>...</td>\n    </tr>\n    <tr>\n      <th>6355</th>\n      <td>Western Sub-Saharan Africa</td>\n      <td>10.304049</td>\n    </tr>\n    <tr>\n      <th>6383</th>\n      <td>World</td>\n      <td>31.800515</td>\n    </tr>\n    <tr>\n      <th>6411</th>\n      <td>Yemen</td>\n      <td>32.373980</td>\n    </tr>\n    <tr>\n      <th>6439</th>\n      <td>Zambia</td>\n      <td>10.277008</td>\n    </tr>\n    <tr>\n      <th>6467</th>\n      <td>Zimbabwe</td>\n      <td>14.430736</td>\n    </tr>\n  </tbody>\n</table>\n<p>231 rows × 2 columns</p>\n</div>"
     },
     "metadata": {},
     "execution_count": 23
    }
   ],
   "source": [
    "heart_disease2 = heart_disease1.drop(columns=['Year', 'Code']).rename(columns={'Deaths - Cardiovascular diseases - Sex: Both - Age: All Ages (Percent)':'Cardiovascular Deaths %'})\n",
    "heart_disease2"
   ]
  },
  {
   "cell_type": "code",
   "execution_count": 24,
   "metadata": {},
   "outputs": [
    {
     "output_type": "execute_result",
     "data": {
      "text/plain": [
       "        Entity Code  Year  \\\n",
       "0  Afghanistan  AFG  1990   \n",
       "1  Afghanistan  AFG  1991   \n",
       "2  Afghanistan  AFG  1992   \n",
       "3  Afghanistan  AFG  1993   \n",
       "4  Afghanistan  AFG  1994   \n",
       "\n",
       "   Deaths - Tuberculosis - Sex: Both - Age: All Ages (Number)  \n",
       "0                                        4332.690583           \n",
       "1                                        4288.640464           \n",
       "2                                        4475.257542           \n",
       "3                                        4909.050325           \n",
       "4                                        5352.634058           "
      ],
      "text/html": "<div>\n<style scoped>\n    .dataframe tbody tr th:only-of-type {\n        vertical-align: middle;\n    }\n\n    .dataframe tbody tr th {\n        vertical-align: top;\n    }\n\n    .dataframe thead th {\n        text-align: right;\n    }\n</style>\n<table border=\"1\" class=\"dataframe\">\n  <thead>\n    <tr style=\"text-align: right;\">\n      <th></th>\n      <th>Entity</th>\n      <th>Code</th>\n      <th>Year</th>\n      <th>Deaths - Tuberculosis - Sex: Both - Age: All Ages (Number)</th>\n    </tr>\n  </thead>\n  <tbody>\n    <tr>\n      <th>0</th>\n      <td>Afghanistan</td>\n      <td>AFG</td>\n      <td>1990</td>\n      <td>4332.690583</td>\n    </tr>\n    <tr>\n      <th>1</th>\n      <td>Afghanistan</td>\n      <td>AFG</td>\n      <td>1991</td>\n      <td>4288.640464</td>\n    </tr>\n    <tr>\n      <th>2</th>\n      <td>Afghanistan</td>\n      <td>AFG</td>\n      <td>1992</td>\n      <td>4475.257542</td>\n    </tr>\n    <tr>\n      <th>3</th>\n      <td>Afghanistan</td>\n      <td>AFG</td>\n      <td>1993</td>\n      <td>4909.050325</td>\n    </tr>\n    <tr>\n      <th>4</th>\n      <td>Afghanistan</td>\n      <td>AFG</td>\n      <td>1994</td>\n      <td>5352.634058</td>\n    </tr>\n  </tbody>\n</table>\n</div>"
     },
     "metadata": {},
     "execution_count": 24
    }
   ],
   "source": [
    "# Tuberculosis Data\n",
    "tuberculosis.head()"
   ]
  },
  {
   "cell_type": "code",
   "execution_count": 25,
   "metadata": {},
   "outputs": [
    {
     "output_type": "execute_result",
     "data": {
      "text/plain": [
       "2017"
      ]
     },
     "metadata": {},
     "execution_count": 25
    }
   ],
   "source": [
    "# Latest year\n",
    "tuberculosis['Year'].max()"
   ]
  },
  {
   "cell_type": "code",
   "execution_count": 27,
   "metadata": {},
   "outputs": [
    {
     "output_type": "execute_result",
     "data": {
      "text/plain": [
       "                          Entity      Code  Year  \\\n",
       "27                   Afghanistan       AFG  2017   \n",
       "55                       Albania       ALB  2017   \n",
       "83                       Algeria       DZA  2017   \n",
       "111               American Samoa       ASM  2017   \n",
       "139         Andean Latin America       NaN  2017   \n",
       "...                          ...       ...   ...   \n",
       "6355  Western Sub-Saharan Africa       NaN  2017   \n",
       "6383                       World  OWID_WRL  2017   \n",
       "6411                       Yemen       YEM  2017   \n",
       "6439                      Zambia       ZMB  2017   \n",
       "6467                    Zimbabwe       ZWE  2017   \n",
       "\n",
       "      Deaths - Tuberculosis - Sex: Both - Age: All Ages (Number)  \n",
       "27                                         3.634061e+03           \n",
       "55                                         1.198700e+01           \n",
       "83                                         4.170693e+02           \n",
       "111                                        3.769006e-01           \n",
       "139                                        3.884472e+03           \n",
       "...                                                 ...           \n",
       "6355                                       1.297312e+05           \n",
       "6383                                       1.183672e+06           \n",
       "6411                                       1.021099e+03           \n",
       "6439                                       8.306847e+03           \n",
       "6467                                       1.195807e+04           \n",
       "\n",
       "[231 rows x 4 columns]"
      ],
      "text/html": "<div>\n<style scoped>\n    .dataframe tbody tr th:only-of-type {\n        vertical-align: middle;\n    }\n\n    .dataframe tbody tr th {\n        vertical-align: top;\n    }\n\n    .dataframe thead th {\n        text-align: right;\n    }\n</style>\n<table border=\"1\" class=\"dataframe\">\n  <thead>\n    <tr style=\"text-align: right;\">\n      <th></th>\n      <th>Entity</th>\n      <th>Code</th>\n      <th>Year</th>\n      <th>Deaths - Tuberculosis - Sex: Both - Age: All Ages (Number)</th>\n    </tr>\n  </thead>\n  <tbody>\n    <tr>\n      <th>27</th>\n      <td>Afghanistan</td>\n      <td>AFG</td>\n      <td>2017</td>\n      <td>3.634061e+03</td>\n    </tr>\n    <tr>\n      <th>55</th>\n      <td>Albania</td>\n      <td>ALB</td>\n      <td>2017</td>\n      <td>1.198700e+01</td>\n    </tr>\n    <tr>\n      <th>83</th>\n      <td>Algeria</td>\n      <td>DZA</td>\n      <td>2017</td>\n      <td>4.170693e+02</td>\n    </tr>\n    <tr>\n      <th>111</th>\n      <td>American Samoa</td>\n      <td>ASM</td>\n      <td>2017</td>\n      <td>3.769006e-01</td>\n    </tr>\n    <tr>\n      <th>139</th>\n      <td>Andean Latin America</td>\n      <td>NaN</td>\n      <td>2017</td>\n      <td>3.884472e+03</td>\n    </tr>\n    <tr>\n      <th>...</th>\n      <td>...</td>\n      <td>...</td>\n      <td>...</td>\n      <td>...</td>\n    </tr>\n    <tr>\n      <th>6355</th>\n      <td>Western Sub-Saharan Africa</td>\n      <td>NaN</td>\n      <td>2017</td>\n      <td>1.297312e+05</td>\n    </tr>\n    <tr>\n      <th>6383</th>\n      <td>World</td>\n      <td>OWID_WRL</td>\n      <td>2017</td>\n      <td>1.183672e+06</td>\n    </tr>\n    <tr>\n      <th>6411</th>\n      <td>Yemen</td>\n      <td>YEM</td>\n      <td>2017</td>\n      <td>1.021099e+03</td>\n    </tr>\n    <tr>\n      <th>6439</th>\n      <td>Zambia</td>\n      <td>ZMB</td>\n      <td>2017</td>\n      <td>8.306847e+03</td>\n    </tr>\n    <tr>\n      <th>6467</th>\n      <td>Zimbabwe</td>\n      <td>ZWE</td>\n      <td>2017</td>\n      <td>1.195807e+04</td>\n    </tr>\n  </tbody>\n</table>\n<p>231 rows × 4 columns</p>\n</div>"
     },
     "metadata": {},
     "execution_count": 27
    }
   ],
   "source": [
    "# Filtering based on latest year\n",
    "tuberculosis1 = tuberculosis[tuberculosis['Year']==2017]\n",
    "tuberculosis1"
   ]
  },
  {
   "cell_type": "code",
   "execution_count": 29,
   "metadata": {},
   "outputs": [
    {
     "output_type": "execute_result",
     "data": {
      "text/plain": [
       "                          Entity     TB Deaths\n",
       "27                   Afghanistan  3.634061e+03\n",
       "55                       Albania  1.198700e+01\n",
       "83                       Algeria  4.170693e+02\n",
       "111               American Samoa  3.769006e-01\n",
       "139         Andean Latin America  3.884472e+03\n",
       "...                          ...           ...\n",
       "6355  Western Sub-Saharan Africa  1.297312e+05\n",
       "6383                       World  1.183672e+06\n",
       "6411                       Yemen  1.021099e+03\n",
       "6439                      Zambia  8.306847e+03\n",
       "6467                    Zimbabwe  1.195807e+04\n",
       "\n",
       "[231 rows x 2 columns]"
      ],
      "text/html": "<div>\n<style scoped>\n    .dataframe tbody tr th:only-of-type {\n        vertical-align: middle;\n    }\n\n    .dataframe tbody tr th {\n        vertical-align: top;\n    }\n\n    .dataframe thead th {\n        text-align: right;\n    }\n</style>\n<table border=\"1\" class=\"dataframe\">\n  <thead>\n    <tr style=\"text-align: right;\">\n      <th></th>\n      <th>Entity</th>\n      <th>TB Deaths</th>\n    </tr>\n  </thead>\n  <tbody>\n    <tr>\n      <th>27</th>\n      <td>Afghanistan</td>\n      <td>3.634061e+03</td>\n    </tr>\n    <tr>\n      <th>55</th>\n      <td>Albania</td>\n      <td>1.198700e+01</td>\n    </tr>\n    <tr>\n      <th>83</th>\n      <td>Algeria</td>\n      <td>4.170693e+02</td>\n    </tr>\n    <tr>\n      <th>111</th>\n      <td>American Samoa</td>\n      <td>3.769006e-01</td>\n    </tr>\n    <tr>\n      <th>139</th>\n      <td>Andean Latin America</td>\n      <td>3.884472e+03</td>\n    </tr>\n    <tr>\n      <th>...</th>\n      <td>...</td>\n      <td>...</td>\n    </tr>\n    <tr>\n      <th>6355</th>\n      <td>Western Sub-Saharan Africa</td>\n      <td>1.297312e+05</td>\n    </tr>\n    <tr>\n      <th>6383</th>\n      <td>World</td>\n      <td>1.183672e+06</td>\n    </tr>\n    <tr>\n      <th>6411</th>\n      <td>Yemen</td>\n      <td>1.021099e+03</td>\n    </tr>\n    <tr>\n      <th>6439</th>\n      <td>Zambia</td>\n      <td>8.306847e+03</td>\n    </tr>\n    <tr>\n      <th>6467</th>\n      <td>Zimbabwe</td>\n      <td>1.195807e+04</td>\n    </tr>\n  </tbody>\n</table>\n<p>231 rows × 2 columns</p>\n</div>"
     },
     "metadata": {},
     "execution_count": 29
    }
   ],
   "source": [
    "# Dropping and renaming the column\n",
    "tuberculosis2 = tuberculosis1.drop(columns=['Code', 'Year']).rename(columns={'Deaths - Tuberculosis - Sex: Both - Age: All Ages (Number)':'TB Deaths'})\n",
    "tuberculosis2"
   ]
  },
  {
   "cell_type": "code",
   "execution_count": 30,
   "metadata": {},
   "outputs": [
    {
     "output_type": "execute_result",
     "data": {
      "text/plain": [
       "          Entity Code  Year  Child mortality rates (%)    HIV Deaths  \\\n",
       "0    Afghanistan  AFG  2016                       7.04    302.166880   \n",
       "1        Albania  ALB  2016                       1.35      1.285800   \n",
       "2        Algeria  DZA  2016                       2.52    326.660742   \n",
       "3        Andorra  AND  2016                       0.27      0.441990   \n",
       "4         Angola  AGO  2016                       8.25  14584.702430   \n",
       "..           ...  ...   ...                        ...           ...   \n",
       "185    Venezuela  VEN  2016                       1.63   2127.569960   \n",
       "186      Vietnam  VNM  2016                       2.16  11434.047180   \n",
       "187        Yemen  YEM  2016                       5.53    387.383175   \n",
       "188       Zambia  ZMB  2016                       6.34  21806.824350   \n",
       "189     Zimbabwe  ZWE  2016                       5.64  16065.329680   \n",
       "\n",
       "     HIV Incidences  \n",
       "0        922.173458  \n",
       "1          3.030192  \n",
       "2        900.805751  \n",
       "3          4.594938  \n",
       "4      19017.694410  \n",
       "..              ...  \n",
       "185     8195.995527  \n",
       "186    19075.495980  \n",
       "187     1082.582833  \n",
       "188    46838.910870  \n",
       "189    56259.055940  \n",
       "\n",
       "[190 rows x 6 columns]"
      ],
      "text/html": "<div>\n<style scoped>\n    .dataframe tbody tr th:only-of-type {\n        vertical-align: middle;\n    }\n\n    .dataframe tbody tr th {\n        vertical-align: top;\n    }\n\n    .dataframe thead th {\n        text-align: right;\n    }\n</style>\n<table border=\"1\" class=\"dataframe\">\n  <thead>\n    <tr style=\"text-align: right;\">\n      <th></th>\n      <th>Entity</th>\n      <th>Code</th>\n      <th>Year</th>\n      <th>Child mortality rates (%)</th>\n      <th>HIV Deaths</th>\n      <th>HIV Incidences</th>\n    </tr>\n  </thead>\n  <tbody>\n    <tr>\n      <th>0</th>\n      <td>Afghanistan</td>\n      <td>AFG</td>\n      <td>2016</td>\n      <td>7.04</td>\n      <td>302.166880</td>\n      <td>922.173458</td>\n    </tr>\n    <tr>\n      <th>1</th>\n      <td>Albania</td>\n      <td>ALB</td>\n      <td>2016</td>\n      <td>1.35</td>\n      <td>1.285800</td>\n      <td>3.030192</td>\n    </tr>\n    <tr>\n      <th>2</th>\n      <td>Algeria</td>\n      <td>DZA</td>\n      <td>2016</td>\n      <td>2.52</td>\n      <td>326.660742</td>\n      <td>900.805751</td>\n    </tr>\n    <tr>\n      <th>3</th>\n      <td>Andorra</td>\n      <td>AND</td>\n      <td>2016</td>\n      <td>0.27</td>\n      <td>0.441990</td>\n      <td>4.594938</td>\n    </tr>\n    <tr>\n      <th>4</th>\n      <td>Angola</td>\n      <td>AGO</td>\n      <td>2016</td>\n      <td>8.25</td>\n      <td>14584.702430</td>\n      <td>19017.694410</td>\n    </tr>\n    <tr>\n      <th>...</th>\n      <td>...</td>\n      <td>...</td>\n      <td>...</td>\n      <td>...</td>\n      <td>...</td>\n      <td>...</td>\n    </tr>\n    <tr>\n      <th>185</th>\n      <td>Venezuela</td>\n      <td>VEN</td>\n      <td>2016</td>\n      <td>1.63</td>\n      <td>2127.569960</td>\n      <td>8195.995527</td>\n    </tr>\n    <tr>\n      <th>186</th>\n      <td>Vietnam</td>\n      <td>VNM</td>\n      <td>2016</td>\n      <td>2.16</td>\n      <td>11434.047180</td>\n      <td>19075.495980</td>\n    </tr>\n    <tr>\n      <th>187</th>\n      <td>Yemen</td>\n      <td>YEM</td>\n      <td>2016</td>\n      <td>5.53</td>\n      <td>387.383175</td>\n      <td>1082.582833</td>\n    </tr>\n    <tr>\n      <th>188</th>\n      <td>Zambia</td>\n      <td>ZMB</td>\n      <td>2016</td>\n      <td>6.34</td>\n      <td>21806.824350</td>\n      <td>46838.910870</td>\n    </tr>\n    <tr>\n      <th>189</th>\n      <td>Zimbabwe</td>\n      <td>ZWE</td>\n      <td>2016</td>\n      <td>5.64</td>\n      <td>16065.329680</td>\n      <td>56259.055940</td>\n    </tr>\n  </tbody>\n</table>\n<p>190 rows × 6 columns</p>\n</div>"
     },
     "metadata": {},
     "execution_count": 30
    }
   ],
   "source": [
    "# Creating a single CSV File for later visualisation\n",
    "merged_df = pd.merge(child_mortality2,hiv_deaths3, on='Entity', how='inner')\n",
    "merged_df"
   ]
  },
  {
   "cell_type": "code",
   "execution_count": 31,
   "metadata": {},
   "outputs": [
    {
     "output_type": "execute_result",
     "data": {
      "text/plain": [
       "          Entity Code  Year  Child mortality rates (%)    HIV Deaths  \\\n",
       "0    Afghanistan  AFG  2016                       7.04    302.166880   \n",
       "1        Albania  ALB  2016                       1.35      1.285800   \n",
       "2        Algeria  DZA  2016                       2.52    326.660742   \n",
       "3        Andorra  AND  2016                       0.27      0.441990   \n",
       "4         Angola  AGO  2016                       8.25  14584.702430   \n",
       "..           ...  ...   ...                        ...           ...   \n",
       "185    Venezuela  VEN  2016                       1.63   2127.569960   \n",
       "186      Vietnam  VNM  2016                       2.16  11434.047180   \n",
       "187        Yemen  YEM  2016                       5.53    387.383175   \n",
       "188       Zambia  ZMB  2016                       6.34  21806.824350   \n",
       "189     Zimbabwe  ZWE  2016                       5.64  16065.329680   \n",
       "\n",
       "     HIV Incidences  Life expectancy  \n",
       "0        922.173458           64.833  \n",
       "1          3.030192           78.573  \n",
       "2        900.805751           76.880  \n",
       "3          4.594938           83.732  \n",
       "4      19017.694410           61.147  \n",
       "..              ...              ...  \n",
       "185     8195.995527           72.064  \n",
       "186    19075.495980           75.400  \n",
       "187     1082.582833           66.125  \n",
       "188    46838.910870           63.886  \n",
       "189    56259.055940           61.490  \n",
       "\n",
       "[190 rows x 7 columns]"
      ],
      "text/html": "<div>\n<style scoped>\n    .dataframe tbody tr th:only-of-type {\n        vertical-align: middle;\n    }\n\n    .dataframe tbody tr th {\n        vertical-align: top;\n    }\n\n    .dataframe thead th {\n        text-align: right;\n    }\n</style>\n<table border=\"1\" class=\"dataframe\">\n  <thead>\n    <tr style=\"text-align: right;\">\n      <th></th>\n      <th>Entity</th>\n      <th>Code</th>\n      <th>Year</th>\n      <th>Child mortality rates (%)</th>\n      <th>HIV Deaths</th>\n      <th>HIV Incidences</th>\n      <th>Life expectancy</th>\n    </tr>\n  </thead>\n  <tbody>\n    <tr>\n      <th>0</th>\n      <td>Afghanistan</td>\n      <td>AFG</td>\n      <td>2016</td>\n      <td>7.04</td>\n      <td>302.166880</td>\n      <td>922.173458</td>\n      <td>64.833</td>\n    </tr>\n    <tr>\n      <th>1</th>\n      <td>Albania</td>\n      <td>ALB</td>\n      <td>2016</td>\n      <td>1.35</td>\n      <td>1.285800</td>\n      <td>3.030192</td>\n      <td>78.573</td>\n    </tr>\n    <tr>\n      <th>2</th>\n      <td>Algeria</td>\n      <td>DZA</td>\n      <td>2016</td>\n      <td>2.52</td>\n      <td>326.660742</td>\n      <td>900.805751</td>\n      <td>76.880</td>\n    </tr>\n    <tr>\n      <th>3</th>\n      <td>Andorra</td>\n      <td>AND</td>\n      <td>2016</td>\n      <td>0.27</td>\n      <td>0.441990</td>\n      <td>4.594938</td>\n      <td>83.732</td>\n    </tr>\n    <tr>\n      <th>4</th>\n      <td>Angola</td>\n      <td>AGO</td>\n      <td>2016</td>\n      <td>8.25</td>\n      <td>14584.702430</td>\n      <td>19017.694410</td>\n      <td>61.147</td>\n    </tr>\n    <tr>\n      <th>...</th>\n      <td>...</td>\n      <td>...</td>\n      <td>...</td>\n      <td>...</td>\n      <td>...</td>\n      <td>...</td>\n      <td>...</td>\n    </tr>\n    <tr>\n      <th>185</th>\n      <td>Venezuela</td>\n      <td>VEN</td>\n      <td>2016</td>\n      <td>1.63</td>\n      <td>2127.569960</td>\n      <td>8195.995527</td>\n      <td>72.064</td>\n    </tr>\n    <tr>\n      <th>186</th>\n      <td>Vietnam</td>\n      <td>VNM</td>\n      <td>2016</td>\n      <td>2.16</td>\n      <td>11434.047180</td>\n      <td>19075.495980</td>\n      <td>75.400</td>\n    </tr>\n    <tr>\n      <th>187</th>\n      <td>Yemen</td>\n      <td>YEM</td>\n      <td>2016</td>\n      <td>5.53</td>\n      <td>387.383175</td>\n      <td>1082.582833</td>\n      <td>66.125</td>\n    </tr>\n    <tr>\n      <th>188</th>\n      <td>Zambia</td>\n      <td>ZMB</td>\n      <td>2016</td>\n      <td>6.34</td>\n      <td>21806.824350</td>\n      <td>46838.910870</td>\n      <td>63.886</td>\n    </tr>\n    <tr>\n      <th>189</th>\n      <td>Zimbabwe</td>\n      <td>ZWE</td>\n      <td>2016</td>\n      <td>5.64</td>\n      <td>16065.329680</td>\n      <td>56259.055940</td>\n      <td>61.490</td>\n    </tr>\n  </tbody>\n</table>\n<p>190 rows × 7 columns</p>\n</div>"
     },
     "metadata": {},
     "execution_count": 31
    }
   ],
   "source": [
    "# Merging with Life Expectency Dataframe\n",
    "merged_df1 = pd.merge(merged_df, life_expectency2, how='inner', on='Entity')\n",
    "merged_df1"
   ]
  },
  {
   "cell_type": "code",
   "execution_count": 32,
   "metadata": {},
   "outputs": [
    {
     "output_type": "execute_result",
     "data": {
      "text/plain": [
       "          Entity Code  Year  Child mortality rates (%)    HIV Deaths  \\\n",
       "0    Afghanistan  AFG  2016                       7.04    302.166880   \n",
       "1        Albania  ALB  2016                       1.35      1.285800   \n",
       "2        Algeria  DZA  2016                       2.52    326.660742   \n",
       "3        Andorra  AND  2016                       0.27      0.441990   \n",
       "4         Angola  AGO  2016                       8.25  14584.702430   \n",
       "..           ...  ...   ...                        ...           ...   \n",
       "185    Venezuela  VEN  2016                       1.63   2127.569960   \n",
       "186      Vietnam  VNM  2016                       2.16  11434.047180   \n",
       "187        Yemen  YEM  2016                       5.53    387.383175   \n",
       "188       Zambia  ZMB  2016                       6.34  21806.824350   \n",
       "189     Zimbabwe  ZWE  2016                       5.64  16065.329680   \n",
       "\n",
       "     HIV Incidences  Life expectancy  Population  \n",
       "0        922.173458           64.833    38042000  \n",
       "1          3.030192           78.573     2881000  \n",
       "2        900.805751           76.880    43053000  \n",
       "3          4.594938           83.732       77000  \n",
       "4      19017.694410           61.147    31825000  \n",
       "..              ...              ...         ...  \n",
       "185     8195.995527           72.064    28516000  \n",
       "186    19075.495980           75.400    96462000  \n",
       "187     1082.582833           66.125    29162000  \n",
       "188    46838.910870           63.886    17861000  \n",
       "189    56259.055940           61.490    14645000  \n",
       "\n",
       "[190 rows x 8 columns]"
      ],
      "text/html": "<div>\n<style scoped>\n    .dataframe tbody tr th:only-of-type {\n        vertical-align: middle;\n    }\n\n    .dataframe tbody tr th {\n        vertical-align: top;\n    }\n\n    .dataframe thead th {\n        text-align: right;\n    }\n</style>\n<table border=\"1\" class=\"dataframe\">\n  <thead>\n    <tr style=\"text-align: right;\">\n      <th></th>\n      <th>Entity</th>\n      <th>Code</th>\n      <th>Year</th>\n      <th>Child mortality rates (%)</th>\n      <th>HIV Deaths</th>\n      <th>HIV Incidences</th>\n      <th>Life expectancy</th>\n      <th>Population</th>\n    </tr>\n  </thead>\n  <tbody>\n    <tr>\n      <th>0</th>\n      <td>Afghanistan</td>\n      <td>AFG</td>\n      <td>2016</td>\n      <td>7.04</td>\n      <td>302.166880</td>\n      <td>922.173458</td>\n      <td>64.833</td>\n      <td>38042000</td>\n    </tr>\n    <tr>\n      <th>1</th>\n      <td>Albania</td>\n      <td>ALB</td>\n      <td>2016</td>\n      <td>1.35</td>\n      <td>1.285800</td>\n      <td>3.030192</td>\n      <td>78.573</td>\n      <td>2881000</td>\n    </tr>\n    <tr>\n      <th>2</th>\n      <td>Algeria</td>\n      <td>DZA</td>\n      <td>2016</td>\n      <td>2.52</td>\n      <td>326.660742</td>\n      <td>900.805751</td>\n      <td>76.880</td>\n      <td>43053000</td>\n    </tr>\n    <tr>\n      <th>3</th>\n      <td>Andorra</td>\n      <td>AND</td>\n      <td>2016</td>\n      <td>0.27</td>\n      <td>0.441990</td>\n      <td>4.594938</td>\n      <td>83.732</td>\n      <td>77000</td>\n    </tr>\n    <tr>\n      <th>4</th>\n      <td>Angola</td>\n      <td>AGO</td>\n      <td>2016</td>\n      <td>8.25</td>\n      <td>14584.702430</td>\n      <td>19017.694410</td>\n      <td>61.147</td>\n      <td>31825000</td>\n    </tr>\n    <tr>\n      <th>...</th>\n      <td>...</td>\n      <td>...</td>\n      <td>...</td>\n      <td>...</td>\n      <td>...</td>\n      <td>...</td>\n      <td>...</td>\n      <td>...</td>\n    </tr>\n    <tr>\n      <th>185</th>\n      <td>Venezuela</td>\n      <td>VEN</td>\n      <td>2016</td>\n      <td>1.63</td>\n      <td>2127.569960</td>\n      <td>8195.995527</td>\n      <td>72.064</td>\n      <td>28516000</td>\n    </tr>\n    <tr>\n      <th>186</th>\n      <td>Vietnam</td>\n      <td>VNM</td>\n      <td>2016</td>\n      <td>2.16</td>\n      <td>11434.047180</td>\n      <td>19075.495980</td>\n      <td>75.400</td>\n      <td>96462000</td>\n    </tr>\n    <tr>\n      <th>187</th>\n      <td>Yemen</td>\n      <td>YEM</td>\n      <td>2016</td>\n      <td>5.53</td>\n      <td>387.383175</td>\n      <td>1082.582833</td>\n      <td>66.125</td>\n      <td>29162000</td>\n    </tr>\n    <tr>\n      <th>188</th>\n      <td>Zambia</td>\n      <td>ZMB</td>\n      <td>2016</td>\n      <td>6.34</td>\n      <td>21806.824350</td>\n      <td>46838.910870</td>\n      <td>63.886</td>\n      <td>17861000</td>\n    </tr>\n    <tr>\n      <th>189</th>\n      <td>Zimbabwe</td>\n      <td>ZWE</td>\n      <td>2016</td>\n      <td>5.64</td>\n      <td>16065.329680</td>\n      <td>56259.055940</td>\n      <td>61.490</td>\n      <td>14645000</td>\n    </tr>\n  </tbody>\n</table>\n<p>190 rows × 8 columns</p>\n</div>"
     },
     "metadata": {},
     "execution_count": 32
    }
   ],
   "source": [
    "# Merging with population\n",
    "merged_df2 = pd.merge(merged_df1,population3, how='inner', on='Entity')\n",
    "merged_df2"
   ]
  },
  {
   "cell_type": "code",
   "execution_count": 33,
   "metadata": {},
   "outputs": [
    {
     "output_type": "execute_result",
     "data": {
      "text/plain": [
       "          Entity Code  Year  Child mortality rates (%)    HIV Deaths  \\\n",
       "0    Afghanistan  AFG  2016                       7.04    302.166880   \n",
       "1        Albania  ALB  2016                       1.35      1.285800   \n",
       "2        Algeria  DZA  2016                       2.52    326.660742   \n",
       "3        Andorra  AND  2016                       0.27      0.441990   \n",
       "4         Angola  AGO  2016                       8.25  14584.702430   \n",
       "..           ...  ...   ...                        ...           ...   \n",
       "185    Venezuela  VEN  2016                       1.63   2127.569960   \n",
       "186      Vietnam  VNM  2016                       2.16  11434.047180   \n",
       "187        Yemen  YEM  2016                       5.53    387.383175   \n",
       "188       Zambia  ZMB  2016                       6.34  21806.824350   \n",
       "189     Zimbabwe  ZWE  2016                       5.64  16065.329680   \n",
       "\n",
       "     HIV Incidences  Life expectancy  Population  Cardiovascular Deaths %  \n",
       "0        922.173458           64.833    38042000                24.780577  \n",
       "1          3.030192           78.573     2881000                55.822085  \n",
       "2        900.805751           76.880    43053000                47.284557  \n",
       "3          4.594938           83.732       77000                30.647196  \n",
       "4      19017.694410           61.147    31825000                11.828254  \n",
       "..              ...              ...         ...                      ...  \n",
       "185     8195.995527           72.064    28516000                30.540530  \n",
       "186    19075.495980           75.400    96462000                33.177107  \n",
       "187     1082.582833           66.125    29162000                32.373980  \n",
       "188    46838.910870           63.886    17861000                10.277008  \n",
       "189    56259.055940           61.490    14645000                14.430736  \n",
       "\n",
       "[190 rows x 9 columns]"
      ],
      "text/html": "<div>\n<style scoped>\n    .dataframe tbody tr th:only-of-type {\n        vertical-align: middle;\n    }\n\n    .dataframe tbody tr th {\n        vertical-align: top;\n    }\n\n    .dataframe thead th {\n        text-align: right;\n    }\n</style>\n<table border=\"1\" class=\"dataframe\">\n  <thead>\n    <tr style=\"text-align: right;\">\n      <th></th>\n      <th>Entity</th>\n      <th>Code</th>\n      <th>Year</th>\n      <th>Child mortality rates (%)</th>\n      <th>HIV Deaths</th>\n      <th>HIV Incidences</th>\n      <th>Life expectancy</th>\n      <th>Population</th>\n      <th>Cardiovascular Deaths %</th>\n    </tr>\n  </thead>\n  <tbody>\n    <tr>\n      <th>0</th>\n      <td>Afghanistan</td>\n      <td>AFG</td>\n      <td>2016</td>\n      <td>7.04</td>\n      <td>302.166880</td>\n      <td>922.173458</td>\n      <td>64.833</td>\n      <td>38042000</td>\n      <td>24.780577</td>\n    </tr>\n    <tr>\n      <th>1</th>\n      <td>Albania</td>\n      <td>ALB</td>\n      <td>2016</td>\n      <td>1.35</td>\n      <td>1.285800</td>\n      <td>3.030192</td>\n      <td>78.573</td>\n      <td>2881000</td>\n      <td>55.822085</td>\n    </tr>\n    <tr>\n      <th>2</th>\n      <td>Algeria</td>\n      <td>DZA</td>\n      <td>2016</td>\n      <td>2.52</td>\n      <td>326.660742</td>\n      <td>900.805751</td>\n      <td>76.880</td>\n      <td>43053000</td>\n      <td>47.284557</td>\n    </tr>\n    <tr>\n      <th>3</th>\n      <td>Andorra</td>\n      <td>AND</td>\n      <td>2016</td>\n      <td>0.27</td>\n      <td>0.441990</td>\n      <td>4.594938</td>\n      <td>83.732</td>\n      <td>77000</td>\n      <td>30.647196</td>\n    </tr>\n    <tr>\n      <th>4</th>\n      <td>Angola</td>\n      <td>AGO</td>\n      <td>2016</td>\n      <td>8.25</td>\n      <td>14584.702430</td>\n      <td>19017.694410</td>\n      <td>61.147</td>\n      <td>31825000</td>\n      <td>11.828254</td>\n    </tr>\n    <tr>\n      <th>...</th>\n      <td>...</td>\n      <td>...</td>\n      <td>...</td>\n      <td>...</td>\n      <td>...</td>\n      <td>...</td>\n      <td>...</td>\n      <td>...</td>\n      <td>...</td>\n    </tr>\n    <tr>\n      <th>185</th>\n      <td>Venezuela</td>\n      <td>VEN</td>\n      <td>2016</td>\n      <td>1.63</td>\n      <td>2127.569960</td>\n      <td>8195.995527</td>\n      <td>72.064</td>\n      <td>28516000</td>\n      <td>30.540530</td>\n    </tr>\n    <tr>\n      <th>186</th>\n      <td>Vietnam</td>\n      <td>VNM</td>\n      <td>2016</td>\n      <td>2.16</td>\n      <td>11434.047180</td>\n      <td>19075.495980</td>\n      <td>75.400</td>\n      <td>96462000</td>\n      <td>33.177107</td>\n    </tr>\n    <tr>\n      <th>187</th>\n      <td>Yemen</td>\n      <td>YEM</td>\n      <td>2016</td>\n      <td>5.53</td>\n      <td>387.383175</td>\n      <td>1082.582833</td>\n      <td>66.125</td>\n      <td>29162000</td>\n      <td>32.373980</td>\n    </tr>\n    <tr>\n      <th>188</th>\n      <td>Zambia</td>\n      <td>ZMB</td>\n      <td>2016</td>\n      <td>6.34</td>\n      <td>21806.824350</td>\n      <td>46838.910870</td>\n      <td>63.886</td>\n      <td>17861000</td>\n      <td>10.277008</td>\n    </tr>\n    <tr>\n      <th>189</th>\n      <td>Zimbabwe</td>\n      <td>ZWE</td>\n      <td>2016</td>\n      <td>5.64</td>\n      <td>16065.329680</td>\n      <td>56259.055940</td>\n      <td>61.490</td>\n      <td>14645000</td>\n      <td>14.430736</td>\n    </tr>\n  </tbody>\n</table>\n<p>190 rows × 9 columns</p>\n</div>"
     },
     "metadata": {},
     "execution_count": 33
    }
   ],
   "source": [
    "# Merging with Heart Disease\n",
    "merged_df3 = pd.merge(merged_df2, heart_disease2, on='Entity', how='inner')\n",
    "merged_df3"
   ]
  },
  {
   "cell_type": "code",
   "execution_count": 34,
   "metadata": {},
   "outputs": [
    {
     "output_type": "execute_result",
     "data": {
      "text/plain": [
       "          Entity Code  Year  Child mortality rates (%)    HIV Deaths  \\\n",
       "0    Afghanistan  AFG  2016                       7.04    302.166880   \n",
       "1        Albania  ALB  2016                       1.35      1.285800   \n",
       "2        Algeria  DZA  2016                       2.52    326.660742   \n",
       "3        Andorra  AND  2016                       0.27      0.441990   \n",
       "4         Angola  AGO  2016                       8.25  14584.702430   \n",
       "..           ...  ...   ...                        ...           ...   \n",
       "185    Venezuela  VEN  2016                       1.63   2127.569960   \n",
       "186      Vietnam  VNM  2016                       2.16  11434.047180   \n",
       "187        Yemen  YEM  2016                       5.53    387.383175   \n",
       "188       Zambia  ZMB  2016                       6.34  21806.824350   \n",
       "189     Zimbabwe  ZWE  2016                       5.64  16065.329680   \n",
       "\n",
       "     HIV Incidences  Life expectancy  Population  Cardiovascular Deaths %  \\\n",
       "0        922.173458           64.833    38042000                24.780577   \n",
       "1          3.030192           78.573     2881000                55.822085   \n",
       "2        900.805751           76.880    43053000                47.284557   \n",
       "3          4.594938           83.732       77000                30.647196   \n",
       "4      19017.694410           61.147    31825000                11.828254   \n",
       "..              ...              ...         ...                      ...   \n",
       "185     8195.995527           72.064    28516000                30.540530   \n",
       "186    19075.495980           75.400    96462000                33.177107   \n",
       "187     1082.582833           66.125    29162000                32.373980   \n",
       "188    46838.910870           63.886    17861000                10.277008   \n",
       "189    56259.055940           61.490    14645000                14.430736   \n",
       "\n",
       "        TB Deaths  \n",
       "0     3634.060664  \n",
       "1       11.986996  \n",
       "2      417.069297  \n",
       "3        0.357184  \n",
       "4    11409.417530  \n",
       "..            ...  \n",
       "185    786.710928  \n",
       "186  17594.454380  \n",
       "187   1021.099125  \n",
       "188   8306.847486  \n",
       "189  11958.066530  \n",
       "\n",
       "[190 rows x 10 columns]"
      ],
      "text/html": "<div>\n<style scoped>\n    .dataframe tbody tr th:only-of-type {\n        vertical-align: middle;\n    }\n\n    .dataframe tbody tr th {\n        vertical-align: top;\n    }\n\n    .dataframe thead th {\n        text-align: right;\n    }\n</style>\n<table border=\"1\" class=\"dataframe\">\n  <thead>\n    <tr style=\"text-align: right;\">\n      <th></th>\n      <th>Entity</th>\n      <th>Code</th>\n      <th>Year</th>\n      <th>Child mortality rates (%)</th>\n      <th>HIV Deaths</th>\n      <th>HIV Incidences</th>\n      <th>Life expectancy</th>\n      <th>Population</th>\n      <th>Cardiovascular Deaths %</th>\n      <th>TB Deaths</th>\n    </tr>\n  </thead>\n  <tbody>\n    <tr>\n      <th>0</th>\n      <td>Afghanistan</td>\n      <td>AFG</td>\n      <td>2016</td>\n      <td>7.04</td>\n      <td>302.166880</td>\n      <td>922.173458</td>\n      <td>64.833</td>\n      <td>38042000</td>\n      <td>24.780577</td>\n      <td>3634.060664</td>\n    </tr>\n    <tr>\n      <th>1</th>\n      <td>Albania</td>\n      <td>ALB</td>\n      <td>2016</td>\n      <td>1.35</td>\n      <td>1.285800</td>\n      <td>3.030192</td>\n      <td>78.573</td>\n      <td>2881000</td>\n      <td>55.822085</td>\n      <td>11.986996</td>\n    </tr>\n    <tr>\n      <th>2</th>\n      <td>Algeria</td>\n      <td>DZA</td>\n      <td>2016</td>\n      <td>2.52</td>\n      <td>326.660742</td>\n      <td>900.805751</td>\n      <td>76.880</td>\n      <td>43053000</td>\n      <td>47.284557</td>\n      <td>417.069297</td>\n    </tr>\n    <tr>\n      <th>3</th>\n      <td>Andorra</td>\n      <td>AND</td>\n      <td>2016</td>\n      <td>0.27</td>\n      <td>0.441990</td>\n      <td>4.594938</td>\n      <td>83.732</td>\n      <td>77000</td>\n      <td>30.647196</td>\n      <td>0.357184</td>\n    </tr>\n    <tr>\n      <th>4</th>\n      <td>Angola</td>\n      <td>AGO</td>\n      <td>2016</td>\n      <td>8.25</td>\n      <td>14584.702430</td>\n      <td>19017.694410</td>\n      <td>61.147</td>\n      <td>31825000</td>\n      <td>11.828254</td>\n      <td>11409.417530</td>\n    </tr>\n    <tr>\n      <th>...</th>\n      <td>...</td>\n      <td>...</td>\n      <td>...</td>\n      <td>...</td>\n      <td>...</td>\n      <td>...</td>\n      <td>...</td>\n      <td>...</td>\n      <td>...</td>\n      <td>...</td>\n    </tr>\n    <tr>\n      <th>185</th>\n      <td>Venezuela</td>\n      <td>VEN</td>\n      <td>2016</td>\n      <td>1.63</td>\n      <td>2127.569960</td>\n      <td>8195.995527</td>\n      <td>72.064</td>\n      <td>28516000</td>\n      <td>30.540530</td>\n      <td>786.710928</td>\n    </tr>\n    <tr>\n      <th>186</th>\n      <td>Vietnam</td>\n      <td>VNM</td>\n      <td>2016</td>\n      <td>2.16</td>\n      <td>11434.047180</td>\n      <td>19075.495980</td>\n      <td>75.400</td>\n      <td>96462000</td>\n      <td>33.177107</td>\n      <td>17594.454380</td>\n    </tr>\n    <tr>\n      <th>187</th>\n      <td>Yemen</td>\n      <td>YEM</td>\n      <td>2016</td>\n      <td>5.53</td>\n      <td>387.383175</td>\n      <td>1082.582833</td>\n      <td>66.125</td>\n      <td>29162000</td>\n      <td>32.373980</td>\n      <td>1021.099125</td>\n    </tr>\n    <tr>\n      <th>188</th>\n      <td>Zambia</td>\n      <td>ZMB</td>\n      <td>2016</td>\n      <td>6.34</td>\n      <td>21806.824350</td>\n      <td>46838.910870</td>\n      <td>63.886</td>\n      <td>17861000</td>\n      <td>10.277008</td>\n      <td>8306.847486</td>\n    </tr>\n    <tr>\n      <th>189</th>\n      <td>Zimbabwe</td>\n      <td>ZWE</td>\n      <td>2016</td>\n      <td>5.64</td>\n      <td>16065.329680</td>\n      <td>56259.055940</td>\n      <td>61.490</td>\n      <td>14645000</td>\n      <td>14.430736</td>\n      <td>11958.066530</td>\n    </tr>\n  </tbody>\n</table>\n<p>190 rows × 10 columns</p>\n</div>"
     },
     "metadata": {},
     "execution_count": 34
    }
   ],
   "source": [
    "# Merging with the TB Data\n",
    "merged_df4 = pd.merge(merged_df3, tuberculosis2, how='inner', on='Entity')\n",
    "merged_df4"
   ]
  },
  {
   "cell_type": "code",
   "execution_count": 36,
   "metadata": {},
   "outputs": [
    {
     "output_type": "execute_result",
     "data": {
      "text/plain": [
       "          Entity Code  Year  Child mortality rates (%)    HIV Deaths  \\\n",
       "0    Afghanistan  AFG  2016                       7.04    302.166880   \n",
       "1        Albania  ALB  2016                       1.35      1.285800   \n",
       "2        Algeria  DZA  2016                       2.52    326.660742   \n",
       "3        Andorra  AND  2016                       0.27      0.441990   \n",
       "4         Angola  AGO  2016                       8.25  14584.702430   \n",
       "..           ...  ...   ...                        ...           ...   \n",
       "185    Venezuela  VEN  2016                       1.63   2127.569960   \n",
       "186      Vietnam  VNM  2016                       2.16  11434.047180   \n",
       "187        Yemen  YEM  2016                       5.53    387.383175   \n",
       "188       Zambia  ZMB  2016                       6.34  21806.824350   \n",
       "189     Zimbabwe  ZWE  2016                       5.64  16065.329680   \n",
       "\n",
       "     HIV Incidences  Life expectancy  Population  Cardiovascular Deaths %  \\\n",
       "0        922.173458           64.833    38042000                24.780577   \n",
       "1          3.030192           78.573     2881000                55.822085   \n",
       "2        900.805751           76.880    43053000                47.284557   \n",
       "3          4.594938           83.732       77000                30.647196   \n",
       "4      19017.694410           61.147    31825000                11.828254   \n",
       "..              ...              ...         ...                      ...   \n",
       "185     8195.995527           72.064    28516000                30.540530   \n",
       "186    19075.495980           75.400    96462000                33.177107   \n",
       "187     1082.582833           66.125    29162000                32.373980   \n",
       "188    46838.910870           63.886    17861000                10.277008   \n",
       "189    56259.055940           61.490    14645000                14.430736   \n",
       "\n",
       "        TB Deaths  TB Deaths (%)  \n",
       "0     3634.060664       0.009553  \n",
       "1       11.986996       0.000416  \n",
       "2      417.069297       0.000969  \n",
       "3        0.357184       0.000464  \n",
       "4    11409.417530       0.035850  \n",
       "..            ...            ...  \n",
       "185    786.710928       0.002759  \n",
       "186  17594.454380       0.018240  \n",
       "187   1021.099125       0.003501  \n",
       "188   8306.847486       0.046508  \n",
       "189  11958.066530       0.081653  \n",
       "\n",
       "[190 rows x 11 columns]"
      ],
      "text/html": "<div>\n<style scoped>\n    .dataframe tbody tr th:only-of-type {\n        vertical-align: middle;\n    }\n\n    .dataframe tbody tr th {\n        vertical-align: top;\n    }\n\n    .dataframe thead th {\n        text-align: right;\n    }\n</style>\n<table border=\"1\" class=\"dataframe\">\n  <thead>\n    <tr style=\"text-align: right;\">\n      <th></th>\n      <th>Entity</th>\n      <th>Code</th>\n      <th>Year</th>\n      <th>Child mortality rates (%)</th>\n      <th>HIV Deaths</th>\n      <th>HIV Incidences</th>\n      <th>Life expectancy</th>\n      <th>Population</th>\n      <th>Cardiovascular Deaths %</th>\n      <th>TB Deaths</th>\n      <th>TB Deaths (%)</th>\n    </tr>\n  </thead>\n  <tbody>\n    <tr>\n      <th>0</th>\n      <td>Afghanistan</td>\n      <td>AFG</td>\n      <td>2016</td>\n      <td>7.04</td>\n      <td>302.166880</td>\n      <td>922.173458</td>\n      <td>64.833</td>\n      <td>38042000</td>\n      <td>24.780577</td>\n      <td>3634.060664</td>\n      <td>0.009553</td>\n    </tr>\n    <tr>\n      <th>1</th>\n      <td>Albania</td>\n      <td>ALB</td>\n      <td>2016</td>\n      <td>1.35</td>\n      <td>1.285800</td>\n      <td>3.030192</td>\n      <td>78.573</td>\n      <td>2881000</td>\n      <td>55.822085</td>\n      <td>11.986996</td>\n      <td>0.000416</td>\n    </tr>\n    <tr>\n      <th>2</th>\n      <td>Algeria</td>\n      <td>DZA</td>\n      <td>2016</td>\n      <td>2.52</td>\n      <td>326.660742</td>\n      <td>900.805751</td>\n      <td>76.880</td>\n      <td>43053000</td>\n      <td>47.284557</td>\n      <td>417.069297</td>\n      <td>0.000969</td>\n    </tr>\n    <tr>\n      <th>3</th>\n      <td>Andorra</td>\n      <td>AND</td>\n      <td>2016</td>\n      <td>0.27</td>\n      <td>0.441990</td>\n      <td>4.594938</td>\n      <td>83.732</td>\n      <td>77000</td>\n      <td>30.647196</td>\n      <td>0.357184</td>\n      <td>0.000464</td>\n    </tr>\n    <tr>\n      <th>4</th>\n      <td>Angola</td>\n      <td>AGO</td>\n      <td>2016</td>\n      <td>8.25</td>\n      <td>14584.702430</td>\n      <td>19017.694410</td>\n      <td>61.147</td>\n      <td>31825000</td>\n      <td>11.828254</td>\n      <td>11409.417530</td>\n      <td>0.035850</td>\n    </tr>\n    <tr>\n      <th>...</th>\n      <td>...</td>\n      <td>...</td>\n      <td>...</td>\n      <td>...</td>\n      <td>...</td>\n      <td>...</td>\n      <td>...</td>\n      <td>...</td>\n      <td>...</td>\n      <td>...</td>\n      <td>...</td>\n    </tr>\n    <tr>\n      <th>185</th>\n      <td>Venezuela</td>\n      <td>VEN</td>\n      <td>2016</td>\n      <td>1.63</td>\n      <td>2127.569960</td>\n      <td>8195.995527</td>\n      <td>72.064</td>\n      <td>28516000</td>\n      <td>30.540530</td>\n      <td>786.710928</td>\n      <td>0.002759</td>\n    </tr>\n    <tr>\n      <th>186</th>\n      <td>Vietnam</td>\n      <td>VNM</td>\n      <td>2016</td>\n      <td>2.16</td>\n      <td>11434.047180</td>\n      <td>19075.495980</td>\n      <td>75.400</td>\n      <td>96462000</td>\n      <td>33.177107</td>\n      <td>17594.454380</td>\n      <td>0.018240</td>\n    </tr>\n    <tr>\n      <th>187</th>\n      <td>Yemen</td>\n      <td>YEM</td>\n      <td>2016</td>\n      <td>5.53</td>\n      <td>387.383175</td>\n      <td>1082.582833</td>\n      <td>66.125</td>\n      <td>29162000</td>\n      <td>32.373980</td>\n      <td>1021.099125</td>\n      <td>0.003501</td>\n    </tr>\n    <tr>\n      <th>188</th>\n      <td>Zambia</td>\n      <td>ZMB</td>\n      <td>2016</td>\n      <td>6.34</td>\n      <td>21806.824350</td>\n      <td>46838.910870</td>\n      <td>63.886</td>\n      <td>17861000</td>\n      <td>10.277008</td>\n      <td>8306.847486</td>\n      <td>0.046508</td>\n    </tr>\n    <tr>\n      <th>189</th>\n      <td>Zimbabwe</td>\n      <td>ZWE</td>\n      <td>2016</td>\n      <td>5.64</td>\n      <td>16065.329680</td>\n      <td>56259.055940</td>\n      <td>61.490</td>\n      <td>14645000</td>\n      <td>14.430736</td>\n      <td>11958.066530</td>\n      <td>0.081653</td>\n    </tr>\n  </tbody>\n</table>\n<p>190 rows × 11 columns</p>\n</div>"
     },
     "metadata": {},
     "execution_count": 36
    }
   ],
   "source": [
    "# Converting percentages to absolute numbers\n",
    "# HIV Deaths and Incidences, and TB deaths are numbers per 100,000. These will be converted to percentages of population\n",
    "\n",
    "merged_df4['TB Deaths (%)'] = ((merged_df4['TB Deaths']/merged_df4['Population']))*100\n",
    "merged_df4"
   ]
  },
  {
   "cell_type": "code",
   "execution_count": null,
   "metadata": {},
   "outputs": [],
   "source": []
  }
 ]
}