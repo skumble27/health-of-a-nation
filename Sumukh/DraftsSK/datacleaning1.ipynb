{
 "metadata": {
  "language_info": {
   "codemirror_mode": {
    "name": "ipython",
    "version": 3
   },
   "file_extension": ".py",
   "mimetype": "text/x-python",
   "name": "python",
   "nbconvert_exporter": "python",
   "pygments_lexer": "ipython3",
   "version": "3.6.12-final"
  },
  "orig_nbformat": 2,
  "kernelspec": {
   "name": "python361264bitbootcampmonashconda2e6efb6a376242db90ce542f5ab8dbba",
   "display_name": "Python 3.6.12 64-bit ('BootCampMonash': conda)",
   "language": "python"
  }
 },
 "nbformat": 4,
 "nbformat_minor": 2,
 "cells": [
  {
   "cell_type": "code",
   "execution_count": 6,
   "metadata": {},
   "outputs": [],
   "source": [
    "# Importing the pandas module for data cleaning\n",
    "import pandas as pd"
   ]
  },
  {
   "source": [
    "# Reading the data frames for agriculture\n"
   ],
   "cell_type": "markdown",
   "metadata": {}
  },
  {
   "cell_type": "code",
   "execution_count": 7,
   "metadata": {},
   "outputs": [
    {
     "output_type": "execute_result",
     "data": {
      "text/plain": [
       "           Entity Code  Year  \\\n",
       "0     Afghanistan  AFG  2002   \n",
       "1     Afghanistan  AFG  2003   \n",
       "2     Afghanistan  AFG  2004   \n",
       "3     Afghanistan  AFG  2005   \n",
       "4     Afghanistan  AFG  2006   \n",
       "...           ...  ...   ...   \n",
       "5228     Zimbabwe  ZWE  2013   \n",
       "5229     Zimbabwe  ZWE  2014   \n",
       "5230     Zimbabwe  ZWE  2015   \n",
       "5231     Zimbabwe  ZWE  2016   \n",
       "5232     Zimbabwe  ZWE  2017   \n",
       "\n",
       "      Agriculture, value added per worker (constant 2010 US$)  \n",
       "0                                            872.846684        \n",
       "1                                            856.625361        \n",
       "2                                            657.038803        \n",
       "3                                            724.391297        \n",
       "4                                            686.918524        \n",
       "...                                                 ...        \n",
       "5228                                         269.582684        \n",
       "5229                                         317.117440        \n",
       "5230                                         293.152050        \n",
       "5231                                         274.353843        \n",
       "5232                                         300.529041        \n",
       "\n",
       "[5233 rows x 4 columns]"
      ],
      "text/html": "<div>\n<style scoped>\n    .dataframe tbody tr th:only-of-type {\n        vertical-align: middle;\n    }\n\n    .dataframe tbody tr th {\n        vertical-align: top;\n    }\n\n    .dataframe thead th {\n        text-align: right;\n    }\n</style>\n<table border=\"1\" class=\"dataframe\">\n  <thead>\n    <tr style=\"text-align: right;\">\n      <th></th>\n      <th>Entity</th>\n      <th>Code</th>\n      <th>Year</th>\n      <th>Agriculture, value added per worker (constant 2010 US$)</th>\n    </tr>\n  </thead>\n  <tbody>\n    <tr>\n      <th>0</th>\n      <td>Afghanistan</td>\n      <td>AFG</td>\n      <td>2002</td>\n      <td>872.846684</td>\n    </tr>\n    <tr>\n      <th>1</th>\n      <td>Afghanistan</td>\n      <td>AFG</td>\n      <td>2003</td>\n      <td>856.625361</td>\n    </tr>\n    <tr>\n      <th>2</th>\n      <td>Afghanistan</td>\n      <td>AFG</td>\n      <td>2004</td>\n      <td>657.038803</td>\n    </tr>\n    <tr>\n      <th>3</th>\n      <td>Afghanistan</td>\n      <td>AFG</td>\n      <td>2005</td>\n      <td>724.391297</td>\n    </tr>\n    <tr>\n      <th>4</th>\n      <td>Afghanistan</td>\n      <td>AFG</td>\n      <td>2006</td>\n      <td>686.918524</td>\n    </tr>\n    <tr>\n      <th>...</th>\n      <td>...</td>\n      <td>...</td>\n      <td>...</td>\n      <td>...</td>\n    </tr>\n    <tr>\n      <th>5228</th>\n      <td>Zimbabwe</td>\n      <td>ZWE</td>\n      <td>2013</td>\n      <td>269.582684</td>\n    </tr>\n    <tr>\n      <th>5229</th>\n      <td>Zimbabwe</td>\n      <td>ZWE</td>\n      <td>2014</td>\n      <td>317.117440</td>\n    </tr>\n    <tr>\n      <th>5230</th>\n      <td>Zimbabwe</td>\n      <td>ZWE</td>\n      <td>2015</td>\n      <td>293.152050</td>\n    </tr>\n    <tr>\n      <th>5231</th>\n      <td>Zimbabwe</td>\n      <td>ZWE</td>\n      <td>2016</td>\n      <td>274.353843</td>\n    </tr>\n    <tr>\n      <th>5232</th>\n      <td>Zimbabwe</td>\n      <td>ZWE</td>\n      <td>2017</td>\n      <td>300.529041</td>\n    </tr>\n  </tbody>\n</table>\n<p>5233 rows × 4 columns</p>\n</div>"
     },
     "metadata": {},
     "execution_count": 7
    }
   ],
   "source": [
    "agri_df_value = pd.read_csv('static/Dataset/agriculturaldata/agriculture-value-added-per-worker-wdi.csv')\n",
    "agri_df_value"
   ]
  },
  {
   "cell_type": "code",
   "execution_count": 8,
   "metadata": {},
   "outputs": [
    {
     "output_type": "execute_result",
     "data": {
      "text/plain": [
       "Index(['Entity', 'Code', 'Year',\n",
       "       'Agriculture, value added per worker (constant 2010 US$)'],\n",
       "      dtype='object')"
      ]
     },
     "metadata": {},
     "execution_count": 8
    }
   ],
   "source": [
    "agri_df_value.columns"
   ]
  },
  {
   "cell_type": "code",
   "execution_count": 10,
   "metadata": {},
   "outputs": [
    {
     "output_type": "execute_result",
     "data": {
      "text/plain": [
       "    Domain Code Domain  Area Code         Area  Element Code Element  \\\n",
       "0            QC  Crops          2  Afghanistan          5419   Yield   \n",
       "1            QC  Crops          3      Albania          5419   Yield   \n",
       "2            QC  Crops          3      Albania          5419   Yield   \n",
       "3            QC  Crops          4      Algeria          5419   Yield   \n",
       "4            QC  Crops          4      Algeria          5419   Yield   \n",
       "..          ...    ...        ...          ...           ...     ...   \n",
       "403          QC  Crops        251       Zambia          5419   Yield   \n",
       "404          QC  Crops        181     Zimbabwe          5419   Yield   \n",
       "405          QC  Crops        181     Zimbabwe          5419   Yield   \n",
       "406          QC  Crops        181     Zimbabwe          5419   Yield   \n",
       "407          QC  Crops        181     Zimbabwe          5419   Yield   \n",
       "\n",
       "     Item Code     Item  Year Code  Year   Unit  Value Flag Flag Description  \n",
       "0          328   Cotton       2018  2018  hg/ha  10000   Fc  Calculated data  \n",
       "1          328   Cotton       2018  2018  hg/ha  11081   Fc  Calculated data  \n",
       "2          826  Tobacco       2018  2018  hg/ha  16863   Fc  Calculated data  \n",
       "3          328   Cotton       2018  2018  hg/ha   3077   Fc  Calculated data  \n",
       "4          826  Tobacco       2018  2018  hg/ha  20967   Fc  Calculated data  \n",
       "..         ...      ...        ...   ...    ...    ...  ...              ...  \n",
       "403        826  Tobacco       2018  2018  hg/ha  17659   Fc  Calculated data  \n",
       "404        656   Coffee       2018  2018  hg/ha   2419   Fc  Calculated data  \n",
       "405        328   Cotton       2018  2018  hg/ha   5625   Fc  Calculated data  \n",
       "406        667      Tea       2018  2018  hg/ha  34722   Fc  Calculated data  \n",
       "407        826  Tobacco       2018  2018  hg/ha  13114   Fc  Calculated data  \n",
       "\n",
       "[408 rows x 14 columns]"
      ],
      "text/html": "<div>\n<style scoped>\n    .dataframe tbody tr th:only-of-type {\n        vertical-align: middle;\n    }\n\n    .dataframe tbody tr th {\n        vertical-align: top;\n    }\n\n    .dataframe thead th {\n        text-align: right;\n    }\n</style>\n<table border=\"1\" class=\"dataframe\">\n  <thead>\n    <tr style=\"text-align: right;\">\n      <th></th>\n      <th>Domain Code</th>\n      <th>Domain</th>\n      <th>Area Code</th>\n      <th>Area</th>\n      <th>Element Code</th>\n      <th>Element</th>\n      <th>Item Code</th>\n      <th>Item</th>\n      <th>Year Code</th>\n      <th>Year</th>\n      <th>Unit</th>\n      <th>Value</th>\n      <th>Flag</th>\n      <th>Flag Description</th>\n    </tr>\n  </thead>\n  <tbody>\n    <tr>\n      <th>0</th>\n      <td>QC</td>\n      <td>Crops</td>\n      <td>2</td>\n      <td>Afghanistan</td>\n      <td>5419</td>\n      <td>Yield</td>\n      <td>328</td>\n      <td>Cotton</td>\n      <td>2018</td>\n      <td>2018</td>\n      <td>hg/ha</td>\n      <td>10000</td>\n      <td>Fc</td>\n      <td>Calculated data</td>\n    </tr>\n    <tr>\n      <th>1</th>\n      <td>QC</td>\n      <td>Crops</td>\n      <td>3</td>\n      <td>Albania</td>\n      <td>5419</td>\n      <td>Yield</td>\n      <td>328</td>\n      <td>Cotton</td>\n      <td>2018</td>\n      <td>2018</td>\n      <td>hg/ha</td>\n      <td>11081</td>\n      <td>Fc</td>\n      <td>Calculated data</td>\n    </tr>\n    <tr>\n      <th>2</th>\n      <td>QC</td>\n      <td>Crops</td>\n      <td>3</td>\n      <td>Albania</td>\n      <td>5419</td>\n      <td>Yield</td>\n      <td>826</td>\n      <td>Tobacco</td>\n      <td>2018</td>\n      <td>2018</td>\n      <td>hg/ha</td>\n      <td>16863</td>\n      <td>Fc</td>\n      <td>Calculated data</td>\n    </tr>\n    <tr>\n      <th>3</th>\n      <td>QC</td>\n      <td>Crops</td>\n      <td>4</td>\n      <td>Algeria</td>\n      <td>5419</td>\n      <td>Yield</td>\n      <td>328</td>\n      <td>Cotton</td>\n      <td>2018</td>\n      <td>2018</td>\n      <td>hg/ha</td>\n      <td>3077</td>\n      <td>Fc</td>\n      <td>Calculated data</td>\n    </tr>\n    <tr>\n      <th>4</th>\n      <td>QC</td>\n      <td>Crops</td>\n      <td>4</td>\n      <td>Algeria</td>\n      <td>5419</td>\n      <td>Yield</td>\n      <td>826</td>\n      <td>Tobacco</td>\n      <td>2018</td>\n      <td>2018</td>\n      <td>hg/ha</td>\n      <td>20967</td>\n      <td>Fc</td>\n      <td>Calculated data</td>\n    </tr>\n    <tr>\n      <th>...</th>\n      <td>...</td>\n      <td>...</td>\n      <td>...</td>\n      <td>...</td>\n      <td>...</td>\n      <td>...</td>\n      <td>...</td>\n      <td>...</td>\n      <td>...</td>\n      <td>...</td>\n      <td>...</td>\n      <td>...</td>\n      <td>...</td>\n      <td>...</td>\n    </tr>\n    <tr>\n      <th>403</th>\n      <td>QC</td>\n      <td>Crops</td>\n      <td>251</td>\n      <td>Zambia</td>\n      <td>5419</td>\n      <td>Yield</td>\n      <td>826</td>\n      <td>Tobacco</td>\n      <td>2018</td>\n      <td>2018</td>\n      <td>hg/ha</td>\n      <td>17659</td>\n      <td>Fc</td>\n      <td>Calculated data</td>\n    </tr>\n    <tr>\n      <th>404</th>\n      <td>QC</td>\n      <td>Crops</td>\n      <td>181</td>\n      <td>Zimbabwe</td>\n      <td>5419</td>\n      <td>Yield</td>\n      <td>656</td>\n      <td>Coffee</td>\n      <td>2018</td>\n      <td>2018</td>\n      <td>hg/ha</td>\n      <td>2419</td>\n      <td>Fc</td>\n      <td>Calculated data</td>\n    </tr>\n    <tr>\n      <th>405</th>\n      <td>QC</td>\n      <td>Crops</td>\n      <td>181</td>\n      <td>Zimbabwe</td>\n      <td>5419</td>\n      <td>Yield</td>\n      <td>328</td>\n      <td>Cotton</td>\n      <td>2018</td>\n      <td>2018</td>\n      <td>hg/ha</td>\n      <td>5625</td>\n      <td>Fc</td>\n      <td>Calculated data</td>\n    </tr>\n    <tr>\n      <th>406</th>\n      <td>QC</td>\n      <td>Crops</td>\n      <td>181</td>\n      <td>Zimbabwe</td>\n      <td>5419</td>\n      <td>Yield</td>\n      <td>667</td>\n      <td>Tea</td>\n      <td>2018</td>\n      <td>2018</td>\n      <td>hg/ha</td>\n      <td>34722</td>\n      <td>Fc</td>\n      <td>Calculated data</td>\n    </tr>\n    <tr>\n      <th>407</th>\n      <td>QC</td>\n      <td>Crops</td>\n      <td>181</td>\n      <td>Zimbabwe</td>\n      <td>5419</td>\n      <td>Yield</td>\n      <td>826</td>\n      <td>Tobacco</td>\n      <td>2018</td>\n      <td>2018</td>\n      <td>hg/ha</td>\n      <td>13114</td>\n      <td>Fc</td>\n      <td>Calculated data</td>\n    </tr>\n  </tbody>\n</table>\n<p>408 rows × 14 columns</p>\n</div>"
     },
     "metadata": {},
     "execution_count": 10
    }
   ],
   "source": [
    "# Cash Crops Value\n",
    "cash_crops = pd.read_csv('static/Dataset/agriculturaldata/cashcrops.csv')\n",
    "cash_crops"
   ]
  },
  {
   "cell_type": "code",
   "execution_count": null,
   "metadata": {},
   "outputs": [],
   "source": []
  }
 ]
}