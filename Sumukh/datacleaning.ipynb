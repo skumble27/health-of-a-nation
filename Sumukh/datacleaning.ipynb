{
 "metadata": {
  "language_info": {
   "codemirror_mode": {
    "name": "ipython",
    "version": 3
   },
   "file_extension": ".py",
   "mimetype": "text/x-python",
   "name": "python",
   "nbconvert_exporter": "python",
   "pygments_lexer": "ipython3",
   "version": "3.6.12-final"
  },
  "orig_nbformat": 2,
  "kernelspec": {
   "name": "python361264bitbootcampmonashconda2e6efb6a376242db90ce542f5ab8dbba",
   "display_name": "Python 3.6.12 64-bit ('BootCampMonash': conda)",
   "language": "python"
  }
 },
 "nbformat": 4,
 "nbformat_minor": 2,
 "cells": [
  {
   "cell_type": "code",
   "execution_count": 1,
   "metadata": {},
   "outputs": [],
   "source": [
    "# Importing dependencies for datacleaning\n",
    "import pandas as pd"
   ]
  },
  {
   "source": [
    "# Agriculture"
   ],
   "cell_type": "markdown",
   "metadata": {}
  },
  {
   "cell_type": "code",
   "execution_count": 2,
   "metadata": {},
   "outputs": [
    {
     "output_type": "execute_result",
     "data": {
      "text/plain": [
       "           Entity Code  Year  \\\n",
       "0     Afghanistan  AFG  2002   \n",
       "1     Afghanistan  AFG  2003   \n",
       "2     Afghanistan  AFG  2004   \n",
       "3     Afghanistan  AFG  2005   \n",
       "4     Afghanistan  AFG  2006   \n",
       "...           ...  ...   ...   \n",
       "5228     Zimbabwe  ZWE  2013   \n",
       "5229     Zimbabwe  ZWE  2014   \n",
       "5230     Zimbabwe  ZWE  2015   \n",
       "5231     Zimbabwe  ZWE  2016   \n",
       "5232     Zimbabwe  ZWE  2017   \n",
       "\n",
       "      Agriculture, value added per worker (constant 2010 US$)  \n",
       "0                                            872.846684        \n",
       "1                                            856.625361        \n",
       "2                                            657.038803        \n",
       "3                                            724.391297        \n",
       "4                                            686.918524        \n",
       "...                                                 ...        \n",
       "5228                                         269.582684        \n",
       "5229                                         317.117440        \n",
       "5230                                         293.152050        \n",
       "5231                                         274.353843        \n",
       "5232                                         300.529041        \n",
       "\n",
       "[5233 rows x 4 columns]"
      ],
      "text/html": "<div>\n<style scoped>\n    .dataframe tbody tr th:only-of-type {\n        vertical-align: middle;\n    }\n\n    .dataframe tbody tr th {\n        vertical-align: top;\n    }\n\n    .dataframe thead th {\n        text-align: right;\n    }\n</style>\n<table border=\"1\" class=\"dataframe\">\n  <thead>\n    <tr style=\"text-align: right;\">\n      <th></th>\n      <th>Entity</th>\n      <th>Code</th>\n      <th>Year</th>\n      <th>Agriculture, value added per worker (constant 2010 US$)</th>\n    </tr>\n  </thead>\n  <tbody>\n    <tr>\n      <th>0</th>\n      <td>Afghanistan</td>\n      <td>AFG</td>\n      <td>2002</td>\n      <td>872.846684</td>\n    </tr>\n    <tr>\n      <th>1</th>\n      <td>Afghanistan</td>\n      <td>AFG</td>\n      <td>2003</td>\n      <td>856.625361</td>\n    </tr>\n    <tr>\n      <th>2</th>\n      <td>Afghanistan</td>\n      <td>AFG</td>\n      <td>2004</td>\n      <td>657.038803</td>\n    </tr>\n    <tr>\n      <th>3</th>\n      <td>Afghanistan</td>\n      <td>AFG</td>\n      <td>2005</td>\n      <td>724.391297</td>\n    </tr>\n    <tr>\n      <th>4</th>\n      <td>Afghanistan</td>\n      <td>AFG</td>\n      <td>2006</td>\n      <td>686.918524</td>\n    </tr>\n    <tr>\n      <th>...</th>\n      <td>...</td>\n      <td>...</td>\n      <td>...</td>\n      <td>...</td>\n    </tr>\n    <tr>\n      <th>5228</th>\n      <td>Zimbabwe</td>\n      <td>ZWE</td>\n      <td>2013</td>\n      <td>269.582684</td>\n    </tr>\n    <tr>\n      <th>5229</th>\n      <td>Zimbabwe</td>\n      <td>ZWE</td>\n      <td>2014</td>\n      <td>317.117440</td>\n    </tr>\n    <tr>\n      <th>5230</th>\n      <td>Zimbabwe</td>\n      <td>ZWE</td>\n      <td>2015</td>\n      <td>293.152050</td>\n    </tr>\n    <tr>\n      <th>5231</th>\n      <td>Zimbabwe</td>\n      <td>ZWE</td>\n      <td>2016</td>\n      <td>274.353843</td>\n    </tr>\n    <tr>\n      <th>5232</th>\n      <td>Zimbabwe</td>\n      <td>ZWE</td>\n      <td>2017</td>\n      <td>300.529041</td>\n    </tr>\n  </tbody>\n</table>\n<p>5233 rows × 4 columns</p>\n</div>"
     },
     "metadata": {},
     "execution_count": 2
    }
   ],
   "source": [
    "# Creating data frames for each csv data\n",
    "agri_value = pd.read_csv('static/Dataset/agriculture-value-added-per-worker-wdi.csv')\n",
    "agri_value"
   ]
  },
  {
   "cell_type": "code",
   "execution_count": 3,
   "metadata": {},
   "outputs": [
    {
     "output_type": "execute_result",
     "data": {
      "text/plain": [
       "      Domain Code Domain  Area Code         Area  Element Code Element  \\\n",
       "0              QC  Crops          2  Afghanistan          5419   Yield   \n",
       "1              QC  Crops          2  Afghanistan          5419   Yield   \n",
       "2              QC  Crops          2  Afghanistan          5419   Yield   \n",
       "3              QC  Crops          2  Afghanistan          5419   Yield   \n",
       "4              QC  Crops          2  Afghanistan          5419   Yield   \n",
       "...           ...    ...        ...          ...           ...     ...   \n",
       "25953          QC  Crops        181     Zimbabwe          5419   Yield   \n",
       "25954          QC  Crops        181     Zimbabwe          5419   Yield   \n",
       "25955          QC  Crops        181     Zimbabwe          5419   Yield   \n",
       "25956          QC  Crops        181     Zimbabwe          5419   Yield   \n",
       "25957          QC  Crops        181     Zimbabwe          5419   Yield   \n",
       "\n",
       "       Item Code     Item  Year Code  Year   Unit  Value Flag Flag Description  \n",
       "0            328   cotton       1961  1961  kg/ha   6802   Fc  Calculated data  \n",
       "1            328   cotton       1962  1962  kg/ha   8786   Fc  Calculated data  \n",
       "2            328   cotton       1963  1963  kg/ha   9307   Fc  Calculated data  \n",
       "3            328   cotton       1964  1964  kg/ha   6589   Fc  Calculated data  \n",
       "4            328   cotton       1965  1965  kg/ha   9513   Fc  Calculated data  \n",
       "...          ...      ...        ...   ...    ...    ...  ...              ...  \n",
       "25953        826  tobacco       2014  2014  kg/ha  14301   Fc  Calculated data  \n",
       "25954        826  tobacco       2015  2015  kg/ha  12948   Fc  Calculated data  \n",
       "25955        826  tobacco       2016  2016  kg/ha  16479   Fc  Calculated data  \n",
       "25956        826  tobacco       2017  2017  kg/ha  21298   Fc  Calculated data  \n",
       "25957        826  tobacco       2018  2018  kg/ha  13114   Fc  Calculated data  \n",
       "\n",
       "[25958 rows x 14 columns]"
      ],
      "text/html": "<div>\n<style scoped>\n    .dataframe tbody tr th:only-of-type {\n        vertical-align: middle;\n    }\n\n    .dataframe tbody tr th {\n        vertical-align: top;\n    }\n\n    .dataframe thead th {\n        text-align: right;\n    }\n</style>\n<table border=\"1\" class=\"dataframe\">\n  <thead>\n    <tr style=\"text-align: right;\">\n      <th></th>\n      <th>Domain Code</th>\n      <th>Domain</th>\n      <th>Area Code</th>\n      <th>Area</th>\n      <th>Element Code</th>\n      <th>Element</th>\n      <th>Item Code</th>\n      <th>Item</th>\n      <th>Year Code</th>\n      <th>Year</th>\n      <th>Unit</th>\n      <th>Value</th>\n      <th>Flag</th>\n      <th>Flag Description</th>\n    </tr>\n  </thead>\n  <tbody>\n    <tr>\n      <th>0</th>\n      <td>QC</td>\n      <td>Crops</td>\n      <td>2</td>\n      <td>Afghanistan</td>\n      <td>5419</td>\n      <td>Yield</td>\n      <td>328</td>\n      <td>cotton</td>\n      <td>1961</td>\n      <td>1961</td>\n      <td>kg/ha</td>\n      <td>6802</td>\n      <td>Fc</td>\n      <td>Calculated data</td>\n    </tr>\n    <tr>\n      <th>1</th>\n      <td>QC</td>\n      <td>Crops</td>\n      <td>2</td>\n      <td>Afghanistan</td>\n      <td>5419</td>\n      <td>Yield</td>\n      <td>328</td>\n      <td>cotton</td>\n      <td>1962</td>\n      <td>1962</td>\n      <td>kg/ha</td>\n      <td>8786</td>\n      <td>Fc</td>\n      <td>Calculated data</td>\n    </tr>\n    <tr>\n      <th>2</th>\n      <td>QC</td>\n      <td>Crops</td>\n      <td>2</td>\n      <td>Afghanistan</td>\n      <td>5419</td>\n      <td>Yield</td>\n      <td>328</td>\n      <td>cotton</td>\n      <td>1963</td>\n      <td>1963</td>\n      <td>kg/ha</td>\n      <td>9307</td>\n      <td>Fc</td>\n      <td>Calculated data</td>\n    </tr>\n    <tr>\n      <th>3</th>\n      <td>QC</td>\n      <td>Crops</td>\n      <td>2</td>\n      <td>Afghanistan</td>\n      <td>5419</td>\n      <td>Yield</td>\n      <td>328</td>\n      <td>cotton</td>\n      <td>1964</td>\n      <td>1964</td>\n      <td>kg/ha</td>\n      <td>6589</td>\n      <td>Fc</td>\n      <td>Calculated data</td>\n    </tr>\n    <tr>\n      <th>4</th>\n      <td>QC</td>\n      <td>Crops</td>\n      <td>2</td>\n      <td>Afghanistan</td>\n      <td>5419</td>\n      <td>Yield</td>\n      <td>328</td>\n      <td>cotton</td>\n      <td>1965</td>\n      <td>1965</td>\n      <td>kg/ha</td>\n      <td>9513</td>\n      <td>Fc</td>\n      <td>Calculated data</td>\n    </tr>\n    <tr>\n      <th>...</th>\n      <td>...</td>\n      <td>...</td>\n      <td>...</td>\n      <td>...</td>\n      <td>...</td>\n      <td>...</td>\n      <td>...</td>\n      <td>...</td>\n      <td>...</td>\n      <td>...</td>\n      <td>...</td>\n      <td>...</td>\n      <td>...</td>\n      <td>...</td>\n    </tr>\n    <tr>\n      <th>25953</th>\n      <td>QC</td>\n      <td>Crops</td>\n      <td>181</td>\n      <td>Zimbabwe</td>\n      <td>5419</td>\n      <td>Yield</td>\n      <td>826</td>\n      <td>tobacco</td>\n      <td>2014</td>\n      <td>2014</td>\n      <td>kg/ha</td>\n      <td>14301</td>\n      <td>Fc</td>\n      <td>Calculated data</td>\n    </tr>\n    <tr>\n      <th>25954</th>\n      <td>QC</td>\n      <td>Crops</td>\n      <td>181</td>\n      <td>Zimbabwe</td>\n      <td>5419</td>\n      <td>Yield</td>\n      <td>826</td>\n      <td>tobacco</td>\n      <td>2015</td>\n      <td>2015</td>\n      <td>kg/ha</td>\n      <td>12948</td>\n      <td>Fc</td>\n      <td>Calculated data</td>\n    </tr>\n    <tr>\n      <th>25955</th>\n      <td>QC</td>\n      <td>Crops</td>\n      <td>181</td>\n      <td>Zimbabwe</td>\n      <td>5419</td>\n      <td>Yield</td>\n      <td>826</td>\n      <td>tobacco</td>\n      <td>2016</td>\n      <td>2016</td>\n      <td>kg/ha</td>\n      <td>16479</td>\n      <td>Fc</td>\n      <td>Calculated data</td>\n    </tr>\n    <tr>\n      <th>25956</th>\n      <td>QC</td>\n      <td>Crops</td>\n      <td>181</td>\n      <td>Zimbabwe</td>\n      <td>5419</td>\n      <td>Yield</td>\n      <td>826</td>\n      <td>tobacco</td>\n      <td>2017</td>\n      <td>2017</td>\n      <td>kg/ha</td>\n      <td>21298</td>\n      <td>Fc</td>\n      <td>Calculated data</td>\n    </tr>\n    <tr>\n      <th>25957</th>\n      <td>QC</td>\n      <td>Crops</td>\n      <td>181</td>\n      <td>Zimbabwe</td>\n      <td>5419</td>\n      <td>Yield</td>\n      <td>826</td>\n      <td>tobacco</td>\n      <td>2018</td>\n      <td>2018</td>\n      <td>kg/ha</td>\n      <td>13114</td>\n      <td>Fc</td>\n      <td>Calculated data</td>\n    </tr>\n  </tbody>\n</table>\n<p>25958 rows × 14 columns</p>\n</div>"
     },
     "metadata": {},
     "execution_count": 3
    }
   ],
   "source": [
    "cashcrops = pd.read_csv('static/Dataset/cashcrops.csv')\n",
    "cashcrops"
   ]
  },
  {
   "cell_type": "code",
   "execution_count": 4,
   "metadata": {},
   "outputs": [
    {
     "output_type": "execute_result",
     "data": {
      "text/plain": [
       "              Entity      Code  Year  Total population (Gapminder, HYDE & UN)  \\\n",
       "0           Abkhazia  OWID_ABK  2015                                      NaN   \n",
       "1        Afghanistan       AFG  1800                                3280000.0   \n",
       "2        Afghanistan       AFG  1801                                3280000.0   \n",
       "3        Afghanistan       AFG  1802                                3280000.0   \n",
       "4        Afghanistan       AFG  1803                                3280000.0   \n",
       "...              ...       ...   ...                                      ...   \n",
       "48158       Zimbabwe       ZWE  2016                               14030000.0   \n",
       "48159       Zimbabwe       ZWE  2017                               14237000.0   \n",
       "48160       Zimbabwe       ZWE  2018                               14439000.0   \n",
       "48161       Zimbabwe       ZWE  2019                               14645000.0   \n",
       "48162  Åland Islands       ALA  2015                                      NaN   \n",
       "\n",
       "      Continent  GDP per capita, PPP (constant 2011 international $)  \\\n",
       "0          Asia                                                NaN     \n",
       "1           NaN                                                NaN     \n",
       "2           NaN                                                NaN     \n",
       "3           NaN                                                NaN     \n",
       "4           NaN                                                NaN     \n",
       "...         ...                                                ...     \n",
       "48158       NaN                                        1879.628119     \n",
       "48159       NaN                                        1899.774977     \n",
       "48160       NaN                                                NaN     \n",
       "48161       NaN                                                NaN     \n",
       "48162    Europe                                                NaN     \n",
       "\n",
       "       Share of consumer expenditure on food (USDA (2017))  \n",
       "0                                                    NaN    \n",
       "1                                                    NaN    \n",
       "2                                                    NaN    \n",
       "3                                                    NaN    \n",
       "4                                                    NaN    \n",
       "...                                                  ...    \n",
       "48158                                                NaN    \n",
       "48159                                                NaN    \n",
       "48160                                                NaN    \n",
       "48161                                                NaN    \n",
       "48162                                                NaN    \n",
       "\n",
       "[48163 rows x 7 columns]"
      ],
      "text/html": "<div>\n<style scoped>\n    .dataframe tbody tr th:only-of-type {\n        vertical-align: middle;\n    }\n\n    .dataframe tbody tr th {\n        vertical-align: top;\n    }\n\n    .dataframe thead th {\n        text-align: right;\n    }\n</style>\n<table border=\"1\" class=\"dataframe\">\n  <thead>\n    <tr style=\"text-align: right;\">\n      <th></th>\n      <th>Entity</th>\n      <th>Code</th>\n      <th>Year</th>\n      <th>Total population (Gapminder, HYDE &amp; UN)</th>\n      <th>Continent</th>\n      <th>GDP per capita, PPP (constant 2011 international $)</th>\n      <th>Share of consumer expenditure on food (USDA (2017))</th>\n    </tr>\n  </thead>\n  <tbody>\n    <tr>\n      <th>0</th>\n      <td>Abkhazia</td>\n      <td>OWID_ABK</td>\n      <td>2015</td>\n      <td>NaN</td>\n      <td>Asia</td>\n      <td>NaN</td>\n      <td>NaN</td>\n    </tr>\n    <tr>\n      <th>1</th>\n      <td>Afghanistan</td>\n      <td>AFG</td>\n      <td>1800</td>\n      <td>3280000.0</td>\n      <td>NaN</td>\n      <td>NaN</td>\n      <td>NaN</td>\n    </tr>\n    <tr>\n      <th>2</th>\n      <td>Afghanistan</td>\n      <td>AFG</td>\n      <td>1801</td>\n      <td>3280000.0</td>\n      <td>NaN</td>\n      <td>NaN</td>\n      <td>NaN</td>\n    </tr>\n    <tr>\n      <th>3</th>\n      <td>Afghanistan</td>\n      <td>AFG</td>\n      <td>1802</td>\n      <td>3280000.0</td>\n      <td>NaN</td>\n      <td>NaN</td>\n      <td>NaN</td>\n    </tr>\n    <tr>\n      <th>4</th>\n      <td>Afghanistan</td>\n      <td>AFG</td>\n      <td>1803</td>\n      <td>3280000.0</td>\n      <td>NaN</td>\n      <td>NaN</td>\n      <td>NaN</td>\n    </tr>\n    <tr>\n      <th>...</th>\n      <td>...</td>\n      <td>...</td>\n      <td>...</td>\n      <td>...</td>\n      <td>...</td>\n      <td>...</td>\n      <td>...</td>\n    </tr>\n    <tr>\n      <th>48158</th>\n      <td>Zimbabwe</td>\n      <td>ZWE</td>\n      <td>2016</td>\n      <td>14030000.0</td>\n      <td>NaN</td>\n      <td>1879.628119</td>\n      <td>NaN</td>\n    </tr>\n    <tr>\n      <th>48159</th>\n      <td>Zimbabwe</td>\n      <td>ZWE</td>\n      <td>2017</td>\n      <td>14237000.0</td>\n      <td>NaN</td>\n      <td>1899.774977</td>\n      <td>NaN</td>\n    </tr>\n    <tr>\n      <th>48160</th>\n      <td>Zimbabwe</td>\n      <td>ZWE</td>\n      <td>2018</td>\n      <td>14439000.0</td>\n      <td>NaN</td>\n      <td>NaN</td>\n      <td>NaN</td>\n    </tr>\n    <tr>\n      <th>48161</th>\n      <td>Zimbabwe</td>\n      <td>ZWE</td>\n      <td>2019</td>\n      <td>14645000.0</td>\n      <td>NaN</td>\n      <td>NaN</td>\n      <td>NaN</td>\n    </tr>\n    <tr>\n      <th>48162</th>\n      <td>Åland Islands</td>\n      <td>ALA</td>\n      <td>2015</td>\n      <td>NaN</td>\n      <td>Europe</td>\n      <td>NaN</td>\n      <td>NaN</td>\n    </tr>\n  </tbody>\n</table>\n<p>48163 rows × 7 columns</p>\n</div>"
     },
     "metadata": {},
     "execution_count": 4
    }
   ],
   "source": [
    "expenditure = pd.read_csv('static/Dataset/share-of-consumer-expenditure-spent-on-food-vs-gdp-per-capita.csv')\n",
    "expenditure"
   ]
  },
  {
   "cell_type": "code",
   "execution_count": 5,
   "metadata": {},
   "outputs": [
    {
     "output_type": "execute_result",
     "data": {
      "text/plain": [
       "      Domain Code Domain  Area Code         Area  Element Code Element  \\\n",
       "0              QC  Crops          2  Afghanistan          5419   Yield   \n",
       "1              QC  Crops          2  Afghanistan          5419   Yield   \n",
       "2              QC  Crops          2  Afghanistan          5419   Yield   \n",
       "3              QC  Crops          2  Afghanistan          5419   Yield   \n",
       "4              QC  Crops          2  Afghanistan          5419   Yield   \n",
       "...           ...    ...        ...          ...           ...     ...   \n",
       "37282          QC  Crops        181     Zimbabwe          5419   Yield   \n",
       "37283          QC  Crops        181     Zimbabwe          5419   Yield   \n",
       "37284          QC  Crops        181     Zimbabwe          5419   Yield   \n",
       "37285          QC  Crops        181     Zimbabwe          5419   Yield   \n",
       "37286          QC  Crops        181     Zimbabwe          5419   Yield   \n",
       "\n",
       "       Item Code   Item  Year Code  Year   Unit  Value Flag Flag Description  \n",
       "0             56  Maize       1961  1961  kg/ha  14000   Fc  Calculated data  \n",
       "1             56  Maize       1962  1962  kg/ha  14000   Fc  Calculated data  \n",
       "2             56  Maize       1963  1963  kg/ha  14260   Fc  Calculated data  \n",
       "3             56  Maize       1964  1964  kg/ha  14257   Fc  Calculated data  \n",
       "4             56  Maize       1965  1965  kg/ha  14400   Fc  Calculated data  \n",
       "...          ...    ...        ...   ...    ...    ...  ...              ...  \n",
       "37282         15  Wheat       2014  2014  kg/ha  22094   Fc  Calculated data  \n",
       "37283         15  Wheat       2015  2015  kg/ha  20486   Fc  Calculated data  \n",
       "37284         15  Wheat       2016  2016  kg/ha  19013   Fc  Calculated data  \n",
       "37285         15  Wheat       2017  2017  kg/ha  17542   Fc  Calculated data  \n",
       "37286         15  Wheat       2018  2018  kg/ha  20010   Fc  Calculated data  \n",
       "\n",
       "[37287 rows x 14 columns]"
      ],
      "text/html": "<div>\n<style scoped>\n    .dataframe tbody tr th:only-of-type {\n        vertical-align: middle;\n    }\n\n    .dataframe tbody tr th {\n        vertical-align: top;\n    }\n\n    .dataframe thead th {\n        text-align: right;\n    }\n</style>\n<table border=\"1\" class=\"dataframe\">\n  <thead>\n    <tr style=\"text-align: right;\">\n      <th></th>\n      <th>Domain Code</th>\n      <th>Domain</th>\n      <th>Area Code</th>\n      <th>Area</th>\n      <th>Element Code</th>\n      <th>Element</th>\n      <th>Item Code</th>\n      <th>Item</th>\n      <th>Year Code</th>\n      <th>Year</th>\n      <th>Unit</th>\n      <th>Value</th>\n      <th>Flag</th>\n      <th>Flag Description</th>\n    </tr>\n  </thead>\n  <tbody>\n    <tr>\n      <th>0</th>\n      <td>QC</td>\n      <td>Crops</td>\n      <td>2</td>\n      <td>Afghanistan</td>\n      <td>5419</td>\n      <td>Yield</td>\n      <td>56</td>\n      <td>Maize</td>\n      <td>1961</td>\n      <td>1961</td>\n      <td>kg/ha</td>\n      <td>14000</td>\n      <td>Fc</td>\n      <td>Calculated data</td>\n    </tr>\n    <tr>\n      <th>1</th>\n      <td>QC</td>\n      <td>Crops</td>\n      <td>2</td>\n      <td>Afghanistan</td>\n      <td>5419</td>\n      <td>Yield</td>\n      <td>56</td>\n      <td>Maize</td>\n      <td>1962</td>\n      <td>1962</td>\n      <td>kg/ha</td>\n      <td>14000</td>\n      <td>Fc</td>\n      <td>Calculated data</td>\n    </tr>\n    <tr>\n      <th>2</th>\n      <td>QC</td>\n      <td>Crops</td>\n      <td>2</td>\n      <td>Afghanistan</td>\n      <td>5419</td>\n      <td>Yield</td>\n      <td>56</td>\n      <td>Maize</td>\n      <td>1963</td>\n      <td>1963</td>\n      <td>kg/ha</td>\n      <td>14260</td>\n      <td>Fc</td>\n      <td>Calculated data</td>\n    </tr>\n    <tr>\n      <th>3</th>\n      <td>QC</td>\n      <td>Crops</td>\n      <td>2</td>\n      <td>Afghanistan</td>\n      <td>5419</td>\n      <td>Yield</td>\n      <td>56</td>\n      <td>Maize</td>\n      <td>1964</td>\n      <td>1964</td>\n      <td>kg/ha</td>\n      <td>14257</td>\n      <td>Fc</td>\n      <td>Calculated data</td>\n    </tr>\n    <tr>\n      <th>4</th>\n      <td>QC</td>\n      <td>Crops</td>\n      <td>2</td>\n      <td>Afghanistan</td>\n      <td>5419</td>\n      <td>Yield</td>\n      <td>56</td>\n      <td>Maize</td>\n      <td>1965</td>\n      <td>1965</td>\n      <td>kg/ha</td>\n      <td>14400</td>\n      <td>Fc</td>\n      <td>Calculated data</td>\n    </tr>\n    <tr>\n      <th>...</th>\n      <td>...</td>\n      <td>...</td>\n      <td>...</td>\n      <td>...</td>\n      <td>...</td>\n      <td>...</td>\n      <td>...</td>\n      <td>...</td>\n      <td>...</td>\n      <td>...</td>\n      <td>...</td>\n      <td>...</td>\n      <td>...</td>\n      <td>...</td>\n    </tr>\n    <tr>\n      <th>37282</th>\n      <td>QC</td>\n      <td>Crops</td>\n      <td>181</td>\n      <td>Zimbabwe</td>\n      <td>5419</td>\n      <td>Yield</td>\n      <td>15</td>\n      <td>Wheat</td>\n      <td>2014</td>\n      <td>2014</td>\n      <td>kg/ha</td>\n      <td>22094</td>\n      <td>Fc</td>\n      <td>Calculated data</td>\n    </tr>\n    <tr>\n      <th>37283</th>\n      <td>QC</td>\n      <td>Crops</td>\n      <td>181</td>\n      <td>Zimbabwe</td>\n      <td>5419</td>\n      <td>Yield</td>\n      <td>15</td>\n      <td>Wheat</td>\n      <td>2015</td>\n      <td>2015</td>\n      <td>kg/ha</td>\n      <td>20486</td>\n      <td>Fc</td>\n      <td>Calculated data</td>\n    </tr>\n    <tr>\n      <th>37284</th>\n      <td>QC</td>\n      <td>Crops</td>\n      <td>181</td>\n      <td>Zimbabwe</td>\n      <td>5419</td>\n      <td>Yield</td>\n      <td>15</td>\n      <td>Wheat</td>\n      <td>2016</td>\n      <td>2016</td>\n      <td>kg/ha</td>\n      <td>19013</td>\n      <td>Fc</td>\n      <td>Calculated data</td>\n    </tr>\n    <tr>\n      <th>37285</th>\n      <td>QC</td>\n      <td>Crops</td>\n      <td>181</td>\n      <td>Zimbabwe</td>\n      <td>5419</td>\n      <td>Yield</td>\n      <td>15</td>\n      <td>Wheat</td>\n      <td>2017</td>\n      <td>2017</td>\n      <td>kg/ha</td>\n      <td>17542</td>\n      <td>Fc</td>\n      <td>Calculated data</td>\n    </tr>\n    <tr>\n      <th>37286</th>\n      <td>QC</td>\n      <td>Crops</td>\n      <td>181</td>\n      <td>Zimbabwe</td>\n      <td>5419</td>\n      <td>Yield</td>\n      <td>15</td>\n      <td>Wheat</td>\n      <td>2018</td>\n      <td>2018</td>\n      <td>kg/ha</td>\n      <td>20010</td>\n      <td>Fc</td>\n      <td>Calculated data</td>\n    </tr>\n  </tbody>\n</table>\n<p>37287 rows × 14 columns</p>\n</div>"
     },
     "metadata": {},
     "execution_count": 5
    }
   ],
   "source": [
    "stapelcrops = pd.read_csv('static/Dataset/staplecrops.csv')\n",
    "stapelcrops"
   ]
  },
  {
   "cell_type": "code",
   "execution_count": 6,
   "metadata": {},
   "outputs": [
    {
     "output_type": "execute_result",
     "data": {
      "text/plain": [
       "Index(['Entity', 'Code', 'Year',\n",
       "       'Agriculture, value added per worker (constant 2010 US$)'],\n",
       "      dtype='object')"
      ]
     },
     "metadata": {},
     "execution_count": 6
    }
   ],
   "source": [
    "# Data cleaning\n",
    "agri_value.columns"
   ]
  },
  {
   "cell_type": "code",
   "execution_count": 7,
   "metadata": {},
   "outputs": [
    {
     "output_type": "execute_result",
     "data": {
      "text/plain": [
       "           Entity  Year  value_per_worker\n",
       "0     Afghanistan  2002        872.846684\n",
       "1     Afghanistan  2003        856.625361\n",
       "2     Afghanistan  2004        657.038803\n",
       "3     Afghanistan  2005        724.391297\n",
       "4     Afghanistan  2006        686.918524\n",
       "...           ...   ...               ...\n",
       "5228     Zimbabwe  2013        269.582684\n",
       "5229     Zimbabwe  2014        317.117440\n",
       "5230     Zimbabwe  2015        293.152050\n",
       "5231     Zimbabwe  2016        274.353843\n",
       "5232     Zimbabwe  2017        300.529041\n",
       "\n",
       "[5233 rows x 3 columns]"
      ],
      "text/html": "<div>\n<style scoped>\n    .dataframe tbody tr th:only-of-type {\n        vertical-align: middle;\n    }\n\n    .dataframe tbody tr th {\n        vertical-align: top;\n    }\n\n    .dataframe thead th {\n        text-align: right;\n    }\n</style>\n<table border=\"1\" class=\"dataframe\">\n  <thead>\n    <tr style=\"text-align: right;\">\n      <th></th>\n      <th>Entity</th>\n      <th>Year</th>\n      <th>value_per_worker</th>\n    </tr>\n  </thead>\n  <tbody>\n    <tr>\n      <th>0</th>\n      <td>Afghanistan</td>\n      <td>2002</td>\n      <td>872.846684</td>\n    </tr>\n    <tr>\n      <th>1</th>\n      <td>Afghanistan</td>\n      <td>2003</td>\n      <td>856.625361</td>\n    </tr>\n    <tr>\n      <th>2</th>\n      <td>Afghanistan</td>\n      <td>2004</td>\n      <td>657.038803</td>\n    </tr>\n    <tr>\n      <th>3</th>\n      <td>Afghanistan</td>\n      <td>2005</td>\n      <td>724.391297</td>\n    </tr>\n    <tr>\n      <th>4</th>\n      <td>Afghanistan</td>\n      <td>2006</td>\n      <td>686.918524</td>\n    </tr>\n    <tr>\n      <th>...</th>\n      <td>...</td>\n      <td>...</td>\n      <td>...</td>\n    </tr>\n    <tr>\n      <th>5228</th>\n      <td>Zimbabwe</td>\n      <td>2013</td>\n      <td>269.582684</td>\n    </tr>\n    <tr>\n      <th>5229</th>\n      <td>Zimbabwe</td>\n      <td>2014</td>\n      <td>317.117440</td>\n    </tr>\n    <tr>\n      <th>5230</th>\n      <td>Zimbabwe</td>\n      <td>2015</td>\n      <td>293.152050</td>\n    </tr>\n    <tr>\n      <th>5231</th>\n      <td>Zimbabwe</td>\n      <td>2016</td>\n      <td>274.353843</td>\n    </tr>\n    <tr>\n      <th>5232</th>\n      <td>Zimbabwe</td>\n      <td>2017</td>\n      <td>300.529041</td>\n    </tr>\n  </tbody>\n</table>\n<p>5233 rows × 3 columns</p>\n</div>"
     },
     "metadata": {},
     "execution_count": 7
    }
   ],
   "source": [
    "agri_value1 = agri_value.rename(columns={'Agriculture, value added per worker (constant 2010 US$)':'value_per_worker','Area':'country'}).drop(columns=['Code'])\n",
    "agri_value1"
   ]
  },
  {
   "cell_type": "code",
   "execution_count": 8,
   "metadata": {},
   "outputs": [
    {
     "output_type": "execute_result",
     "data": {
      "text/plain": [
       "      Domain Code Domain  Area Code         Area  Element Code Element  \\\n",
       "0              QC  Crops          2  Afghanistan          5419   Yield   \n",
       "1              QC  Crops          2  Afghanistan          5419   Yield   \n",
       "2              QC  Crops          2  Afghanistan          5419   Yield   \n",
       "3              QC  Crops          2  Afghanistan          5419   Yield   \n",
       "4              QC  Crops          2  Afghanistan          5419   Yield   \n",
       "...           ...    ...        ...          ...           ...     ...   \n",
       "25953          QC  Crops        181     Zimbabwe          5419   Yield   \n",
       "25954          QC  Crops        181     Zimbabwe          5419   Yield   \n",
       "25955          QC  Crops        181     Zimbabwe          5419   Yield   \n",
       "25956          QC  Crops        181     Zimbabwe          5419   Yield   \n",
       "25957          QC  Crops        181     Zimbabwe          5419   Yield   \n",
       "\n",
       "       Item Code     Item  Year Code  Year   Unit  Value Flag Flag Description  \n",
       "0            328   cotton       1961  1961  kg/ha   6802   Fc  Calculated data  \n",
       "1            328   cotton       1962  1962  kg/ha   8786   Fc  Calculated data  \n",
       "2            328   cotton       1963  1963  kg/ha   9307   Fc  Calculated data  \n",
       "3            328   cotton       1964  1964  kg/ha   6589   Fc  Calculated data  \n",
       "4            328   cotton       1965  1965  kg/ha   9513   Fc  Calculated data  \n",
       "...          ...      ...        ...   ...    ...    ...  ...              ...  \n",
       "25953        826  tobacco       2014  2014  kg/ha  14301   Fc  Calculated data  \n",
       "25954        826  tobacco       2015  2015  kg/ha  12948   Fc  Calculated data  \n",
       "25955        826  tobacco       2016  2016  kg/ha  16479   Fc  Calculated data  \n",
       "25956        826  tobacco       2017  2017  kg/ha  21298   Fc  Calculated data  \n",
       "25957        826  tobacco       2018  2018  kg/ha  13114   Fc  Calculated data  \n",
       "\n",
       "[25958 rows x 14 columns]"
      ],
      "text/html": "<div>\n<style scoped>\n    .dataframe tbody tr th:only-of-type {\n        vertical-align: middle;\n    }\n\n    .dataframe tbody tr th {\n        vertical-align: top;\n    }\n\n    .dataframe thead th {\n        text-align: right;\n    }\n</style>\n<table border=\"1\" class=\"dataframe\">\n  <thead>\n    <tr style=\"text-align: right;\">\n      <th></th>\n      <th>Domain Code</th>\n      <th>Domain</th>\n      <th>Area Code</th>\n      <th>Area</th>\n      <th>Element Code</th>\n      <th>Element</th>\n      <th>Item Code</th>\n      <th>Item</th>\n      <th>Year Code</th>\n      <th>Year</th>\n      <th>Unit</th>\n      <th>Value</th>\n      <th>Flag</th>\n      <th>Flag Description</th>\n    </tr>\n  </thead>\n  <tbody>\n    <tr>\n      <th>0</th>\n      <td>QC</td>\n      <td>Crops</td>\n      <td>2</td>\n      <td>Afghanistan</td>\n      <td>5419</td>\n      <td>Yield</td>\n      <td>328</td>\n      <td>cotton</td>\n      <td>1961</td>\n      <td>1961</td>\n      <td>kg/ha</td>\n      <td>6802</td>\n      <td>Fc</td>\n      <td>Calculated data</td>\n    </tr>\n    <tr>\n      <th>1</th>\n      <td>QC</td>\n      <td>Crops</td>\n      <td>2</td>\n      <td>Afghanistan</td>\n      <td>5419</td>\n      <td>Yield</td>\n      <td>328</td>\n      <td>cotton</td>\n      <td>1962</td>\n      <td>1962</td>\n      <td>kg/ha</td>\n      <td>8786</td>\n      <td>Fc</td>\n      <td>Calculated data</td>\n    </tr>\n    <tr>\n      <th>2</th>\n      <td>QC</td>\n      <td>Crops</td>\n      <td>2</td>\n      <td>Afghanistan</td>\n      <td>5419</td>\n      <td>Yield</td>\n      <td>328</td>\n      <td>cotton</td>\n      <td>1963</td>\n      <td>1963</td>\n      <td>kg/ha</td>\n      <td>9307</td>\n      <td>Fc</td>\n      <td>Calculated data</td>\n    </tr>\n    <tr>\n      <th>3</th>\n      <td>QC</td>\n      <td>Crops</td>\n      <td>2</td>\n      <td>Afghanistan</td>\n      <td>5419</td>\n      <td>Yield</td>\n      <td>328</td>\n      <td>cotton</td>\n      <td>1964</td>\n      <td>1964</td>\n      <td>kg/ha</td>\n      <td>6589</td>\n      <td>Fc</td>\n      <td>Calculated data</td>\n    </tr>\n    <tr>\n      <th>4</th>\n      <td>QC</td>\n      <td>Crops</td>\n      <td>2</td>\n      <td>Afghanistan</td>\n      <td>5419</td>\n      <td>Yield</td>\n      <td>328</td>\n      <td>cotton</td>\n      <td>1965</td>\n      <td>1965</td>\n      <td>kg/ha</td>\n      <td>9513</td>\n      <td>Fc</td>\n      <td>Calculated data</td>\n    </tr>\n    <tr>\n      <th>...</th>\n      <td>...</td>\n      <td>...</td>\n      <td>...</td>\n      <td>...</td>\n      <td>...</td>\n      <td>...</td>\n      <td>...</td>\n      <td>...</td>\n      <td>...</td>\n      <td>...</td>\n      <td>...</td>\n      <td>...</td>\n      <td>...</td>\n      <td>...</td>\n    </tr>\n    <tr>\n      <th>25953</th>\n      <td>QC</td>\n      <td>Crops</td>\n      <td>181</td>\n      <td>Zimbabwe</td>\n      <td>5419</td>\n      <td>Yield</td>\n      <td>826</td>\n      <td>tobacco</td>\n      <td>2014</td>\n      <td>2014</td>\n      <td>kg/ha</td>\n      <td>14301</td>\n      <td>Fc</td>\n      <td>Calculated data</td>\n    </tr>\n    <tr>\n      <th>25954</th>\n      <td>QC</td>\n      <td>Crops</td>\n      <td>181</td>\n      <td>Zimbabwe</td>\n      <td>5419</td>\n      <td>Yield</td>\n      <td>826</td>\n      <td>tobacco</td>\n      <td>2015</td>\n      <td>2015</td>\n      <td>kg/ha</td>\n      <td>12948</td>\n      <td>Fc</td>\n      <td>Calculated data</td>\n    </tr>\n    <tr>\n      <th>25955</th>\n      <td>QC</td>\n      <td>Crops</td>\n      <td>181</td>\n      <td>Zimbabwe</td>\n      <td>5419</td>\n      <td>Yield</td>\n      <td>826</td>\n      <td>tobacco</td>\n      <td>2016</td>\n      <td>2016</td>\n      <td>kg/ha</td>\n      <td>16479</td>\n      <td>Fc</td>\n      <td>Calculated data</td>\n    </tr>\n    <tr>\n      <th>25956</th>\n      <td>QC</td>\n      <td>Crops</td>\n      <td>181</td>\n      <td>Zimbabwe</td>\n      <td>5419</td>\n      <td>Yield</td>\n      <td>826</td>\n      <td>tobacco</td>\n      <td>2017</td>\n      <td>2017</td>\n      <td>kg/ha</td>\n      <td>21298</td>\n      <td>Fc</td>\n      <td>Calculated data</td>\n    </tr>\n    <tr>\n      <th>25957</th>\n      <td>QC</td>\n      <td>Crops</td>\n      <td>181</td>\n      <td>Zimbabwe</td>\n      <td>5419</td>\n      <td>Yield</td>\n      <td>826</td>\n      <td>tobacco</td>\n      <td>2018</td>\n      <td>2018</td>\n      <td>kg/ha</td>\n      <td>13114</td>\n      <td>Fc</td>\n      <td>Calculated data</td>\n    </tr>\n  </tbody>\n</table>\n<p>25958 rows × 14 columns</p>\n</div>"
     },
     "metadata": {},
     "execution_count": 8
    }
   ],
   "source": [
    "cashcrops"
   ]
  },
  {
   "cell_type": "code",
   "execution_count": 9,
   "metadata": {},
   "outputs": [
    {
     "output_type": "execute_result",
     "data": {
      "text/plain": [
       "Index(['Domain Code', 'Domain', 'Area Code', 'Area', 'Element Code', 'Element',\n",
       "       'Item Code', 'Item', 'Year Code', 'Year', 'Unit', 'Value', 'Flag',\n",
       "       'Flag Description'],\n",
       "      dtype='object')"
      ]
     },
     "metadata": {},
     "execution_count": 9
    }
   ],
   "source": [
    "cashcrops.columns"
   ]
  },
  {
   "cell_type": "code",
   "execution_count": 10,
   "metadata": {},
   "outputs": [
    {
     "output_type": "execute_result",
     "data": {
      "text/plain": [
       "           country     Item  Year  value_kg_hg\n",
       "0      Afghanistan   cotton  1961         6802\n",
       "1      Afghanistan   cotton  1962         8786\n",
       "2      Afghanistan   cotton  1963         9307\n",
       "3      Afghanistan   cotton  1964         6589\n",
       "4      Afghanistan   cotton  1965         9513\n",
       "...            ...      ...   ...          ...\n",
       "25953     Zimbabwe  tobacco  2014        14301\n",
       "25954     Zimbabwe  tobacco  2015        12948\n",
       "25955     Zimbabwe  tobacco  2016        16479\n",
       "25956     Zimbabwe  tobacco  2017        21298\n",
       "25957     Zimbabwe  tobacco  2018        13114\n",
       "\n",
       "[25958 rows x 4 columns]"
      ],
      "text/html": "<div>\n<style scoped>\n    .dataframe tbody tr th:only-of-type {\n        vertical-align: middle;\n    }\n\n    .dataframe tbody tr th {\n        vertical-align: top;\n    }\n\n    .dataframe thead th {\n        text-align: right;\n    }\n</style>\n<table border=\"1\" class=\"dataframe\">\n  <thead>\n    <tr style=\"text-align: right;\">\n      <th></th>\n      <th>country</th>\n      <th>Item</th>\n      <th>Year</th>\n      <th>value_kg_hg</th>\n    </tr>\n  </thead>\n  <tbody>\n    <tr>\n      <th>0</th>\n      <td>Afghanistan</td>\n      <td>cotton</td>\n      <td>1961</td>\n      <td>6802</td>\n    </tr>\n    <tr>\n      <th>1</th>\n      <td>Afghanistan</td>\n      <td>cotton</td>\n      <td>1962</td>\n      <td>8786</td>\n    </tr>\n    <tr>\n      <th>2</th>\n      <td>Afghanistan</td>\n      <td>cotton</td>\n      <td>1963</td>\n      <td>9307</td>\n    </tr>\n    <tr>\n      <th>3</th>\n      <td>Afghanistan</td>\n      <td>cotton</td>\n      <td>1964</td>\n      <td>6589</td>\n    </tr>\n    <tr>\n      <th>4</th>\n      <td>Afghanistan</td>\n      <td>cotton</td>\n      <td>1965</td>\n      <td>9513</td>\n    </tr>\n    <tr>\n      <th>...</th>\n      <td>...</td>\n      <td>...</td>\n      <td>...</td>\n      <td>...</td>\n    </tr>\n    <tr>\n      <th>25953</th>\n      <td>Zimbabwe</td>\n      <td>tobacco</td>\n      <td>2014</td>\n      <td>14301</td>\n    </tr>\n    <tr>\n      <th>25954</th>\n      <td>Zimbabwe</td>\n      <td>tobacco</td>\n      <td>2015</td>\n      <td>12948</td>\n    </tr>\n    <tr>\n      <th>25955</th>\n      <td>Zimbabwe</td>\n      <td>tobacco</td>\n      <td>2016</td>\n      <td>16479</td>\n    </tr>\n    <tr>\n      <th>25956</th>\n      <td>Zimbabwe</td>\n      <td>tobacco</td>\n      <td>2017</td>\n      <td>21298</td>\n    </tr>\n    <tr>\n      <th>25957</th>\n      <td>Zimbabwe</td>\n      <td>tobacco</td>\n      <td>2018</td>\n      <td>13114</td>\n    </tr>\n  </tbody>\n</table>\n<p>25958 rows × 4 columns</p>\n</div>"
     },
     "metadata": {},
     "execution_count": 10
    }
   ],
   "source": [
    "cashcrops1 = cashcrops.rename(columns={'Area':'country','Value':'value_kg_hg'}).drop(columns=['Domain Code', 'Domain', 'Area Code','Element Code', 'Element',\n",
    "       'Item Code','Year Code','Unit','Flag',\n",
    "       'Flag Description'])\n",
    "\n",
    "cashcrops1"
   ]
  },
  {
   "cell_type": "code",
   "execution_count": null,
   "metadata": {},
   "outputs": [],
   "source": []
  }
 ]
}